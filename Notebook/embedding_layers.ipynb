{
  "nbformat": 4,
  "nbformat_minor": 0,
  "metadata": {
    "colab": {
      "provenance": [],
      "gpuType": "T4"
    },
    "kernelspec": {
      "name": "python3",
      "display_name": "Python 3"
    },
    "language_info": {
      "name": "python"
    },
    "accelerator": "GPU"
  },
  "cells": [
    {
      "cell_type": "code",
      "execution_count": 1,
      "metadata": {
        "colab": {
          "base_uri": "https://localhost:8080/"
        },
        "id": "MvZ0fifYsYBj",
        "outputId": "92b4d93f-12d9-412d-e979-5175d70b8fa2"
      },
      "outputs": [
        {
          "output_type": "stream",
          "name": "stdout",
          "text": [
            "Sun Mar 23 08:16:49 2025       \n",
            "+-----------------------------------------------------------------------------------------+\n",
            "| NVIDIA-SMI 550.54.15              Driver Version: 550.54.15      CUDA Version: 12.4     |\n",
            "|-----------------------------------------+------------------------+----------------------+\n",
            "| GPU  Name                 Persistence-M | Bus-Id          Disp.A | Volatile Uncorr. ECC |\n",
            "| Fan  Temp   Perf          Pwr:Usage/Cap |           Memory-Usage | GPU-Util  Compute M. |\n",
            "|                                         |                        |               MIG M. |\n",
            "|=========================================+========================+======================|\n",
            "|   0  Tesla T4                       Off |   00000000:00:04.0 Off |                    0 |\n",
            "| N/A   37C    P8             10W /   70W |       0MiB /  15360MiB |      0%      Default |\n",
            "|                                         |                        |                  N/A |\n",
            "+-----------------------------------------+------------------------+----------------------+\n",
            "                                                                                         \n",
            "+-----------------------------------------------------------------------------------------+\n",
            "| Processes:                                                                              |\n",
            "|  GPU   GI   CI        PID   Type   Process name                              GPU Memory |\n",
            "|        ID   ID                                                               Usage      |\n",
            "|=========================================================================================|\n",
            "|  No running processes found                                                             |\n",
            "+-----------------------------------------------------------------------------------------+\n"
          ]
        }
      ],
      "source": [
        "!nvidia-smi"
      ]
    },
    {
      "cell_type": "code",
      "source": [
        "import torch\n",
        "device = \"cuda\" if torch.cuda.is_available() else \"cpu\"\n",
        "device"
      ],
      "metadata": {
        "colab": {
          "base_uri": "https://localhost:8080/",
          "height": 36
        },
        "id": "_SHOT42tsfis",
        "outputId": "bed592c6-3024-499d-e8af-fa5b029c8d1d"
      },
      "execution_count": 2,
      "outputs": [
        {
          "output_type": "execute_result",
          "data": {
            "text/plain": [
              "'cuda'"
            ],
            "application/vnd.google.colaboratory.intrinsic+json": {
              "type": "string"
            }
          },
          "metadata": {},
          "execution_count": 2
        }
      ]
    },
    {
      "cell_type": "code",
      "source": [
        "!wget -O dataset.csv \"https://raw.githubusercontent.com/Subrat1920/IMDb-Movie-Sentiment-Analysis/refs/heads/main/Notebooks/Datasets/cleaned_sentiment_data.csv\""
      ],
      "metadata": {
        "colab": {
          "base_uri": "https://localhost:8080/"
        },
        "id": "jxHpP4gkshZi",
        "outputId": "d4c634dd-6b0f-490e-a731-6387da5d2d04"
      },
      "execution_count": 3,
      "outputs": [
        {
          "output_type": "stream",
          "name": "stdout",
          "text": [
            "--2025-03-23 08:16:53--  https://raw.githubusercontent.com/Subrat1920/IMDb-Movie-Sentiment-Analysis/refs/heads/main/Notebooks/Datasets/cleaned_sentiment_data.csv\n",
            "Resolving raw.githubusercontent.com (raw.githubusercontent.com)... 185.199.108.133, 185.199.109.133, 185.199.110.133, ...\n",
            "Connecting to raw.githubusercontent.com (raw.githubusercontent.com)|185.199.108.133|:443... connected.\n",
            "HTTP request sent, awaiting response... 200 OK\n",
            "Length: 57950796 (55M) [text/plain]\n",
            "Saving to: ‘dataset.csv’\n",
            "\n",
            "dataset.csv         100%[===================>]  55.27M   236MB/s    in 0.2s    \n",
            "\n",
            "2025-03-23 08:16:54 (236 MB/s) - ‘dataset.csv’ saved [57950796/57950796]\n",
            "\n"
          ]
        }
      ]
    },
    {
      "cell_type": "code",
      "source": [
        "import pandas as pd\n",
        "import numpy as np"
      ],
      "metadata": {
        "id": "nhvfsc3DsrRh"
      },
      "execution_count": 4,
      "outputs": []
    },
    {
      "cell_type": "code",
      "source": [
        "df = pd.read_csv(\"dataset.csv\")\n",
        "df.drop(columns=\"Unnamed: 0\", inplace=True)\n",
        "df = df.head(5000)\n",
        "df.shape"
      ],
      "metadata": {
        "id": "Q2AYwFTGstGJ",
        "colab": {
          "base_uri": "https://localhost:8080/"
        },
        "outputId": "50611692-fe55-433f-b200-bac59f69d547"
      },
      "execution_count": 5,
      "outputs": [
        {
          "output_type": "execute_result",
          "data": {
            "text/plain": [
              "(5000, 2)"
            ]
          },
          "metadata": {},
          "execution_count": 5
        }
      ]
    },
    {
      "cell_type": "code",
      "source": [
        "df[\"Sentiments\"].value_counts()"
      ],
      "metadata": {
        "colab": {
          "base_uri": "https://localhost:8080/",
          "height": 178
        },
        "id": "wbeApSUcdV0T",
        "outputId": "66f3bf43-3592-443f-bca4-de78609bb9fb"
      },
      "execution_count": 6,
      "outputs": [
        {
          "output_type": "execute_result",
          "data": {
            "text/plain": [
              "Sentiments\n",
              "1    2546\n",
              "0    2454\n",
              "Name: count, dtype: int64"
            ],
            "text/html": [
              "<div>\n",
              "<style scoped>\n",
              "    .dataframe tbody tr th:only-of-type {\n",
              "        vertical-align: middle;\n",
              "    }\n",
              "\n",
              "    .dataframe tbody tr th {\n",
              "        vertical-align: top;\n",
              "    }\n",
              "\n",
              "    .dataframe thead th {\n",
              "        text-align: right;\n",
              "    }\n",
              "</style>\n",
              "<table border=\"1\" class=\"dataframe\">\n",
              "  <thead>\n",
              "    <tr style=\"text-align: right;\">\n",
              "      <th></th>\n",
              "      <th>count</th>\n",
              "    </tr>\n",
              "    <tr>\n",
              "      <th>Sentiments</th>\n",
              "      <th></th>\n",
              "    </tr>\n",
              "  </thead>\n",
              "  <tbody>\n",
              "    <tr>\n",
              "      <th>1</th>\n",
              "      <td>2546</td>\n",
              "    </tr>\n",
              "    <tr>\n",
              "      <th>0</th>\n",
              "      <td>2454</td>\n",
              "    </tr>\n",
              "  </tbody>\n",
              "</table>\n",
              "</div><br><label><b>dtype:</b> int64</label>"
            ]
          },
          "metadata": {},
          "execution_count": 6
        }
      ]
    },
    {
      "cell_type": "code",
      "source": [
        "import re\n",
        "import nltk\n",
        "import string\n",
        "from nltk.corpus import stopwords\n",
        "from nltk.tokenize import word_tokenize\n",
        "from nltk.stem import WordNetLemmatizer"
      ],
      "metadata": {
        "id": "hWOBEWkjsuah"
      },
      "execution_count": 7,
      "outputs": []
    },
    {
      "cell_type": "code",
      "source": [
        "nltk.download(\"stopwords\")\n",
        "nltk.download(\"punkt\")\n",
        "nltk.download(\"wordnet\")"
      ],
      "metadata": {
        "colab": {
          "base_uri": "https://localhost:8080/"
        },
        "id": "mZV8izL6swEZ",
        "outputId": "429999fe-4979-4989-ed30-593ba78e2adb"
      },
      "execution_count": 8,
      "outputs": [
        {
          "output_type": "stream",
          "name": "stderr",
          "text": [
            "[nltk_data] Downloading package stopwords to /root/nltk_data...\n",
            "[nltk_data]   Package stopwords is already up-to-date!\n",
            "[nltk_data] Downloading package punkt to /root/nltk_data...\n",
            "[nltk_data]   Package punkt is already up-to-date!\n",
            "[nltk_data] Downloading package wordnet to /root/nltk_data...\n",
            "[nltk_data]   Package wordnet is already up-to-date!\n"
          ]
        },
        {
          "output_type": "execute_result",
          "data": {
            "text/plain": [
              "True"
            ]
          },
          "metadata": {},
          "execution_count": 8
        }
      ]
    },
    {
      "cell_type": "code",
      "source": [
        "stop_words = set(stopwords.words('english'))"
      ],
      "metadata": {
        "id": "55yZqpdhsxuC"
      },
      "execution_count": 9,
      "outputs": []
    },
    {
      "cell_type": "code",
      "source": [
        "## Preprocessing the text\n",
        "def clean_text(text):\n",
        "  text = text.lower()\n",
        "  text = re.sub(f\"[{string.punctuation}]\", \"\", text)\n",
        "  text = re.sub(r'\\d+', '', text)\n",
        "  text = ' '.join([word for word in text.split() if word not in stop_words])\n",
        "  return text"
      ],
      "metadata": {
        "id": "yeoV9bDiszKJ"
      },
      "execution_count": 10,
      "outputs": []
    },
    {
      "cell_type": "code",
      "source": [
        "df['processed_revs'] = df[\"Reviews\"].apply(clean_text)"
      ],
      "metadata": {
        "id": "brxN2WQjs0iB"
      },
      "execution_count": 11,
      "outputs": []
    },
    {
      "cell_type": "code",
      "source": [
        "df.head()"
      ],
      "metadata": {
        "colab": {
          "base_uri": "https://localhost:8080/",
          "height": 206
        },
        "id": "nYRA-z3Ys1vJ",
        "outputId": "db8ed114-4489-409f-e681-6db0d7fe6f21"
      },
      "execution_count": 12,
      "outputs": [
        {
          "output_type": "execute_result",
          "data": {
            "text/plain": [
              "                                             Reviews  Sentiments  \\\n",
              "0  this film was just brilliant casting location ...           1   \n",
              "1  big hair big boobs bad music and a giant safet...           0   \n",
              "2  this has to be one of the worst films of the 1...           0   \n",
              "3  the   at storytelling the traditional sort man...           1   \n",
              "4  worst mistake of my life   i picked this movie...           0   \n",
              "\n",
              "                                      processed_revs  \n",
              "0  film brilliant casting location scenery story ...  \n",
              "1  big hair big boobs bad music giant safety pin ...  \n",
              "2  one worst films friends watching film target a...  \n",
              "3  storytelling traditional sort many years event...  \n",
              "4  worst mistake life picked movie target figured...  "
            ],
            "text/html": [
              "\n",
              "  <div id=\"df-5438fcdd-1795-441f-b6a1-e92a01d81b23\" class=\"colab-df-container\">\n",
              "    <div>\n",
              "<style scoped>\n",
              "    .dataframe tbody tr th:only-of-type {\n",
              "        vertical-align: middle;\n",
              "    }\n",
              "\n",
              "    .dataframe tbody tr th {\n",
              "        vertical-align: top;\n",
              "    }\n",
              "\n",
              "    .dataframe thead th {\n",
              "        text-align: right;\n",
              "    }\n",
              "</style>\n",
              "<table border=\"1\" class=\"dataframe\">\n",
              "  <thead>\n",
              "    <tr style=\"text-align: right;\">\n",
              "      <th></th>\n",
              "      <th>Reviews</th>\n",
              "      <th>Sentiments</th>\n",
              "      <th>processed_revs</th>\n",
              "    </tr>\n",
              "  </thead>\n",
              "  <tbody>\n",
              "    <tr>\n",
              "      <th>0</th>\n",
              "      <td>this film was just brilliant casting location ...</td>\n",
              "      <td>1</td>\n",
              "      <td>film brilliant casting location scenery story ...</td>\n",
              "    </tr>\n",
              "    <tr>\n",
              "      <th>1</th>\n",
              "      <td>big hair big boobs bad music and a giant safet...</td>\n",
              "      <td>0</td>\n",
              "      <td>big hair big boobs bad music giant safety pin ...</td>\n",
              "    </tr>\n",
              "    <tr>\n",
              "      <th>2</th>\n",
              "      <td>this has to be one of the worst films of the 1...</td>\n",
              "      <td>0</td>\n",
              "      <td>one worst films friends watching film target a...</td>\n",
              "    </tr>\n",
              "    <tr>\n",
              "      <th>3</th>\n",
              "      <td>the   at storytelling the traditional sort man...</td>\n",
              "      <td>1</td>\n",
              "      <td>storytelling traditional sort many years event...</td>\n",
              "    </tr>\n",
              "    <tr>\n",
              "      <th>4</th>\n",
              "      <td>worst mistake of my life   i picked this movie...</td>\n",
              "      <td>0</td>\n",
              "      <td>worst mistake life picked movie target figured...</td>\n",
              "    </tr>\n",
              "  </tbody>\n",
              "</table>\n",
              "</div>\n",
              "    <div class=\"colab-df-buttons\">\n",
              "\n",
              "  <div class=\"colab-df-container\">\n",
              "    <button class=\"colab-df-convert\" onclick=\"convertToInteractive('df-5438fcdd-1795-441f-b6a1-e92a01d81b23')\"\n",
              "            title=\"Convert this dataframe to an interactive table.\"\n",
              "            style=\"display:none;\">\n",
              "\n",
              "  <svg xmlns=\"http://www.w3.org/2000/svg\" height=\"24px\" viewBox=\"0 -960 960 960\">\n",
              "    <path d=\"M120-120v-720h720v720H120Zm60-500h600v-160H180v160Zm220 220h160v-160H400v160Zm0 220h160v-160H400v160ZM180-400h160v-160H180v160Zm440 0h160v-160H620v160ZM180-180h160v-160H180v160Zm440 0h160v-160H620v160Z\"/>\n",
              "  </svg>\n",
              "    </button>\n",
              "\n",
              "  <style>\n",
              "    .colab-df-container {\n",
              "      display:flex;\n",
              "      gap: 12px;\n",
              "    }\n",
              "\n",
              "    .colab-df-convert {\n",
              "      background-color: #E8F0FE;\n",
              "      border: none;\n",
              "      border-radius: 50%;\n",
              "      cursor: pointer;\n",
              "      display: none;\n",
              "      fill: #1967D2;\n",
              "      height: 32px;\n",
              "      padding: 0 0 0 0;\n",
              "      width: 32px;\n",
              "    }\n",
              "\n",
              "    .colab-df-convert:hover {\n",
              "      background-color: #E2EBFA;\n",
              "      box-shadow: 0px 1px 2px rgba(60, 64, 67, 0.3), 0px 1px 3px 1px rgba(60, 64, 67, 0.15);\n",
              "      fill: #174EA6;\n",
              "    }\n",
              "\n",
              "    .colab-df-buttons div {\n",
              "      margin-bottom: 4px;\n",
              "    }\n",
              "\n",
              "    [theme=dark] .colab-df-convert {\n",
              "      background-color: #3B4455;\n",
              "      fill: #D2E3FC;\n",
              "    }\n",
              "\n",
              "    [theme=dark] .colab-df-convert:hover {\n",
              "      background-color: #434B5C;\n",
              "      box-shadow: 0px 1px 3px 1px rgba(0, 0, 0, 0.15);\n",
              "      filter: drop-shadow(0px 1px 2px rgba(0, 0, 0, 0.3));\n",
              "      fill: #FFFFFF;\n",
              "    }\n",
              "  </style>\n",
              "\n",
              "    <script>\n",
              "      const buttonEl =\n",
              "        document.querySelector('#df-5438fcdd-1795-441f-b6a1-e92a01d81b23 button.colab-df-convert');\n",
              "      buttonEl.style.display =\n",
              "        google.colab.kernel.accessAllowed ? 'block' : 'none';\n",
              "\n",
              "      async function convertToInteractive(key) {\n",
              "        const element = document.querySelector('#df-5438fcdd-1795-441f-b6a1-e92a01d81b23');\n",
              "        const dataTable =\n",
              "          await google.colab.kernel.invokeFunction('convertToInteractive',\n",
              "                                                    [key], {});\n",
              "        if (!dataTable) return;\n",
              "\n",
              "        const docLinkHtml = 'Like what you see? Visit the ' +\n",
              "          '<a target=\"_blank\" href=https://colab.research.google.com/notebooks/data_table.ipynb>data table notebook</a>'\n",
              "          + ' to learn more about interactive tables.';\n",
              "        element.innerHTML = '';\n",
              "        dataTable['output_type'] = 'display_data';\n",
              "        await google.colab.output.renderOutput(dataTable, element);\n",
              "        const docLink = document.createElement('div');\n",
              "        docLink.innerHTML = docLinkHtml;\n",
              "        element.appendChild(docLink);\n",
              "      }\n",
              "    </script>\n",
              "  </div>\n",
              "\n",
              "\n",
              "<div id=\"df-f32a81fa-a235-4f38-96d9-c0b4357f9752\">\n",
              "  <button class=\"colab-df-quickchart\" onclick=\"quickchart('df-f32a81fa-a235-4f38-96d9-c0b4357f9752')\"\n",
              "            title=\"Suggest charts\"\n",
              "            style=\"display:none;\">\n",
              "\n",
              "<svg xmlns=\"http://www.w3.org/2000/svg\" height=\"24px\"viewBox=\"0 0 24 24\"\n",
              "     width=\"24px\">\n",
              "    <g>\n",
              "        <path d=\"M19 3H5c-1.1 0-2 .9-2 2v14c0 1.1.9 2 2 2h14c1.1 0 2-.9 2-2V5c0-1.1-.9-2-2-2zM9 17H7v-7h2v7zm4 0h-2V7h2v10zm4 0h-2v-4h2v4z\"/>\n",
              "    </g>\n",
              "</svg>\n",
              "  </button>\n",
              "\n",
              "<style>\n",
              "  .colab-df-quickchart {\n",
              "      --bg-color: #E8F0FE;\n",
              "      --fill-color: #1967D2;\n",
              "      --hover-bg-color: #E2EBFA;\n",
              "      --hover-fill-color: #174EA6;\n",
              "      --disabled-fill-color: #AAA;\n",
              "      --disabled-bg-color: #DDD;\n",
              "  }\n",
              "\n",
              "  [theme=dark] .colab-df-quickchart {\n",
              "      --bg-color: #3B4455;\n",
              "      --fill-color: #D2E3FC;\n",
              "      --hover-bg-color: #434B5C;\n",
              "      --hover-fill-color: #FFFFFF;\n",
              "      --disabled-bg-color: #3B4455;\n",
              "      --disabled-fill-color: #666;\n",
              "  }\n",
              "\n",
              "  .colab-df-quickchart {\n",
              "    background-color: var(--bg-color);\n",
              "    border: none;\n",
              "    border-radius: 50%;\n",
              "    cursor: pointer;\n",
              "    display: none;\n",
              "    fill: var(--fill-color);\n",
              "    height: 32px;\n",
              "    padding: 0;\n",
              "    width: 32px;\n",
              "  }\n",
              "\n",
              "  .colab-df-quickchart:hover {\n",
              "    background-color: var(--hover-bg-color);\n",
              "    box-shadow: 0 1px 2px rgba(60, 64, 67, 0.3), 0 1px 3px 1px rgba(60, 64, 67, 0.15);\n",
              "    fill: var(--button-hover-fill-color);\n",
              "  }\n",
              "\n",
              "  .colab-df-quickchart-complete:disabled,\n",
              "  .colab-df-quickchart-complete:disabled:hover {\n",
              "    background-color: var(--disabled-bg-color);\n",
              "    fill: var(--disabled-fill-color);\n",
              "    box-shadow: none;\n",
              "  }\n",
              "\n",
              "  .colab-df-spinner {\n",
              "    border: 2px solid var(--fill-color);\n",
              "    border-color: transparent;\n",
              "    border-bottom-color: var(--fill-color);\n",
              "    animation:\n",
              "      spin 1s steps(1) infinite;\n",
              "  }\n",
              "\n",
              "  @keyframes spin {\n",
              "    0% {\n",
              "      border-color: transparent;\n",
              "      border-bottom-color: var(--fill-color);\n",
              "      border-left-color: var(--fill-color);\n",
              "    }\n",
              "    20% {\n",
              "      border-color: transparent;\n",
              "      border-left-color: var(--fill-color);\n",
              "      border-top-color: var(--fill-color);\n",
              "    }\n",
              "    30% {\n",
              "      border-color: transparent;\n",
              "      border-left-color: var(--fill-color);\n",
              "      border-top-color: var(--fill-color);\n",
              "      border-right-color: var(--fill-color);\n",
              "    }\n",
              "    40% {\n",
              "      border-color: transparent;\n",
              "      border-right-color: var(--fill-color);\n",
              "      border-top-color: var(--fill-color);\n",
              "    }\n",
              "    60% {\n",
              "      border-color: transparent;\n",
              "      border-right-color: var(--fill-color);\n",
              "    }\n",
              "    80% {\n",
              "      border-color: transparent;\n",
              "      border-right-color: var(--fill-color);\n",
              "      border-bottom-color: var(--fill-color);\n",
              "    }\n",
              "    90% {\n",
              "      border-color: transparent;\n",
              "      border-bottom-color: var(--fill-color);\n",
              "    }\n",
              "  }\n",
              "</style>\n",
              "\n",
              "  <script>\n",
              "    async function quickchart(key) {\n",
              "      const quickchartButtonEl =\n",
              "        document.querySelector('#' + key + ' button');\n",
              "      quickchartButtonEl.disabled = true;  // To prevent multiple clicks.\n",
              "      quickchartButtonEl.classList.add('colab-df-spinner');\n",
              "      try {\n",
              "        const charts = await google.colab.kernel.invokeFunction(\n",
              "            'suggestCharts', [key], {});\n",
              "      } catch (error) {\n",
              "        console.error('Error during call to suggestCharts:', error);\n",
              "      }\n",
              "      quickchartButtonEl.classList.remove('colab-df-spinner');\n",
              "      quickchartButtonEl.classList.add('colab-df-quickchart-complete');\n",
              "    }\n",
              "    (() => {\n",
              "      let quickchartButtonEl =\n",
              "        document.querySelector('#df-f32a81fa-a235-4f38-96d9-c0b4357f9752 button');\n",
              "      quickchartButtonEl.style.display =\n",
              "        google.colab.kernel.accessAllowed ? 'block' : 'none';\n",
              "    })();\n",
              "  </script>\n",
              "</div>\n",
              "\n",
              "    </div>\n",
              "  </div>\n"
            ],
            "application/vnd.google.colaboratory.intrinsic+json": {
              "type": "dataframe",
              "variable_name": "df",
              "summary": "{\n  \"name\": \"df\",\n  \"rows\": 5000,\n  \"fields\": [\n    {\n      \"column\": \"Reviews\",\n      \"properties\": {\n        \"dtype\": \"string\",\n        \"num_unique_values\": 4997,\n        \"samples\": [\n          \"this film screened last night at  paramount theater as part of the  film festival we were  with the presence of director mike  and stars adam sandler and don cheadle who took audience questions after the film it is a remarkable and powerful film about what it is like to lose yourself and begin to find your way back the performances are phenomenal and the story manages to be both tragic and funny in a way that is all too rare the trailer for the film tries a little too hard to emphasize the comedic aspects   this is a  role for adam sandler while he has begun to transition to more dramatic roles with punch drunk love and  this role is a significant step forward for him as a dramatic actor he deserves an oscar nomination as he continues down to transition to more dramatic roles as tom hanks did and jim carrey is also doing in this role he seemed to be trying to channel dustin hoffman in rain man although playing an  man is certainly very different than  traumatized character both characters for different reasons are trapped in their own worlds of child like isolation and confusion   don  performance is less surprising but just as good after hotel  and crash weve come to expect remarkable nuanced performances from cheadle he has the qualities of sincerity and honesty that comes through in this role but he too is also broken and struggling if not in the such profound ways as  character cheadle is struggling with difficulties in both his marriage and in his professional life as a dentist together the characters played by cheadle and sandler struggle to  each other in the way that true friends often do in a way that reminds me of matt damon and robin williams in good will hunting they are both searching for that part of the themselves that they have lost and trying to find again   reign over me is one of the best major studio films to be released this year the soundtrack which is almost another character in the plot is wonderful the filming in the streets of new york a city that suffered a great tragedy and has also had to  itself is also quite beautiful the supporting roles by   smith  tyler   in a very odd role donald sutherland and mike  himself are all quite good   writer director mike  has really delivered a story that so many will be able to connect with on numerous levels this is a story about grief family healing male friendship mental health and the meaning of love reign over me does not disappoint the film is almost hypnotic as it draws you into the lives of its characters hollywood would have a much better reputation if it made more character driven charming films like reign over me\",\n          \"i loved this show growing up and i still watch the first season dvd at age 19 today what can i say i grew up in a house much like the one on full house i had a dad two sisters and a dog i guess the only difference was that i did not live with my uncle and my  best friend also i grew up with my mom in the house i dont know what i would have done without full house on television i think that stephanie played by jodie  d j played by kirk  sister  and michelle played by mary kate and ashley olsen are my favorite characters i can relate to each of them because i am the middle child of my family like  i am a younger sister like michelle and i am an older sister like d j i really like how the show always has moral values because i dont really like any of the o c like shows today i like the comedy of full house too uncle jesse john  joey dave  and danny bob  are hilarious as the girls uncle  friend and dad respectively the story goes that after the girls mom dies  best friend joey and his brother in law jesse move in to help raise the kids three men trying to raise three young girls hilarious each character on full house is full of heart funny and genuinely believable joey is an aspiring comedian with a kids heart and soul jesse is the cool motorcycle riding tough guy uncle who is  by his three  and later his wife  laurie  from  both kids and adults will love this show guaranteed\",\n          \"gerard  is absolutely perfect in this movie funny tender brave and lover he gives a superior dimension to a movie which is even a masterpiece as much by the other actors gina   as by the story or the rhythm never boring always creating new emotions for me the best french movie of all time\"\n        ],\n        \"semantic_type\": \"\",\n        \"description\": \"\"\n      }\n    },\n    {\n      \"column\": \"Sentiments\",\n      \"properties\": {\n        \"dtype\": \"number\",\n        \"std\": 0,\n        \"min\": 0,\n        \"max\": 1,\n        \"num_unique_values\": 2,\n        \"samples\": [\n          0,\n          1\n        ],\n        \"semantic_type\": \"\",\n        \"description\": \"\"\n      }\n    },\n    {\n      \"column\": \"processed_revs\",\n      \"properties\": {\n        \"dtype\": \"string\",\n        \"num_unique_values\": 4997,\n        \"samples\": [\n          \"film screened last night paramount theater part film festival presence director mike stars adam sandler cheadle took audience questions film remarkable powerful film like lose begin find way back performances phenomenal story manages tragic funny way rare trailer film tries little hard emphasize comedic aspects role adam sandler begun transition dramatic roles punch drunk love role significant step forward dramatic actor deserves oscar nomination continues transition dramatic roles tom hanks jim carrey also role seemed trying channel dustin hoffman rain man although playing man certainly different traumatized character characters different reasons trapped worlds child like isolation confusion performance less surprising good hotel crash weve come expect remarkable nuanced performances cheadle qualities sincerity honesty comes role also broken struggling profound ways character cheadle struggling difficulties marriage professional life dentist together characters played cheadle sandler struggle way true friends often way reminds matt damon robin williams good hunting searching part lost trying find reign one best major studio films released year soundtrack almost another character plot wonderful filming streets new york city suffered great tragedy also also quite beautiful supporting roles smith tyler odd role donald sutherland mike quite good writer director mike really delivered story many able connect numerous levels story grief family healing male friendship mental health meaning love reign disappoint film almost hypnotic draws lives characters hollywood would much better reputation made character driven charming films like reign\",\n          \"loved show growing still watch first season dvd age today say grew house much like one full house dad two sisters dog guess difference live uncle best friend also grew mom house dont know would done without full house television think stephanie played jodie j played kirk sister michelle played mary kate ashley olsen favorite characters relate middle child family like younger sister like michelle older sister like j really like show always moral values dont really like c like shows today like comedy full house uncle jesse john joey dave danny bob hilarious girls uncle friend dad respectively story goes girls mom dies best friend joey brother law jesse move help raise kids three men trying raise three young girls hilarious character full house full heart funny genuinely believable joey aspiring comedian kids heart soul jesse cool motorcycle riding tough guy uncle three later wife laurie kids adults love show guaranteed\"\n        ],\n        \"semantic_type\": \"\",\n        \"description\": \"\"\n      }\n    }\n  ]\n}"
            }
          },
          "metadata": {},
          "execution_count": 12
        }
      ]
    },
    {
      "cell_type": "code",
      "source": [
        "sentences = df[\"processed_revs\"].tolist()\n",
        "max_len = max(len(x.split()) for x in sentences)\n",
        "max_len"
      ],
      "metadata": {
        "colab": {
          "base_uri": "https://localhost:8080/"
        },
        "id": "EQQbqqc9s24B",
        "outputId": "1ccf128a-db9c-4d8a-9359-2475ca2057be"
      },
      "execution_count": 13,
      "outputs": [
        {
          "output_type": "execute_result",
          "data": {
            "text/plain": [
              "837"
            ]
          },
          "metadata": {},
          "execution_count": 13
        }
      ]
    },
    {
      "cell_type": "code",
      "source": [
        "sentences[0]"
      ],
      "metadata": {
        "colab": {
          "base_uri": "https://localhost:8080/",
          "height": 90
        },
        "id": "GDh05uJRs4VI",
        "outputId": "5cc8cd4a-0126-4815-8e7b-df69d39f7f07"
      },
      "execution_count": 14,
      "outputs": [
        {
          "output_type": "execute_result",
          "data": {
            "text/plain": [
              "'film brilliant casting location scenery story direction everyones really suited part played could imagine robert amazing actor director father came scottish island loved fact real connection film witty remarks throughout film great brilliant much bought film soon released would recommend everyone watch fly fishing amazing really cried end sad know say cry film must good definitely also two little boys played norman paul brilliant children often left list think stars play grown big profile whole film children amazing praised done dont think whole story lovely true someones life shared us'"
            ],
            "application/vnd.google.colaboratory.intrinsic+json": {
              "type": "string"
            }
          },
          "metadata": {},
          "execution_count": 14
        }
      ]
    },
    {
      "cell_type": "code",
      "source": [
        "vocabulary = set(sentences)\n",
        "vocabulary_size = len(vocabulary)\n",
        "vocabulary_size"
      ],
      "metadata": {
        "colab": {
          "base_uri": "https://localhost:8080/"
        },
        "id": "DXQw9k981TAJ",
        "outputId": "b37e8424-35fe-44b6-f259-039c3e47158a"
      },
      "execution_count": 15,
      "outputs": [
        {
          "output_type": "execute_result",
          "data": {
            "text/plain": [
              "4997"
            ]
          },
          "metadata": {},
          "execution_count": 15
        }
      ]
    },
    {
      "cell_type": "code",
      "source": [
        "from tensorflow.keras.preprocessing.text import Tokenizer\n",
        "from tensorflow.keras.preprocessing.sequence import pad_sequences"
      ],
      "metadata": {
        "id": "70BaFgWXs5-y"
      },
      "execution_count": 16,
      "outputs": []
    },
    {
      "cell_type": "code",
      "source": [
        "tokenizer = Tokenizer(num_words=5000, oov_token=\"<OOV>\")\n",
        "tokenizer.fit_on_texts(sentences)"
      ],
      "metadata": {
        "id": "hTm5cl-vs7TB"
      },
      "execution_count": 17,
      "outputs": []
    },
    {
      "cell_type": "code",
      "source": [
        "sequences = tokenizer.texts_to_sequences(sentences)"
      ],
      "metadata": {
        "id": "iRKnFf-Ys8cJ"
      },
      "execution_count": 18,
      "outputs": []
    },
    {
      "cell_type": "code",
      "source": [
        "len(sequences[0]) == len(sentences[0].split())"
      ],
      "metadata": {
        "colab": {
          "base_uri": "https://localhost:8080/"
        },
        "id": "yaxG0is2s9uR",
        "outputId": "8045791f-9ed9-4933-a90b-ad20fcfe6b8d"
      },
      "execution_count": 19,
      "outputs": [
        {
          "output_type": "execute_result",
          "data": {
            "text/plain": [
              "True"
            ]
          },
          "metadata": {},
          "execution_count": 19
        }
      ]
    },
    {
      "cell_type": "code",
      "source": [
        "## padding sequences\n",
        "padded_sequence = pad_sequences(sequences, maxlen=max_len, padding='post')"
      ],
      "metadata": {
        "id": "h81s4TxOs_W5"
      },
      "execution_count": 20,
      "outputs": []
    },
    {
      "cell_type": "code",
      "source": [
        "## padded sequence for first line\n",
        "len(padded_sequence[0])"
      ],
      "metadata": {
        "colab": {
          "base_uri": "https://localhost:8080/"
        },
        "id": "CfYn4Cy6tA6a",
        "outputId": "c076125c-ba30-4d7b-ae68-5460e060e151"
      },
      "execution_count": 21,
      "outputs": [
        {
          "output_type": "execute_result",
          "data": {
            "text/plain": [
              "837"
            ]
          },
          "metadata": {},
          "execution_count": 21
        }
      ]
    },
    {
      "cell_type": "code",
      "source": [
        "len(padded_sequence)"
      ],
      "metadata": {
        "colab": {
          "base_uri": "https://localhost:8080/"
        },
        "id": "8QnkrjR6tCR5",
        "outputId": "8a6f1d5c-b98f-41f4-998c-ed0e357dd7a3"
      },
      "execution_count": 22,
      "outputs": [
        {
          "output_type": "execute_result",
          "data": {
            "text/plain": [
              "5000"
            ]
          },
          "metadata": {},
          "execution_count": 22
        }
      ]
    },
    {
      "cell_type": "code",
      "source": [
        "from tensorflow.keras.layers import Embedding, Input\n",
        "from tensorflow.keras.models import Model"
      ],
      "metadata": {
        "id": "cbrMrG-qtDxq"
      },
      "execution_count": 23,
      "outputs": []
    },
    {
      "cell_type": "code",
      "source": [
        "## Applying Embeddings\n",
        "embedding_dim = 10\n",
        "max_word = 9900 ## vocabulary of the review\n",
        "input_layer = Input(shape=(max_len,))\n",
        "embedding_layer = Embedding(input_dim=max_word, output_dim=embedding_dim, input_length=max_len)(input_layer)\n",
        "embedding_model = Model(inputs=input_layer, outputs=embedding_layer)"
      ],
      "metadata": {
        "colab": {
          "base_uri": "https://localhost:8080/"
        },
        "id": "qC17WhpwtFAp",
        "outputId": "f25dc016-4979-47a5-8b40-d158020d75df"
      },
      "execution_count": 24,
      "outputs": [
        {
          "output_type": "stream",
          "name": "stderr",
          "text": [
            "/usr/local/lib/python3.11/dist-packages/keras/src/layers/core/embedding.py:90: UserWarning: Argument `input_length` is deprecated. Just remove it.\n",
            "  warnings.warn(\n"
          ]
        }
      ]
    },
    {
      "cell_type": "code",
      "source": [
        "## as the dataset is very huge, process them in batch\n",
        "import gc\n",
        "import h5py\n",
        "batch_size = 1000\n",
        "with h5py.File(\"embeddings.h5\", \"w\") as h5f:\n",
        "    dset = h5f.create_dataset(\"embeddings\", (len(df), max_len, embedding_dim), dtype=\"float32\")\n",
        "\n",
        "    for i in range(0, len(df), batch_size):\n",
        "        batch_sequences = padded_sequence[i : i + batch_size]\n",
        "        batch_embeddings = embedding_model.predict(batch_sequences, batch_size=256)  # Process in chunks\n",
        "        dset[i : i + batch_size] = batch_embeddings  # Store in file\n",
        "\n",
        "        # Free memory\n",
        "        del batch_sequences, batch_embeddings\n",
        "        gc.collect()"
      ],
      "metadata": {
        "colab": {
          "base_uri": "https://localhost:8080/"
        },
        "id": "ObVlTQmstGQa",
        "outputId": "d3aa42fe-3220-4346-bbcb-ee05f4a21608"
      },
      "execution_count": 25,
      "outputs": [
        {
          "output_type": "stream",
          "name": "stdout",
          "text": [
            "\u001b[1m4/4\u001b[0m \u001b[32m━━━━━━━━━━━━━━━━━━━━\u001b[0m\u001b[37m\u001b[0m \u001b[1m0s\u001b[0m 45ms/step\n",
            "\u001b[1m4/4\u001b[0m \u001b[32m━━━━━━━━━━━━━━━━━━━━\u001b[0m\u001b[37m\u001b[0m \u001b[1m0s\u001b[0m 12ms/step\n",
            "\u001b[1m4/4\u001b[0m \u001b[32m━━━━━━━━━━━━━━━━━━━━\u001b[0m\u001b[37m\u001b[0m \u001b[1m0s\u001b[0m 12ms/step\n",
            "\u001b[1m4/4\u001b[0m \u001b[32m━━━━━━━━━━━━━━━━━━━━\u001b[0m\u001b[37m\u001b[0m \u001b[1m0s\u001b[0m 8ms/step \n",
            "\u001b[1m4/4\u001b[0m \u001b[32m━━━━━━━━━━━━━━━━━━━━\u001b[0m\u001b[37m\u001b[0m \u001b[1m0s\u001b[0m 10ms/step\n"
          ]
        }
      ]
    },
    {
      "cell_type": "code",
      "source": [
        "with h5py.File(\"embeddings.h5\", \"r\") as h5f:\n",
        "    sample_embedding = h5f[\"embeddings\"][0]  ## Get first row's embedding\n",
        "    print(sample_embedding.shape)"
      ],
      "metadata": {
        "colab": {
          "base_uri": "https://localhost:8080/"
        },
        "id": "oRsxu3oPtHzh",
        "outputId": "be3595bb-4638-410c-9bed-54401c5164a8"
      },
      "execution_count": 26,
      "outputs": [
        {
          "output_type": "stream",
          "name": "stdout",
          "text": [
            "(837, 10)\n"
          ]
        }
      ]
    },
    {
      "cell_type": "code",
      "source": [
        "## Open the HDF5 file without loading everything into RAM\n",
        "h5f = h5py.File(\"embeddings.h5\", \"r\")\n",
        "## Get dataset shape (num_rows, max_len, embedding_dim)\n",
        "print(\"Shape of dataset:\", h5f[\"embeddings\"].shape)\n",
        "## Load embeddings in batches\n",
        "safe_limit = 5000  ## Load only first 40,000 rows\n",
        "batch_size = 500   ## Adjust batch size based on memory\n",
        "\n",
        "## Store embeddings in chunks\n",
        "all_embeddings = []\n",
        "\n",
        "for i in range(0, safe_limit, batch_size):  ## Stopping at 40K\n",
        "    batch_embeddings = h5f[\"embeddings\"][i : i + batch_size]\n",
        "    all_embeddings.append(batch_embeddings)  ## Storing the batches\n",
        "    print(f\"Loaded batch {i} to {i + batch_size}\")\n",
        "\n",
        "## Close HDF5 file\n",
        "h5f.close()\n",
        "\n",
        "embeddings = np.concatenate(all_embeddings, axis=0)\n",
        "print(\"Final shape of embeddings:\", embeddings.shape)"
      ],
      "metadata": {
        "colab": {
          "base_uri": "https://localhost:8080/"
        },
        "id": "12uH8IEOtJYA",
        "outputId": "c27aebc6-20be-4cc2-fd1e-69abf273cdcf"
      },
      "execution_count": 27,
      "outputs": [
        {
          "output_type": "stream",
          "name": "stdout",
          "text": [
            "Shape of dataset: (5000, 837, 10)\n",
            "Loaded batch 0 to 500\n",
            "Loaded batch 500 to 1000\n",
            "Loaded batch 1000 to 1500\n",
            "Loaded batch 1500 to 2000\n",
            "Loaded batch 2000 to 2500\n",
            "Loaded batch 2500 to 3000\n",
            "Loaded batch 3000 to 3500\n",
            "Loaded batch 3500 to 4000\n",
            "Loaded batch 4000 to 4500\n",
            "Loaded batch 4500 to 5000\n",
            "Final shape of embeddings: (5000, 837, 10)\n"
          ]
        }
      ]
    },
    {
      "cell_type": "code",
      "source": [
        "np.save(\"embeddings.npy\", embeddings)"
      ],
      "metadata": {
        "id": "YWXpY_z7tLeF"
      },
      "execution_count": 28,
      "outputs": []
    },
    {
      "cell_type": "code",
      "source": [
        "embeddings.shape"
      ],
      "metadata": {
        "id": "DHbgV4WhvHeh",
        "colab": {
          "base_uri": "https://localhost:8080/"
        },
        "outputId": "40af1edd-0d28-48b6-dc23-d6b3cb24cde1"
      },
      "execution_count": 29,
      "outputs": [
        {
          "output_type": "execute_result",
          "data": {
            "text/plain": [
              "(5000, 837, 10)"
            ]
          },
          "metadata": {},
          "execution_count": 29
        }
      ]
    },
    {
      "cell_type": "code",
      "source": [
        "import shutil\n",
        "from google.colab import files\n",
        "shutil.make_archive(\"/content/embeddings\", 'zip', \"/content\", \"embeddings.npy\")\n",
        "files.download(\"/content/embeddings.zip\")"
      ],
      "metadata": {
        "id": "xLirowghAma9",
        "colab": {
          "base_uri": "https://localhost:8080/",
          "height": 17
        },
        "outputId": "5cf16228-a07e-408f-c860-a354af8247a9"
      },
      "execution_count": 30,
      "outputs": [
        {
          "output_type": "display_data",
          "data": {
            "text/plain": [
              "<IPython.core.display.Javascript object>"
            ],
            "application/javascript": [
              "\n",
              "    async function download(id, filename, size) {\n",
              "      if (!google.colab.kernel.accessAllowed) {\n",
              "        return;\n",
              "      }\n",
              "      const div = document.createElement('div');\n",
              "      const label = document.createElement('label');\n",
              "      label.textContent = `Downloading \"${filename}\": `;\n",
              "      div.appendChild(label);\n",
              "      const progress = document.createElement('progress');\n",
              "      progress.max = size;\n",
              "      div.appendChild(progress);\n",
              "      document.body.appendChild(div);\n",
              "\n",
              "      const buffers = [];\n",
              "      let downloaded = 0;\n",
              "\n",
              "      const channel = await google.colab.kernel.comms.open(id);\n",
              "      // Send a message to notify the kernel that we're ready.\n",
              "      channel.send({})\n",
              "\n",
              "      for await (const message of channel.messages) {\n",
              "        // Send a message to notify the kernel that we're ready.\n",
              "        channel.send({})\n",
              "        if (message.buffers) {\n",
              "          for (const buffer of message.buffers) {\n",
              "            buffers.push(buffer);\n",
              "            downloaded += buffer.byteLength;\n",
              "            progress.value = downloaded;\n",
              "          }\n",
              "        }\n",
              "      }\n",
              "      const blob = new Blob(buffers, {type: 'application/binary'});\n",
              "      const a = document.createElement('a');\n",
              "      a.href = window.URL.createObjectURL(blob);\n",
              "      a.download = filename;\n",
              "      div.appendChild(a);\n",
              "      a.click();\n",
              "      div.remove();\n",
              "    }\n",
              "  "
            ]
          },
          "metadata": {}
        },
        {
          "output_type": "display_data",
          "data": {
            "text/plain": [
              "<IPython.core.display.Javascript object>"
            ],
            "application/javascript": [
              "download(\"download_780361bd-17ec-42c9-9606-42f70b15d21f\", \"embeddings.zip\", 15904479)"
            ]
          },
          "metadata": {}
        }
      ]
    },
    {
      "cell_type": "code",
      "source": [
        "df.head()"
      ],
      "metadata": {
        "colab": {
          "base_uri": "https://localhost:8080/",
          "height": 206
        },
        "id": "x357bPGyeKFi",
        "outputId": "82f0f235-6faf-46b9-c808-2dd2b760b7d5"
      },
      "execution_count": 31,
      "outputs": [
        {
          "output_type": "execute_result",
          "data": {
            "text/plain": [
              "                                             Reviews  Sentiments  \\\n",
              "0  this film was just brilliant casting location ...           1   \n",
              "1  big hair big boobs bad music and a giant safet...           0   \n",
              "2  this has to be one of the worst films of the 1...           0   \n",
              "3  the   at storytelling the traditional sort man...           1   \n",
              "4  worst mistake of my life   i picked this movie...           0   \n",
              "\n",
              "                                      processed_revs  \n",
              "0  film brilliant casting location scenery story ...  \n",
              "1  big hair big boobs bad music giant safety pin ...  \n",
              "2  one worst films friends watching film target a...  \n",
              "3  storytelling traditional sort many years event...  \n",
              "4  worst mistake life picked movie target figured...  "
            ],
            "text/html": [
              "\n",
              "  <div id=\"df-31171826-7ff6-4286-a07e-22e6609152be\" class=\"colab-df-container\">\n",
              "    <div>\n",
              "<style scoped>\n",
              "    .dataframe tbody tr th:only-of-type {\n",
              "        vertical-align: middle;\n",
              "    }\n",
              "\n",
              "    .dataframe tbody tr th {\n",
              "        vertical-align: top;\n",
              "    }\n",
              "\n",
              "    .dataframe thead th {\n",
              "        text-align: right;\n",
              "    }\n",
              "</style>\n",
              "<table border=\"1\" class=\"dataframe\">\n",
              "  <thead>\n",
              "    <tr style=\"text-align: right;\">\n",
              "      <th></th>\n",
              "      <th>Reviews</th>\n",
              "      <th>Sentiments</th>\n",
              "      <th>processed_revs</th>\n",
              "    </tr>\n",
              "  </thead>\n",
              "  <tbody>\n",
              "    <tr>\n",
              "      <th>0</th>\n",
              "      <td>this film was just brilliant casting location ...</td>\n",
              "      <td>1</td>\n",
              "      <td>film brilliant casting location scenery story ...</td>\n",
              "    </tr>\n",
              "    <tr>\n",
              "      <th>1</th>\n",
              "      <td>big hair big boobs bad music and a giant safet...</td>\n",
              "      <td>0</td>\n",
              "      <td>big hair big boobs bad music giant safety pin ...</td>\n",
              "    </tr>\n",
              "    <tr>\n",
              "      <th>2</th>\n",
              "      <td>this has to be one of the worst films of the 1...</td>\n",
              "      <td>0</td>\n",
              "      <td>one worst films friends watching film target a...</td>\n",
              "    </tr>\n",
              "    <tr>\n",
              "      <th>3</th>\n",
              "      <td>the   at storytelling the traditional sort man...</td>\n",
              "      <td>1</td>\n",
              "      <td>storytelling traditional sort many years event...</td>\n",
              "    </tr>\n",
              "    <tr>\n",
              "      <th>4</th>\n",
              "      <td>worst mistake of my life   i picked this movie...</td>\n",
              "      <td>0</td>\n",
              "      <td>worst mistake life picked movie target figured...</td>\n",
              "    </tr>\n",
              "  </tbody>\n",
              "</table>\n",
              "</div>\n",
              "    <div class=\"colab-df-buttons\">\n",
              "\n",
              "  <div class=\"colab-df-container\">\n",
              "    <button class=\"colab-df-convert\" onclick=\"convertToInteractive('df-31171826-7ff6-4286-a07e-22e6609152be')\"\n",
              "            title=\"Convert this dataframe to an interactive table.\"\n",
              "            style=\"display:none;\">\n",
              "\n",
              "  <svg xmlns=\"http://www.w3.org/2000/svg\" height=\"24px\" viewBox=\"0 -960 960 960\">\n",
              "    <path d=\"M120-120v-720h720v720H120Zm60-500h600v-160H180v160Zm220 220h160v-160H400v160Zm0 220h160v-160H400v160ZM180-400h160v-160H180v160Zm440 0h160v-160H620v160ZM180-180h160v-160H180v160Zm440 0h160v-160H620v160Z\"/>\n",
              "  </svg>\n",
              "    </button>\n",
              "\n",
              "  <style>\n",
              "    .colab-df-container {\n",
              "      display:flex;\n",
              "      gap: 12px;\n",
              "    }\n",
              "\n",
              "    .colab-df-convert {\n",
              "      background-color: #E8F0FE;\n",
              "      border: none;\n",
              "      border-radius: 50%;\n",
              "      cursor: pointer;\n",
              "      display: none;\n",
              "      fill: #1967D2;\n",
              "      height: 32px;\n",
              "      padding: 0 0 0 0;\n",
              "      width: 32px;\n",
              "    }\n",
              "\n",
              "    .colab-df-convert:hover {\n",
              "      background-color: #E2EBFA;\n",
              "      box-shadow: 0px 1px 2px rgba(60, 64, 67, 0.3), 0px 1px 3px 1px rgba(60, 64, 67, 0.15);\n",
              "      fill: #174EA6;\n",
              "    }\n",
              "\n",
              "    .colab-df-buttons div {\n",
              "      margin-bottom: 4px;\n",
              "    }\n",
              "\n",
              "    [theme=dark] .colab-df-convert {\n",
              "      background-color: #3B4455;\n",
              "      fill: #D2E3FC;\n",
              "    }\n",
              "\n",
              "    [theme=dark] .colab-df-convert:hover {\n",
              "      background-color: #434B5C;\n",
              "      box-shadow: 0px 1px 3px 1px rgba(0, 0, 0, 0.15);\n",
              "      filter: drop-shadow(0px 1px 2px rgba(0, 0, 0, 0.3));\n",
              "      fill: #FFFFFF;\n",
              "    }\n",
              "  </style>\n",
              "\n",
              "    <script>\n",
              "      const buttonEl =\n",
              "        document.querySelector('#df-31171826-7ff6-4286-a07e-22e6609152be button.colab-df-convert');\n",
              "      buttonEl.style.display =\n",
              "        google.colab.kernel.accessAllowed ? 'block' : 'none';\n",
              "\n",
              "      async function convertToInteractive(key) {\n",
              "        const element = document.querySelector('#df-31171826-7ff6-4286-a07e-22e6609152be');\n",
              "        const dataTable =\n",
              "          await google.colab.kernel.invokeFunction('convertToInteractive',\n",
              "                                                    [key], {});\n",
              "        if (!dataTable) return;\n",
              "\n",
              "        const docLinkHtml = 'Like what you see? Visit the ' +\n",
              "          '<a target=\"_blank\" href=https://colab.research.google.com/notebooks/data_table.ipynb>data table notebook</a>'\n",
              "          + ' to learn more about interactive tables.';\n",
              "        element.innerHTML = '';\n",
              "        dataTable['output_type'] = 'display_data';\n",
              "        await google.colab.output.renderOutput(dataTable, element);\n",
              "        const docLink = document.createElement('div');\n",
              "        docLink.innerHTML = docLinkHtml;\n",
              "        element.appendChild(docLink);\n",
              "      }\n",
              "    </script>\n",
              "  </div>\n",
              "\n",
              "\n",
              "<div id=\"df-02e49609-ab2b-4944-bdfa-0fdb00450e2c\">\n",
              "  <button class=\"colab-df-quickchart\" onclick=\"quickchart('df-02e49609-ab2b-4944-bdfa-0fdb00450e2c')\"\n",
              "            title=\"Suggest charts\"\n",
              "            style=\"display:none;\">\n",
              "\n",
              "<svg xmlns=\"http://www.w3.org/2000/svg\" height=\"24px\"viewBox=\"0 0 24 24\"\n",
              "     width=\"24px\">\n",
              "    <g>\n",
              "        <path d=\"M19 3H5c-1.1 0-2 .9-2 2v14c0 1.1.9 2 2 2h14c1.1 0 2-.9 2-2V5c0-1.1-.9-2-2-2zM9 17H7v-7h2v7zm4 0h-2V7h2v10zm4 0h-2v-4h2v4z\"/>\n",
              "    </g>\n",
              "</svg>\n",
              "  </button>\n",
              "\n",
              "<style>\n",
              "  .colab-df-quickchart {\n",
              "      --bg-color: #E8F0FE;\n",
              "      --fill-color: #1967D2;\n",
              "      --hover-bg-color: #E2EBFA;\n",
              "      --hover-fill-color: #174EA6;\n",
              "      --disabled-fill-color: #AAA;\n",
              "      --disabled-bg-color: #DDD;\n",
              "  }\n",
              "\n",
              "  [theme=dark] .colab-df-quickchart {\n",
              "      --bg-color: #3B4455;\n",
              "      --fill-color: #D2E3FC;\n",
              "      --hover-bg-color: #434B5C;\n",
              "      --hover-fill-color: #FFFFFF;\n",
              "      --disabled-bg-color: #3B4455;\n",
              "      --disabled-fill-color: #666;\n",
              "  }\n",
              "\n",
              "  .colab-df-quickchart {\n",
              "    background-color: var(--bg-color);\n",
              "    border: none;\n",
              "    border-radius: 50%;\n",
              "    cursor: pointer;\n",
              "    display: none;\n",
              "    fill: var(--fill-color);\n",
              "    height: 32px;\n",
              "    padding: 0;\n",
              "    width: 32px;\n",
              "  }\n",
              "\n",
              "  .colab-df-quickchart:hover {\n",
              "    background-color: var(--hover-bg-color);\n",
              "    box-shadow: 0 1px 2px rgba(60, 64, 67, 0.3), 0 1px 3px 1px rgba(60, 64, 67, 0.15);\n",
              "    fill: var(--button-hover-fill-color);\n",
              "  }\n",
              "\n",
              "  .colab-df-quickchart-complete:disabled,\n",
              "  .colab-df-quickchart-complete:disabled:hover {\n",
              "    background-color: var(--disabled-bg-color);\n",
              "    fill: var(--disabled-fill-color);\n",
              "    box-shadow: none;\n",
              "  }\n",
              "\n",
              "  .colab-df-spinner {\n",
              "    border: 2px solid var(--fill-color);\n",
              "    border-color: transparent;\n",
              "    border-bottom-color: var(--fill-color);\n",
              "    animation:\n",
              "      spin 1s steps(1) infinite;\n",
              "  }\n",
              "\n",
              "  @keyframes spin {\n",
              "    0% {\n",
              "      border-color: transparent;\n",
              "      border-bottom-color: var(--fill-color);\n",
              "      border-left-color: var(--fill-color);\n",
              "    }\n",
              "    20% {\n",
              "      border-color: transparent;\n",
              "      border-left-color: var(--fill-color);\n",
              "      border-top-color: var(--fill-color);\n",
              "    }\n",
              "    30% {\n",
              "      border-color: transparent;\n",
              "      border-left-color: var(--fill-color);\n",
              "      border-top-color: var(--fill-color);\n",
              "      border-right-color: var(--fill-color);\n",
              "    }\n",
              "    40% {\n",
              "      border-color: transparent;\n",
              "      border-right-color: var(--fill-color);\n",
              "      border-top-color: var(--fill-color);\n",
              "    }\n",
              "    60% {\n",
              "      border-color: transparent;\n",
              "      border-right-color: var(--fill-color);\n",
              "    }\n",
              "    80% {\n",
              "      border-color: transparent;\n",
              "      border-right-color: var(--fill-color);\n",
              "      border-bottom-color: var(--fill-color);\n",
              "    }\n",
              "    90% {\n",
              "      border-color: transparent;\n",
              "      border-bottom-color: var(--fill-color);\n",
              "    }\n",
              "  }\n",
              "</style>\n",
              "\n",
              "  <script>\n",
              "    async function quickchart(key) {\n",
              "      const quickchartButtonEl =\n",
              "        document.querySelector('#' + key + ' button');\n",
              "      quickchartButtonEl.disabled = true;  // To prevent multiple clicks.\n",
              "      quickchartButtonEl.classList.add('colab-df-spinner');\n",
              "      try {\n",
              "        const charts = await google.colab.kernel.invokeFunction(\n",
              "            'suggestCharts', [key], {});\n",
              "      } catch (error) {\n",
              "        console.error('Error during call to suggestCharts:', error);\n",
              "      }\n",
              "      quickchartButtonEl.classList.remove('colab-df-spinner');\n",
              "      quickchartButtonEl.classList.add('colab-df-quickchart-complete');\n",
              "    }\n",
              "    (() => {\n",
              "      let quickchartButtonEl =\n",
              "        document.querySelector('#df-02e49609-ab2b-4944-bdfa-0fdb00450e2c button');\n",
              "      quickchartButtonEl.style.display =\n",
              "        google.colab.kernel.accessAllowed ? 'block' : 'none';\n",
              "    })();\n",
              "  </script>\n",
              "</div>\n",
              "\n",
              "    </div>\n",
              "  </div>\n"
            ],
            "application/vnd.google.colaboratory.intrinsic+json": {
              "type": "dataframe",
              "variable_name": "df",
              "summary": "{\n  \"name\": \"df\",\n  \"rows\": 5000,\n  \"fields\": [\n    {\n      \"column\": \"Reviews\",\n      \"properties\": {\n        \"dtype\": \"string\",\n        \"num_unique_values\": 4997,\n        \"samples\": [\n          \"this film screened last night at  paramount theater as part of the  film festival we were  with the presence of director mike  and stars adam sandler and don cheadle who took audience questions after the film it is a remarkable and powerful film about what it is like to lose yourself and begin to find your way back the performances are phenomenal and the story manages to be both tragic and funny in a way that is all too rare the trailer for the film tries a little too hard to emphasize the comedic aspects   this is a  role for adam sandler while he has begun to transition to more dramatic roles with punch drunk love and  this role is a significant step forward for him as a dramatic actor he deserves an oscar nomination as he continues down to transition to more dramatic roles as tom hanks did and jim carrey is also doing in this role he seemed to be trying to channel dustin hoffman in rain man although playing an  man is certainly very different than  traumatized character both characters for different reasons are trapped in their own worlds of child like isolation and confusion   don  performance is less surprising but just as good after hotel  and crash weve come to expect remarkable nuanced performances from cheadle he has the qualities of sincerity and honesty that comes through in this role but he too is also broken and struggling if not in the such profound ways as  character cheadle is struggling with difficulties in both his marriage and in his professional life as a dentist together the characters played by cheadle and sandler struggle to  each other in the way that true friends often do in a way that reminds me of matt damon and robin williams in good will hunting they are both searching for that part of the themselves that they have lost and trying to find again   reign over me is one of the best major studio films to be released this year the soundtrack which is almost another character in the plot is wonderful the filming in the streets of new york a city that suffered a great tragedy and has also had to  itself is also quite beautiful the supporting roles by   smith  tyler   in a very odd role donald sutherland and mike  himself are all quite good   writer director mike  has really delivered a story that so many will be able to connect with on numerous levels this is a story about grief family healing male friendship mental health and the meaning of love reign over me does not disappoint the film is almost hypnotic as it draws you into the lives of its characters hollywood would have a much better reputation if it made more character driven charming films like reign over me\",\n          \"i loved this show growing up and i still watch the first season dvd at age 19 today what can i say i grew up in a house much like the one on full house i had a dad two sisters and a dog i guess the only difference was that i did not live with my uncle and my  best friend also i grew up with my mom in the house i dont know what i would have done without full house on television i think that stephanie played by jodie  d j played by kirk  sister  and michelle played by mary kate and ashley olsen are my favorite characters i can relate to each of them because i am the middle child of my family like  i am a younger sister like michelle and i am an older sister like d j i really like how the show always has moral values because i dont really like any of the o c like shows today i like the comedy of full house too uncle jesse john  joey dave  and danny bob  are hilarious as the girls uncle  friend and dad respectively the story goes that after the girls mom dies  best friend joey and his brother in law jesse move in to help raise the kids three men trying to raise three young girls hilarious each character on full house is full of heart funny and genuinely believable joey is an aspiring comedian with a kids heart and soul jesse is the cool motorcycle riding tough guy uncle who is  by his three  and later his wife  laurie  from  both kids and adults will love this show guaranteed\",\n          \"gerard  is absolutely perfect in this movie funny tender brave and lover he gives a superior dimension to a movie which is even a masterpiece as much by the other actors gina   as by the story or the rhythm never boring always creating new emotions for me the best french movie of all time\"\n        ],\n        \"semantic_type\": \"\",\n        \"description\": \"\"\n      }\n    },\n    {\n      \"column\": \"Sentiments\",\n      \"properties\": {\n        \"dtype\": \"number\",\n        \"std\": 0,\n        \"min\": 0,\n        \"max\": 1,\n        \"num_unique_values\": 2,\n        \"samples\": [\n          0,\n          1\n        ],\n        \"semantic_type\": \"\",\n        \"description\": \"\"\n      }\n    },\n    {\n      \"column\": \"processed_revs\",\n      \"properties\": {\n        \"dtype\": \"string\",\n        \"num_unique_values\": 4997,\n        \"samples\": [\n          \"film screened last night paramount theater part film festival presence director mike stars adam sandler cheadle took audience questions film remarkable powerful film like lose begin find way back performances phenomenal story manages tragic funny way rare trailer film tries little hard emphasize comedic aspects role adam sandler begun transition dramatic roles punch drunk love role significant step forward dramatic actor deserves oscar nomination continues transition dramatic roles tom hanks jim carrey also role seemed trying channel dustin hoffman rain man although playing man certainly different traumatized character characters different reasons trapped worlds child like isolation confusion performance less surprising good hotel crash weve come expect remarkable nuanced performances cheadle qualities sincerity honesty comes role also broken struggling profound ways character cheadle struggling difficulties marriage professional life dentist together characters played cheadle sandler struggle way true friends often way reminds matt damon robin williams good hunting searching part lost trying find reign one best major studio films released year soundtrack almost another character plot wonderful filming streets new york city suffered great tragedy also also quite beautiful supporting roles smith tyler odd role donald sutherland mike quite good writer director mike really delivered story many able connect numerous levels story grief family healing male friendship mental health meaning love reign disappoint film almost hypnotic draws lives characters hollywood would much better reputation made character driven charming films like reign\",\n          \"loved show growing still watch first season dvd age today say grew house much like one full house dad two sisters dog guess difference live uncle best friend also grew mom house dont know would done without full house television think stephanie played jodie j played kirk sister michelle played mary kate ashley olsen favorite characters relate middle child family like younger sister like michelle older sister like j really like show always moral values dont really like c like shows today like comedy full house uncle jesse john joey dave danny bob hilarious girls uncle friend dad respectively story goes girls mom dies best friend joey brother law jesse move help raise kids three men trying raise three young girls hilarious character full house full heart funny genuinely believable joey aspiring comedian kids heart soul jesse cool motorcycle riding tough guy uncle three later wife laurie kids adults love show guaranteed\"\n        ],\n        \"semantic_type\": \"\",\n        \"description\": \"\"\n      }\n    }\n  ]\n}"
            }
          },
          "metadata": {},
          "execution_count": 31
        }
      ]
    },
    {
      "cell_type": "code",
      "source": [
        "embeddings.shape[0] == df.shape[0]"
      ],
      "metadata": {
        "colab": {
          "base_uri": "https://localhost:8080/"
        },
        "id": "LWVQRkQ-eLem",
        "outputId": "badc4cbc-ba8e-4e96-9bac-42e5cbf17ba7"
      },
      "execution_count": 32,
      "outputs": [
        {
          "output_type": "execute_result",
          "data": {
            "text/plain": [
              "True"
            ]
          },
          "metadata": {},
          "execution_count": 32
        }
      ]
    },
    {
      "cell_type": "code",
      "source": [
        "new_df = df.copy()\n",
        "new_df.head()"
      ],
      "metadata": {
        "colab": {
          "base_uri": "https://localhost:8080/",
          "height": 206
        },
        "id": "zdf5qL0cfRPq",
        "outputId": "92c263a4-3b63-4d07-9b86-93f6f2f028d0"
      },
      "execution_count": 33,
      "outputs": [
        {
          "output_type": "execute_result",
          "data": {
            "text/plain": [
              "                                             Reviews  Sentiments  \\\n",
              "0  this film was just brilliant casting location ...           1   \n",
              "1  big hair big boobs bad music and a giant safet...           0   \n",
              "2  this has to be one of the worst films of the 1...           0   \n",
              "3  the   at storytelling the traditional sort man...           1   \n",
              "4  worst mistake of my life   i picked this movie...           0   \n",
              "\n",
              "                                      processed_revs  \n",
              "0  film brilliant casting location scenery story ...  \n",
              "1  big hair big boobs bad music giant safety pin ...  \n",
              "2  one worst films friends watching film target a...  \n",
              "3  storytelling traditional sort many years event...  \n",
              "4  worst mistake life picked movie target figured...  "
            ],
            "text/html": [
              "\n",
              "  <div id=\"df-3811d789-0204-48db-9b91-8a6b26ddf4ae\" class=\"colab-df-container\">\n",
              "    <div>\n",
              "<style scoped>\n",
              "    .dataframe tbody tr th:only-of-type {\n",
              "        vertical-align: middle;\n",
              "    }\n",
              "\n",
              "    .dataframe tbody tr th {\n",
              "        vertical-align: top;\n",
              "    }\n",
              "\n",
              "    .dataframe thead th {\n",
              "        text-align: right;\n",
              "    }\n",
              "</style>\n",
              "<table border=\"1\" class=\"dataframe\">\n",
              "  <thead>\n",
              "    <tr style=\"text-align: right;\">\n",
              "      <th></th>\n",
              "      <th>Reviews</th>\n",
              "      <th>Sentiments</th>\n",
              "      <th>processed_revs</th>\n",
              "    </tr>\n",
              "  </thead>\n",
              "  <tbody>\n",
              "    <tr>\n",
              "      <th>0</th>\n",
              "      <td>this film was just brilliant casting location ...</td>\n",
              "      <td>1</td>\n",
              "      <td>film brilliant casting location scenery story ...</td>\n",
              "    </tr>\n",
              "    <tr>\n",
              "      <th>1</th>\n",
              "      <td>big hair big boobs bad music and a giant safet...</td>\n",
              "      <td>0</td>\n",
              "      <td>big hair big boobs bad music giant safety pin ...</td>\n",
              "    </tr>\n",
              "    <tr>\n",
              "      <th>2</th>\n",
              "      <td>this has to be one of the worst films of the 1...</td>\n",
              "      <td>0</td>\n",
              "      <td>one worst films friends watching film target a...</td>\n",
              "    </tr>\n",
              "    <tr>\n",
              "      <th>3</th>\n",
              "      <td>the   at storytelling the traditional sort man...</td>\n",
              "      <td>1</td>\n",
              "      <td>storytelling traditional sort many years event...</td>\n",
              "    </tr>\n",
              "    <tr>\n",
              "      <th>4</th>\n",
              "      <td>worst mistake of my life   i picked this movie...</td>\n",
              "      <td>0</td>\n",
              "      <td>worst mistake life picked movie target figured...</td>\n",
              "    </tr>\n",
              "  </tbody>\n",
              "</table>\n",
              "</div>\n",
              "    <div class=\"colab-df-buttons\">\n",
              "\n",
              "  <div class=\"colab-df-container\">\n",
              "    <button class=\"colab-df-convert\" onclick=\"convertToInteractive('df-3811d789-0204-48db-9b91-8a6b26ddf4ae')\"\n",
              "            title=\"Convert this dataframe to an interactive table.\"\n",
              "            style=\"display:none;\">\n",
              "\n",
              "  <svg xmlns=\"http://www.w3.org/2000/svg\" height=\"24px\" viewBox=\"0 -960 960 960\">\n",
              "    <path d=\"M120-120v-720h720v720H120Zm60-500h600v-160H180v160Zm220 220h160v-160H400v160Zm0 220h160v-160H400v160ZM180-400h160v-160H180v160Zm440 0h160v-160H620v160ZM180-180h160v-160H180v160Zm440 0h160v-160H620v160Z\"/>\n",
              "  </svg>\n",
              "    </button>\n",
              "\n",
              "  <style>\n",
              "    .colab-df-container {\n",
              "      display:flex;\n",
              "      gap: 12px;\n",
              "    }\n",
              "\n",
              "    .colab-df-convert {\n",
              "      background-color: #E8F0FE;\n",
              "      border: none;\n",
              "      border-radius: 50%;\n",
              "      cursor: pointer;\n",
              "      display: none;\n",
              "      fill: #1967D2;\n",
              "      height: 32px;\n",
              "      padding: 0 0 0 0;\n",
              "      width: 32px;\n",
              "    }\n",
              "\n",
              "    .colab-df-convert:hover {\n",
              "      background-color: #E2EBFA;\n",
              "      box-shadow: 0px 1px 2px rgba(60, 64, 67, 0.3), 0px 1px 3px 1px rgba(60, 64, 67, 0.15);\n",
              "      fill: #174EA6;\n",
              "    }\n",
              "\n",
              "    .colab-df-buttons div {\n",
              "      margin-bottom: 4px;\n",
              "    }\n",
              "\n",
              "    [theme=dark] .colab-df-convert {\n",
              "      background-color: #3B4455;\n",
              "      fill: #D2E3FC;\n",
              "    }\n",
              "\n",
              "    [theme=dark] .colab-df-convert:hover {\n",
              "      background-color: #434B5C;\n",
              "      box-shadow: 0px 1px 3px 1px rgba(0, 0, 0, 0.15);\n",
              "      filter: drop-shadow(0px 1px 2px rgba(0, 0, 0, 0.3));\n",
              "      fill: #FFFFFF;\n",
              "    }\n",
              "  </style>\n",
              "\n",
              "    <script>\n",
              "      const buttonEl =\n",
              "        document.querySelector('#df-3811d789-0204-48db-9b91-8a6b26ddf4ae button.colab-df-convert');\n",
              "      buttonEl.style.display =\n",
              "        google.colab.kernel.accessAllowed ? 'block' : 'none';\n",
              "\n",
              "      async function convertToInteractive(key) {\n",
              "        const element = document.querySelector('#df-3811d789-0204-48db-9b91-8a6b26ddf4ae');\n",
              "        const dataTable =\n",
              "          await google.colab.kernel.invokeFunction('convertToInteractive',\n",
              "                                                    [key], {});\n",
              "        if (!dataTable) return;\n",
              "\n",
              "        const docLinkHtml = 'Like what you see? Visit the ' +\n",
              "          '<a target=\"_blank\" href=https://colab.research.google.com/notebooks/data_table.ipynb>data table notebook</a>'\n",
              "          + ' to learn more about interactive tables.';\n",
              "        element.innerHTML = '';\n",
              "        dataTable['output_type'] = 'display_data';\n",
              "        await google.colab.output.renderOutput(dataTable, element);\n",
              "        const docLink = document.createElement('div');\n",
              "        docLink.innerHTML = docLinkHtml;\n",
              "        element.appendChild(docLink);\n",
              "      }\n",
              "    </script>\n",
              "  </div>\n",
              "\n",
              "\n",
              "<div id=\"df-22d6f9ce-70f0-40ec-8618-e6428d432faf\">\n",
              "  <button class=\"colab-df-quickchart\" onclick=\"quickchart('df-22d6f9ce-70f0-40ec-8618-e6428d432faf')\"\n",
              "            title=\"Suggest charts\"\n",
              "            style=\"display:none;\">\n",
              "\n",
              "<svg xmlns=\"http://www.w3.org/2000/svg\" height=\"24px\"viewBox=\"0 0 24 24\"\n",
              "     width=\"24px\">\n",
              "    <g>\n",
              "        <path d=\"M19 3H5c-1.1 0-2 .9-2 2v14c0 1.1.9 2 2 2h14c1.1 0 2-.9 2-2V5c0-1.1-.9-2-2-2zM9 17H7v-7h2v7zm4 0h-2V7h2v10zm4 0h-2v-4h2v4z\"/>\n",
              "    </g>\n",
              "</svg>\n",
              "  </button>\n",
              "\n",
              "<style>\n",
              "  .colab-df-quickchart {\n",
              "      --bg-color: #E8F0FE;\n",
              "      --fill-color: #1967D2;\n",
              "      --hover-bg-color: #E2EBFA;\n",
              "      --hover-fill-color: #174EA6;\n",
              "      --disabled-fill-color: #AAA;\n",
              "      --disabled-bg-color: #DDD;\n",
              "  }\n",
              "\n",
              "  [theme=dark] .colab-df-quickchart {\n",
              "      --bg-color: #3B4455;\n",
              "      --fill-color: #D2E3FC;\n",
              "      --hover-bg-color: #434B5C;\n",
              "      --hover-fill-color: #FFFFFF;\n",
              "      --disabled-bg-color: #3B4455;\n",
              "      --disabled-fill-color: #666;\n",
              "  }\n",
              "\n",
              "  .colab-df-quickchart {\n",
              "    background-color: var(--bg-color);\n",
              "    border: none;\n",
              "    border-radius: 50%;\n",
              "    cursor: pointer;\n",
              "    display: none;\n",
              "    fill: var(--fill-color);\n",
              "    height: 32px;\n",
              "    padding: 0;\n",
              "    width: 32px;\n",
              "  }\n",
              "\n",
              "  .colab-df-quickchart:hover {\n",
              "    background-color: var(--hover-bg-color);\n",
              "    box-shadow: 0 1px 2px rgba(60, 64, 67, 0.3), 0 1px 3px 1px rgba(60, 64, 67, 0.15);\n",
              "    fill: var(--button-hover-fill-color);\n",
              "  }\n",
              "\n",
              "  .colab-df-quickchart-complete:disabled,\n",
              "  .colab-df-quickchart-complete:disabled:hover {\n",
              "    background-color: var(--disabled-bg-color);\n",
              "    fill: var(--disabled-fill-color);\n",
              "    box-shadow: none;\n",
              "  }\n",
              "\n",
              "  .colab-df-spinner {\n",
              "    border: 2px solid var(--fill-color);\n",
              "    border-color: transparent;\n",
              "    border-bottom-color: var(--fill-color);\n",
              "    animation:\n",
              "      spin 1s steps(1) infinite;\n",
              "  }\n",
              "\n",
              "  @keyframes spin {\n",
              "    0% {\n",
              "      border-color: transparent;\n",
              "      border-bottom-color: var(--fill-color);\n",
              "      border-left-color: var(--fill-color);\n",
              "    }\n",
              "    20% {\n",
              "      border-color: transparent;\n",
              "      border-left-color: var(--fill-color);\n",
              "      border-top-color: var(--fill-color);\n",
              "    }\n",
              "    30% {\n",
              "      border-color: transparent;\n",
              "      border-left-color: var(--fill-color);\n",
              "      border-top-color: var(--fill-color);\n",
              "      border-right-color: var(--fill-color);\n",
              "    }\n",
              "    40% {\n",
              "      border-color: transparent;\n",
              "      border-right-color: var(--fill-color);\n",
              "      border-top-color: var(--fill-color);\n",
              "    }\n",
              "    60% {\n",
              "      border-color: transparent;\n",
              "      border-right-color: var(--fill-color);\n",
              "    }\n",
              "    80% {\n",
              "      border-color: transparent;\n",
              "      border-right-color: var(--fill-color);\n",
              "      border-bottom-color: var(--fill-color);\n",
              "    }\n",
              "    90% {\n",
              "      border-color: transparent;\n",
              "      border-bottom-color: var(--fill-color);\n",
              "    }\n",
              "  }\n",
              "</style>\n",
              "\n",
              "  <script>\n",
              "    async function quickchart(key) {\n",
              "      const quickchartButtonEl =\n",
              "        document.querySelector('#' + key + ' button');\n",
              "      quickchartButtonEl.disabled = true;  // To prevent multiple clicks.\n",
              "      quickchartButtonEl.classList.add('colab-df-spinner');\n",
              "      try {\n",
              "        const charts = await google.colab.kernel.invokeFunction(\n",
              "            'suggestCharts', [key], {});\n",
              "      } catch (error) {\n",
              "        console.error('Error during call to suggestCharts:', error);\n",
              "      }\n",
              "      quickchartButtonEl.classList.remove('colab-df-spinner');\n",
              "      quickchartButtonEl.classList.add('colab-df-quickchart-complete');\n",
              "    }\n",
              "    (() => {\n",
              "      let quickchartButtonEl =\n",
              "        document.querySelector('#df-22d6f9ce-70f0-40ec-8618-e6428d432faf button');\n",
              "      quickchartButtonEl.style.display =\n",
              "        google.colab.kernel.accessAllowed ? 'block' : 'none';\n",
              "    })();\n",
              "  </script>\n",
              "</div>\n",
              "\n",
              "    </div>\n",
              "  </div>\n"
            ],
            "application/vnd.google.colaboratory.intrinsic+json": {
              "type": "dataframe",
              "variable_name": "new_df",
              "summary": "{\n  \"name\": \"new_df\",\n  \"rows\": 5000,\n  \"fields\": [\n    {\n      \"column\": \"Reviews\",\n      \"properties\": {\n        \"dtype\": \"string\",\n        \"num_unique_values\": 4997,\n        \"samples\": [\n          \"this film screened last night at  paramount theater as part of the  film festival we were  with the presence of director mike  and stars adam sandler and don cheadle who took audience questions after the film it is a remarkable and powerful film about what it is like to lose yourself and begin to find your way back the performances are phenomenal and the story manages to be both tragic and funny in a way that is all too rare the trailer for the film tries a little too hard to emphasize the comedic aspects   this is a  role for adam sandler while he has begun to transition to more dramatic roles with punch drunk love and  this role is a significant step forward for him as a dramatic actor he deserves an oscar nomination as he continues down to transition to more dramatic roles as tom hanks did and jim carrey is also doing in this role he seemed to be trying to channel dustin hoffman in rain man although playing an  man is certainly very different than  traumatized character both characters for different reasons are trapped in their own worlds of child like isolation and confusion   don  performance is less surprising but just as good after hotel  and crash weve come to expect remarkable nuanced performances from cheadle he has the qualities of sincerity and honesty that comes through in this role but he too is also broken and struggling if not in the such profound ways as  character cheadle is struggling with difficulties in both his marriage and in his professional life as a dentist together the characters played by cheadle and sandler struggle to  each other in the way that true friends often do in a way that reminds me of matt damon and robin williams in good will hunting they are both searching for that part of the themselves that they have lost and trying to find again   reign over me is one of the best major studio films to be released this year the soundtrack which is almost another character in the plot is wonderful the filming in the streets of new york a city that suffered a great tragedy and has also had to  itself is also quite beautiful the supporting roles by   smith  tyler   in a very odd role donald sutherland and mike  himself are all quite good   writer director mike  has really delivered a story that so many will be able to connect with on numerous levels this is a story about grief family healing male friendship mental health and the meaning of love reign over me does not disappoint the film is almost hypnotic as it draws you into the lives of its characters hollywood would have a much better reputation if it made more character driven charming films like reign over me\",\n          \"i loved this show growing up and i still watch the first season dvd at age 19 today what can i say i grew up in a house much like the one on full house i had a dad two sisters and a dog i guess the only difference was that i did not live with my uncle and my  best friend also i grew up with my mom in the house i dont know what i would have done without full house on television i think that stephanie played by jodie  d j played by kirk  sister  and michelle played by mary kate and ashley olsen are my favorite characters i can relate to each of them because i am the middle child of my family like  i am a younger sister like michelle and i am an older sister like d j i really like how the show always has moral values because i dont really like any of the o c like shows today i like the comedy of full house too uncle jesse john  joey dave  and danny bob  are hilarious as the girls uncle  friend and dad respectively the story goes that after the girls mom dies  best friend joey and his brother in law jesse move in to help raise the kids three men trying to raise three young girls hilarious each character on full house is full of heart funny and genuinely believable joey is an aspiring comedian with a kids heart and soul jesse is the cool motorcycle riding tough guy uncle who is  by his three  and later his wife  laurie  from  both kids and adults will love this show guaranteed\",\n          \"gerard  is absolutely perfect in this movie funny tender brave and lover he gives a superior dimension to a movie which is even a masterpiece as much by the other actors gina   as by the story or the rhythm never boring always creating new emotions for me the best french movie of all time\"\n        ],\n        \"semantic_type\": \"\",\n        \"description\": \"\"\n      }\n    },\n    {\n      \"column\": \"Sentiments\",\n      \"properties\": {\n        \"dtype\": \"number\",\n        \"std\": 0,\n        \"min\": 0,\n        \"max\": 1,\n        \"num_unique_values\": 2,\n        \"samples\": [\n          0,\n          1\n        ],\n        \"semantic_type\": \"\",\n        \"description\": \"\"\n      }\n    },\n    {\n      \"column\": \"processed_revs\",\n      \"properties\": {\n        \"dtype\": \"string\",\n        \"num_unique_values\": 4997,\n        \"samples\": [\n          \"film screened last night paramount theater part film festival presence director mike stars adam sandler cheadle took audience questions film remarkable powerful film like lose begin find way back performances phenomenal story manages tragic funny way rare trailer film tries little hard emphasize comedic aspects role adam sandler begun transition dramatic roles punch drunk love role significant step forward dramatic actor deserves oscar nomination continues transition dramatic roles tom hanks jim carrey also role seemed trying channel dustin hoffman rain man although playing man certainly different traumatized character characters different reasons trapped worlds child like isolation confusion performance less surprising good hotel crash weve come expect remarkable nuanced performances cheadle qualities sincerity honesty comes role also broken struggling profound ways character cheadle struggling difficulties marriage professional life dentist together characters played cheadle sandler struggle way true friends often way reminds matt damon robin williams good hunting searching part lost trying find reign one best major studio films released year soundtrack almost another character plot wonderful filming streets new york city suffered great tragedy also also quite beautiful supporting roles smith tyler odd role donald sutherland mike quite good writer director mike really delivered story many able connect numerous levels story grief family healing male friendship mental health meaning love reign disappoint film almost hypnotic draws lives characters hollywood would much better reputation made character driven charming films like reign\",\n          \"loved show growing still watch first season dvd age today say grew house much like one full house dad two sisters dog guess difference live uncle best friend also grew mom house dont know would done without full house television think stephanie played jodie j played kirk sister michelle played mary kate ashley olsen favorite characters relate middle child family like younger sister like michelle older sister like j really like show always moral values dont really like c like shows today like comedy full house uncle jesse john joey dave danny bob hilarious girls uncle friend dad respectively story goes girls mom dies best friend joey brother law jesse move help raise kids three men trying raise three young girls hilarious character full house full heart funny genuinely believable joey aspiring comedian kids heart soul jesse cool motorcycle riding tough guy uncle three later wife laurie kids adults love show guaranteed\"\n        ],\n        \"semantic_type\": \"\",\n        \"description\": \"\"\n      }\n    }\n  ]\n}"
            }
          },
          "metadata": {},
          "execution_count": 33
        }
      ]
    },
    {
      "cell_type": "code",
      "source": [
        "new_df.drop(columns=['Reviews'], inplace=True)\n",
        "new_df.head()"
      ],
      "metadata": {
        "colab": {
          "base_uri": "https://localhost:8080/",
          "height": 206
        },
        "id": "XtklsV4-fyra",
        "outputId": "f0b4a297-da22-4eda-99f0-d13e7d9fe0c5"
      },
      "execution_count": 34,
      "outputs": [
        {
          "output_type": "execute_result",
          "data": {
            "text/plain": [
              "   Sentiments                                     processed_revs\n",
              "0           1  film brilliant casting location scenery story ...\n",
              "1           0  big hair big boobs bad music giant safety pin ...\n",
              "2           0  one worst films friends watching film target a...\n",
              "3           1  storytelling traditional sort many years event...\n",
              "4           0  worst mistake life picked movie target figured..."
            ],
            "text/html": [
              "\n",
              "  <div id=\"df-1e74b9ec-208e-48a5-9506-5acb2f3a5529\" class=\"colab-df-container\">\n",
              "    <div>\n",
              "<style scoped>\n",
              "    .dataframe tbody tr th:only-of-type {\n",
              "        vertical-align: middle;\n",
              "    }\n",
              "\n",
              "    .dataframe tbody tr th {\n",
              "        vertical-align: top;\n",
              "    }\n",
              "\n",
              "    .dataframe thead th {\n",
              "        text-align: right;\n",
              "    }\n",
              "</style>\n",
              "<table border=\"1\" class=\"dataframe\">\n",
              "  <thead>\n",
              "    <tr style=\"text-align: right;\">\n",
              "      <th></th>\n",
              "      <th>Sentiments</th>\n",
              "      <th>processed_revs</th>\n",
              "    </tr>\n",
              "  </thead>\n",
              "  <tbody>\n",
              "    <tr>\n",
              "      <th>0</th>\n",
              "      <td>1</td>\n",
              "      <td>film brilliant casting location scenery story ...</td>\n",
              "    </tr>\n",
              "    <tr>\n",
              "      <th>1</th>\n",
              "      <td>0</td>\n",
              "      <td>big hair big boobs bad music giant safety pin ...</td>\n",
              "    </tr>\n",
              "    <tr>\n",
              "      <th>2</th>\n",
              "      <td>0</td>\n",
              "      <td>one worst films friends watching film target a...</td>\n",
              "    </tr>\n",
              "    <tr>\n",
              "      <th>3</th>\n",
              "      <td>1</td>\n",
              "      <td>storytelling traditional sort many years event...</td>\n",
              "    </tr>\n",
              "    <tr>\n",
              "      <th>4</th>\n",
              "      <td>0</td>\n",
              "      <td>worst mistake life picked movie target figured...</td>\n",
              "    </tr>\n",
              "  </tbody>\n",
              "</table>\n",
              "</div>\n",
              "    <div class=\"colab-df-buttons\">\n",
              "\n",
              "  <div class=\"colab-df-container\">\n",
              "    <button class=\"colab-df-convert\" onclick=\"convertToInteractive('df-1e74b9ec-208e-48a5-9506-5acb2f3a5529')\"\n",
              "            title=\"Convert this dataframe to an interactive table.\"\n",
              "            style=\"display:none;\">\n",
              "\n",
              "  <svg xmlns=\"http://www.w3.org/2000/svg\" height=\"24px\" viewBox=\"0 -960 960 960\">\n",
              "    <path d=\"M120-120v-720h720v720H120Zm60-500h600v-160H180v160Zm220 220h160v-160H400v160Zm0 220h160v-160H400v160ZM180-400h160v-160H180v160Zm440 0h160v-160H620v160ZM180-180h160v-160H180v160Zm440 0h160v-160H620v160Z\"/>\n",
              "  </svg>\n",
              "    </button>\n",
              "\n",
              "  <style>\n",
              "    .colab-df-container {\n",
              "      display:flex;\n",
              "      gap: 12px;\n",
              "    }\n",
              "\n",
              "    .colab-df-convert {\n",
              "      background-color: #E8F0FE;\n",
              "      border: none;\n",
              "      border-radius: 50%;\n",
              "      cursor: pointer;\n",
              "      display: none;\n",
              "      fill: #1967D2;\n",
              "      height: 32px;\n",
              "      padding: 0 0 0 0;\n",
              "      width: 32px;\n",
              "    }\n",
              "\n",
              "    .colab-df-convert:hover {\n",
              "      background-color: #E2EBFA;\n",
              "      box-shadow: 0px 1px 2px rgba(60, 64, 67, 0.3), 0px 1px 3px 1px rgba(60, 64, 67, 0.15);\n",
              "      fill: #174EA6;\n",
              "    }\n",
              "\n",
              "    .colab-df-buttons div {\n",
              "      margin-bottom: 4px;\n",
              "    }\n",
              "\n",
              "    [theme=dark] .colab-df-convert {\n",
              "      background-color: #3B4455;\n",
              "      fill: #D2E3FC;\n",
              "    }\n",
              "\n",
              "    [theme=dark] .colab-df-convert:hover {\n",
              "      background-color: #434B5C;\n",
              "      box-shadow: 0px 1px 3px 1px rgba(0, 0, 0, 0.15);\n",
              "      filter: drop-shadow(0px 1px 2px rgba(0, 0, 0, 0.3));\n",
              "      fill: #FFFFFF;\n",
              "    }\n",
              "  </style>\n",
              "\n",
              "    <script>\n",
              "      const buttonEl =\n",
              "        document.querySelector('#df-1e74b9ec-208e-48a5-9506-5acb2f3a5529 button.colab-df-convert');\n",
              "      buttonEl.style.display =\n",
              "        google.colab.kernel.accessAllowed ? 'block' : 'none';\n",
              "\n",
              "      async function convertToInteractive(key) {\n",
              "        const element = document.querySelector('#df-1e74b9ec-208e-48a5-9506-5acb2f3a5529');\n",
              "        const dataTable =\n",
              "          await google.colab.kernel.invokeFunction('convertToInteractive',\n",
              "                                                    [key], {});\n",
              "        if (!dataTable) return;\n",
              "\n",
              "        const docLinkHtml = 'Like what you see? Visit the ' +\n",
              "          '<a target=\"_blank\" href=https://colab.research.google.com/notebooks/data_table.ipynb>data table notebook</a>'\n",
              "          + ' to learn more about interactive tables.';\n",
              "        element.innerHTML = '';\n",
              "        dataTable['output_type'] = 'display_data';\n",
              "        await google.colab.output.renderOutput(dataTable, element);\n",
              "        const docLink = document.createElement('div');\n",
              "        docLink.innerHTML = docLinkHtml;\n",
              "        element.appendChild(docLink);\n",
              "      }\n",
              "    </script>\n",
              "  </div>\n",
              "\n",
              "\n",
              "<div id=\"df-2e31a1a8-d5a9-43ce-beb2-b957c797d563\">\n",
              "  <button class=\"colab-df-quickchart\" onclick=\"quickchart('df-2e31a1a8-d5a9-43ce-beb2-b957c797d563')\"\n",
              "            title=\"Suggest charts\"\n",
              "            style=\"display:none;\">\n",
              "\n",
              "<svg xmlns=\"http://www.w3.org/2000/svg\" height=\"24px\"viewBox=\"0 0 24 24\"\n",
              "     width=\"24px\">\n",
              "    <g>\n",
              "        <path d=\"M19 3H5c-1.1 0-2 .9-2 2v14c0 1.1.9 2 2 2h14c1.1 0 2-.9 2-2V5c0-1.1-.9-2-2-2zM9 17H7v-7h2v7zm4 0h-2V7h2v10zm4 0h-2v-4h2v4z\"/>\n",
              "    </g>\n",
              "</svg>\n",
              "  </button>\n",
              "\n",
              "<style>\n",
              "  .colab-df-quickchart {\n",
              "      --bg-color: #E8F0FE;\n",
              "      --fill-color: #1967D2;\n",
              "      --hover-bg-color: #E2EBFA;\n",
              "      --hover-fill-color: #174EA6;\n",
              "      --disabled-fill-color: #AAA;\n",
              "      --disabled-bg-color: #DDD;\n",
              "  }\n",
              "\n",
              "  [theme=dark] .colab-df-quickchart {\n",
              "      --bg-color: #3B4455;\n",
              "      --fill-color: #D2E3FC;\n",
              "      --hover-bg-color: #434B5C;\n",
              "      --hover-fill-color: #FFFFFF;\n",
              "      --disabled-bg-color: #3B4455;\n",
              "      --disabled-fill-color: #666;\n",
              "  }\n",
              "\n",
              "  .colab-df-quickchart {\n",
              "    background-color: var(--bg-color);\n",
              "    border: none;\n",
              "    border-radius: 50%;\n",
              "    cursor: pointer;\n",
              "    display: none;\n",
              "    fill: var(--fill-color);\n",
              "    height: 32px;\n",
              "    padding: 0;\n",
              "    width: 32px;\n",
              "  }\n",
              "\n",
              "  .colab-df-quickchart:hover {\n",
              "    background-color: var(--hover-bg-color);\n",
              "    box-shadow: 0 1px 2px rgba(60, 64, 67, 0.3), 0 1px 3px 1px rgba(60, 64, 67, 0.15);\n",
              "    fill: var(--button-hover-fill-color);\n",
              "  }\n",
              "\n",
              "  .colab-df-quickchart-complete:disabled,\n",
              "  .colab-df-quickchart-complete:disabled:hover {\n",
              "    background-color: var(--disabled-bg-color);\n",
              "    fill: var(--disabled-fill-color);\n",
              "    box-shadow: none;\n",
              "  }\n",
              "\n",
              "  .colab-df-spinner {\n",
              "    border: 2px solid var(--fill-color);\n",
              "    border-color: transparent;\n",
              "    border-bottom-color: var(--fill-color);\n",
              "    animation:\n",
              "      spin 1s steps(1) infinite;\n",
              "  }\n",
              "\n",
              "  @keyframes spin {\n",
              "    0% {\n",
              "      border-color: transparent;\n",
              "      border-bottom-color: var(--fill-color);\n",
              "      border-left-color: var(--fill-color);\n",
              "    }\n",
              "    20% {\n",
              "      border-color: transparent;\n",
              "      border-left-color: var(--fill-color);\n",
              "      border-top-color: var(--fill-color);\n",
              "    }\n",
              "    30% {\n",
              "      border-color: transparent;\n",
              "      border-left-color: var(--fill-color);\n",
              "      border-top-color: var(--fill-color);\n",
              "      border-right-color: var(--fill-color);\n",
              "    }\n",
              "    40% {\n",
              "      border-color: transparent;\n",
              "      border-right-color: var(--fill-color);\n",
              "      border-top-color: var(--fill-color);\n",
              "    }\n",
              "    60% {\n",
              "      border-color: transparent;\n",
              "      border-right-color: var(--fill-color);\n",
              "    }\n",
              "    80% {\n",
              "      border-color: transparent;\n",
              "      border-right-color: var(--fill-color);\n",
              "      border-bottom-color: var(--fill-color);\n",
              "    }\n",
              "    90% {\n",
              "      border-color: transparent;\n",
              "      border-bottom-color: var(--fill-color);\n",
              "    }\n",
              "  }\n",
              "</style>\n",
              "\n",
              "  <script>\n",
              "    async function quickchart(key) {\n",
              "      const quickchartButtonEl =\n",
              "        document.querySelector('#' + key + ' button');\n",
              "      quickchartButtonEl.disabled = true;  // To prevent multiple clicks.\n",
              "      quickchartButtonEl.classList.add('colab-df-spinner');\n",
              "      try {\n",
              "        const charts = await google.colab.kernel.invokeFunction(\n",
              "            'suggestCharts', [key], {});\n",
              "      } catch (error) {\n",
              "        console.error('Error during call to suggestCharts:', error);\n",
              "      }\n",
              "      quickchartButtonEl.classList.remove('colab-df-spinner');\n",
              "      quickchartButtonEl.classList.add('colab-df-quickchart-complete');\n",
              "    }\n",
              "    (() => {\n",
              "      let quickchartButtonEl =\n",
              "        document.querySelector('#df-2e31a1a8-d5a9-43ce-beb2-b957c797d563 button');\n",
              "      quickchartButtonEl.style.display =\n",
              "        google.colab.kernel.accessAllowed ? 'block' : 'none';\n",
              "    })();\n",
              "  </script>\n",
              "</div>\n",
              "\n",
              "    </div>\n",
              "  </div>\n"
            ],
            "application/vnd.google.colaboratory.intrinsic+json": {
              "type": "dataframe",
              "variable_name": "new_df",
              "summary": "{\n  \"name\": \"new_df\",\n  \"rows\": 5000,\n  \"fields\": [\n    {\n      \"column\": \"Sentiments\",\n      \"properties\": {\n        \"dtype\": \"number\",\n        \"std\": 0,\n        \"min\": 0,\n        \"max\": 1,\n        \"num_unique_values\": 2,\n        \"samples\": [\n          0,\n          1\n        ],\n        \"semantic_type\": \"\",\n        \"description\": \"\"\n      }\n    },\n    {\n      \"column\": \"processed_revs\",\n      \"properties\": {\n        \"dtype\": \"string\",\n        \"num_unique_values\": 4997,\n        \"samples\": [\n          \"film screened last night paramount theater part film festival presence director mike stars adam sandler cheadle took audience questions film remarkable powerful film like lose begin find way back performances phenomenal story manages tragic funny way rare trailer film tries little hard emphasize comedic aspects role adam sandler begun transition dramatic roles punch drunk love role significant step forward dramatic actor deserves oscar nomination continues transition dramatic roles tom hanks jim carrey also role seemed trying channel dustin hoffman rain man although playing man certainly different traumatized character characters different reasons trapped worlds child like isolation confusion performance less surprising good hotel crash weve come expect remarkable nuanced performances cheadle qualities sincerity honesty comes role also broken struggling profound ways character cheadle struggling difficulties marriage professional life dentist together characters played cheadle sandler struggle way true friends often way reminds matt damon robin williams good hunting searching part lost trying find reign one best major studio films released year soundtrack almost another character plot wonderful filming streets new york city suffered great tragedy also also quite beautiful supporting roles smith tyler odd role donald sutherland mike quite good writer director mike really delivered story many able connect numerous levels story grief family healing male friendship mental health meaning love reign disappoint film almost hypnotic draws lives characters hollywood would much better reputation made character driven charming films like reign\",\n          \"loved show growing still watch first season dvd age today say grew house much like one full house dad two sisters dog guess difference live uncle best friend also grew mom house dont know would done without full house television think stephanie played jodie j played kirk sister michelle played mary kate ashley olsen favorite characters relate middle child family like younger sister like michelle older sister like j really like show always moral values dont really like c like shows today like comedy full house uncle jesse john joey dave danny bob hilarious girls uncle friend dad respectively story goes girls mom dies best friend joey brother law jesse move help raise kids three men trying raise three young girls hilarious character full house full heart funny genuinely believable joey aspiring comedian kids heart soul jesse cool motorcycle riding tough guy uncle three later wife laurie kids adults love show guaranteed\"\n        ],\n        \"semantic_type\": \"\",\n        \"description\": \"\"\n      }\n    }\n  ]\n}"
            }
          },
          "metadata": {},
          "execution_count": 34
        }
      ]
    },
    {
      "cell_type": "code",
      "source": [
        "new_df[\"embeddings\"] = embeddings.tolist()"
      ],
      "metadata": {
        "id": "COm8tZ5Zf-1r"
      },
      "execution_count": 35,
      "outputs": []
    },
    {
      "cell_type": "code",
      "source": [
        "new_df.head()"
      ],
      "metadata": {
        "id": "m_d8YPCNgZXy",
        "colab": {
          "base_uri": "https://localhost:8080/",
          "height": 206
        },
        "outputId": "51350755-eec8-4498-8aa4-e2c36a09019a"
      },
      "execution_count": 36,
      "outputs": [
        {
          "output_type": "execute_result",
          "data": {
            "text/plain": [
              "   Sentiments                                     processed_revs  \\\n",
              "0           1  film brilliant casting location scenery story ...   \n",
              "1           0  big hair big boobs bad music giant safety pin ...   \n",
              "2           0  one worst films friends watching film target a...   \n",
              "3           1  storytelling traditional sort many years event...   \n",
              "4           0  worst mistake life picked movie target figured...   \n",
              "\n",
              "                                          embeddings  \n",
              "0  [[-0.026815105229616165, -0.0444408655166626, ...  \n",
              "1  [[0.04148361459374428, 0.03169364109635353, -0...  \n",
              "2  [[0.02104378119111061, 0.014727059751749039, -...  \n",
              "3  [[-0.015688061714172363, -0.002199698239564895...  \n",
              "4  [[-0.04897646978497505, 0.02014763280749321, -...  "
            ],
            "text/html": [
              "\n",
              "  <div id=\"df-81a12abd-d946-441a-93a5-813b2241c9e5\" class=\"colab-df-container\">\n",
              "    <div>\n",
              "<style scoped>\n",
              "    .dataframe tbody tr th:only-of-type {\n",
              "        vertical-align: middle;\n",
              "    }\n",
              "\n",
              "    .dataframe tbody tr th {\n",
              "        vertical-align: top;\n",
              "    }\n",
              "\n",
              "    .dataframe thead th {\n",
              "        text-align: right;\n",
              "    }\n",
              "</style>\n",
              "<table border=\"1\" class=\"dataframe\">\n",
              "  <thead>\n",
              "    <tr style=\"text-align: right;\">\n",
              "      <th></th>\n",
              "      <th>Sentiments</th>\n",
              "      <th>processed_revs</th>\n",
              "      <th>embeddings</th>\n",
              "    </tr>\n",
              "  </thead>\n",
              "  <tbody>\n",
              "    <tr>\n",
              "      <th>0</th>\n",
              "      <td>1</td>\n",
              "      <td>film brilliant casting location scenery story ...</td>\n",
              "      <td>[[-0.026815105229616165, -0.0444408655166626, ...</td>\n",
              "    </tr>\n",
              "    <tr>\n",
              "      <th>1</th>\n",
              "      <td>0</td>\n",
              "      <td>big hair big boobs bad music giant safety pin ...</td>\n",
              "      <td>[[0.04148361459374428, 0.03169364109635353, -0...</td>\n",
              "    </tr>\n",
              "    <tr>\n",
              "      <th>2</th>\n",
              "      <td>0</td>\n",
              "      <td>one worst films friends watching film target a...</td>\n",
              "      <td>[[0.02104378119111061, 0.014727059751749039, -...</td>\n",
              "    </tr>\n",
              "    <tr>\n",
              "      <th>3</th>\n",
              "      <td>1</td>\n",
              "      <td>storytelling traditional sort many years event...</td>\n",
              "      <td>[[-0.015688061714172363, -0.002199698239564895...</td>\n",
              "    </tr>\n",
              "    <tr>\n",
              "      <th>4</th>\n",
              "      <td>0</td>\n",
              "      <td>worst mistake life picked movie target figured...</td>\n",
              "      <td>[[-0.04897646978497505, 0.02014763280749321, -...</td>\n",
              "    </tr>\n",
              "  </tbody>\n",
              "</table>\n",
              "</div>\n",
              "    <div class=\"colab-df-buttons\">\n",
              "\n",
              "  <div class=\"colab-df-container\">\n",
              "    <button class=\"colab-df-convert\" onclick=\"convertToInteractive('df-81a12abd-d946-441a-93a5-813b2241c9e5')\"\n",
              "            title=\"Convert this dataframe to an interactive table.\"\n",
              "            style=\"display:none;\">\n",
              "\n",
              "  <svg xmlns=\"http://www.w3.org/2000/svg\" height=\"24px\" viewBox=\"0 -960 960 960\">\n",
              "    <path d=\"M120-120v-720h720v720H120Zm60-500h600v-160H180v160Zm220 220h160v-160H400v160Zm0 220h160v-160H400v160ZM180-400h160v-160H180v160Zm440 0h160v-160H620v160ZM180-180h160v-160H180v160Zm440 0h160v-160H620v160Z\"/>\n",
              "  </svg>\n",
              "    </button>\n",
              "\n",
              "  <style>\n",
              "    .colab-df-container {\n",
              "      display:flex;\n",
              "      gap: 12px;\n",
              "    }\n",
              "\n",
              "    .colab-df-convert {\n",
              "      background-color: #E8F0FE;\n",
              "      border: none;\n",
              "      border-radius: 50%;\n",
              "      cursor: pointer;\n",
              "      display: none;\n",
              "      fill: #1967D2;\n",
              "      height: 32px;\n",
              "      padding: 0 0 0 0;\n",
              "      width: 32px;\n",
              "    }\n",
              "\n",
              "    .colab-df-convert:hover {\n",
              "      background-color: #E2EBFA;\n",
              "      box-shadow: 0px 1px 2px rgba(60, 64, 67, 0.3), 0px 1px 3px 1px rgba(60, 64, 67, 0.15);\n",
              "      fill: #174EA6;\n",
              "    }\n",
              "\n",
              "    .colab-df-buttons div {\n",
              "      margin-bottom: 4px;\n",
              "    }\n",
              "\n",
              "    [theme=dark] .colab-df-convert {\n",
              "      background-color: #3B4455;\n",
              "      fill: #D2E3FC;\n",
              "    }\n",
              "\n",
              "    [theme=dark] .colab-df-convert:hover {\n",
              "      background-color: #434B5C;\n",
              "      box-shadow: 0px 1px 3px 1px rgba(0, 0, 0, 0.15);\n",
              "      filter: drop-shadow(0px 1px 2px rgba(0, 0, 0, 0.3));\n",
              "      fill: #FFFFFF;\n",
              "    }\n",
              "  </style>\n",
              "\n",
              "    <script>\n",
              "      const buttonEl =\n",
              "        document.querySelector('#df-81a12abd-d946-441a-93a5-813b2241c9e5 button.colab-df-convert');\n",
              "      buttonEl.style.display =\n",
              "        google.colab.kernel.accessAllowed ? 'block' : 'none';\n",
              "\n",
              "      async function convertToInteractive(key) {\n",
              "        const element = document.querySelector('#df-81a12abd-d946-441a-93a5-813b2241c9e5');\n",
              "        const dataTable =\n",
              "          await google.colab.kernel.invokeFunction('convertToInteractive',\n",
              "                                                    [key], {});\n",
              "        if (!dataTable) return;\n",
              "\n",
              "        const docLinkHtml = 'Like what you see? Visit the ' +\n",
              "          '<a target=\"_blank\" href=https://colab.research.google.com/notebooks/data_table.ipynb>data table notebook</a>'\n",
              "          + ' to learn more about interactive tables.';\n",
              "        element.innerHTML = '';\n",
              "        dataTable['output_type'] = 'display_data';\n",
              "        await google.colab.output.renderOutput(dataTable, element);\n",
              "        const docLink = document.createElement('div');\n",
              "        docLink.innerHTML = docLinkHtml;\n",
              "        element.appendChild(docLink);\n",
              "      }\n",
              "    </script>\n",
              "  </div>\n",
              "\n",
              "\n",
              "<div id=\"df-01188c2e-734f-48b0-8e5e-7c217cfefe57\">\n",
              "  <button class=\"colab-df-quickchart\" onclick=\"quickchart('df-01188c2e-734f-48b0-8e5e-7c217cfefe57')\"\n",
              "            title=\"Suggest charts\"\n",
              "            style=\"display:none;\">\n",
              "\n",
              "<svg xmlns=\"http://www.w3.org/2000/svg\" height=\"24px\"viewBox=\"0 0 24 24\"\n",
              "     width=\"24px\">\n",
              "    <g>\n",
              "        <path d=\"M19 3H5c-1.1 0-2 .9-2 2v14c0 1.1.9 2 2 2h14c1.1 0 2-.9 2-2V5c0-1.1-.9-2-2-2zM9 17H7v-7h2v7zm4 0h-2V7h2v10zm4 0h-2v-4h2v4z\"/>\n",
              "    </g>\n",
              "</svg>\n",
              "  </button>\n",
              "\n",
              "<style>\n",
              "  .colab-df-quickchart {\n",
              "      --bg-color: #E8F0FE;\n",
              "      --fill-color: #1967D2;\n",
              "      --hover-bg-color: #E2EBFA;\n",
              "      --hover-fill-color: #174EA6;\n",
              "      --disabled-fill-color: #AAA;\n",
              "      --disabled-bg-color: #DDD;\n",
              "  }\n",
              "\n",
              "  [theme=dark] .colab-df-quickchart {\n",
              "      --bg-color: #3B4455;\n",
              "      --fill-color: #D2E3FC;\n",
              "      --hover-bg-color: #434B5C;\n",
              "      --hover-fill-color: #FFFFFF;\n",
              "      --disabled-bg-color: #3B4455;\n",
              "      --disabled-fill-color: #666;\n",
              "  }\n",
              "\n",
              "  .colab-df-quickchart {\n",
              "    background-color: var(--bg-color);\n",
              "    border: none;\n",
              "    border-radius: 50%;\n",
              "    cursor: pointer;\n",
              "    display: none;\n",
              "    fill: var(--fill-color);\n",
              "    height: 32px;\n",
              "    padding: 0;\n",
              "    width: 32px;\n",
              "  }\n",
              "\n",
              "  .colab-df-quickchart:hover {\n",
              "    background-color: var(--hover-bg-color);\n",
              "    box-shadow: 0 1px 2px rgba(60, 64, 67, 0.3), 0 1px 3px 1px rgba(60, 64, 67, 0.15);\n",
              "    fill: var(--button-hover-fill-color);\n",
              "  }\n",
              "\n",
              "  .colab-df-quickchart-complete:disabled,\n",
              "  .colab-df-quickchart-complete:disabled:hover {\n",
              "    background-color: var(--disabled-bg-color);\n",
              "    fill: var(--disabled-fill-color);\n",
              "    box-shadow: none;\n",
              "  }\n",
              "\n",
              "  .colab-df-spinner {\n",
              "    border: 2px solid var(--fill-color);\n",
              "    border-color: transparent;\n",
              "    border-bottom-color: var(--fill-color);\n",
              "    animation:\n",
              "      spin 1s steps(1) infinite;\n",
              "  }\n",
              "\n",
              "  @keyframes spin {\n",
              "    0% {\n",
              "      border-color: transparent;\n",
              "      border-bottom-color: var(--fill-color);\n",
              "      border-left-color: var(--fill-color);\n",
              "    }\n",
              "    20% {\n",
              "      border-color: transparent;\n",
              "      border-left-color: var(--fill-color);\n",
              "      border-top-color: var(--fill-color);\n",
              "    }\n",
              "    30% {\n",
              "      border-color: transparent;\n",
              "      border-left-color: var(--fill-color);\n",
              "      border-top-color: var(--fill-color);\n",
              "      border-right-color: var(--fill-color);\n",
              "    }\n",
              "    40% {\n",
              "      border-color: transparent;\n",
              "      border-right-color: var(--fill-color);\n",
              "      border-top-color: var(--fill-color);\n",
              "    }\n",
              "    60% {\n",
              "      border-color: transparent;\n",
              "      border-right-color: var(--fill-color);\n",
              "    }\n",
              "    80% {\n",
              "      border-color: transparent;\n",
              "      border-right-color: var(--fill-color);\n",
              "      border-bottom-color: var(--fill-color);\n",
              "    }\n",
              "    90% {\n",
              "      border-color: transparent;\n",
              "      border-bottom-color: var(--fill-color);\n",
              "    }\n",
              "  }\n",
              "</style>\n",
              "\n",
              "  <script>\n",
              "    async function quickchart(key) {\n",
              "      const quickchartButtonEl =\n",
              "        document.querySelector('#' + key + ' button');\n",
              "      quickchartButtonEl.disabled = true;  // To prevent multiple clicks.\n",
              "      quickchartButtonEl.classList.add('colab-df-spinner');\n",
              "      try {\n",
              "        const charts = await google.colab.kernel.invokeFunction(\n",
              "            'suggestCharts', [key], {});\n",
              "      } catch (error) {\n",
              "        console.error('Error during call to suggestCharts:', error);\n",
              "      }\n",
              "      quickchartButtonEl.classList.remove('colab-df-spinner');\n",
              "      quickchartButtonEl.classList.add('colab-df-quickchart-complete');\n",
              "    }\n",
              "    (() => {\n",
              "      let quickchartButtonEl =\n",
              "        document.querySelector('#df-01188c2e-734f-48b0-8e5e-7c217cfefe57 button');\n",
              "      quickchartButtonEl.style.display =\n",
              "        google.colab.kernel.accessAllowed ? 'block' : 'none';\n",
              "    })();\n",
              "  </script>\n",
              "</div>\n",
              "\n",
              "    </div>\n",
              "  </div>\n"
            ],
            "application/vnd.google.colaboratory.intrinsic+json": {
              "type": "dataframe",
              "variable_name": "new_df",
              "summary": "{\n  \"name\": \"new_df\",\n  \"rows\": 5000,\n  \"fields\": [\n    {\n      \"column\": \"Sentiments\",\n      \"properties\": {\n        \"dtype\": \"number\",\n        \"std\": 0,\n        \"min\": 0,\n        \"max\": 1,\n        \"num_unique_values\": 2,\n        \"samples\": [\n          0,\n          1\n        ],\n        \"semantic_type\": \"\",\n        \"description\": \"\"\n      }\n    },\n    {\n      \"column\": \"processed_revs\",\n      \"properties\": {\n        \"dtype\": \"string\",\n        \"num_unique_values\": 4997,\n        \"samples\": [\n          \"film screened last night paramount theater part film festival presence director mike stars adam sandler cheadle took audience questions film remarkable powerful film like lose begin find way back performances phenomenal story manages tragic funny way rare trailer film tries little hard emphasize comedic aspects role adam sandler begun transition dramatic roles punch drunk love role significant step forward dramatic actor deserves oscar nomination continues transition dramatic roles tom hanks jim carrey also role seemed trying channel dustin hoffman rain man although playing man certainly different traumatized character characters different reasons trapped worlds child like isolation confusion performance less surprising good hotel crash weve come expect remarkable nuanced performances cheadle qualities sincerity honesty comes role also broken struggling profound ways character cheadle struggling difficulties marriage professional life dentist together characters played cheadle sandler struggle way true friends often way reminds matt damon robin williams good hunting searching part lost trying find reign one best major studio films released year soundtrack almost another character plot wonderful filming streets new york city suffered great tragedy also also quite beautiful supporting roles smith tyler odd role donald sutherland mike quite good writer director mike really delivered story many able connect numerous levels story grief family healing male friendship mental health meaning love reign disappoint film almost hypnotic draws lives characters hollywood would much better reputation made character driven charming films like reign\",\n          \"loved show growing still watch first season dvd age today say grew house much like one full house dad two sisters dog guess difference live uncle best friend also grew mom house dont know would done without full house television think stephanie played jodie j played kirk sister michelle played mary kate ashley olsen favorite characters relate middle child family like younger sister like michelle older sister like j really like show always moral values dont really like c like shows today like comedy full house uncle jesse john joey dave danny bob hilarious girls uncle friend dad respectively story goes girls mom dies best friend joey brother law jesse move help raise kids three men trying raise three young girls hilarious character full house full heart funny genuinely believable joey aspiring comedian kids heart soul jesse cool motorcycle riding tough guy uncle three later wife laurie kids adults love show guaranteed\"\n        ],\n        \"semantic_type\": \"\",\n        \"description\": \"\"\n      }\n    },\n    {\n      \"column\": \"embeddings\",\n      \"properties\": {\n        \"dtype\": \"object\",\n        \"semantic_type\": \"\",\n        \"description\": \"\"\n      }\n    }\n  ]\n}"
            }
          },
          "metadata": {},
          "execution_count": 36
        }
      ]
    },
    {
      "cell_type": "code",
      "source": [
        "new_df[\"embeddings\"].shape"
      ],
      "metadata": {
        "colab": {
          "base_uri": "https://localhost:8080/"
        },
        "id": "z0WYA9rR2ZKw",
        "outputId": "850fe364-3a93-43f8-8cdb-e6af552f4c1c"
      },
      "execution_count": 37,
      "outputs": [
        {
          "output_type": "execute_result",
          "data": {
            "text/plain": [
              "(5000,)"
            ]
          },
          "metadata": {},
          "execution_count": 37
        }
      ]
    },
    {
      "cell_type": "code",
      "source": [
        "from google.colab import files\n",
        "new_df.to_csv(\"cleaned_set_data.csv\")\n",
        "files.download(\"cleaned_set_data.csv\")"
      ],
      "metadata": {
        "colab": {
          "base_uri": "https://localhost:8080/",
          "height": 17
        },
        "id": "2sYlrIOp2lDB",
        "outputId": "3bc82210-90c7-4181-8b94-39a8c12dec78"
      },
      "execution_count": 38,
      "outputs": [
        {
          "output_type": "display_data",
          "data": {
            "text/plain": [
              "<IPython.core.display.Javascript object>"
            ],
            "application/javascript": [
              "\n",
              "    async function download(id, filename, size) {\n",
              "      if (!google.colab.kernel.accessAllowed) {\n",
              "        return;\n",
              "      }\n",
              "      const div = document.createElement('div');\n",
              "      const label = document.createElement('label');\n",
              "      label.textContent = `Downloading \"${filename}\": `;\n",
              "      div.appendChild(label);\n",
              "      const progress = document.createElement('progress');\n",
              "      progress.max = size;\n",
              "      div.appendChild(progress);\n",
              "      document.body.appendChild(div);\n",
              "\n",
              "      const buffers = [];\n",
              "      let downloaded = 0;\n",
              "\n",
              "      const channel = await google.colab.kernel.comms.open(id);\n",
              "      // Send a message to notify the kernel that we're ready.\n",
              "      channel.send({})\n",
              "\n",
              "      for await (const message of channel.messages) {\n",
              "        // Send a message to notify the kernel that we're ready.\n",
              "        channel.send({})\n",
              "        if (message.buffers) {\n",
              "          for (const buffer of message.buffers) {\n",
              "            buffers.push(buffer);\n",
              "            downloaded += buffer.byteLength;\n",
              "            progress.value = downloaded;\n",
              "          }\n",
              "        }\n",
              "      }\n",
              "      const blob = new Blob(buffers, {type: 'application/binary'});\n",
              "      const a = document.createElement('a');\n",
              "      a.href = window.URL.createObjectURL(blob);\n",
              "      a.download = filename;\n",
              "      div.appendChild(a);\n",
              "      a.click();\n",
              "      div.remove();\n",
              "    }\n",
              "  "
            ]
          },
          "metadata": {}
        },
        {
          "output_type": "display_data",
          "data": {
            "text/plain": [
              "<IPython.core.display.Javascript object>"
            ],
            "application/javascript": [
              "download(\"download_69c24a51-0c67-424e-9ee3-caca120a9c02\", \"cleaned_set_data.csv\", 944114655)"
            ]
          },
          "metadata": {}
        }
      ]
    },
    {
      "cell_type": "markdown",
      "source": [
        "# **Sentiment Analysis Model Building**"
      ],
      "metadata": {
        "id": "655y4YXe6Gnx"
      }
    },
    {
      "cell_type": "code",
      "source": [
        "df = pd.read_csv(\"cleaned_set_data.csv\")\n",
        "df.drop(columns=\"Unnamed: 0\", inplace=True)\n",
        "df.head()"
      ],
      "metadata": {
        "colab": {
          "base_uri": "https://localhost:8080/",
          "height": 206
        },
        "id": "a5rykZyC9eO7",
        "outputId": "47b162b9-a64e-40d6-9f1f-43ab3d216911"
      },
      "execution_count": 39,
      "outputs": [
        {
          "output_type": "execute_result",
          "data": {
            "text/plain": [
              "   Sentiments                                     processed_revs  \\\n",
              "0           1  film brilliant casting location scenery story ...   \n",
              "1           0  big hair big boobs bad music giant safety pin ...   \n",
              "2           0  one worst films friends watching film target a...   \n",
              "3           1  storytelling traditional sort many years event...   \n",
              "4           0  worst mistake life picked movie target figured...   \n",
              "\n",
              "                                          embeddings  \n",
              "0  [[-0.026815105229616165, -0.0444408655166626, ...  \n",
              "1  [[0.04148361459374428, 0.03169364109635353, -0...  \n",
              "2  [[0.02104378119111061, 0.014727059751749039, -...  \n",
              "3  [[-0.015688061714172363, -0.002199698239564895...  \n",
              "4  [[-0.04897646978497505, 0.02014763280749321, -...  "
            ],
            "text/html": [
              "\n",
              "  <div id=\"df-c4b2c602-f8d4-4428-ba8b-e643b70fed46\" class=\"colab-df-container\">\n",
              "    <div>\n",
              "<style scoped>\n",
              "    .dataframe tbody tr th:only-of-type {\n",
              "        vertical-align: middle;\n",
              "    }\n",
              "\n",
              "    .dataframe tbody tr th {\n",
              "        vertical-align: top;\n",
              "    }\n",
              "\n",
              "    .dataframe thead th {\n",
              "        text-align: right;\n",
              "    }\n",
              "</style>\n",
              "<table border=\"1\" class=\"dataframe\">\n",
              "  <thead>\n",
              "    <tr style=\"text-align: right;\">\n",
              "      <th></th>\n",
              "      <th>Sentiments</th>\n",
              "      <th>processed_revs</th>\n",
              "      <th>embeddings</th>\n",
              "    </tr>\n",
              "  </thead>\n",
              "  <tbody>\n",
              "    <tr>\n",
              "      <th>0</th>\n",
              "      <td>1</td>\n",
              "      <td>film brilliant casting location scenery story ...</td>\n",
              "      <td>[[-0.026815105229616165, -0.0444408655166626, ...</td>\n",
              "    </tr>\n",
              "    <tr>\n",
              "      <th>1</th>\n",
              "      <td>0</td>\n",
              "      <td>big hair big boobs bad music giant safety pin ...</td>\n",
              "      <td>[[0.04148361459374428, 0.03169364109635353, -0...</td>\n",
              "    </tr>\n",
              "    <tr>\n",
              "      <th>2</th>\n",
              "      <td>0</td>\n",
              "      <td>one worst films friends watching film target a...</td>\n",
              "      <td>[[0.02104378119111061, 0.014727059751749039, -...</td>\n",
              "    </tr>\n",
              "    <tr>\n",
              "      <th>3</th>\n",
              "      <td>1</td>\n",
              "      <td>storytelling traditional sort many years event...</td>\n",
              "      <td>[[-0.015688061714172363, -0.002199698239564895...</td>\n",
              "    </tr>\n",
              "    <tr>\n",
              "      <th>4</th>\n",
              "      <td>0</td>\n",
              "      <td>worst mistake life picked movie target figured...</td>\n",
              "      <td>[[-0.04897646978497505, 0.02014763280749321, -...</td>\n",
              "    </tr>\n",
              "  </tbody>\n",
              "</table>\n",
              "</div>\n",
              "    <div class=\"colab-df-buttons\">\n",
              "\n",
              "  <div class=\"colab-df-container\">\n",
              "    <button class=\"colab-df-convert\" onclick=\"convertToInteractive('df-c4b2c602-f8d4-4428-ba8b-e643b70fed46')\"\n",
              "            title=\"Convert this dataframe to an interactive table.\"\n",
              "            style=\"display:none;\">\n",
              "\n",
              "  <svg xmlns=\"http://www.w3.org/2000/svg\" height=\"24px\" viewBox=\"0 -960 960 960\">\n",
              "    <path d=\"M120-120v-720h720v720H120Zm60-500h600v-160H180v160Zm220 220h160v-160H400v160Zm0 220h160v-160H400v160ZM180-400h160v-160H180v160Zm440 0h160v-160H620v160ZM180-180h160v-160H180v160Zm440 0h160v-160H620v160Z\"/>\n",
              "  </svg>\n",
              "    </button>\n",
              "\n",
              "  <style>\n",
              "    .colab-df-container {\n",
              "      display:flex;\n",
              "      gap: 12px;\n",
              "    }\n",
              "\n",
              "    .colab-df-convert {\n",
              "      background-color: #E8F0FE;\n",
              "      border: none;\n",
              "      border-radius: 50%;\n",
              "      cursor: pointer;\n",
              "      display: none;\n",
              "      fill: #1967D2;\n",
              "      height: 32px;\n",
              "      padding: 0 0 0 0;\n",
              "      width: 32px;\n",
              "    }\n",
              "\n",
              "    .colab-df-convert:hover {\n",
              "      background-color: #E2EBFA;\n",
              "      box-shadow: 0px 1px 2px rgba(60, 64, 67, 0.3), 0px 1px 3px 1px rgba(60, 64, 67, 0.15);\n",
              "      fill: #174EA6;\n",
              "    }\n",
              "\n",
              "    .colab-df-buttons div {\n",
              "      margin-bottom: 4px;\n",
              "    }\n",
              "\n",
              "    [theme=dark] .colab-df-convert {\n",
              "      background-color: #3B4455;\n",
              "      fill: #D2E3FC;\n",
              "    }\n",
              "\n",
              "    [theme=dark] .colab-df-convert:hover {\n",
              "      background-color: #434B5C;\n",
              "      box-shadow: 0px 1px 3px 1px rgba(0, 0, 0, 0.15);\n",
              "      filter: drop-shadow(0px 1px 2px rgba(0, 0, 0, 0.3));\n",
              "      fill: #FFFFFF;\n",
              "    }\n",
              "  </style>\n",
              "\n",
              "    <script>\n",
              "      const buttonEl =\n",
              "        document.querySelector('#df-c4b2c602-f8d4-4428-ba8b-e643b70fed46 button.colab-df-convert');\n",
              "      buttonEl.style.display =\n",
              "        google.colab.kernel.accessAllowed ? 'block' : 'none';\n",
              "\n",
              "      async function convertToInteractive(key) {\n",
              "        const element = document.querySelector('#df-c4b2c602-f8d4-4428-ba8b-e643b70fed46');\n",
              "        const dataTable =\n",
              "          await google.colab.kernel.invokeFunction('convertToInteractive',\n",
              "                                                    [key], {});\n",
              "        if (!dataTable) return;\n",
              "\n",
              "        const docLinkHtml = 'Like what you see? Visit the ' +\n",
              "          '<a target=\"_blank\" href=https://colab.research.google.com/notebooks/data_table.ipynb>data table notebook</a>'\n",
              "          + ' to learn more about interactive tables.';\n",
              "        element.innerHTML = '';\n",
              "        dataTable['output_type'] = 'display_data';\n",
              "        await google.colab.output.renderOutput(dataTable, element);\n",
              "        const docLink = document.createElement('div');\n",
              "        docLink.innerHTML = docLinkHtml;\n",
              "        element.appendChild(docLink);\n",
              "      }\n",
              "    </script>\n",
              "  </div>\n",
              "\n",
              "\n",
              "<div id=\"df-aef649d1-2d0d-4f20-85dd-2ded1daf8174\">\n",
              "  <button class=\"colab-df-quickchart\" onclick=\"quickchart('df-aef649d1-2d0d-4f20-85dd-2ded1daf8174')\"\n",
              "            title=\"Suggest charts\"\n",
              "            style=\"display:none;\">\n",
              "\n",
              "<svg xmlns=\"http://www.w3.org/2000/svg\" height=\"24px\"viewBox=\"0 0 24 24\"\n",
              "     width=\"24px\">\n",
              "    <g>\n",
              "        <path d=\"M19 3H5c-1.1 0-2 .9-2 2v14c0 1.1.9 2 2 2h14c1.1 0 2-.9 2-2V5c0-1.1-.9-2-2-2zM9 17H7v-7h2v7zm4 0h-2V7h2v10zm4 0h-2v-4h2v4z\"/>\n",
              "    </g>\n",
              "</svg>\n",
              "  </button>\n",
              "\n",
              "<style>\n",
              "  .colab-df-quickchart {\n",
              "      --bg-color: #E8F0FE;\n",
              "      --fill-color: #1967D2;\n",
              "      --hover-bg-color: #E2EBFA;\n",
              "      --hover-fill-color: #174EA6;\n",
              "      --disabled-fill-color: #AAA;\n",
              "      --disabled-bg-color: #DDD;\n",
              "  }\n",
              "\n",
              "  [theme=dark] .colab-df-quickchart {\n",
              "      --bg-color: #3B4455;\n",
              "      --fill-color: #D2E3FC;\n",
              "      --hover-bg-color: #434B5C;\n",
              "      --hover-fill-color: #FFFFFF;\n",
              "      --disabled-bg-color: #3B4455;\n",
              "      --disabled-fill-color: #666;\n",
              "  }\n",
              "\n",
              "  .colab-df-quickchart {\n",
              "    background-color: var(--bg-color);\n",
              "    border: none;\n",
              "    border-radius: 50%;\n",
              "    cursor: pointer;\n",
              "    display: none;\n",
              "    fill: var(--fill-color);\n",
              "    height: 32px;\n",
              "    padding: 0;\n",
              "    width: 32px;\n",
              "  }\n",
              "\n",
              "  .colab-df-quickchart:hover {\n",
              "    background-color: var(--hover-bg-color);\n",
              "    box-shadow: 0 1px 2px rgba(60, 64, 67, 0.3), 0 1px 3px 1px rgba(60, 64, 67, 0.15);\n",
              "    fill: var(--button-hover-fill-color);\n",
              "  }\n",
              "\n",
              "  .colab-df-quickchart-complete:disabled,\n",
              "  .colab-df-quickchart-complete:disabled:hover {\n",
              "    background-color: var(--disabled-bg-color);\n",
              "    fill: var(--disabled-fill-color);\n",
              "    box-shadow: none;\n",
              "  }\n",
              "\n",
              "  .colab-df-spinner {\n",
              "    border: 2px solid var(--fill-color);\n",
              "    border-color: transparent;\n",
              "    border-bottom-color: var(--fill-color);\n",
              "    animation:\n",
              "      spin 1s steps(1) infinite;\n",
              "  }\n",
              "\n",
              "  @keyframes spin {\n",
              "    0% {\n",
              "      border-color: transparent;\n",
              "      border-bottom-color: var(--fill-color);\n",
              "      border-left-color: var(--fill-color);\n",
              "    }\n",
              "    20% {\n",
              "      border-color: transparent;\n",
              "      border-left-color: var(--fill-color);\n",
              "      border-top-color: var(--fill-color);\n",
              "    }\n",
              "    30% {\n",
              "      border-color: transparent;\n",
              "      border-left-color: var(--fill-color);\n",
              "      border-top-color: var(--fill-color);\n",
              "      border-right-color: var(--fill-color);\n",
              "    }\n",
              "    40% {\n",
              "      border-color: transparent;\n",
              "      border-right-color: var(--fill-color);\n",
              "      border-top-color: var(--fill-color);\n",
              "    }\n",
              "    60% {\n",
              "      border-color: transparent;\n",
              "      border-right-color: var(--fill-color);\n",
              "    }\n",
              "    80% {\n",
              "      border-color: transparent;\n",
              "      border-right-color: var(--fill-color);\n",
              "      border-bottom-color: var(--fill-color);\n",
              "    }\n",
              "    90% {\n",
              "      border-color: transparent;\n",
              "      border-bottom-color: var(--fill-color);\n",
              "    }\n",
              "  }\n",
              "</style>\n",
              "\n",
              "  <script>\n",
              "    async function quickchart(key) {\n",
              "      const quickchartButtonEl =\n",
              "        document.querySelector('#' + key + ' button');\n",
              "      quickchartButtonEl.disabled = true;  // To prevent multiple clicks.\n",
              "      quickchartButtonEl.classList.add('colab-df-spinner');\n",
              "      try {\n",
              "        const charts = await google.colab.kernel.invokeFunction(\n",
              "            'suggestCharts', [key], {});\n",
              "      } catch (error) {\n",
              "        console.error('Error during call to suggestCharts:', error);\n",
              "      }\n",
              "      quickchartButtonEl.classList.remove('colab-df-spinner');\n",
              "      quickchartButtonEl.classList.add('colab-df-quickchart-complete');\n",
              "    }\n",
              "    (() => {\n",
              "      let quickchartButtonEl =\n",
              "        document.querySelector('#df-aef649d1-2d0d-4f20-85dd-2ded1daf8174 button');\n",
              "      quickchartButtonEl.style.display =\n",
              "        google.colab.kernel.accessAllowed ? 'block' : 'none';\n",
              "    })();\n",
              "  </script>\n",
              "</div>\n",
              "\n",
              "    </div>\n",
              "  </div>\n"
            ],
            "application/vnd.google.colaboratory.intrinsic+json": {
              "type": "dataframe",
              "variable_name": "df",
              "summary": "{\n  \"name\": \"df\",\n  \"rows\": 5000,\n  \"fields\": [\n    {\n      \"column\": \"Sentiments\",\n      \"properties\": {\n        \"dtype\": \"number\",\n        \"std\": 0,\n        \"min\": 0,\n        \"max\": 1,\n        \"num_unique_values\": 2,\n        \"samples\": [\n          0,\n          1\n        ],\n        \"semantic_type\": \"\",\n        \"description\": \"\"\n      }\n    },\n    {\n      \"column\": \"processed_revs\",\n      \"properties\": {\n        \"dtype\": \"string\",\n        \"num_unique_values\": 4997,\n        \"samples\": [\n          \"film screened last night paramount theater part film festival presence director mike stars adam sandler cheadle took audience questions film remarkable powerful film like lose begin find way back performances phenomenal story manages tragic funny way rare trailer film tries little hard emphasize comedic aspects role adam sandler begun transition dramatic roles punch drunk love role significant step forward dramatic actor deserves oscar nomination continues transition dramatic roles tom hanks jim carrey also role seemed trying channel dustin hoffman rain man although playing man certainly different traumatized character characters different reasons trapped worlds child like isolation confusion performance less surprising good hotel crash weve come expect remarkable nuanced performances cheadle qualities sincerity honesty comes role also broken struggling profound ways character cheadle struggling difficulties marriage professional life dentist together characters played cheadle sandler struggle way true friends often way reminds matt damon robin williams good hunting searching part lost trying find reign one best major studio films released year soundtrack almost another character plot wonderful filming streets new york city suffered great tragedy also also quite beautiful supporting roles smith tyler odd role donald sutherland mike quite good writer director mike really delivered story many able connect numerous levels story grief family healing male friendship mental health meaning love reign disappoint film almost hypnotic draws lives characters hollywood would much better reputation made character driven charming films like reign\",\n          \"loved show growing still watch first season dvd age today say grew house much like one full house dad two sisters dog guess difference live uncle best friend also grew mom house dont know would done without full house television think stephanie played jodie j played kirk sister michelle played mary kate ashley olsen favorite characters relate middle child family like younger sister like michelle older sister like j really like show always moral values dont really like c like shows today like comedy full house uncle jesse john joey dave danny bob hilarious girls uncle friend dad respectively story goes girls mom dies best friend joey brother law jesse move help raise kids three men trying raise three young girls hilarious character full house full heart funny genuinely believable joey aspiring comedian kids heart soul jesse cool motorcycle riding tough guy uncle three later wife laurie kids adults love show guaranteed\"\n        ],\n        \"semantic_type\": \"\",\n        \"description\": \"\"\n      }\n    },\n    {\n      \"column\": \"embeddings\",\n      \"properties\": {\n        \"dtype\": \"string\",\n        \"num_unique_values\": 4997,\n        \"samples\": [\n          \"[[-0.026815105229616165, -0.0444408655166626, 0.0128677599132061, 0.04070395603775978, -0.03419743850827217, -0.014172088354825974, 0.008543051779270172, -0.03243100643157959, 0.0210973359644413, 0.010769523680210114], [-0.006806720048189163, 0.0140053890645504, 0.02145254984498024, 0.02872040495276451, 0.03780081495642662, 0.036486733704805374, 0.039611902087926865, -0.04440512880682945, 0.03124573454260826, -0.02192244492471218], [0.04433048889040947, 0.010647416114807129, 0.0034290924668312073, -0.0005001053214073181, 0.022433903068304062, -0.01396920531988144, -0.04754983261227608, -0.03604863956570625, -0.00475534051656723, -0.030155956745147705], [0.018323149532079697, 0.012100409716367722, 0.03562810644507408, 0.034323979169130325, 0.03686955198645592, 0.038480985909700394, 0.03136477246880531, -0.03604213148355484, 0.025290239602327347, 0.04093081131577492], [-0.006806720048189163, 0.0140053890645504, 0.02145254984498024, 0.02872040495276451, 0.03780081495642662, 0.036486733704805374, 0.039611902087926865, -0.04440512880682945, 0.03124573454260826, -0.02192244492471218], [-0.04428422451019287, 0.014692593365907669, 0.041181836277246475, -0.014553200453519821, -0.002035081386566162, -0.007985997945070267, 0.030140642076730728, 0.009982205927371979, 0.023585770279169083, -0.0047638192772865295], [0.04813488945364952, 0.010245800018310547, -0.013667654246091843, 0.04240855202078819, 0.040478456765413284, -0.030292129144072533, -0.029971599578857422, 0.002754639834165573, 0.011454224586486816, -0.012295257300138474], [-0.026815105229616165, -0.0444408655166626, 0.0128677599132061, 0.04070395603775978, -0.03419743850827217, -0.014172088354825974, 0.008543051779270172, -0.03243100643157959, 0.0210973359644413, 0.010769523680210114], [0.027734804898500443, 0.04973044618964195, 0.03384718671441078, 0.024758223444223404, -0.02304750680923462, -0.006112299859523773, -0.01887683942914009, 0.037241723388433456, -0.042626943439245224, -0.045780181884765625], [0.008300233632326126, -0.012495599687099457, -0.04437385872006416, -0.012247074395418167, -0.03405916690826416, -0.040526390075683594, -0.024164294824004173, -0.02701815403997898, -0.048913922160863876, 0.04832650348544121], [0.01929057016968727, 0.033133793622255325, 0.029626931995153427, -0.001147352159023285, -0.03399498760700226, 0.0184384323656559, 0.03489471599459648, 0.04872027412056923, 0.02416400983929634, 0.02402135357260704], [-0.00893159955739975, 0.044605519622564316, 0.01693040505051613, 0.009610772132873535, -0.013921953737735748, 0.0006412379443645477, 0.003489423543214798, -0.026313722133636475, -0.04153876379132271, 0.005543578416109085], [0.023761872202157974, 0.04297954961657524, -0.018382884562015533, 0.04432420805096626, 0.010979533195495605, -0.036520421504974365, 0.005254246294498444, 0.004209898412227631, 0.03528571501374245, 0.04011359438300133], [-0.01041644811630249, 0.043078016489744186, 0.015921559184789658, 0.005113612860441208, 0.04989581182599068, -0.019121898338198662, 0.024979162961244583, 0.03876439109444618, -0.01716766506433487, -0.030361486598849297], [-0.01238173246383667, -0.039531491696834564, -0.025574063882231712, -0.016735445708036423, -0.009739376604557037, -0.04093223810195923, -0.0033120624721050262, -0.005035769194364548, 0.013622943311929703, -0.039470374584198], [-0.006806720048189163, 0.0140053890645504, 0.02145254984498024, 0.02872040495276451, 0.03780081495642662, 0.036486733704805374, 0.039611902087926865, -0.04440512880682945, 0.03124573454260826, -0.02192244492471218], [-0.02562638558447361, -0.023690570145845413, -0.030698252841830254, 0.013523150235414505, -0.0009629130363464355, -0.046431589871644974, 0.04943256452679634, 0.011031556874513626, 0.03871059790253639, 0.02399594709277153], [0.04052073135972023, -0.03700839355587959, -0.023366546258330345, 0.02576238289475441, -0.00047015026211738586, 0.036361876875162125, 0.03598541393876076, 0.012026060372591019, 0.0035878419876098633, 0.02630995586514473], [-0.0366952046751976, -0.046848297119140625, 0.04042467102408409, -0.01991133764386177, 0.018315616995096207, 0.02400677278637886, 0.0030032508075237274, -0.041658781468868256, -0.023723388090729713, -0.011060524731874466], [-0.026815105229616165, -0.0444408655166626, 0.0128677599132061, 0.04070395603775978, -0.03419743850827217, -0.014172088354825974, 0.008543051779270172, -0.03243100643157959, 0.0210973359644413, 0.010769523680210114], [-0.006319474428892136, 0.003578055649995804, -0.009658358991146088, -0.02429666556417942, 0.0037515275180339813, -0.01752443239092827, -0.003237403929233551, -0.001071237027645111, 0.018554937094449997, 0.04959447309374809], [-0.010576806962490082, 0.03484456613659859, -0.009403668344020844, -0.03887568786740303, -0.00025594234466552734, 0.00565718486905098, 0.03474852070212364, 0.0406765379011631, 0.03429913893342018, 0.03806208446621895], [-0.026815105229616165, -0.0444408655166626, 0.0128677599132061, 0.04070395603775978, -0.03419743850827217, -0.014172088354825974, 0.008543051779270172, -0.03243100643157959, 0.0210973359644413, 0.010769523680210114], [0.003633357584476471, 0.02800903096795082, -0.016155946999788284, 0.019013825803995132, 0.023563135415315628, 0.037293028086423874, -0.01995380036532879, 0.03054380789399147, -0.03498993068933487, -0.03455237299203873], [0.020710613578557968, 0.025463048368692398, 0.027660738676786423, 0.037025321274995804, -0.013061977922916412, 0.025006089359521866, 0.00040841102600097656, -0.041686106473207474, -0.043670713901519775, 0.03554172441363335], [-0.04145655781030655, 0.04861145094037056, 0.018788721412420273, -0.03260030597448349, -0.0149046890437603, 0.008960045874118805, -0.041806209832429886, 0.043960023671388626, 0.041046325117349625, 0.032457079738378525], [-0.04888634756207466, 0.006837058812379837, -0.02265937440097332, 0.012256491929292679, -0.018893146887421608, 0.049599889665842056, -0.024032915011048317, 0.03140971437096596, 0.0027146227657794952, -0.048897530883550644], [-0.04297232627868652, 0.037131715565919876, -0.0023812055587768555, 0.03259139135479927, -0.014689743518829346, -0.008613944053649902, -0.019670141860842705, -0.04833587631583214, -0.0005766972899436951, -0.04118410497903824], [0.0415024496614933, -0.019691109657287598, 0.018751416355371475, -0.02709484100341797, 0.020085860043764114, -0.048291172832250595, 0.04941122606396675, 0.03987208381295204, 0.012920212000608444, -0.03112011030316353], [0.03581983223557472, 0.009425818920135498, -0.008723638951778412, -0.04160726070404053, 0.02792925015091896, 0.04140518978238106, 0.023982468992471695, -0.013765238225460052, 0.04519486799836159, -0.04984722286462784], [-0.006806720048189163, 0.0140053890645504, 0.02145254984498024, 0.02872040495276451, 0.03780081495642662, 0.036486733704805374, 0.039611902087926865, -0.04440512880682945, 0.03124573454260826, -0.02192244492471218], [0.027190569788217545, 0.012869428843259811, -0.037736643105745316, 0.0209430493414402, 0.04709085449576378, -0.026659894734621048, 0.01683957502245903, -0.020242536440491676, -0.034666575491428375, 0.03379540517926216], [-0.04222053289413452, 0.01501161977648735, 0.035640861839056015, -0.020172489807009697, 0.03460488095879555, -0.014402128756046295, 0.03599000349640846, -0.037513017654418945, -0.045763518661260605, 0.042683448642492294], [-0.026625871658325195, -0.0431097038090229, -0.0014105550944805145, 0.01235349103808403, -0.04488799721002579, -0.0026930570602416992, -0.00925065204501152, 0.04877742752432823, 0.03314611688256264, 0.020110715180635452], [0.019527364522218704, -0.027660775929689407, -0.03186037391424179, 0.04526245966553688, -0.006081044673919678, -0.010471366345882416, -0.04379460960626602, -0.026212168857455254, -0.01778043434023857, 0.02828695997595787], [-0.04297232627868652, 0.037131715565919876, -0.0023812055587768555, 0.03259139135479927, -0.014689743518829346, -0.008613944053649902, -0.019670141860842705, -0.04833587631583214, -0.0005766972899436951, -0.04118410497903824], [-0.03134068101644516, -0.02017606608569622, -0.012958146631717682, 0.016775120049715042, -0.03902548551559448, -0.017454348504543304, -0.02410740964114666, 0.038617316633462906, -0.01825232431292534, 0.012882579118013382], [0.01673099771142006, 0.046537671238183975, 0.0030525699257850647, 0.03969374671578407, 0.004147030413150787, 0.047956835478544235, -0.03938450664281845, 0.017575275152921677, -0.046576786786317825, -0.008410871028900146], [-0.026815105229616165, -0.0444408655166626, 0.0128677599132061, 0.04070395603775978, -0.03419743850827217, -0.014172088354825974, 0.008543051779270172, -0.03243100643157959, 0.0210973359644413, 0.010769523680210114], [-0.020101463422179222, 0.015651274472475052, 0.03620927408337593, -0.013478685170412064, 0.04733673110604286, -0.021180534735322, 0.024486098438501358, 0.020748760551214218, -0.016996432095766068, -0.033715806901454926], [-0.01852090284228325, -0.003810979425907135, 0.026539508253335953, -0.03458616882562637, 0.04565737023949623, -0.02421543560922146, 0.020659159868955612, -0.01709466055035591, -0.042981792241334915, -0.023023664951324463], [0.04658912494778633, 0.007470309734344482, -0.021439028903841972, 0.02960195764899254, 0.002144455909729004, -0.04335958883166313, -0.03704281896352768, 0.040739063173532486, 0.013322565704584122, 0.018115166574716568], [-0.006806720048189163, 0.0140053890645504, 0.02145254984498024, 0.02872040495276451, 0.03780081495642662, 0.036486733704805374, 0.039611902087926865, -0.04440512880682945, 0.03124573454260826, -0.02192244492471218], [-0.01639380306005478, -0.0016240477561950684, 0.04814792051911354, 0.032620493322610855, -0.003197409212589264, -0.002146173268556595, -0.012408684939146042, -0.04961652681231499, -0.04502903297543526, 0.004886507987976074], [-0.0074906125664711, 0.04602416977286339, 0.03580644354224205, -0.016083013266324997, 0.006499994546175003, -0.048993147909641266, -0.04329238086938858, -0.0405416265130043, 0.04310423508286476, 0.014505293220281601], [-0.018625985831022263, 0.0042930468916893005, -0.01975022628903389, -0.037001051008701324, 0.04730187729001045, -0.019416427239775658, 0.041060831397771835, 0.02978900447487831, 0.0004059895873069763, 0.04909571632742882], [-0.01041644811630249, 0.043078016489744186, 0.015921559184789658, 0.005113612860441208, 0.04989581182599068, -0.019121898338198662, 0.024979162961244583, 0.03876439109444618, -0.01716766506433487, -0.030361486598849297], [-0.01238173246383667, -0.039531491696834564, -0.025574063882231712, -0.016735445708036423, -0.009739376604557037, -0.04093223810195923, -0.0033120624721050262, -0.005035769194364548, 0.013622943311929703, -0.039470374584198], [-0.006806720048189163, 0.0140053890645504, 0.02145254984498024, 0.02872040495276451, 0.03780081495642662, 0.036486733704805374, 0.039611902087926865, -0.04440512880682945, 0.03124573454260826, -0.02192244492471218], [-0.049651551991701126, -0.01923551596701145, 0.04902980104088783, -0.014123629778623581, 0.03497062996029854, 0.025299791246652603, 0.010027527809143066, -0.017995141446590424, 0.039860453456640244, -0.02788626030087471], [0.04819519445300102, 0.021431948989629745, 0.03571399673819542, -0.0288983341306448, -0.03144659101963043, -0.02232532575726509, -0.0004078969359397888, 0.045617688447237015, 0.028627660125494003, 0.018438007682561874], [0.01596825197339058, -0.03717014938592911, -0.022176099941134453, -0.011580944061279297, -0.03572467714548111, 0.009495817124843597, -0.018205247819423676, 0.019504938274621964, -0.01954028569161892, 0.04853174462914467], [-0.011615265160799026, 0.04696812853217125, -0.03802574798464775, 0.005593061447143555, 0.040850792080163956, -0.03492370992898941, 0.008654914796352386, 0.046257007867097855, -0.00295938178896904, -0.01913449726998806], [0.02621307596564293, -0.04866614565253258, -0.02719872072339058, 0.020805444568395615, 0.030890416353940964, 0.028524670749902725, -0.04518512636423111, -0.039891552180051804, -0.03740866109728813, -0.012138593941926956], [-0.0008717887103557587, -0.04696537181735039, 0.041014913469552994, -0.024902189150452614, 0.0014740116894245148, -0.034886013716459274, -0.014363586902618408, 0.024387028068304062, -0.0284211877733469, 0.004800319671630859], [-0.018625985831022263, 0.0042930468916893005, -0.01975022628903389, -0.037001051008701324, 0.04730187729001045, -0.019416427239775658, 0.041060831397771835, 0.02978900447487831, 0.0004059895873069763, 0.04909571632742882], [0.004577137529850006, -0.027200782671570778, 0.040988121181726456, 0.033873509615659714, -0.02048776112496853, 0.02672957256436348, -0.017451714724302292, 0.005979526787996292, -0.002059757709503174, -0.007239200174808502], [0.009004533290863037, -0.0458686463534832, 0.0169832743704319, 0.026821527630090714, 0.04426458850502968, -0.015595413744449615, 0.016968179494142532, 0.04658999666571617, 0.01037747785449028, -0.012172471731901169], [-0.025010718032717705, 0.03258441761136055, -0.04983537271618843, 0.018810119479894638, -0.035463131964206696, -0.044179320335388184, 0.019222069531679153, 0.036305878311395645, 0.014905665069818497, -0.046672988682985306], [0.04819519445300102, 0.021431948989629745, 0.03571399673819542, -0.0288983341306448, -0.03144659101963043, -0.02232532575726509, -0.0004078969359397888, 0.045617688447237015, 0.028627660125494003, 0.018438007682561874], [-0.047678519040346146, -0.02405909262597561, 0.0350453145802021, 0.025923673063516617, -0.03020002879202366, -0.022665714845061302, -0.04599353298544884, -0.049186479300260544, -0.04293816164135933, 0.009544633328914642], [0.031384434551000595, -0.012697018682956696, 0.02461956813931465, -0.0398479700088501, 0.020389091223478317, -0.00579441711306572, 0.0011649839580059052, 0.04564562812447548, 0.02066180482506752, -0.043884288519620895], [0.03624195232987404, -0.009672664105892181, -0.025369061157107353, -0.013144660741090775, 0.001959286630153656, -0.020149528980255127, 0.03861217573285103, 0.040382836014032364, 0.03274475410580635, 0.023098912090063095], [0.049257028847932816, -0.04757055267691612, 0.0010989420115947723, -0.016525529325008392, -0.01880776882171631, -0.036312222480773926, 0.029581774026155472, 0.02922520413994789, -0.04795736074447632, -0.008334528654813766], [-0.023231899365782738, 0.006862901151180267, 0.025677446275949478, -0.0007275231182575226, 0.025531020015478134, 0.02954036369919777, -0.0024917609989643097, -0.04246931150555611, -0.02316262759268284, -0.04350142553448677], [-0.049651551991701126, -0.01923551596701145, 0.04902980104088783, -0.014123629778623581, 0.03497062996029854, 0.025299791246652603, 0.010027527809143066, -0.017995141446590424, 0.039860453456640244, -0.02788626030087471], [0.04819519445300102, 0.021431948989629745, 0.03571399673819542, -0.0288983341306448, -0.03144659101963043, -0.02232532575726509, -0.0004078969359397888, 0.045617688447237015, 0.028627660125494003, 0.018438007682561874], [0.01596825197339058, -0.03717014938592911, -0.022176099941134453, -0.011580944061279297, -0.03572467714548111, 0.009495817124843597, -0.018205247819423676, 0.019504938274621964, -0.01954028569161892, 0.04853174462914467], [0.04364221170544624, -0.04937000200152397, 0.021156463772058487, -0.03529999405145645, 0.006561242043972015, 0.03824346140027046, -0.01666957139968872, -0.010581493377685547, 0.04911588504910469, 0.039574313908815384], [-0.049753811210393906, 0.012080918997526169, -0.013077665120363235, -0.002669908106327057, -0.0033370964229106903, -0.027747130021452904, 0.048847053200006485, 0.032811786979436874, 0.032586660236120224, 0.027676794677972794], [-0.011679969727993011, -0.0020833835005760193, 0.03910963609814644, -0.031787026673555374, 0.02457359805703163, -0.01337437704205513, 0.008358728140592575, -0.038947831839323044, -0.0028542764484882355, 0.020689021795988083], [-0.006806720048189163, 0.0140053890645504, 0.02145254984498024, 0.02872040495276451, 0.03780081495642662, 0.036486733704805374, 0.039611902087926865, -0.04440512880682945, 0.03124573454260826, -0.02192244492471218], [0.0350206159055233, -0.04019295051693916, -0.02894449234008789, 0.007498539984226227, 0.001802932471036911, 0.002527870237827301, 0.03224961832165718, -0.030970824882388115, -0.02903817966580391, -0.038615308701992035], [-0.018625985831022263, 0.0042930468916893005, -0.01975022628903389, -0.037001051008701324, 0.04730187729001045, -0.019416427239775658, 0.041060831397771835, 0.02978900447487831, 0.0004059895873069763, 0.04909571632742882], [0.012999419122934341, -0.048262763768434525, -0.025491977110505104, -0.004355989396572113, 0.020419511944055557, -0.006280172616243362, 0.03431851789355278, 0.022422384470701218, 0.036385033279657364, -0.03086630068719387], [0.02023926004767418, -0.044851552695035934, 0.017643343657255173, 0.03774315491318703, -0.036302316933870316, 0.02946782484650612, 0.022718731313943863, -0.022193586453795433, 0.006378006190061569, 0.016008976846933365], [0.03596026077866554, -0.0024509653449058533, 0.00233449786901474, 0.025376323610544205, -0.0026656612753868103, -0.02526756562292576, 0.009636878967285156, -0.002332281321287155, -0.03535015508532524, -0.019425833597779274], [-0.006806720048189163, 0.0140053890645504, 0.02145254984498024, 0.02872040495276451, 0.03780081495642662, 0.036486733704805374, 0.039611902087926865, -0.04440512880682945, 0.03124573454260826, -0.02192244492471218], [-0.04613287374377251, -0.004134584218263626, -0.004008840769529343, -0.02381197176873684, 0.0013728737831115723, -0.019650137051939964, -0.018680967390537262, -0.03165419399738312, 0.027446482330560684, 0.04878029599785805], [-0.01756991073489189, 0.01103130728006363, -0.019111229106783867, -0.00048172473907470703, -0.025140345096588135, 0.028872083872556686, 0.00909271091222763, 0.045344028621912, -0.0016413219273090363, 0.03599883243441582], [-0.012479353696107864, 0.020490039139986038, -0.04562089592218399, 0.013512421399354935, 0.008160531520843506, -0.0436503067612648, 0.014281932264566422, -0.005027055740356445, 0.0284796841442585, 0.02517108991742134], [0.02626364305615425, 0.03836473450064659, -0.04191446304321289, -0.0330859050154686, 0.03996790573000908, -0.04311808571219444, 0.006388187408447266, 0.024897422641515732, -0.04456716775894165, -0.03693704679608345], [0.040495049208402634, -0.02695598639547825, -0.042300034314394, 0.0420692004263401, 0.034253571182489395, 0.01857929304242134, -0.0474114790558815, -0.000303708016872406, -0.011623859405517578, -0.021676553413271904], [-0.012479353696107864, 0.020490039139986038, -0.04562089592218399, 0.013512421399354935, 0.008160531520843506, -0.0436503067612648, 0.014281932264566422, -0.005027055740356445, 0.0284796841442585, 0.02517108991742134], [0.04023498669266701, -0.021408140659332275, 0.029988694936037064, 0.012321017682552338, -0.037591755390167236, -0.02200472354888916, -0.01614285632967949, 0.02136239781975746, 0.045962538570165634, -0.014985978603363037], [-0.03156008571386337, -0.023259950801730156, -0.04937183856964111, 0.019718576222658157, -0.009434819221496582, -0.011640824377536774, 0.02533605322241783, -0.000887501984834671, -0.04250163957476616, -0.04867894574999809], [-0.006806720048189163, 0.0140053890645504, 0.02145254984498024, 0.02872040495276451, 0.03780081495642662, 0.036486733704805374, 0.039611902087926865, -0.04440512880682945, 0.03124573454260826, -0.02192244492471218], [0.020072784274816513, -0.044914163649082184, 0.026383761316537857, -0.002515207976102829, -0.014506030827760696, -0.02946688048541546, 0.037810612469911575, -0.048357248306274414, 0.0006872415542602539, 0.04468027129769325], [-0.048335134983062744, 0.013923857361078262, -0.009481240063905716, 0.023347366601228714, 0.020530615001916885, -0.021283090114593506, 0.006980717182159424, 0.029300954192876816, -0.011621914803981781, 0.01594037190079689], [-0.03156008571386337, -0.023259950801730156, -0.04937183856964111, 0.019718576222658157, -0.009434819221496582, -0.011640824377536774, 0.02533605322241783, -0.000887501984834671, -0.04250163957476616, -0.04867894574999809], [-0.033209025859832764, -0.0419604554772377, -0.0328662171959877, 0.0010570511221885681, -0.03877009078860283, -0.013965118676424026, 0.02721550688147545, -0.03759481757879257, -0.017489910125732422, 0.01654217019677162], [0.02142292633652687, 0.0474378801882267, 0.011810552328824997, -0.0090874545276165, -0.03000887669622898, 0.037663865834474564, -0.016468405723571777, 0.0251619853079319, 0.0008264072239398956, -0.009887289255857468], [0.04243690147995949, 0.03974888101220131, 0.049108538776636124, 0.017595116049051285, -0.01865983009338379, -0.01062314584851265, 0.020909320563077927, -0.023755133152008057, 0.008479021489620209, 0.044240426272153854], [-0.01679288223385811, 0.043997835367918015, -0.011889316141605377, -0.016502656042575836, 0.03059113398194313, -0.011934995651245117, -0.011262916028499603, 0.011730886995792389, 0.003131948411464691, -0.0036683566868305206], [0.003633357584476471, 0.02800903096795082, -0.016155946999788284, 0.019013825803995132, 0.023563135415315628, 0.037293028086423874, -0.01995380036532879, 0.03054380789399147, -0.03498993068933487, -0.03455237299203873], [-0.006806720048189163, 0.0140053890645504, 0.02145254984498024, 0.02872040495276451, 0.03780081495642662, 0.036486733704805374, 0.039611902087926865, -0.04440512880682945, 0.03124573454260826, -0.02192244492471218], [0.027488160878419876, 0.005104281008243561, 0.023604165762662888, -0.028449786826968193, 0.031465817242860794, -0.03968688100576401, 0.024400662630796432, 0.014566484838724136, -0.018172241747379303, -0.0028547048568725586], [0.004584811627864838, -0.004689119756221771, -0.03980078548192978, -0.03772451728582382, -0.018765604123473167, 0.03513587638735771, -0.0041193850338459015, -0.045381009578704834, 0.03995152935385704, -0.00983290746808052], [-0.022446608170866966, 0.03773448243737221, 0.010672163218259811, 0.041786063462495804, -0.007091689854860306, 0.039910826832056046, 0.04373491182923317, -0.03237267583608627, 0.045974742621183395, 0.04935857281088829], [0.03419986739754677, -0.024446403607726097, 0.009798265993595123, -0.04649139568209648, -0.00012433528900146484, -0.04704904556274414, 0.03116070106625557, 0.005140043795108795, 0.01798229292035103, -0.015831124037504196], [-0.016827058047056198, 0.038469281047582626, -0.0070403218269348145, -0.04338417202234268, -0.01499490812420845, -0.03708765655755997, -0.02098456583917141, 0.035747576504945755, -0.017099808901548386, -0.01934274472296238], [-0.03175945580005646, 0.010672163218259811, 0.041768576949834824, -0.03103785589337349, 0.02597072347998619, 0.0033183321356773376, 0.03705105558037758, 0.01431078091263771, -0.02990068309009075, 0.01313852146267891], [-0.040878891944885254, -0.04767237976193428, 0.03820705786347389, 0.028895486146211624, 0.04382561519742012, -0.04185432195663452, 0.009279131889343262, 0.04577973857522011, -0.04680967330932617, 0.045874182134866714], [-0.025416230782866478, 0.00931565836071968, 0.012468874454498291, 0.03217991814017296, 0.01161341741681099, -0.049923159182071686, -0.023942744359374046, -0.013587664812803268, 0.04567772522568703, 0.004205476492643356], [-0.015789378434419632, -0.008796881884336472, 0.03305346891283989, -0.015116237103939056, -0.04148994758725166, -0.002617098391056061, 0.022037897258996964, 0.015806976705789566, -0.038743603974580765, -0.010710429400205612], [0.040304336696863174, 0.03598524257540703, 0.013305094093084335, 0.03407527133822441, 0.04528066888451576, -0.02247723378241062, -0.03512610122561455, 0.035155605524778366, -0.04538508877158165, -0.04533330351114273], [-0.006319474428892136, 0.003578055649995804, -0.009658358991146088, -0.02429666556417942, 0.0037515275180339813, -0.01752443239092827, -0.003237403929233551, -0.001071237027645111, 0.018554937094449997, 0.04959447309374809], [-0.006806720048189163, 0.0140053890645504, 0.02145254984498024, 0.02872040495276451, 0.03780081495642662, 0.036486733704805374, 0.039611902087926865, -0.04440512880682945, 0.03124573454260826, -0.02192244492471218], [0.03581983223557472, 0.009425818920135498, -0.008723638951778412, -0.04160726070404053, 0.02792925015091896, 0.04140518978238106, 0.023982468992471695, -0.013765238225460052, 0.04519486799836159, -0.04984722286462784], [-0.006806720048189163, 0.0140053890645504, 0.02145254984498024, 0.02872040495276451, 0.03780081495642662, 0.036486733704805374, 0.039611902087926865, -0.04440512880682945, 0.03124573454260826, -0.02192244492471218], [0.03707137331366539, -0.04866814613342285, -0.041251350194215775, 0.021878134459257126, -0.005614172667264938, 0.013262186199426651, 0.03422374650835991, -0.027116192504763603, 0.03412875905632973, -0.032053470611572266], [-0.006806720048189163, 0.0140053890645504, 0.02145254984498024, 0.02872040495276451, 0.03780081495642662, 0.036486733704805374, 0.039611902087926865, -0.04440512880682945, 0.03124573454260826, -0.02192244492471218], [0.017468784004449844, 0.043922845274209976, -0.01762225478887558, -0.047432541847229004, 0.04072443023324013, 0.010307420045137405, -0.040489159524440765, 0.019839797168970108, 0.049904514104127884, 0.011417973786592484], [-0.03181079775094986, -0.045144058763980865, 0.01220010593533516, 0.044470254331827164, 0.01788679137825966, -0.049911607056856155, -0.04385339096188545, -0.02958362177014351, -0.009256921708583832, 0.0413571260869503], [-0.018625985831022263, 0.0042930468916893005, -0.01975022628903389, -0.037001051008701324, 0.04730187729001045, -0.019416427239775658, 0.041060831397771835, 0.02978900447487831, 0.0004059895873069763, 0.04909571632742882], [0.0350206159055233, -0.04019295051693916, -0.02894449234008789, 0.007498539984226227, 0.001802932471036911, 0.002527870237827301, 0.03224961832165718, -0.030970824882388115, -0.02903817966580391, -0.038615308701992035], [-0.049291063100099564, 0.04128540679812431, 0.0030903443694114685, -0.0490226149559021, 0.02238849177956581, -0.043908681720495224, -0.047332655638456345, -0.034272633492946625, 0.021222319453954697, -0.028189552947878838], [-0.02701464854180813, -0.014757942408323288, -0.024180924519896507, 0.04172250255942345, -0.04219558462500572, 0.03747563436627388, -0.04650913551449776, 0.011127520352602005, 0.04595294967293739, -0.02184847556054592], [0.0363711379468441, -0.019779646769165993, -0.0420607328414917, 0.039901819080114365, 0.04976116493344307, -0.028330815955996513, 0.01476382091641426, -0.04769713804125786, 0.016142819076776505, 0.039248693734407425], [0.040173422545194626, 0.04544133320450783, -0.02351691760122776, -0.019214177504181862, 1.4234334230422974e-05, 0.021676387637853622, -0.04654973745346069, 0.010070361196994781, 0.03456949070096016, -0.0424782894551754], [0.020072784274816513, -0.044914163649082184, 0.026383761316537857, -0.002515207976102829, -0.014506030827760696, -0.02946688048541546, 0.037810612469911575, -0.048357248306274414, 0.0006872415542602539, 0.04468027129769325], [-0.006806720048189163, 0.0140053890645504, 0.02145254984498024, 0.02872040495276451, 0.03780081495642662, 0.036486733704805374, 0.039611902087926865, -0.04440512880682945, 0.03124573454260826, -0.02192244492471218], [-0.02701464854180813, -0.014757942408323288, -0.024180924519896507, 0.04172250255942345, -0.04219558462500572, 0.03747563436627388, -0.04650913551449776, 0.011127520352602005, 0.04595294967293739, -0.02184847556054592], [-0.006806720048189163, 0.0140053890645504, 0.02145254984498024, 0.02872040495276451, 0.03780081495642662, 0.036486733704805374, 0.039611902087926865, -0.04440512880682945, 0.03124573454260826, -0.02192244492471218], [-0.023982036858797073, -0.027257418259978294, 0.04573098197579384, 0.016201388090848923, 0.013864386826753616, -0.03156986087560654, 0.049077656120061874, 0.022651556879281998, 0.021986637264490128, -0.008689701557159424], [0.02299412712454796, 0.03536716476082802, 0.00870039314031601, 0.030999217182397842, -0.012891210615634918, -0.009430192410945892, -0.0003338456153869629, -0.048138439655303955, 0.045616988092660904, -0.0003403909504413605], [0.03608551248908043, 0.0006307587027549744, 0.020599495619535446, -0.01882094144821167, 0.008462049067020416, -0.02544221840798855, 0.024675611406564713, -0.03016718663275242, 0.023762378841638565, 0.01772024855017662], [0.014920327812433243, 0.01062091439962387, -0.02929016388952732, 0.007895458489656448, 0.03723825141787529, 0.0007375702261924744, 0.03805697336792946, -0.01438218355178833, 0.024504009634256363, -0.004445493221282959], [-0.01795663684606552, 0.034565698355436325, 0.02381143346428871, -0.04936647415161133, -0.03826143592596054, -0.018856419250369072, 0.013892386108636856, -0.04494383558630943, -0.025088274851441383, -0.03911080211400986], [-0.048335134983062744, 0.013923857361078262, -0.009481240063905716, 0.023347366601228714, 0.020530615001916885, -0.021283090114593506, 0.006980717182159424, 0.029300954192876816, -0.011621914803981781, 0.01594037190079689], [0.021387826651334763, 0.03577191010117531, -0.04762643575668335, 0.022102776914834976, -0.046537067741155624, 0.0041214339435100555, -0.029616141691803932, 0.002634860575199127, 0.00970228761434555, -0.04579120874404907], [-0.006806720048189163, 0.0140053890645504, 0.02145254984498024, 0.02872040495276451, 0.03780081495642662, 0.036486733704805374, 0.039611902087926865, -0.04440512880682945, 0.03124573454260826, -0.02192244492471218], [-0.01238173246383667, -0.039531491696834564, -0.025574063882231712, -0.016735445708036423, -0.009739376604557037, -0.04093223810195923, -0.0033120624721050262, -0.005035769194364548, 0.013622943311929703, -0.039470374584198], [-0.03595489263534546, -0.02964952029287815, 0.01592712476849556, -0.03801623731851578, -0.016795195639133453, 0.025737058371305466, 0.01828937605023384, -0.040659595280885696, -0.021409928798675537, 0.023786131292581558], [-0.04297232627868652, 0.037131715565919876, -0.0023812055587768555, 0.03259139135479927, -0.014689743518829346, -0.008613944053649902, -0.019670141860842705, -0.04833587631583214, -0.0005766972899436951, -0.04118410497903824], [0.010916925966739655, -0.006987713277339935, -0.033774808049201965, -0.0406595841050148, -0.020766139030456543, 0.0013752467930316925, -0.025410903617739677, -0.04385305568575859, 0.03915804997086525, -0.017511270940303802], [-0.04403369501233101, 0.006369628012180328, 0.018695127218961716, 0.049723315984010696, 0.01901823654770851, 0.003692843019962311, -0.009046472609043121, -0.0386013500392437, 0.008361589163541794, 0.04236564412713051], [-0.03704361990094185, -0.03394665569067001, -0.00884953886270523, 0.0027385950088500977, -0.028418589383363724, -0.04521799087524414, 0.008496653288602829, 0.020206522196531296, -0.04821900278329849, 0.032973337918519974], [-0.04297232627868652, 0.037131715565919876, -0.0023812055587768555, 0.03259139135479927, -0.014689743518829346, -0.008613944053649902, -0.019670141860842705, -0.04833587631583214, -0.0005766972899436951, -0.04118410497903824], [-0.011405013501644135, 0.017734352499246597, -0.007081449031829834, 0.044500019401311874, -0.00157175213098526, 0.02512301132082939, -0.01985536888241768, -0.010995723307132721, 0.025579605251550674, -0.03923311084508896], [-0.008197985589504242, 0.014933887869119644, -0.006958674639463425, 0.008560370653867722, -0.008033894002437592, -0.02803509309887886, 0.01114877313375473, 0.010433722287416458, -0.007184207439422607, -0.005627371370792389], [-0.006806720048189163, 0.0140053890645504, 0.02145254984498024, 0.02872040495276451, 0.03780081495642662, 0.036486733704805374, 0.039611902087926865, -0.04440512880682945, 0.03124573454260826, -0.02192244492471218], [-0.00867994874715805, -0.00848085805773735, 0.03042919561266899, 0.03735921159386635, -0.027727533131837845, 0.004975069314241409, 0.020336594432592392, -0.048689186573028564, 0.03433957323431969, 0.0064256079494953156], [0.03508422151207924, -0.04732884094119072, -0.048520397394895554, -0.006603647023439407, 0.04868805781006813, 0.006590437144041061, 0.03242546692490578, -0.03609204292297363, -0.009005594998598099, 0.010851539671421051], [-0.016827058047056198, 0.038469281047582626, -0.0070403218269348145, -0.04338417202234268, -0.01499490812420845, -0.03708765655755997, -0.02098456583917141, 0.035747576504945755, -0.017099808901548386, -0.01934274472296238], [-0.045865606516599655, 0.024191226810216904, -0.04711656644940376, 0.0023085959255695343, -0.02623460255563259, 0.0037202462553977966, 0.03698042407631874, -0.01723834127187729, -0.039815329015254974, -0.04107260704040527], [0.03240037336945534, -0.048431992530822754, 0.025213923305273056, -0.04812229797244072, 0.03962589427828789, 0.011391162872314453, 0.0301746167242527, -0.026075053960084915, -0.04191763326525688, -0.037695787847042084], [0.04813488945364952, 0.010245800018310547, -0.013667654246091843, 0.04240855202078819, 0.040478456765413284, -0.030292129144072533, -0.029971599578857422, 0.002754639834165573, 0.011454224586486816, -0.012295257300138474], [-0.04048730060458183, 0.01913515105843544, -0.037958454340696335, 0.03390463814139366, 0.018509257584810257, 0.0053299181163311005, -0.04291873052716255, -0.014047682285308838, 0.019556473940610886, 0.012300144881010056], [0.02023926004767418, -0.044851552695035934, 0.017643343657255173, 0.03774315491318703, -0.036302316933870316, 0.02946782484650612, 0.022718731313943863, -0.022193586453795433, 0.006378006190061569, 0.016008976846933365], [-0.04888634756207466, 0.006837058812379837, -0.02265937440097332, 0.012256491929292679, -0.018893146887421608, 0.049599889665842056, -0.024032915011048317, 0.03140971437096596, 0.0027146227657794952, -0.048897530883550644], [-0.03256022930145264, 0.003511689603328705, 0.04923037067055702, -0.039686739444732666, 0.007481742650270462, 0.012723494321107864, -0.02159900777041912, 0.01119307428598404, -0.03730517625808716, -0.036834776401519775], [0.02104378119111061, 0.014727059751749039, -0.04445815086364746, 0.016049329191446304, -0.01226271316409111, -0.0026922933757305145, 0.004896104335784912, -0.025889158248901367, -0.03385589271783829, -0.017448674887418747], [-0.02417982928454876, 0.01929328218102455, -0.02781500853598118, -0.025565851479768753, 0.019773367792367935, 0.0073931217193603516, -0.019336773082613945, 0.02132366970181465, -0.022020673379302025, 0.02526649460196495], [0.010140277445316315, -0.0024934038519859314, -0.04443453624844551, -0.048574935644865036, 0.020498502999544144, 0.03464749827980995, 0.009846795350313187, -0.03690223768353462, -0.018069911748170853, -0.0018848404288291931], [-0.013298369944095612, 0.021457400172948837, 0.016283605247735977, 0.009014476090669632, 0.026290487498044968, -0.01043562963604927, -0.03992725536227226, -0.03901393339037895, -0.025232065469026566, -0.03542083501815796], [0.012320198118686676, 0.017571281641721725, 0.04580136761069298, 0.03135328367352486, 0.0011756792664527893, 0.012562219053506851, 0.010386466979980469, 0.006655048578977585, 0.0035758018493652344, -0.0035653598606586456], [0.008808266371488571, -0.008439220488071442, 0.013119589537382126, -0.04475581645965576, -0.00016913563013076782, -0.036823105067014694, 0.045099321752786636, 0.008962571620941162, 0.011210381984710693, 0.0214088074862957], [-0.00464402511715889, -0.02771315537393093, -0.03200596570968628, 0.00372319296002388, -0.018841778859496117, 0.013838719576597214, 0.01498330757021904, -0.03233134746551514, 0.012161504477262497, 0.04020874574780464], [-0.019780874252319336, 0.03576601669192314, 0.01960182562470436, -0.012739229947328568, 0.034623827785253525, -0.046701252460479736, 0.04739364609122276, 0.021046284586191177, 0.037042129784822464, -0.006914019584655762], [-0.038048647344112396, 0.040240753442049026, 0.015685904771089554, -0.02634887769818306, -0.010146938264369965, 0.007559500634670258, 0.021096613258123398, -0.02150501124560833, 0.0389271043241024, 0.034983668476343155], [-0.04121013730764389, 0.0022749528288841248, 0.03857238218188286, -0.04018140956759453, -0.042916085571050644, 0.04632648453116417, 0.016423333436250687, 0.0410672090947628, 0.009862374514341354, -0.04073544591665268], [0.020072784274816513, -0.044914163649082184, 0.026383761316537857, -0.002515207976102829, -0.014506030827760696, -0.02946688048541546, 0.037810612469911575, -0.048357248306274414, 0.0006872415542602539, 0.04468027129769325], [0.045124005526304245, -0.0014367811381816864, -0.03848383575677872, 0.03970916196703911, 0.02020512893795967, 0.01109243556857109, -0.049713291227817535, -0.03616802766919136, 0.013039950281381607, 0.008581448346376419], [-0.03634033352136612, -0.006283998489379883, 0.03369938209652901, 0.021899189800024033, 0.01442403718829155, -0.04901052638888359, 0.022216249257326126, -0.01730828359723091, 0.018125344067811966, 0.0004221796989440918], [0.034894514828920364, -0.04150873422622681, -0.02263493649661541, 0.006994783878326416, 0.024708952754735947, -0.01299896091222763, -0.023562921211123466, -0.01348181813955307, 0.0036058537662029266, -0.0482904426753521], [0.03654303774237633, 0.046059299260377884, -0.005882106721401215, -0.04354291036725044, 0.016170885413885117, -0.02272867038846016, -0.003569267690181732, -0.0199450496584177, 0.013648297637701035, 0.0344296433031559], [-0.03848809003829956, -0.025083482265472412, 0.038126420229673386, 0.049604665488004684, -0.004395831376314163, 0.006801247596740723, -0.04628075286746025, -0.04383636638522148, -0.023079920560121536, 0.04592813178896904], [0.004066266119480133, -0.038678478449583054, -0.02688133716583252, 0.04936427250504494, 0.0072410330176353455, 0.0345691554248333, 0.022003483027219772, -0.005495704710483551, 0.011995494365692139, -0.045069146901369095], [-0.013183485716581345, -0.04643445089459419, 0.040581513196229935, -0.043473102152347565, -0.03335229307413101, -0.0071732886135578156, 0.0022999756038188934, 0.0014022588729858398, 0.048839304596185684, 0.01906999573111534], [-0.014885284006595612, 0.030882511287927628, -0.04853057861328125, -0.023534072563052177, -0.016097508370876312, -0.0005914568901062012, -0.0036804787814617157, -0.01913248375058174, 0.049145352095365524, -0.049497127532958984], [0.02845228835940361, -0.018715083599090576, -0.01748643070459366, 0.03180434927344322, -0.044196855276823044, 0.04722920432686806, -0.005578767508268356, -0.015284527093172073, 0.011614929884672165, -0.03349093347787857], [0.018664728850126266, 0.044271063059568405, -0.04611072689294815, 0.015275504440069199, 0.044566597789525986, 0.038246724754571915, 0.0031221993267536163, -0.049311794340610504, -0.019577348604798317, -0.049471139907836914], [0.0350206159055233, -0.04019295051693916, -0.02894449234008789, 0.007498539984226227, 0.001802932471036911, 0.002527870237827301, 0.03224961832165718, -0.030970824882388115, -0.02903817966580391, -0.038615308701992035], [0.0350206159055233, -0.04019295051693916, -0.02894449234008789, 0.007498539984226227, 0.001802932471036911, 0.002527870237827301, 0.03224961832165718, -0.030970824882388115, -0.02903817966580391, -0.038615308701992035], [-0.026650799438357353, -0.019875897094607353, -0.043062567710876465, -0.04630148410797119, 0.01484847441315651, 0.022264529019594193, 0.0489560030400753, 0.04819924756884575, -0.009725023061037064, -0.04903210327029228], [-0.024542486295104027, 0.030629131942987442, 0.017127756029367447, -0.00619739294052124, 0.04796172305941582, 0.04051290825009346, 0.02517864480614662, 0.021415624767541885, 0.028517212718725204, 0.013365257531404495], [-0.017772339284420013, -0.01964867115020752, -0.02488340251147747, 0.0015947222709655762, -0.030647968873381615, 0.030186619609594345, 0.04410715028643608, 0.03903670236468315, -0.03717087581753731, 0.02579934522509575], [0.01596825197339058, -0.03717014938592911, -0.022176099941134453, -0.011580944061279297, -0.03572467714548111, 0.009495817124843597, -0.018205247819423676, 0.019504938274621964, -0.01954028569161892, 0.04853174462914467], [0.020405422896146774, 0.02131522074341774, 0.03476409986615181, -0.013704907149076462, -0.028586162254214287, 0.045758698135614395, -0.03331857919692993, -0.04843233898282051, 0.02404090389609337, 0.000709880143404007], [0.02479100599884987, 0.03449204936623573, -0.017143748700618744, -0.02307908609509468, -0.035063136368989944, 0.010228097438812256, -0.029870880767703056, -0.019308138638734818, 0.013093363493680954, -0.030029941350221634], [0.018793273717164993, -0.03855477645993233, -0.019325410947203636, 0.0087495818734169, -0.038122523576021194, 0.035848189145326614, 0.048331353813409805, 0.018750514835119247, -0.030183052644133568, 0.0022465214133262634], [-0.018625985831022263, 0.0042930468916893005, -0.01975022628903389, -0.037001051008701324, 0.04730187729001045, -0.019416427239775658, 0.041060831397771835, 0.02978900447487831, 0.0004059895873069763, 0.04909571632742882], [0.01604313775897026, 0.035104166716337204, -0.04260898754000664, -0.023554766550660133, -0.01325611025094986, -0.02595466375350952, 0.02409900352358818, -0.0472002737224102, 0.017327312380075455, 0.015463698655366898], [-0.006806720048189163, 0.0140053890645504, 0.02145254984498024, 0.02872040495276451, 0.03780081495642662, 0.036486733704805374, 0.039611902087926865, -0.04440512880682945, 0.03124573454260826, -0.02192244492471218], [-0.00893159955739975, 0.044605519622564316, 0.01693040505051613, 0.009610772132873535, -0.013921953737735748, 0.0006412379443645477, 0.003489423543214798, -0.026313722133636475, -0.04153876379132271, 0.005543578416109085], [-0.026650799438357353, -0.019875897094607353, -0.043062567710876465, -0.04630148410797119, 0.01484847441315651, 0.022264529019594193, 0.0489560030400753, 0.04819924756884575, -0.009725023061037064, -0.04903210327029228], [-0.016827058047056198, 0.038469281047582626, -0.0070403218269348145, -0.04338417202234268, -0.01499490812420845, -0.03708765655755997, -0.02098456583917141, 0.035747576504945755, -0.017099808901548386, -0.01934274472296238], [0.035437289625406265, 0.006893634796142578, -0.015382029116153717, -0.03865949064493179, 0.026788298040628433, -0.03388863801956177, 0.004966355860233307, 0.041201796382665634, 0.039743389934301376, -0.007846333086490631], [0.01929057016968727, 0.033133793622255325, 0.029626931995153427, -0.001147352159023285, -0.03399498760700226, 0.0184384323656559, 0.03489471599459648, 0.04872027412056923, 0.02416400983929634, 0.02402135357260704], [-0.00893159955739975, 0.044605519622564316, 0.01693040505051613, 0.009610772132873535, -0.013921953737735748, 0.0006412379443645477, 0.003489423543214798, -0.026313722133636475, -0.04153876379132271, 0.005543578416109085], [0.0404156930744648, -0.030076777562499046, 0.0036028139293193817, -0.0010575540363788605, 0.024555910378694534, -0.02427598275244236, 0.046935830265283585, 0.006863463670015335, 0.04830005392432213, 0.01378047838807106], [0.04760271683335304, -0.01329578086733818, 0.04284637048840523, -0.01781182363629341, 0.01848321035504341, 0.012460362166166306, -0.009280670434236526, 0.02943824604153633, 0.04040912166237831, -0.0025228969752788544], [0.027190569788217545, 0.012869428843259811, -0.037736643105745316, 0.0209430493414402, 0.04709085449576378, -0.026659894734621048, 0.01683957502245903, -0.020242536440491676, -0.034666575491428375, 0.03379540517926216], [0.001665223389863968, 0.01683272048830986, -0.014384854584932327, 0.007487881928682327, 0.037568990141153336, 0.005822718143463135, 0.046511176973581314, 0.040057215839624405, -0.03632379695773125, -0.048084210604429245], [-0.005867015570402145, 0.018325578421354294, 0.010058451443910599, 0.001465238630771637, -0.015172552317380905, 0.00015872716903686523, 0.009192179888486862, 0.04986754432320595, 0.02428979054093361, 0.03775075450539589], [0.0036129355430603027, 0.043952930718660355, -0.006168879568576813, -0.03786959499120712, -0.015227235853672028, 0.006676889955997467, -0.038404203951358795, -0.018212400376796722, -0.046675004065036774, -0.04583555459976196], [-0.009057261049747467, -0.006566096097230911, 0.0311225987970829, 0.014719191938638687, 0.021236274391412735, -0.021648168563842773, 0.03692499175667763, -0.006381593644618988, 0.04969557747244835, -0.047504544258117676], [0.028611768037080765, 0.030546512454748154, -0.02471848763525486, -0.04215347766876221, -0.011092066764831543, 0.020583543926477432, -0.026010096073150635, -0.019507361575961113, 0.019986022263765335, 0.017424557358026505], [0.027190569788217545, 0.012869428843259811, -0.037736643105745316, 0.0209430493414402, 0.04709085449576378, -0.026659894734621048, 0.01683957502245903, -0.020242536440491676, -0.034666575491428375, 0.03379540517926216], [0.026064705103635788, -0.029879380017518997, -0.014076173305511475, 0.003220699727535248, 0.017836902290582657, -0.007479049265384674, 0.025246504694223404, 0.040787193924188614, -0.015483547002077103, -0.011212050914764404], [-0.04403115436434746, -0.025650179013609886, -0.028447091579437256, 0.049522411078214645, -0.042945146560668945, 0.03530801460146904, -0.020640850067138672, -0.046245276927948, 0.03087698295712471, -0.016506336629390717], [-0.006806720048189163, 0.0140053890645504, 0.02145254984498024, 0.02872040495276451, 0.03780081495642662, 0.036486733704805374, 0.039611902087926865, -0.04440512880682945, 0.03124573454260826, -0.02192244492471218], [-0.03890695422887802, -0.048674967139959335, 0.020217422395944595, 0.018411163240671158, 0.031097684055566788, 0.03051464632153511, -0.006963420659303665, -0.046167947351932526, -0.02564837969839573, 0.014078270643949509], [-0.010250307619571686, -0.027407705783843994, -0.00947260856628418, -0.026812328025698662, 0.015115354210138321, -0.004047907888889313, -0.022819554433226585, -0.04644980654120445, 0.004335414618253708, 0.012764398008584976], [0.017051290720701218, -0.025486815720796585, -0.007442973554134369, 0.029271375387907028, -0.014515746384859085, 0.007527567446231842, 0.031376902014017105, 0.007683657109737396, 0.02816387638449669, 0.020853016525506973], [0.011048652231693268, -0.007346153259277344, -0.02238616906106472, -0.019945835694670677, -0.045302607119083405, -0.048883676528930664, 0.017234835773706436, -0.007160387933254242, 0.025372672826051712, 0.005204975605010986], [0.04216298088431358, 0.014279890805482864, -0.023630201816558838, -0.003689240664243698, 0.030150379985570908, 0.011470567435026169, -0.03408724069595337, 0.024474408477544785, -0.020615601912140846, 0.01666763797402382], [-0.0008717887103557587, -0.04696537181735039, 0.041014913469552994, -0.024902189150452614, 0.0014740116894245148, -0.034886013716459274, -0.014363586902618408, 0.024387028068304062, -0.0284211877733469, 0.004800319671630859], [-0.03256022930145264, 0.003511689603328705, 0.04923037067055702, -0.039686739444732666, 0.007481742650270462, 0.012723494321107864, -0.02159900777041912, 0.01119307428598404, -0.03730517625808716, -0.036834776401519775], [-0.043097760528326035, -0.0003434307873249054, 0.009112954139709473, -0.038221489638090134, -0.02846248261630535, -0.007118511945009232, -0.03873490169644356, -0.04395255073904991, -0.009691774845123291, -0.02446434460580349], [-0.026815105229616165, -0.0444408655166626, 0.0128677599132061, 0.04070395603775978, -0.03419743850827217, -0.014172088354825974, 0.008543051779270172, -0.03243100643157959, 0.0210973359644413, 0.010769523680210114], [-0.038048647344112396, 0.040240753442049026, 0.015685904771089554, -0.02634887769818306, -0.010146938264369965, 0.007559500634670258, 0.021096613258123398, -0.02150501124560833, 0.0389271043241024, 0.034983668476343155], [-0.006806720048189163, 0.0140053890645504, 0.02145254984498024, 0.02872040495276451, 0.03780081495642662, 0.036486733704805374, 0.039611902087926865, -0.04440512880682945, 0.03124573454260826, -0.02192244492471218], [0.03432727977633476, -0.012581277638673782, -0.01970811001956463, -0.03585775941610336, -0.02999134175479412, 0.04851112142205238, 0.03537139669060707, 0.0268697626888752, -0.021005725488066673, -0.038219153881073], [0.045387912541627884, -0.022742092609405518, -0.016758549958467484, -0.00627908855676651, 0.0010813698172569275, -0.025269795209169388, 0.01121356338262558, -0.031100118532776833, 0.04477215185761452, -0.04709432274103165], [-0.048335134983062744, 0.013923857361078262, -0.009481240063905716, 0.023347366601228714, 0.020530615001916885, -0.021283090114593506, 0.006980717182159424, 0.029300954192876816, -0.011621914803981781, 0.01594037190079689], [-0.04308108240365982, 0.005775153636932373, 0.03759917989373207, -0.04861130937933922, -0.0144149549305439, 0.005251206457614899, 0.02669445052742958, 0.03456619009375572, 0.039486560970544815, 0.010675035417079926], [-0.04678155109286308, -0.0423128716647625, -0.01418597623705864, 0.0023685097694396973, -0.0383460633456707, 0.02398717775940895, -0.008220590651035309, 0.04187769070267677, -0.01608945056796074, -0.02535611391067505], [0.016465771943330765, -0.006774544715881348, -0.03225431591272354, -0.044819366186857224, 0.022758055478334427, -0.041851770132780075, 0.0299600251019001, 0.04163170978426933, -0.0347743034362793, 0.003587614744901657], [0.013703811913728714, -0.011262036859989166, -0.003908656537532806, 0.01616906002163887, 0.031124595552682877, 0.011694420129060745, -0.01403268426656723, 0.04888433590531349, 0.046859074383974075, -0.019152343273162842], [0.023173559457063675, 0.030315767973661423, -0.04575710371136665, -0.0012217164039611816, 0.030089739710092545, -0.039408016949892044, 0.02561262622475624, -0.024506736546754837, -0.03075619973242283, 0.027990613132715225], [0.03607502207159996, 0.0006127245724201202, 0.029293764382600784, 0.04479637369513512, -0.04897717386484146, 0.02966202422976494, 0.005334876477718353, 0.022517655044794083, 0.007416091859340668, -0.04905508831143379], [0.020072784274816513, -0.044914163649082184, 0.026383761316537857, -0.002515207976102829, -0.014506030827760696, -0.02946688048541546, 0.037810612469911575, -0.048357248306274414, 0.0006872415542602539, 0.04468027129769325], [0.0273941271007061, -0.037044547498226166, 0.028844211250543594, -0.002445496618747711, -0.02921215258538723, -0.0256308913230896, -0.047991324216127396, -0.03688931465148926, -0.03200151026248932, -0.049655187875032425], [-0.012008272111415863, -0.014146614819765091, -0.00268564373254776, -0.009673871099948883, 0.04204154387116432, -0.015104271471500397, 0.010996341705322266, -0.0046596527099609375, 0.01320723071694374, -0.0188505407422781], [0.012320198118686676, 0.017571281641721725, 0.04580136761069298, 0.03135328367352486, 0.0011756792664527893, 0.012562219053506851, 0.010386466979980469, 0.006655048578977585, 0.0035758018493652344, -0.0035653598606586456], [0.003633357584476471, 0.02800903096795082, -0.016155946999788284, 0.019013825803995132, 0.023563135415315628, 0.037293028086423874, -0.01995380036532879, 0.03054380789399147, -0.03498993068933487, -0.03455237299203873], [-0.03256022930145264, 0.003511689603328705, 0.04923037067055702, -0.039686739444732666, 0.007481742650270462, 0.012723494321107864, -0.02159900777041912, 0.01119307428598404, -0.03730517625808716, -0.036834776401519775], [0.02638791874051094, -0.002004466950893402, 0.006238281726837158, -0.02508716657757759, -0.030183911323547363, -0.027779174968600273, 0.02363744005560875, -0.014607656747102737, 0.007215060293674469, -0.005611371248960495], [0.02638791874051094, -0.002004466950893402, 0.006238281726837158, -0.02508716657757759, -0.030183911323547363, -0.027779174968600273, 0.02363744005560875, -0.014607656747102737, 0.007215060293674469, -0.005611371248960495], [0.02638791874051094, -0.002004466950893402, 0.006238281726837158, -0.02508716657757759, -0.030183911323547363, -0.027779174968600273, 0.02363744005560875, -0.014607656747102737, 0.007215060293674469, -0.005611371248960495], [0.02638791874051094, -0.002004466950893402, 0.006238281726837158, -0.02508716657757759, -0.030183911323547363, -0.027779174968600273, 0.02363744005560875, -0.014607656747102737, 0.007215060293674469, -0.005611371248960495], [0.02638791874051094, -0.002004466950893402, 0.006238281726837158, -0.02508716657757759, -0.030183911323547363, -0.027779174968600273, 0.02363744005560875, -0.014607656747102737, 0.007215060293674469, -0.005611371248960495], [0.02638791874051094, -0.002004466950893402, 0.006238281726837158, -0.02508716657757759, -0.030183911323547363, -0.027779174968600273, 0.02363744005560875, -0.014607656747102737, 0.007215060293674469, -0.005611371248960495], [0.02638791874051094, -0.002004466950893402, 0.006238281726837158, -0.02508716657757759, -0.030183911323547363, -0.027779174968600273, 0.02363744005560875, -0.014607656747102737, 0.007215060293674469, -0.005611371248960495], [0.02638791874051094, -0.002004466950893402, 0.006238281726837158, -0.02508716657757759, -0.030183911323547363, -0.027779174968600273, 0.02363744005560875, -0.014607656747102737, 0.007215060293674469, -0.005611371248960495], [0.02638791874051094, -0.002004466950893402, 0.006238281726837158, -0.02508716657757759, -0.030183911323547363, -0.027779174968600273, 0.02363744005560875, -0.014607656747102737, 0.007215060293674469, -0.005611371248960495], [0.02638791874051094, -0.002004466950893402, 0.006238281726837158, -0.02508716657757759, -0.030183911323547363, -0.027779174968600273, 0.02363744005560875, -0.014607656747102737, 0.007215060293674469, -0.005611371248960495], [0.02638791874051094, -0.002004466950893402, 0.006238281726837158, -0.02508716657757759, -0.030183911323547363, -0.027779174968600273, 0.02363744005560875, -0.014607656747102737, 0.007215060293674469, -0.005611371248960495], [0.02638791874051094, -0.002004466950893402, 0.006238281726837158, -0.02508716657757759, -0.030183911323547363, -0.027779174968600273, 0.02363744005560875, -0.014607656747102737, 0.007215060293674469, -0.005611371248960495], [0.02638791874051094, -0.002004466950893402, 0.006238281726837158, -0.02508716657757759, -0.030183911323547363, -0.027779174968600273, 0.02363744005560875, -0.014607656747102737, 0.007215060293674469, -0.005611371248960495], [0.02638791874051094, -0.002004466950893402, 0.006238281726837158, -0.02508716657757759, -0.030183911323547363, -0.027779174968600273, 0.02363744005560875, -0.014607656747102737, 0.007215060293674469, -0.005611371248960495], [0.02638791874051094, -0.002004466950893402, 0.006238281726837158, -0.02508716657757759, -0.030183911323547363, -0.027779174968600273, 0.02363744005560875, -0.014607656747102737, 0.007215060293674469, -0.005611371248960495], [0.02638791874051094, -0.002004466950893402, 0.006238281726837158, -0.02508716657757759, -0.030183911323547363, -0.027779174968600273, 0.02363744005560875, -0.014607656747102737, 0.007215060293674469, -0.005611371248960495], [0.02638791874051094, -0.002004466950893402, 0.006238281726837158, -0.02508716657757759, -0.030183911323547363, -0.027779174968600273, 0.02363744005560875, -0.014607656747102737, 0.007215060293674469, -0.005611371248960495], [0.02638791874051094, -0.002004466950893402, 0.006238281726837158, -0.02508716657757759, -0.030183911323547363, -0.027779174968600273, 0.02363744005560875, -0.014607656747102737, 0.007215060293674469, -0.005611371248960495], [0.02638791874051094, -0.002004466950893402, 0.006238281726837158, -0.02508716657757759, -0.030183911323547363, -0.027779174968600273, 0.02363744005560875, -0.014607656747102737, 0.007215060293674469, -0.005611371248960495], [0.02638791874051094, -0.002004466950893402, 0.006238281726837158, -0.02508716657757759, -0.030183911323547363, -0.027779174968600273, 0.02363744005560875, -0.014607656747102737, 0.007215060293674469, -0.005611371248960495], [0.02638791874051094, -0.002004466950893402, 0.006238281726837158, -0.02508716657757759, -0.030183911323547363, -0.027779174968600273, 0.02363744005560875, -0.014607656747102737, 0.007215060293674469, -0.005611371248960495], [0.02638791874051094, -0.002004466950893402, 0.006238281726837158, -0.02508716657757759, -0.030183911323547363, -0.027779174968600273, 0.02363744005560875, -0.014607656747102737, 0.007215060293674469, -0.005611371248960495], [0.02638791874051094, -0.002004466950893402, 0.006238281726837158, -0.02508716657757759, -0.030183911323547363, -0.027779174968600273, 0.02363744005560875, -0.014607656747102737, 0.007215060293674469, -0.005611371248960495], [0.02638791874051094, -0.002004466950893402, 0.006238281726837158, -0.02508716657757759, -0.030183911323547363, -0.027779174968600273, 0.02363744005560875, -0.014607656747102737, 0.007215060293674469, -0.005611371248960495], [0.02638791874051094, -0.002004466950893402, 0.006238281726837158, -0.02508716657757759, -0.030183911323547363, -0.027779174968600273, 0.02363744005560875, -0.014607656747102737, 0.007215060293674469, -0.005611371248960495], [0.02638791874051094, -0.002004466950893402, 0.006238281726837158, -0.02508716657757759, -0.030183911323547363, -0.027779174968600273, 0.02363744005560875, -0.014607656747102737, 0.007215060293674469, -0.005611371248960495], [0.02638791874051094, -0.002004466950893402, 0.006238281726837158, -0.02508716657757759, -0.030183911323547363, -0.027779174968600273, 0.02363744005560875, -0.014607656747102737, 0.007215060293674469, -0.005611371248960495], [0.02638791874051094, -0.002004466950893402, 0.006238281726837158, -0.02508716657757759, -0.030183911323547363, -0.027779174968600273, 0.02363744005560875, -0.014607656747102737, 0.007215060293674469, -0.005611371248960495], [0.02638791874051094, -0.002004466950893402, 0.006238281726837158, -0.02508716657757759, -0.030183911323547363, -0.027779174968600273, 0.02363744005560875, -0.014607656747102737, 0.007215060293674469, -0.005611371248960495], [0.02638791874051094, -0.002004466950893402, 0.006238281726837158, -0.02508716657757759, -0.030183911323547363, -0.027779174968600273, 0.02363744005560875, -0.014607656747102737, 0.007215060293674469, -0.005611371248960495], [0.02638791874051094, -0.002004466950893402, 0.006238281726837158, -0.02508716657757759, -0.030183911323547363, -0.027779174968600273, 0.02363744005560875, -0.014607656747102737, 0.007215060293674469, -0.005611371248960495], [0.02638791874051094, -0.002004466950893402, 0.006238281726837158, -0.02508716657757759, -0.030183911323547363, -0.027779174968600273, 0.02363744005560875, -0.014607656747102737, 0.007215060293674469, -0.005611371248960495], [0.02638791874051094, -0.002004466950893402, 0.006238281726837158, -0.02508716657757759, -0.030183911323547363, -0.027779174968600273, 0.02363744005560875, -0.014607656747102737, 0.007215060293674469, -0.005611371248960495], [0.02638791874051094, -0.002004466950893402, 0.006238281726837158, -0.02508716657757759, -0.030183911323547363, -0.027779174968600273, 0.02363744005560875, -0.014607656747102737, 0.007215060293674469, -0.005611371248960495], [0.02638791874051094, -0.002004466950893402, 0.006238281726837158, -0.02508716657757759, -0.030183911323547363, -0.027779174968600273, 0.02363744005560875, -0.014607656747102737, 0.007215060293674469, -0.005611371248960495], [0.02638791874051094, -0.002004466950893402, 0.006238281726837158, -0.02508716657757759, -0.030183911323547363, -0.027779174968600273, 0.02363744005560875, -0.014607656747102737, 0.007215060293674469, -0.005611371248960495], [0.02638791874051094, -0.002004466950893402, 0.006238281726837158, -0.02508716657757759, -0.030183911323547363, -0.027779174968600273, 0.02363744005560875, -0.014607656747102737, 0.007215060293674469, -0.005611371248960495], [0.02638791874051094, -0.002004466950893402, 0.006238281726837158, -0.02508716657757759, -0.030183911323547363, -0.027779174968600273, 0.02363744005560875, -0.014607656747102737, 0.007215060293674469, -0.005611371248960495], [0.02638791874051094, -0.002004466950893402, 0.006238281726837158, -0.02508716657757759, -0.030183911323547363, -0.027779174968600273, 0.02363744005560875, -0.014607656747102737, 0.007215060293674469, -0.005611371248960495], [0.02638791874051094, -0.002004466950893402, 0.006238281726837158, -0.02508716657757759, -0.030183911323547363, -0.027779174968600273, 0.02363744005560875, -0.014607656747102737, 0.007215060293674469, -0.005611371248960495], [0.02638791874051094, -0.002004466950893402, 0.006238281726837158, -0.02508716657757759, -0.030183911323547363, -0.027779174968600273, 0.02363744005560875, -0.014607656747102737, 0.007215060293674469, -0.005611371248960495], [0.02638791874051094, -0.002004466950893402, 0.006238281726837158, -0.02508716657757759, -0.030183911323547363, -0.027779174968600273, 0.02363744005560875, -0.014607656747102737, 0.007215060293674469, -0.005611371248960495], [0.02638791874051094, -0.002004466950893402, 0.006238281726837158, -0.02508716657757759, -0.030183911323547363, -0.027779174968600273, 0.02363744005560875, -0.014607656747102737, 0.007215060293674469, -0.005611371248960495], [0.02638791874051094, -0.002004466950893402, 0.006238281726837158, -0.02508716657757759, -0.030183911323547363, -0.027779174968600273, 0.02363744005560875, -0.014607656747102737, 0.007215060293674469, -0.005611371248960495], [0.02638791874051094, -0.002004466950893402, 0.006238281726837158, -0.02508716657757759, -0.030183911323547363, -0.027779174968600273, 0.02363744005560875, -0.014607656747102737, 0.007215060293674469, -0.005611371248960495], [0.02638791874051094, -0.002004466950893402, 0.006238281726837158, -0.02508716657757759, -0.030183911323547363, -0.027779174968600273, 0.02363744005560875, -0.014607656747102737, 0.007215060293674469, -0.005611371248960495], [0.02638791874051094, -0.002004466950893402, 0.006238281726837158, -0.02508716657757759, -0.030183911323547363, -0.027779174968600273, 0.02363744005560875, -0.014607656747102737, 0.007215060293674469, -0.005611371248960495], [0.02638791874051094, -0.002004466950893402, 0.006238281726837158, -0.02508716657757759, -0.030183911323547363, -0.027779174968600273, 0.02363744005560875, -0.014607656747102737, 0.007215060293674469, -0.005611371248960495], [0.02638791874051094, -0.002004466950893402, 0.006238281726837158, -0.02508716657757759, -0.030183911323547363, -0.027779174968600273, 0.02363744005560875, -0.014607656747102737, 0.007215060293674469, -0.005611371248960495], [0.02638791874051094, -0.002004466950893402, 0.006238281726837158, -0.02508716657757759, -0.030183911323547363, -0.027779174968600273, 0.02363744005560875, -0.014607656747102737, 0.007215060293674469, -0.005611371248960495], [0.02638791874051094, -0.002004466950893402, 0.006238281726837158, -0.02508716657757759, -0.030183911323547363, -0.027779174968600273, 0.02363744005560875, -0.014607656747102737, 0.007215060293674469, -0.005611371248960495], [0.02638791874051094, -0.002004466950893402, 0.006238281726837158, -0.02508716657757759, -0.030183911323547363, -0.027779174968600273, 0.02363744005560875, -0.014607656747102737, 0.007215060293674469, -0.005611371248960495], [0.02638791874051094, -0.002004466950893402, 0.006238281726837158, -0.02508716657757759, -0.030183911323547363, -0.027779174968600273, 0.02363744005560875, -0.014607656747102737, 0.007215060293674469, -0.005611371248960495], [0.02638791874051094, -0.002004466950893402, 0.006238281726837158, -0.02508716657757759, -0.030183911323547363, -0.027779174968600273, 0.02363744005560875, -0.014607656747102737, 0.007215060293674469, -0.005611371248960495], [0.02638791874051094, -0.002004466950893402, 0.006238281726837158, -0.02508716657757759, -0.030183911323547363, -0.027779174968600273, 0.02363744005560875, -0.014607656747102737, 0.007215060293674469, -0.005611371248960495], [0.02638791874051094, -0.002004466950893402, 0.006238281726837158, -0.02508716657757759, -0.030183911323547363, -0.027779174968600273, 0.02363744005560875, -0.014607656747102737, 0.007215060293674469, -0.005611371248960495], [0.02638791874051094, -0.002004466950893402, 0.006238281726837158, -0.02508716657757759, -0.030183911323547363, -0.027779174968600273, 0.02363744005560875, -0.014607656747102737, 0.007215060293674469, -0.005611371248960495], [0.02638791874051094, -0.002004466950893402, 0.006238281726837158, -0.02508716657757759, -0.030183911323547363, -0.027779174968600273, 0.02363744005560875, -0.014607656747102737, 0.007215060293674469, -0.005611371248960495], [0.02638791874051094, -0.002004466950893402, 0.006238281726837158, -0.02508716657757759, -0.030183911323547363, -0.027779174968600273, 0.02363744005560875, -0.014607656747102737, 0.007215060293674469, -0.005611371248960495], [0.02638791874051094, -0.002004466950893402, 0.006238281726837158, -0.02508716657757759, -0.030183911323547363, -0.027779174968600273, 0.02363744005560875, -0.014607656747102737, 0.007215060293674469, -0.005611371248960495], [0.02638791874051094, -0.002004466950893402, 0.006238281726837158, -0.02508716657757759, -0.030183911323547363, -0.027779174968600273, 0.02363744005560875, -0.014607656747102737, 0.007215060293674469, -0.005611371248960495], [0.02638791874051094, -0.002004466950893402, 0.006238281726837158, -0.02508716657757759, -0.030183911323547363, -0.027779174968600273, 0.02363744005560875, -0.014607656747102737, 0.007215060293674469, -0.005611371248960495], [0.02638791874051094, -0.002004466950893402, 0.006238281726837158, -0.02508716657757759, -0.030183911323547363, -0.027779174968600273, 0.02363744005560875, -0.014607656747102737, 0.007215060293674469, -0.005611371248960495], [0.02638791874051094, -0.002004466950893402, 0.006238281726837158, -0.02508716657757759, -0.030183911323547363, -0.027779174968600273, 0.02363744005560875, -0.014607656747102737, 0.007215060293674469, -0.005611371248960495], [0.02638791874051094, -0.002004466950893402, 0.006238281726837158, -0.02508716657757759, -0.030183911323547363, -0.027779174968600273, 0.02363744005560875, -0.014607656747102737, 0.007215060293674469, -0.005611371248960495], [0.02638791874051094, -0.002004466950893402, 0.006238281726837158, -0.02508716657757759, -0.030183911323547363, -0.027779174968600273, 0.02363744005560875, -0.014607656747102737, 0.007215060293674469, -0.005611371248960495], [0.02638791874051094, -0.002004466950893402, 0.006238281726837158, -0.02508716657757759, -0.030183911323547363, -0.027779174968600273, 0.02363744005560875, -0.014607656747102737, 0.007215060293674469, -0.005611371248960495], [0.02638791874051094, -0.002004466950893402, 0.006238281726837158, -0.02508716657757759, -0.030183911323547363, -0.027779174968600273, 0.02363744005560875, -0.014607656747102737, 0.007215060293674469, -0.005611371248960495], [0.02638791874051094, -0.002004466950893402, 0.006238281726837158, -0.02508716657757759, -0.030183911323547363, -0.027779174968600273, 0.02363744005560875, -0.014607656747102737, 0.007215060293674469, -0.005611371248960495], [0.02638791874051094, -0.002004466950893402, 0.006238281726837158, -0.02508716657757759, -0.030183911323547363, -0.027779174968600273, 0.02363744005560875, -0.014607656747102737, 0.007215060293674469, -0.005611371248960495], [0.02638791874051094, -0.002004466950893402, 0.006238281726837158, -0.02508716657757759, -0.030183911323547363, -0.027779174968600273, 0.02363744005560875, -0.014607656747102737, 0.007215060293674469, -0.005611371248960495], [0.02638791874051094, -0.002004466950893402, 0.006238281726837158, -0.02508716657757759, -0.030183911323547363, -0.027779174968600273, 0.02363744005560875, -0.014607656747102737, 0.007215060293674469, -0.005611371248960495], [0.02638791874051094, -0.002004466950893402, 0.006238281726837158, -0.02508716657757759, -0.030183911323547363, -0.027779174968600273, 0.02363744005560875, -0.014607656747102737, 0.007215060293674469, -0.005611371248960495], [0.02638791874051094, -0.002004466950893402, 0.006238281726837158, -0.02508716657757759, -0.030183911323547363, -0.027779174968600273, 0.02363744005560875, -0.014607656747102737, 0.007215060293674469, -0.005611371248960495], [0.02638791874051094, -0.002004466950893402, 0.006238281726837158, -0.02508716657757759, -0.030183911323547363, -0.027779174968600273, 0.02363744005560875, -0.014607656747102737, 0.007215060293674469, -0.005611371248960495], [0.02638791874051094, -0.002004466950893402, 0.006238281726837158, -0.02508716657757759, -0.030183911323547363, -0.027779174968600273, 0.02363744005560875, -0.014607656747102737, 0.007215060293674469, -0.005611371248960495], [0.02638791874051094, -0.002004466950893402, 0.006238281726837158, -0.02508716657757759, -0.030183911323547363, -0.027779174968600273, 0.02363744005560875, -0.014607656747102737, 0.007215060293674469, -0.005611371248960495], [0.02638791874051094, -0.002004466950893402, 0.006238281726837158, -0.02508716657757759, -0.030183911323547363, -0.027779174968600273, 0.02363744005560875, -0.014607656747102737, 0.007215060293674469, -0.005611371248960495], [0.02638791874051094, -0.002004466950893402, 0.006238281726837158, -0.02508716657757759, -0.030183911323547363, -0.027779174968600273, 0.02363744005560875, -0.014607656747102737, 0.007215060293674469, -0.005611371248960495], [0.02638791874051094, -0.002004466950893402, 0.006238281726837158, -0.02508716657757759, -0.030183911323547363, -0.027779174968600273, 0.02363744005560875, -0.014607656747102737, 0.007215060293674469, -0.005611371248960495], [0.02638791874051094, -0.002004466950893402, 0.006238281726837158, -0.02508716657757759, -0.030183911323547363, -0.027779174968600273, 0.02363744005560875, -0.014607656747102737, 0.007215060293674469, -0.005611371248960495], [0.02638791874051094, -0.002004466950893402, 0.006238281726837158, -0.02508716657757759, -0.030183911323547363, -0.027779174968600273, 0.02363744005560875, -0.014607656747102737, 0.007215060293674469, -0.005611371248960495], [0.02638791874051094, -0.002004466950893402, 0.006238281726837158, -0.02508716657757759, -0.030183911323547363, -0.027779174968600273, 0.02363744005560875, -0.014607656747102737, 0.007215060293674469, -0.005611371248960495], [0.02638791874051094, -0.002004466950893402, 0.006238281726837158, -0.02508716657757759, -0.030183911323547363, -0.027779174968600273, 0.02363744005560875, -0.014607656747102737, 0.007215060293674469, -0.005611371248960495], [0.02638791874051094, -0.002004466950893402, 0.006238281726837158, -0.02508716657757759, -0.030183911323547363, -0.027779174968600273, 0.02363744005560875, -0.014607656747102737, 0.007215060293674469, -0.005611371248960495], [0.02638791874051094, -0.002004466950893402, 0.006238281726837158, -0.02508716657757759, -0.030183911323547363, -0.027779174968600273, 0.02363744005560875, -0.014607656747102737, 0.007215060293674469, -0.005611371248960495], [0.02638791874051094, -0.002004466950893402, 0.006238281726837158, -0.02508716657757759, -0.030183911323547363, -0.027779174968600273, 0.02363744005560875, -0.014607656747102737, 0.007215060293674469, -0.005611371248960495], [0.02638791874051094, -0.002004466950893402, 0.006238281726837158, -0.02508716657757759, -0.030183911323547363, -0.027779174968600273, 0.02363744005560875, -0.014607656747102737, 0.007215060293674469, -0.005611371248960495], [0.02638791874051094, -0.002004466950893402, 0.006238281726837158, -0.02508716657757759, -0.030183911323547363, -0.027779174968600273, 0.02363744005560875, -0.014607656747102737, 0.007215060293674469, -0.005611371248960495], [0.02638791874051094, -0.002004466950893402, 0.006238281726837158, -0.02508716657757759, -0.030183911323547363, -0.027779174968600273, 0.02363744005560875, -0.014607656747102737, 0.007215060293674469, -0.005611371248960495], [0.02638791874051094, -0.002004466950893402, 0.006238281726837158, -0.02508716657757759, -0.030183911323547363, -0.027779174968600273, 0.02363744005560875, -0.014607656747102737, 0.007215060293674469, -0.005611371248960495], [0.02638791874051094, -0.002004466950893402, 0.006238281726837158, -0.02508716657757759, -0.030183911323547363, -0.027779174968600273, 0.02363744005560875, -0.014607656747102737, 0.007215060293674469, -0.005611371248960495], [0.02638791874051094, -0.002004466950893402, 0.006238281726837158, -0.02508716657757759, -0.030183911323547363, -0.027779174968600273, 0.02363744005560875, -0.014607656747102737, 0.007215060293674469, -0.005611371248960495], [0.02638791874051094, -0.002004466950893402, 0.006238281726837158, -0.02508716657757759, -0.030183911323547363, -0.027779174968600273, 0.02363744005560875, -0.014607656747102737, 0.007215060293674469, -0.005611371248960495], [0.02638791874051094, -0.002004466950893402, 0.006238281726837158, -0.02508716657757759, -0.030183911323547363, -0.027779174968600273, 0.02363744005560875, -0.014607656747102737, 0.007215060293674469, -0.005611371248960495], [0.02638791874051094, -0.002004466950893402, 0.006238281726837158, -0.02508716657757759, -0.030183911323547363, -0.027779174968600273, 0.02363744005560875, -0.014607656747102737, 0.007215060293674469, -0.005611371248960495], [0.02638791874051094, -0.002004466950893402, 0.006238281726837158, -0.02508716657757759, -0.030183911323547363, -0.027779174968600273, 0.02363744005560875, -0.014607656747102737, 0.007215060293674469, -0.005611371248960495], [0.02638791874051094, -0.002004466950893402, 0.006238281726837158, -0.02508716657757759, -0.030183911323547363, -0.027779174968600273, 0.02363744005560875, -0.014607656747102737, 0.007215060293674469, -0.005611371248960495], [0.02638791874051094, -0.002004466950893402, 0.006238281726837158, -0.02508716657757759, -0.030183911323547363, -0.027779174968600273, 0.02363744005560875, -0.014607656747102737, 0.007215060293674469, -0.005611371248960495], [0.02638791874051094, -0.002004466950893402, 0.006238281726837158, -0.02508716657757759, -0.030183911323547363, -0.027779174968600273, 0.02363744005560875, -0.014607656747102737, 0.007215060293674469, -0.005611371248960495], [0.02638791874051094, -0.002004466950893402, 0.006238281726837158, -0.02508716657757759, -0.030183911323547363, -0.027779174968600273, 0.02363744005560875, -0.014607656747102737, 0.007215060293674469, -0.005611371248960495], [0.02638791874051094, -0.002004466950893402, 0.006238281726837158, -0.02508716657757759, -0.030183911323547363, -0.027779174968600273, 0.02363744005560875, -0.014607656747102737, 0.007215060293674469, -0.005611371248960495], [0.02638791874051094, -0.002004466950893402, 0.006238281726837158, -0.02508716657757759, -0.030183911323547363, -0.027779174968600273, 0.02363744005560875, -0.014607656747102737, 0.007215060293674469, -0.005611371248960495], [0.02638791874051094, -0.002004466950893402, 0.006238281726837158, -0.02508716657757759, -0.030183911323547363, -0.027779174968600273, 0.02363744005560875, -0.014607656747102737, 0.007215060293674469, -0.005611371248960495], [0.02638791874051094, -0.002004466950893402, 0.006238281726837158, -0.02508716657757759, -0.030183911323547363, -0.027779174968600273, 0.02363744005560875, -0.014607656747102737, 0.007215060293674469, -0.005611371248960495], [0.02638791874051094, -0.002004466950893402, 0.006238281726837158, -0.02508716657757759, -0.030183911323547363, -0.027779174968600273, 0.02363744005560875, -0.014607656747102737, 0.007215060293674469, -0.005611371248960495], [0.02638791874051094, -0.002004466950893402, 0.006238281726837158, -0.02508716657757759, -0.030183911323547363, -0.027779174968600273, 0.02363744005560875, -0.014607656747102737, 0.007215060293674469, -0.005611371248960495], [0.02638791874051094, -0.002004466950893402, 0.006238281726837158, -0.02508716657757759, -0.030183911323547363, -0.027779174968600273, 0.02363744005560875, -0.014607656747102737, 0.007215060293674469, -0.005611371248960495], [0.02638791874051094, -0.002004466950893402, 0.006238281726837158, -0.02508716657757759, -0.030183911323547363, -0.027779174968600273, 0.02363744005560875, -0.014607656747102737, 0.007215060293674469, -0.005611371248960495], [0.02638791874051094, -0.002004466950893402, 0.006238281726837158, -0.02508716657757759, -0.030183911323547363, -0.027779174968600273, 0.02363744005560875, -0.014607656747102737, 0.007215060293674469, -0.005611371248960495], [0.02638791874051094, -0.002004466950893402, 0.006238281726837158, -0.02508716657757759, -0.030183911323547363, -0.027779174968600273, 0.02363744005560875, -0.014607656747102737, 0.007215060293674469, -0.005611371248960495], [0.02638791874051094, -0.002004466950893402, 0.006238281726837158, -0.02508716657757759, -0.030183911323547363, -0.027779174968600273, 0.02363744005560875, -0.014607656747102737, 0.007215060293674469, -0.005611371248960495], [0.02638791874051094, -0.002004466950893402, 0.006238281726837158, -0.02508716657757759, -0.030183911323547363, -0.027779174968600273, 0.02363744005560875, -0.014607656747102737, 0.007215060293674469, -0.005611371248960495], [0.02638791874051094, -0.002004466950893402, 0.006238281726837158, -0.02508716657757759, -0.030183911323547363, -0.027779174968600273, 0.02363744005560875, -0.014607656747102737, 0.007215060293674469, -0.005611371248960495], [0.02638791874051094, -0.002004466950893402, 0.006238281726837158, -0.02508716657757759, -0.030183911323547363, -0.027779174968600273, 0.02363744005560875, -0.014607656747102737, 0.007215060293674469, -0.005611371248960495], [0.02638791874051094, -0.002004466950893402, 0.006238281726837158, -0.02508716657757759, -0.030183911323547363, -0.027779174968600273, 0.02363744005560875, -0.014607656747102737, 0.007215060293674469, -0.005611371248960495], [0.02638791874051094, -0.002004466950893402, 0.006238281726837158, -0.02508716657757759, -0.030183911323547363, -0.027779174968600273, 0.02363744005560875, -0.014607656747102737, 0.007215060293674469, -0.005611371248960495], [0.02638791874051094, -0.002004466950893402, 0.006238281726837158, -0.02508716657757759, -0.030183911323547363, -0.027779174968600273, 0.02363744005560875, -0.014607656747102737, 0.007215060293674469, -0.005611371248960495], [0.02638791874051094, -0.002004466950893402, 0.006238281726837158, -0.02508716657757759, -0.030183911323547363, -0.027779174968600273, 0.02363744005560875, -0.014607656747102737, 0.007215060293674469, -0.005611371248960495], [0.02638791874051094, -0.002004466950893402, 0.006238281726837158, -0.02508716657757759, -0.030183911323547363, -0.027779174968600273, 0.02363744005560875, -0.014607656747102737, 0.007215060293674469, -0.005611371248960495], [0.02638791874051094, -0.002004466950893402, 0.006238281726837158, -0.02508716657757759, -0.030183911323547363, -0.027779174968600273, 0.02363744005560875, -0.014607656747102737, 0.007215060293674469, -0.005611371248960495], [0.02638791874051094, -0.002004466950893402, 0.006238281726837158, -0.02508716657757759, -0.030183911323547363, -0.027779174968600273, 0.02363744005560875, -0.014607656747102737, 0.007215060293674469, -0.005611371248960495], [0.02638791874051094, -0.002004466950893402, 0.006238281726837158, -0.02508716657757759, -0.030183911323547363, -0.027779174968600273, 0.02363744005560875, -0.014607656747102737, 0.007215060293674469, -0.005611371248960495], [0.02638791874051094, -0.002004466950893402, 0.006238281726837158, -0.02508716657757759, -0.030183911323547363, -0.027779174968600273, 0.02363744005560875, -0.014607656747102737, 0.007215060293674469, -0.005611371248960495], [0.02638791874051094, -0.002004466950893402, 0.006238281726837158, -0.02508716657757759, -0.030183911323547363, -0.027779174968600273, 0.02363744005560875, -0.014607656747102737, 0.007215060293674469, -0.005611371248960495], [0.02638791874051094, -0.002004466950893402, 0.006238281726837158, -0.02508716657757759, -0.030183911323547363, -0.027779174968600273, 0.02363744005560875, -0.014607656747102737, 0.007215060293674469, -0.005611371248960495], [0.02638791874051094, -0.002004466950893402, 0.006238281726837158, -0.02508716657757759, -0.030183911323547363, -0.027779174968600273, 0.02363744005560875, -0.014607656747102737, 0.007215060293674469, -0.005611371248960495], [0.02638791874051094, -0.002004466950893402, 0.006238281726837158, -0.02508716657757759, -0.030183911323547363, -0.027779174968600273, 0.02363744005560875, -0.014607656747102737, 0.007215060293674469, -0.005611371248960495], [0.02638791874051094, -0.002004466950893402, 0.006238281726837158, -0.02508716657757759, -0.030183911323547363, -0.027779174968600273, 0.02363744005560875, -0.014607656747102737, 0.007215060293674469, -0.005611371248960495], [0.02638791874051094, -0.002004466950893402, 0.006238281726837158, -0.02508716657757759, -0.030183911323547363, -0.027779174968600273, 0.02363744005560875, -0.014607656747102737, 0.007215060293674469, -0.005611371248960495], [0.02638791874051094, -0.002004466950893402, 0.006238281726837158, -0.02508716657757759, -0.030183911323547363, -0.027779174968600273, 0.02363744005560875, -0.014607656747102737, 0.007215060293674469, -0.005611371248960495], [0.02638791874051094, -0.002004466950893402, 0.006238281726837158, -0.02508716657757759, -0.030183911323547363, -0.027779174968600273, 0.02363744005560875, -0.014607656747102737, 0.007215060293674469, -0.005611371248960495], [0.02638791874051094, -0.002004466950893402, 0.006238281726837158, -0.02508716657757759, -0.030183911323547363, -0.027779174968600273, 0.02363744005560875, -0.014607656747102737, 0.007215060293674469, -0.005611371248960495], [0.02638791874051094, -0.002004466950893402, 0.006238281726837158, -0.02508716657757759, -0.030183911323547363, -0.027779174968600273, 0.02363744005560875, -0.014607656747102737, 0.007215060293674469, -0.005611371248960495], [0.02638791874051094, -0.002004466950893402, 0.006238281726837158, -0.02508716657757759, -0.030183911323547363, -0.027779174968600273, 0.02363744005560875, -0.014607656747102737, 0.007215060293674469, -0.005611371248960495], [0.02638791874051094, -0.002004466950893402, 0.006238281726837158, -0.02508716657757759, -0.030183911323547363, -0.027779174968600273, 0.02363744005560875, -0.014607656747102737, 0.007215060293674469, -0.005611371248960495], [0.02638791874051094, -0.002004466950893402, 0.006238281726837158, -0.02508716657757759, -0.030183911323547363, -0.027779174968600273, 0.02363744005560875, -0.014607656747102737, 0.007215060293674469, -0.005611371248960495], [0.02638791874051094, -0.002004466950893402, 0.006238281726837158, -0.02508716657757759, -0.030183911323547363, -0.027779174968600273, 0.02363744005560875, -0.014607656747102737, 0.007215060293674469, -0.005611371248960495], [0.02638791874051094, -0.002004466950893402, 0.006238281726837158, -0.02508716657757759, -0.030183911323547363, -0.027779174968600273, 0.02363744005560875, -0.014607656747102737, 0.007215060293674469, -0.005611371248960495], [0.02638791874051094, -0.002004466950893402, 0.006238281726837158, -0.02508716657757759, -0.030183911323547363, -0.027779174968600273, 0.02363744005560875, -0.014607656747102737, 0.007215060293674469, -0.005611371248960495], [0.02638791874051094, -0.002004466950893402, 0.006238281726837158, -0.02508716657757759, -0.030183911323547363, -0.027779174968600273, 0.02363744005560875, -0.014607656747102737, 0.007215060293674469, -0.005611371248960495], [0.02638791874051094, -0.002004466950893402, 0.006238281726837158, -0.02508716657757759, -0.030183911323547363, -0.027779174968600273, 0.02363744005560875, -0.014607656747102737, 0.007215060293674469, -0.005611371248960495], [0.02638791874051094, -0.002004466950893402, 0.006238281726837158, -0.02508716657757759, -0.030183911323547363, -0.027779174968600273, 0.02363744005560875, -0.014607656747102737, 0.007215060293674469, -0.005611371248960495], [0.02638791874051094, -0.002004466950893402, 0.006238281726837158, -0.02508716657757759, -0.030183911323547363, -0.027779174968600273, 0.02363744005560875, -0.014607656747102737, 0.007215060293674469, -0.005611371248960495], [0.02638791874051094, -0.002004466950893402, 0.006238281726837158, -0.02508716657757759, -0.030183911323547363, -0.027779174968600273, 0.02363744005560875, -0.014607656747102737, 0.007215060293674469, -0.005611371248960495], [0.02638791874051094, -0.002004466950893402, 0.006238281726837158, -0.02508716657757759, -0.030183911323547363, -0.027779174968600273, 0.02363744005560875, -0.014607656747102737, 0.007215060293674469, -0.005611371248960495], [0.02638791874051094, -0.002004466950893402, 0.006238281726837158, -0.02508716657757759, -0.030183911323547363, -0.027779174968600273, 0.02363744005560875, -0.014607656747102737, 0.007215060293674469, -0.005611371248960495], [0.02638791874051094, -0.002004466950893402, 0.006238281726837158, -0.02508716657757759, -0.030183911323547363, -0.027779174968600273, 0.02363744005560875, -0.014607656747102737, 0.007215060293674469, -0.005611371248960495], [0.02638791874051094, -0.002004466950893402, 0.006238281726837158, -0.02508716657757759, -0.030183911323547363, -0.027779174968600273, 0.02363744005560875, -0.014607656747102737, 0.007215060293674469, -0.005611371248960495], [0.02638791874051094, -0.002004466950893402, 0.006238281726837158, -0.02508716657757759, -0.030183911323547363, -0.027779174968600273, 0.02363744005560875, -0.014607656747102737, 0.007215060293674469, -0.005611371248960495], [0.02638791874051094, -0.002004466950893402, 0.006238281726837158, -0.02508716657757759, -0.030183911323547363, -0.027779174968600273, 0.02363744005560875, -0.014607656747102737, 0.007215060293674469, -0.005611371248960495], [0.02638791874051094, -0.002004466950893402, 0.006238281726837158, -0.02508716657757759, -0.030183911323547363, -0.027779174968600273, 0.02363744005560875, -0.014607656747102737, 0.007215060293674469, -0.005611371248960495], [0.02638791874051094, -0.002004466950893402, 0.006238281726837158, -0.02508716657757759, -0.030183911323547363, -0.027779174968600273, 0.02363744005560875, -0.014607656747102737, 0.007215060293674469, -0.005611371248960495], [0.02638791874051094, -0.002004466950893402, 0.006238281726837158, -0.02508716657757759, -0.030183911323547363, -0.027779174968600273, 0.02363744005560875, -0.014607656747102737, 0.007215060293674469, -0.005611371248960495], [0.02638791874051094, -0.002004466950893402, 0.006238281726837158, -0.02508716657757759, -0.030183911323547363, -0.027779174968600273, 0.02363744005560875, -0.014607656747102737, 0.007215060293674469, -0.005611371248960495], [0.02638791874051094, -0.002004466950893402, 0.006238281726837158, -0.02508716657757759, -0.030183911323547363, -0.027779174968600273, 0.02363744005560875, -0.014607656747102737, 0.007215060293674469, -0.005611371248960495], [0.02638791874051094, -0.002004466950893402, 0.006238281726837158, -0.02508716657757759, -0.030183911323547363, -0.027779174968600273, 0.02363744005560875, -0.014607656747102737, 0.007215060293674469, -0.005611371248960495], [0.02638791874051094, -0.002004466950893402, 0.006238281726837158, -0.02508716657757759, -0.030183911323547363, -0.027779174968600273, 0.02363744005560875, -0.014607656747102737, 0.007215060293674469, -0.005611371248960495], [0.02638791874051094, -0.002004466950893402, 0.006238281726837158, -0.02508716657757759, -0.030183911323547363, -0.027779174968600273, 0.02363744005560875, -0.014607656747102737, 0.007215060293674469, -0.005611371248960495], [0.02638791874051094, -0.002004466950893402, 0.006238281726837158, -0.02508716657757759, -0.030183911323547363, -0.027779174968600273, 0.02363744005560875, -0.014607656747102737, 0.007215060293674469, -0.005611371248960495], [0.02638791874051094, -0.002004466950893402, 0.006238281726837158, -0.02508716657757759, -0.030183911323547363, -0.027779174968600273, 0.02363744005560875, -0.014607656747102737, 0.007215060293674469, -0.005611371248960495], [0.02638791874051094, -0.002004466950893402, 0.006238281726837158, -0.02508716657757759, -0.030183911323547363, -0.027779174968600273, 0.02363744005560875, -0.014607656747102737, 0.007215060293674469, -0.005611371248960495], [0.02638791874051094, -0.002004466950893402, 0.006238281726837158, -0.02508716657757759, -0.030183911323547363, -0.027779174968600273, 0.02363744005560875, -0.014607656747102737, 0.007215060293674469, -0.005611371248960495], [0.02638791874051094, -0.002004466950893402, 0.006238281726837158, -0.02508716657757759, -0.030183911323547363, -0.027779174968600273, 0.02363744005560875, -0.014607656747102737, 0.007215060293674469, -0.005611371248960495], [0.02638791874051094, -0.002004466950893402, 0.006238281726837158, -0.02508716657757759, -0.030183911323547363, -0.027779174968600273, 0.02363744005560875, -0.014607656747102737, 0.007215060293674469, -0.005611371248960495], [0.02638791874051094, -0.002004466950893402, 0.006238281726837158, -0.02508716657757759, -0.030183911323547363, -0.027779174968600273, 0.02363744005560875, -0.014607656747102737, 0.007215060293674469, -0.005611371248960495], [0.02638791874051094, -0.002004466950893402, 0.006238281726837158, -0.02508716657757759, -0.030183911323547363, -0.027779174968600273, 0.02363744005560875, -0.014607656747102737, 0.007215060293674469, -0.005611371248960495], [0.02638791874051094, -0.002004466950893402, 0.006238281726837158, -0.02508716657757759, -0.030183911323547363, -0.027779174968600273, 0.02363744005560875, -0.014607656747102737, 0.007215060293674469, -0.005611371248960495], [0.02638791874051094, -0.002004466950893402, 0.006238281726837158, -0.02508716657757759, -0.030183911323547363, -0.027779174968600273, 0.02363744005560875, -0.014607656747102737, 0.007215060293674469, -0.005611371248960495], [0.02638791874051094, -0.002004466950893402, 0.006238281726837158, -0.02508716657757759, -0.030183911323547363, -0.027779174968600273, 0.02363744005560875, -0.014607656747102737, 0.007215060293674469, -0.005611371248960495], [0.02638791874051094, -0.002004466950893402, 0.006238281726837158, -0.02508716657757759, -0.030183911323547363, -0.027779174968600273, 0.02363744005560875, -0.014607656747102737, 0.007215060293674469, -0.005611371248960495], [0.02638791874051094, -0.002004466950893402, 0.006238281726837158, -0.02508716657757759, -0.030183911323547363, -0.027779174968600273, 0.02363744005560875, -0.014607656747102737, 0.007215060293674469, -0.005611371248960495], [0.02638791874051094, -0.002004466950893402, 0.006238281726837158, -0.02508716657757759, -0.030183911323547363, -0.027779174968600273, 0.02363744005560875, -0.014607656747102737, 0.007215060293674469, -0.005611371248960495], [0.02638791874051094, -0.002004466950893402, 0.006238281726837158, -0.02508716657757759, -0.030183911323547363, -0.027779174968600273, 0.02363744005560875, -0.014607656747102737, 0.007215060293674469, -0.005611371248960495], [0.02638791874051094, -0.002004466950893402, 0.006238281726837158, -0.02508716657757759, -0.030183911323547363, -0.027779174968600273, 0.02363744005560875, -0.014607656747102737, 0.007215060293674469, -0.005611371248960495], [0.02638791874051094, -0.002004466950893402, 0.006238281726837158, -0.02508716657757759, -0.030183911323547363, -0.027779174968600273, 0.02363744005560875, -0.014607656747102737, 0.007215060293674469, -0.005611371248960495], [0.02638791874051094, -0.002004466950893402, 0.006238281726837158, -0.02508716657757759, -0.030183911323547363, -0.027779174968600273, 0.02363744005560875, -0.014607656747102737, 0.007215060293674469, -0.005611371248960495], [0.02638791874051094, -0.002004466950893402, 0.006238281726837158, -0.02508716657757759, -0.030183911323547363, -0.027779174968600273, 0.02363744005560875, -0.014607656747102737, 0.007215060293674469, -0.005611371248960495], [0.02638791874051094, -0.002004466950893402, 0.006238281726837158, -0.02508716657757759, -0.030183911323547363, -0.027779174968600273, 0.02363744005560875, -0.014607656747102737, 0.007215060293674469, -0.005611371248960495], [0.02638791874051094, -0.002004466950893402, 0.006238281726837158, -0.02508716657757759, -0.030183911323547363, -0.027779174968600273, 0.02363744005560875, -0.014607656747102737, 0.007215060293674469, -0.005611371248960495], [0.02638791874051094, -0.002004466950893402, 0.006238281726837158, -0.02508716657757759, -0.030183911323547363, -0.027779174968600273, 0.02363744005560875, -0.014607656747102737, 0.007215060293674469, -0.005611371248960495], [0.02638791874051094, -0.002004466950893402, 0.006238281726837158, -0.02508716657757759, -0.030183911323547363, -0.027779174968600273, 0.02363744005560875, -0.014607656747102737, 0.007215060293674469, -0.005611371248960495], [0.02638791874051094, -0.002004466950893402, 0.006238281726837158, -0.02508716657757759, -0.030183911323547363, -0.027779174968600273, 0.02363744005560875, -0.014607656747102737, 0.007215060293674469, -0.005611371248960495], [0.02638791874051094, -0.002004466950893402, 0.006238281726837158, -0.02508716657757759, -0.030183911323547363, -0.027779174968600273, 0.02363744005560875, -0.014607656747102737, 0.007215060293674469, -0.005611371248960495], [0.02638791874051094, -0.002004466950893402, 0.006238281726837158, -0.02508716657757759, -0.030183911323547363, -0.027779174968600273, 0.02363744005560875, -0.014607656747102737, 0.007215060293674469, -0.005611371248960495], [0.02638791874051094, -0.002004466950893402, 0.006238281726837158, -0.02508716657757759, -0.030183911323547363, -0.027779174968600273, 0.02363744005560875, -0.014607656747102737, 0.007215060293674469, -0.005611371248960495], [0.02638791874051094, -0.002004466950893402, 0.006238281726837158, -0.02508716657757759, -0.030183911323547363, -0.027779174968600273, 0.02363744005560875, -0.014607656747102737, 0.007215060293674469, -0.005611371248960495], [0.02638791874051094, -0.002004466950893402, 0.006238281726837158, -0.02508716657757759, -0.030183911323547363, -0.027779174968600273, 0.02363744005560875, -0.014607656747102737, 0.007215060293674469, -0.005611371248960495], [0.02638791874051094, -0.002004466950893402, 0.006238281726837158, -0.02508716657757759, -0.030183911323547363, -0.027779174968600273, 0.02363744005560875, -0.014607656747102737, 0.007215060293674469, -0.005611371248960495], [0.02638791874051094, -0.002004466950893402, 0.006238281726837158, -0.02508716657757759, -0.030183911323547363, -0.027779174968600273, 0.02363744005560875, -0.014607656747102737, 0.007215060293674469, -0.005611371248960495], [0.02638791874051094, -0.002004466950893402, 0.006238281726837158, -0.02508716657757759, -0.030183911323547363, -0.027779174968600273, 0.02363744005560875, -0.014607656747102737, 0.007215060293674469, -0.005611371248960495], [0.02638791874051094, -0.002004466950893402, 0.006238281726837158, -0.02508716657757759, -0.030183911323547363, -0.027779174968600273, 0.02363744005560875, -0.014607656747102737, 0.007215060293674469, -0.005611371248960495], [0.02638791874051094, -0.002004466950893402, 0.006238281726837158, -0.02508716657757759, -0.030183911323547363, -0.027779174968600273, 0.02363744005560875, -0.014607656747102737, 0.007215060293674469, -0.005611371248960495], [0.02638791874051094, -0.002004466950893402, 0.006238281726837158, -0.02508716657757759, -0.030183911323547363, -0.027779174968600273, 0.02363744005560875, -0.014607656747102737, 0.007215060293674469, -0.005611371248960495], [0.02638791874051094, -0.002004466950893402, 0.006238281726837158, -0.02508716657757759, -0.030183911323547363, -0.027779174968600273, 0.02363744005560875, -0.014607656747102737, 0.007215060293674469, -0.005611371248960495], [0.02638791874051094, -0.002004466950893402, 0.006238281726837158, -0.02508716657757759, -0.030183911323547363, -0.027779174968600273, 0.02363744005560875, -0.014607656747102737, 0.007215060293674469, -0.005611371248960495], [0.02638791874051094, -0.002004466950893402, 0.006238281726837158, -0.02508716657757759, -0.030183911323547363, -0.027779174968600273, 0.02363744005560875, -0.014607656747102737, 0.007215060293674469, -0.005611371248960495], [0.02638791874051094, -0.002004466950893402, 0.006238281726837158, -0.02508716657757759, -0.030183911323547363, -0.027779174968600273, 0.02363744005560875, -0.014607656747102737, 0.007215060293674469, -0.005611371248960495], [0.02638791874051094, -0.002004466950893402, 0.006238281726837158, -0.02508716657757759, -0.030183911323547363, -0.027779174968600273, 0.02363744005560875, -0.014607656747102737, 0.007215060293674469, -0.005611371248960495], [0.02638791874051094, -0.002004466950893402, 0.006238281726837158, -0.02508716657757759, -0.030183911323547363, -0.027779174968600273, 0.02363744005560875, -0.014607656747102737, 0.007215060293674469, -0.005611371248960495], [0.02638791874051094, -0.002004466950893402, 0.006238281726837158, -0.02508716657757759, -0.030183911323547363, -0.027779174968600273, 0.02363744005560875, -0.014607656747102737, 0.007215060293674469, -0.005611371248960495], [0.02638791874051094, -0.002004466950893402, 0.006238281726837158, -0.02508716657757759, -0.030183911323547363, -0.027779174968600273, 0.02363744005560875, -0.014607656747102737, 0.007215060293674469, -0.005611371248960495], [0.02638791874051094, -0.002004466950893402, 0.006238281726837158, -0.02508716657757759, -0.030183911323547363, -0.027779174968600273, 0.02363744005560875, -0.014607656747102737, 0.007215060293674469, -0.005611371248960495], [0.02638791874051094, -0.002004466950893402, 0.006238281726837158, -0.02508716657757759, -0.030183911323547363, -0.027779174968600273, 0.02363744005560875, -0.014607656747102737, 0.007215060293674469, -0.005611371248960495], [0.02638791874051094, -0.002004466950893402, 0.006238281726837158, -0.02508716657757759, -0.030183911323547363, -0.027779174968600273, 0.02363744005560875, -0.014607656747102737, 0.007215060293674469, -0.005611371248960495], [0.02638791874051094, -0.002004466950893402, 0.006238281726837158, -0.02508716657757759, -0.030183911323547363, -0.027779174968600273, 0.02363744005560875, -0.014607656747102737, 0.007215060293674469, -0.005611371248960495], [0.02638791874051094, -0.002004466950893402, 0.006238281726837158, -0.02508716657757759, -0.030183911323547363, -0.027779174968600273, 0.02363744005560875, -0.014607656747102737, 0.007215060293674469, -0.005611371248960495], [0.02638791874051094, -0.002004466950893402, 0.006238281726837158, -0.02508716657757759, -0.030183911323547363, -0.027779174968600273, 0.02363744005560875, -0.014607656747102737, 0.007215060293674469, -0.005611371248960495], [0.02638791874051094, -0.002004466950893402, 0.006238281726837158, -0.02508716657757759, -0.030183911323547363, -0.027779174968600273, 0.02363744005560875, -0.014607656747102737, 0.007215060293674469, -0.005611371248960495], [0.02638791874051094, -0.002004466950893402, 0.006238281726837158, -0.02508716657757759, -0.030183911323547363, -0.027779174968600273, 0.02363744005560875, -0.014607656747102737, 0.007215060293674469, -0.005611371248960495], [0.02638791874051094, -0.002004466950893402, 0.006238281726837158, -0.02508716657757759, -0.030183911323547363, -0.027779174968600273, 0.02363744005560875, -0.014607656747102737, 0.007215060293674469, -0.005611371248960495], [0.02638791874051094, -0.002004466950893402, 0.006238281726837158, -0.02508716657757759, -0.030183911323547363, -0.027779174968600273, 0.02363744005560875, -0.014607656747102737, 0.007215060293674469, -0.005611371248960495], [0.02638791874051094, -0.002004466950893402, 0.006238281726837158, -0.02508716657757759, -0.030183911323547363, -0.027779174968600273, 0.02363744005560875, -0.014607656747102737, 0.007215060293674469, -0.005611371248960495], [0.02638791874051094, -0.002004466950893402, 0.006238281726837158, -0.02508716657757759, -0.030183911323547363, -0.027779174968600273, 0.02363744005560875, -0.014607656747102737, 0.007215060293674469, -0.005611371248960495], [0.02638791874051094, -0.002004466950893402, 0.006238281726837158, -0.02508716657757759, -0.030183911323547363, -0.027779174968600273, 0.02363744005560875, -0.014607656747102737, 0.007215060293674469, -0.005611371248960495], [0.02638791874051094, -0.002004466950893402, 0.006238281726837158, -0.02508716657757759, -0.030183911323547363, -0.027779174968600273, 0.02363744005560875, -0.014607656747102737, 0.007215060293674469, -0.005611371248960495], [0.02638791874051094, -0.002004466950893402, 0.006238281726837158, -0.02508716657757759, -0.030183911323547363, -0.027779174968600273, 0.02363744005560875, -0.014607656747102737, 0.007215060293674469, -0.005611371248960495], [0.02638791874051094, -0.002004466950893402, 0.006238281726837158, -0.02508716657757759, -0.030183911323547363, -0.027779174968600273, 0.02363744005560875, -0.014607656747102737, 0.007215060293674469, -0.005611371248960495], [0.02638791874051094, -0.002004466950893402, 0.006238281726837158, -0.02508716657757759, -0.030183911323547363, -0.027779174968600273, 0.02363744005560875, -0.014607656747102737, 0.007215060293674469, -0.005611371248960495], [0.02638791874051094, -0.002004466950893402, 0.006238281726837158, -0.02508716657757759, -0.030183911323547363, -0.027779174968600273, 0.02363744005560875, -0.014607656747102737, 0.007215060293674469, -0.005611371248960495], [0.02638791874051094, -0.002004466950893402, 0.006238281726837158, -0.02508716657757759, -0.030183911323547363, -0.027779174968600273, 0.02363744005560875, -0.014607656747102737, 0.007215060293674469, -0.005611371248960495], [0.02638791874051094, -0.002004466950893402, 0.006238281726837158, -0.02508716657757759, -0.030183911323547363, -0.027779174968600273, 0.02363744005560875, -0.014607656747102737, 0.007215060293674469, -0.005611371248960495], [0.02638791874051094, -0.002004466950893402, 0.006238281726837158, -0.02508716657757759, -0.030183911323547363, -0.027779174968600273, 0.02363744005560875, -0.014607656747102737, 0.007215060293674469, -0.005611371248960495], [0.02638791874051094, -0.002004466950893402, 0.006238281726837158, -0.02508716657757759, -0.030183911323547363, -0.027779174968600273, 0.02363744005560875, -0.014607656747102737, 0.007215060293674469, -0.005611371248960495], [0.02638791874051094, -0.002004466950893402, 0.006238281726837158, -0.02508716657757759, -0.030183911323547363, -0.027779174968600273, 0.02363744005560875, -0.014607656747102737, 0.007215060293674469, -0.005611371248960495], [0.02638791874051094, -0.002004466950893402, 0.006238281726837158, -0.02508716657757759, -0.030183911323547363, -0.027779174968600273, 0.02363744005560875, -0.014607656747102737, 0.007215060293674469, -0.005611371248960495], [0.02638791874051094, -0.002004466950893402, 0.006238281726837158, -0.02508716657757759, -0.030183911323547363, -0.027779174968600273, 0.02363744005560875, -0.014607656747102737, 0.007215060293674469, -0.005611371248960495], [0.02638791874051094, -0.002004466950893402, 0.006238281726837158, -0.02508716657757759, -0.030183911323547363, -0.027779174968600273, 0.02363744005560875, -0.014607656747102737, 0.007215060293674469, -0.005611371248960495], [0.02638791874051094, -0.002004466950893402, 0.006238281726837158, -0.02508716657757759, -0.030183911323547363, -0.027779174968600273, 0.02363744005560875, -0.014607656747102737, 0.007215060293674469, -0.005611371248960495], [0.02638791874051094, -0.002004466950893402, 0.006238281726837158, -0.02508716657757759, -0.030183911323547363, -0.027779174968600273, 0.02363744005560875, -0.014607656747102737, 0.007215060293674469, -0.005611371248960495], [0.02638791874051094, -0.002004466950893402, 0.006238281726837158, -0.02508716657757759, -0.030183911323547363, -0.027779174968600273, 0.02363744005560875, -0.014607656747102737, 0.007215060293674469, -0.005611371248960495], [0.02638791874051094, -0.002004466950893402, 0.006238281726837158, -0.02508716657757759, -0.030183911323547363, -0.027779174968600273, 0.02363744005560875, -0.014607656747102737, 0.007215060293674469, -0.005611371248960495], [0.02638791874051094, -0.002004466950893402, 0.006238281726837158, -0.02508716657757759, -0.030183911323547363, -0.027779174968600273, 0.02363744005560875, -0.014607656747102737, 0.007215060293674469, -0.005611371248960495], [0.02638791874051094, -0.002004466950893402, 0.006238281726837158, -0.02508716657757759, -0.030183911323547363, -0.027779174968600273, 0.02363744005560875, -0.014607656747102737, 0.007215060293674469, -0.005611371248960495], [0.02638791874051094, -0.002004466950893402, 0.006238281726837158, -0.02508716657757759, -0.030183911323547363, -0.027779174968600273, 0.02363744005560875, -0.014607656747102737, 0.007215060293674469, -0.005611371248960495], [0.02638791874051094, -0.002004466950893402, 0.006238281726837158, -0.02508716657757759, -0.030183911323547363, -0.027779174968600273, 0.02363744005560875, -0.014607656747102737, 0.007215060293674469, -0.005611371248960495], [0.02638791874051094, -0.002004466950893402, 0.006238281726837158, -0.02508716657757759, -0.030183911323547363, -0.027779174968600273, 0.02363744005560875, -0.014607656747102737, 0.007215060293674469, -0.005611371248960495], [0.02638791874051094, -0.002004466950893402, 0.006238281726837158, -0.02508716657757759, -0.030183911323547363, -0.027779174968600273, 0.02363744005560875, -0.014607656747102737, 0.007215060293674469, -0.005611371248960495], [0.02638791874051094, -0.002004466950893402, 0.006238281726837158, -0.02508716657757759, -0.030183911323547363, -0.027779174968600273, 0.02363744005560875, -0.014607656747102737, 0.007215060293674469, -0.005611371248960495], [0.02638791874051094, -0.002004466950893402, 0.006238281726837158, -0.02508716657757759, -0.030183911323547363, -0.027779174968600273, 0.02363744005560875, -0.014607656747102737, 0.007215060293674469, -0.005611371248960495], [0.02638791874051094, -0.002004466950893402, 0.006238281726837158, -0.02508716657757759, -0.030183911323547363, -0.027779174968600273, 0.02363744005560875, -0.014607656747102737, 0.007215060293674469, -0.005611371248960495], [0.02638791874051094, -0.002004466950893402, 0.006238281726837158, -0.02508716657757759, -0.030183911323547363, -0.027779174968600273, 0.02363744005560875, -0.014607656747102737, 0.007215060293674469, -0.005611371248960495], [0.02638791874051094, -0.002004466950893402, 0.006238281726837158, -0.02508716657757759, -0.030183911323547363, -0.027779174968600273, 0.02363744005560875, -0.014607656747102737, 0.007215060293674469, -0.005611371248960495], [0.02638791874051094, -0.002004466950893402, 0.006238281726837158, -0.02508716657757759, -0.030183911323547363, -0.027779174968600273, 0.02363744005560875, -0.014607656747102737, 0.007215060293674469, -0.005611371248960495], [0.02638791874051094, -0.002004466950893402, 0.006238281726837158, -0.02508716657757759, -0.030183911323547363, -0.027779174968600273, 0.02363744005560875, -0.014607656747102737, 0.007215060293674469, -0.005611371248960495], [0.02638791874051094, -0.002004466950893402, 0.006238281726837158, -0.02508716657757759, -0.030183911323547363, -0.027779174968600273, 0.02363744005560875, -0.014607656747102737, 0.007215060293674469, -0.005611371248960495], [0.02638791874051094, -0.002004466950893402, 0.006238281726837158, -0.02508716657757759, -0.030183911323547363, -0.027779174968600273, 0.02363744005560875, -0.014607656747102737, 0.007215060293674469, -0.005611371248960495], [0.02638791874051094, -0.002004466950893402, 0.006238281726837158, -0.02508716657757759, -0.030183911323547363, -0.027779174968600273, 0.02363744005560875, -0.014607656747102737, 0.007215060293674469, -0.005611371248960495], [0.02638791874051094, -0.002004466950893402, 0.006238281726837158, -0.02508716657757759, -0.030183911323547363, -0.027779174968600273, 0.02363744005560875, -0.014607656747102737, 0.007215060293674469, -0.005611371248960495], [0.02638791874051094, -0.002004466950893402, 0.006238281726837158, -0.02508716657757759, -0.030183911323547363, -0.027779174968600273, 0.02363744005560875, -0.014607656747102737, 0.007215060293674469, -0.005611371248960495], [0.02638791874051094, -0.002004466950893402, 0.006238281726837158, -0.02508716657757759, -0.030183911323547363, -0.027779174968600273, 0.02363744005560875, -0.014607656747102737, 0.007215060293674469, -0.005611371248960495], [0.02638791874051094, -0.002004466950893402, 0.006238281726837158, -0.02508716657757759, -0.030183911323547363, -0.027779174968600273, 0.02363744005560875, -0.014607656747102737, 0.007215060293674469, -0.005611371248960495], [0.02638791874051094, -0.002004466950893402, 0.006238281726837158, -0.02508716657757759, -0.030183911323547363, -0.027779174968600273, 0.02363744005560875, -0.014607656747102737, 0.007215060293674469, -0.005611371248960495], [0.02638791874051094, -0.002004466950893402, 0.006238281726837158, -0.02508716657757759, -0.030183911323547363, -0.027779174968600273, 0.02363744005560875, -0.014607656747102737, 0.007215060293674469, -0.005611371248960495], [0.02638791874051094, -0.002004466950893402, 0.006238281726837158, -0.02508716657757759, -0.030183911323547363, -0.027779174968600273, 0.02363744005560875, -0.014607656747102737, 0.007215060293674469, -0.005611371248960495], [0.02638791874051094, -0.002004466950893402, 0.006238281726837158, -0.02508716657757759, -0.030183911323547363, -0.027779174968600273, 0.02363744005560875, -0.014607656747102737, 0.007215060293674469, -0.005611371248960495], [0.02638791874051094, -0.002004466950893402, 0.006238281726837158, -0.02508716657757759, -0.030183911323547363, -0.027779174968600273, 0.02363744005560875, -0.014607656747102737, 0.007215060293674469, -0.005611371248960495], [0.02638791874051094, -0.002004466950893402, 0.006238281726837158, -0.02508716657757759, -0.030183911323547363, -0.027779174968600273, 0.02363744005560875, -0.014607656747102737, 0.007215060293674469, -0.005611371248960495], [0.02638791874051094, -0.002004466950893402, 0.006238281726837158, -0.02508716657757759, -0.030183911323547363, -0.027779174968600273, 0.02363744005560875, -0.014607656747102737, 0.007215060293674469, -0.005611371248960495], [0.02638791874051094, -0.002004466950893402, 0.006238281726837158, -0.02508716657757759, -0.030183911323547363, -0.027779174968600273, 0.02363744005560875, -0.014607656747102737, 0.007215060293674469, -0.005611371248960495], [0.02638791874051094, -0.002004466950893402, 0.006238281726837158, -0.02508716657757759, -0.030183911323547363, -0.027779174968600273, 0.02363744005560875, -0.014607656747102737, 0.007215060293674469, -0.005611371248960495], [0.02638791874051094, -0.002004466950893402, 0.006238281726837158, -0.02508716657757759, -0.030183911323547363, -0.027779174968600273, 0.02363744005560875, -0.014607656747102737, 0.007215060293674469, -0.005611371248960495], [0.02638791874051094, -0.002004466950893402, 0.006238281726837158, -0.02508716657757759, -0.030183911323547363, -0.027779174968600273, 0.02363744005560875, -0.014607656747102737, 0.007215060293674469, -0.005611371248960495], [0.02638791874051094, -0.002004466950893402, 0.006238281726837158, -0.02508716657757759, -0.030183911323547363, -0.027779174968600273, 0.02363744005560875, -0.014607656747102737, 0.007215060293674469, -0.005611371248960495], [0.02638791874051094, -0.002004466950893402, 0.006238281726837158, -0.02508716657757759, -0.030183911323547363, -0.027779174968600273, 0.02363744005560875, -0.014607656747102737, 0.007215060293674469, -0.005611371248960495], [0.02638791874051094, -0.002004466950893402, 0.006238281726837158, -0.02508716657757759, -0.030183911323547363, -0.027779174968600273, 0.02363744005560875, -0.014607656747102737, 0.007215060293674469, -0.005611371248960495], [0.02638791874051094, -0.002004466950893402, 0.006238281726837158, -0.02508716657757759, -0.030183911323547363, -0.027779174968600273, 0.02363744005560875, -0.014607656747102737, 0.007215060293674469, -0.005611371248960495], [0.02638791874051094, -0.002004466950893402, 0.006238281726837158, -0.02508716657757759, -0.030183911323547363, -0.027779174968600273, 0.02363744005560875, -0.014607656747102737, 0.007215060293674469, -0.005611371248960495], [0.02638791874051094, -0.002004466950893402, 0.006238281726837158, -0.02508716657757759, -0.030183911323547363, -0.027779174968600273, 0.02363744005560875, -0.014607656747102737, 0.007215060293674469, -0.005611371248960495], [0.02638791874051094, -0.002004466950893402, 0.006238281726837158, -0.02508716657757759, -0.030183911323547363, -0.027779174968600273, 0.02363744005560875, -0.014607656747102737, 0.007215060293674469, -0.005611371248960495], [0.02638791874051094, -0.002004466950893402, 0.006238281726837158, -0.02508716657757759, -0.030183911323547363, -0.027779174968600273, 0.02363744005560875, -0.014607656747102737, 0.007215060293674469, -0.005611371248960495], [0.02638791874051094, -0.002004466950893402, 0.006238281726837158, -0.02508716657757759, -0.030183911323547363, -0.027779174968600273, 0.02363744005560875, -0.014607656747102737, 0.007215060293674469, -0.005611371248960495], [0.02638791874051094, -0.002004466950893402, 0.006238281726837158, -0.02508716657757759, -0.030183911323547363, -0.027779174968600273, 0.02363744005560875, -0.014607656747102737, 0.007215060293674469, -0.005611371248960495], [0.02638791874051094, -0.002004466950893402, 0.006238281726837158, -0.02508716657757759, -0.030183911323547363, -0.027779174968600273, 0.02363744005560875, -0.014607656747102737, 0.007215060293674469, -0.005611371248960495], [0.02638791874051094, -0.002004466950893402, 0.006238281726837158, -0.02508716657757759, -0.030183911323547363, -0.027779174968600273, 0.02363744005560875, -0.014607656747102737, 0.007215060293674469, -0.005611371248960495], [0.02638791874051094, -0.002004466950893402, 0.006238281726837158, -0.02508716657757759, -0.030183911323547363, -0.027779174968600273, 0.02363744005560875, -0.014607656747102737, 0.007215060293674469, -0.005611371248960495], [0.02638791874051094, -0.002004466950893402, 0.006238281726837158, -0.02508716657757759, -0.030183911323547363, -0.027779174968600273, 0.02363744005560875, -0.014607656747102737, 0.007215060293674469, -0.005611371248960495], [0.02638791874051094, -0.002004466950893402, 0.006238281726837158, -0.02508716657757759, -0.030183911323547363, -0.027779174968600273, 0.02363744005560875, -0.014607656747102737, 0.007215060293674469, -0.005611371248960495], [0.02638791874051094, -0.002004466950893402, 0.006238281726837158, -0.02508716657757759, -0.030183911323547363, -0.027779174968600273, 0.02363744005560875, -0.014607656747102737, 0.007215060293674469, -0.005611371248960495], [0.02638791874051094, -0.002004466950893402, 0.006238281726837158, -0.02508716657757759, -0.030183911323547363, -0.027779174968600273, 0.02363744005560875, -0.014607656747102737, 0.007215060293674469, -0.005611371248960495], [0.02638791874051094, -0.002004466950893402, 0.006238281726837158, -0.02508716657757759, -0.030183911323547363, -0.027779174968600273, 0.02363744005560875, -0.014607656747102737, 0.007215060293674469, -0.005611371248960495], [0.02638791874051094, -0.002004466950893402, 0.006238281726837158, -0.02508716657757759, -0.030183911323547363, -0.027779174968600273, 0.02363744005560875, -0.014607656747102737, 0.007215060293674469, -0.005611371248960495], [0.02638791874051094, -0.002004466950893402, 0.006238281726837158, -0.02508716657757759, -0.030183911323547363, -0.027779174968600273, 0.02363744005560875, -0.014607656747102737, 0.007215060293674469, -0.005611371248960495], [0.02638791874051094, -0.002004466950893402, 0.006238281726837158, -0.02508716657757759, -0.030183911323547363, -0.027779174968600273, 0.02363744005560875, -0.014607656747102737, 0.007215060293674469, -0.005611371248960495], [0.02638791874051094, -0.002004466950893402, 0.006238281726837158, -0.02508716657757759, -0.030183911323547363, -0.027779174968600273, 0.02363744005560875, -0.014607656747102737, 0.007215060293674469, -0.005611371248960495], [0.02638791874051094, -0.002004466950893402, 0.006238281726837158, -0.02508716657757759, -0.030183911323547363, -0.027779174968600273, 0.02363744005560875, -0.014607656747102737, 0.007215060293674469, -0.005611371248960495], [0.02638791874051094, -0.002004466950893402, 0.006238281726837158, -0.02508716657757759, -0.030183911323547363, -0.027779174968600273, 0.02363744005560875, -0.014607656747102737, 0.007215060293674469, -0.005611371248960495], [0.02638791874051094, -0.002004466950893402, 0.006238281726837158, -0.02508716657757759, -0.030183911323547363, -0.027779174968600273, 0.02363744005560875, -0.014607656747102737, 0.007215060293674469, -0.005611371248960495], [0.02638791874051094, -0.002004466950893402, 0.006238281726837158, -0.02508716657757759, -0.030183911323547363, -0.027779174968600273, 0.02363744005560875, -0.014607656747102737, 0.007215060293674469, -0.005611371248960495], [0.02638791874051094, -0.002004466950893402, 0.006238281726837158, -0.02508716657757759, -0.030183911323547363, -0.027779174968600273, 0.02363744005560875, -0.014607656747102737, 0.007215060293674469, -0.005611371248960495], [0.02638791874051094, -0.002004466950893402, 0.006238281726837158, -0.02508716657757759, -0.030183911323547363, -0.027779174968600273, 0.02363744005560875, -0.014607656747102737, 0.007215060293674469, -0.005611371248960495], [0.02638791874051094, -0.002004466950893402, 0.006238281726837158, -0.02508716657757759, -0.030183911323547363, -0.027779174968600273, 0.02363744005560875, -0.014607656747102737, 0.007215060293674469, -0.005611371248960495], [0.02638791874051094, -0.002004466950893402, 0.006238281726837158, -0.02508716657757759, -0.030183911323547363, -0.027779174968600273, 0.02363744005560875, -0.014607656747102737, 0.007215060293674469, -0.005611371248960495], [0.02638791874051094, -0.002004466950893402, 0.006238281726837158, -0.02508716657757759, -0.030183911323547363, -0.027779174968600273, 0.02363744005560875, -0.014607656747102737, 0.007215060293674469, -0.005611371248960495], [0.02638791874051094, -0.002004466950893402, 0.006238281726837158, -0.02508716657757759, -0.030183911323547363, -0.027779174968600273, 0.02363744005560875, -0.014607656747102737, 0.007215060293674469, -0.005611371248960495], [0.02638791874051094, -0.002004466950893402, 0.006238281726837158, -0.02508716657757759, -0.030183911323547363, -0.027779174968600273, 0.02363744005560875, -0.014607656747102737, 0.007215060293674469, -0.005611371248960495], [0.02638791874051094, -0.002004466950893402, 0.006238281726837158, -0.02508716657757759, -0.030183911323547363, -0.027779174968600273, 0.02363744005560875, -0.014607656747102737, 0.007215060293674469, -0.005611371248960495], [0.02638791874051094, -0.002004466950893402, 0.006238281726837158, -0.02508716657757759, -0.030183911323547363, -0.027779174968600273, 0.02363744005560875, -0.014607656747102737, 0.007215060293674469, -0.005611371248960495], [0.02638791874051094, -0.002004466950893402, 0.006238281726837158, -0.02508716657757759, -0.030183911323547363, -0.027779174968600273, 0.02363744005560875, -0.014607656747102737, 0.007215060293674469, -0.005611371248960495], [0.02638791874051094, -0.002004466950893402, 0.006238281726837158, -0.02508716657757759, -0.030183911323547363, -0.027779174968600273, 0.02363744005560875, -0.014607656747102737, 0.007215060293674469, -0.005611371248960495], [0.02638791874051094, -0.002004466950893402, 0.006238281726837158, -0.02508716657757759, -0.030183911323547363, -0.027779174968600273, 0.02363744005560875, -0.014607656747102737, 0.007215060293674469, -0.005611371248960495], [0.02638791874051094, -0.002004466950893402, 0.006238281726837158, -0.02508716657757759, -0.030183911323547363, -0.027779174968600273, 0.02363744005560875, -0.014607656747102737, 0.007215060293674469, -0.005611371248960495], [0.02638791874051094, -0.002004466950893402, 0.006238281726837158, -0.02508716657757759, -0.030183911323547363, -0.027779174968600273, 0.02363744005560875, -0.014607656747102737, 0.007215060293674469, -0.005611371248960495], [0.02638791874051094, -0.002004466950893402, 0.006238281726837158, -0.02508716657757759, -0.030183911323547363, -0.027779174968600273, 0.02363744005560875, -0.014607656747102737, 0.007215060293674469, -0.005611371248960495], [0.02638791874051094, -0.002004466950893402, 0.006238281726837158, -0.02508716657757759, -0.030183911323547363, -0.027779174968600273, 0.02363744005560875, -0.014607656747102737, 0.007215060293674469, -0.005611371248960495], [0.02638791874051094, -0.002004466950893402, 0.006238281726837158, -0.02508716657757759, -0.030183911323547363, -0.027779174968600273, 0.02363744005560875, -0.014607656747102737, 0.007215060293674469, -0.005611371248960495], [0.02638791874051094, -0.002004466950893402, 0.006238281726837158, -0.02508716657757759, -0.030183911323547363, -0.027779174968600273, 0.02363744005560875, -0.014607656747102737, 0.007215060293674469, -0.005611371248960495], [0.02638791874051094, -0.002004466950893402, 0.006238281726837158, -0.02508716657757759, -0.030183911323547363, -0.027779174968600273, 0.02363744005560875, -0.014607656747102737, 0.007215060293674469, -0.005611371248960495], [0.02638791874051094, -0.002004466950893402, 0.006238281726837158, -0.02508716657757759, -0.030183911323547363, -0.027779174968600273, 0.02363744005560875, -0.014607656747102737, 0.007215060293674469, -0.005611371248960495], [0.02638791874051094, -0.002004466950893402, 0.006238281726837158, -0.02508716657757759, -0.030183911323547363, -0.027779174968600273, 0.02363744005560875, -0.014607656747102737, 0.007215060293674469, -0.005611371248960495], [0.02638791874051094, -0.002004466950893402, 0.006238281726837158, -0.02508716657757759, -0.030183911323547363, -0.027779174968600273, 0.02363744005560875, -0.014607656747102737, 0.007215060293674469, -0.005611371248960495], [0.02638791874051094, -0.002004466950893402, 0.006238281726837158, -0.02508716657757759, -0.030183911323547363, -0.027779174968600273, 0.02363744005560875, -0.014607656747102737, 0.007215060293674469, -0.005611371248960495], [0.02638791874051094, -0.002004466950893402, 0.006238281726837158, -0.02508716657757759, -0.030183911323547363, -0.027779174968600273, 0.02363744005560875, -0.014607656747102737, 0.007215060293674469, -0.005611371248960495], [0.02638791874051094, -0.002004466950893402, 0.006238281726837158, -0.02508716657757759, -0.030183911323547363, -0.027779174968600273, 0.02363744005560875, -0.014607656747102737, 0.007215060293674469, -0.005611371248960495], [0.02638791874051094, -0.002004466950893402, 0.006238281726837158, -0.02508716657757759, -0.030183911323547363, -0.027779174968600273, 0.02363744005560875, -0.014607656747102737, 0.007215060293674469, -0.005611371248960495], [0.02638791874051094, -0.002004466950893402, 0.006238281726837158, -0.02508716657757759, -0.030183911323547363, -0.027779174968600273, 0.02363744005560875, -0.014607656747102737, 0.007215060293674469, -0.005611371248960495], [0.02638791874051094, -0.002004466950893402, 0.006238281726837158, -0.02508716657757759, -0.030183911323547363, -0.027779174968600273, 0.02363744005560875, -0.014607656747102737, 0.007215060293674469, -0.005611371248960495], [0.02638791874051094, -0.002004466950893402, 0.006238281726837158, -0.02508716657757759, -0.030183911323547363, -0.027779174968600273, 0.02363744005560875, -0.014607656747102737, 0.007215060293674469, -0.005611371248960495], [0.02638791874051094, -0.002004466950893402, 0.006238281726837158, -0.02508716657757759, -0.030183911323547363, -0.027779174968600273, 0.02363744005560875, -0.014607656747102737, 0.007215060293674469, -0.005611371248960495], [0.02638791874051094, -0.002004466950893402, 0.006238281726837158, -0.02508716657757759, -0.030183911323547363, -0.027779174968600273, 0.02363744005560875, -0.014607656747102737, 0.007215060293674469, -0.005611371248960495], [0.02638791874051094, -0.002004466950893402, 0.006238281726837158, -0.02508716657757759, -0.030183911323547363, -0.027779174968600273, 0.02363744005560875, -0.014607656747102737, 0.007215060293674469, -0.005611371248960495], [0.02638791874051094, -0.002004466950893402, 0.006238281726837158, -0.02508716657757759, -0.030183911323547363, -0.027779174968600273, 0.02363744005560875, -0.014607656747102737, 0.007215060293674469, -0.005611371248960495], [0.02638791874051094, -0.002004466950893402, 0.006238281726837158, -0.02508716657757759, -0.030183911323547363, -0.027779174968600273, 0.02363744005560875, -0.014607656747102737, 0.007215060293674469, -0.005611371248960495], [0.02638791874051094, -0.002004466950893402, 0.006238281726837158, -0.02508716657757759, -0.030183911323547363, -0.027779174968600273, 0.02363744005560875, -0.014607656747102737, 0.007215060293674469, -0.005611371248960495], [0.02638791874051094, -0.002004466950893402, 0.006238281726837158, -0.02508716657757759, -0.030183911323547363, -0.027779174968600273, 0.02363744005560875, -0.014607656747102737, 0.007215060293674469, -0.005611371248960495], [0.02638791874051094, -0.002004466950893402, 0.006238281726837158, -0.02508716657757759, -0.030183911323547363, -0.027779174968600273, 0.02363744005560875, -0.014607656747102737, 0.007215060293674469, -0.005611371248960495], [0.02638791874051094, -0.002004466950893402, 0.006238281726837158, -0.02508716657757759, -0.030183911323547363, -0.027779174968600273, 0.02363744005560875, -0.014607656747102737, 0.007215060293674469, -0.005611371248960495], [0.02638791874051094, -0.002004466950893402, 0.006238281726837158, -0.02508716657757759, -0.030183911323547363, -0.027779174968600273, 0.02363744005560875, -0.014607656747102737, 0.007215060293674469, -0.005611371248960495], [0.02638791874051094, -0.002004466950893402, 0.006238281726837158, -0.02508716657757759, -0.030183911323547363, -0.027779174968600273, 0.02363744005560875, -0.014607656747102737, 0.007215060293674469, -0.005611371248960495], [0.02638791874051094, -0.002004466950893402, 0.006238281726837158, -0.02508716657757759, -0.030183911323547363, -0.027779174968600273, 0.02363744005560875, -0.014607656747102737, 0.007215060293674469, -0.005611371248960495], [0.02638791874051094, -0.002004466950893402, 0.006238281726837158, -0.02508716657757759, -0.030183911323547363, -0.027779174968600273, 0.02363744005560875, -0.014607656747102737, 0.007215060293674469, -0.005611371248960495], [0.02638791874051094, -0.002004466950893402, 0.006238281726837158, -0.02508716657757759, -0.030183911323547363, -0.027779174968600273, 0.02363744005560875, -0.014607656747102737, 0.007215060293674469, -0.005611371248960495], [0.02638791874051094, -0.002004466950893402, 0.006238281726837158, -0.02508716657757759, -0.030183911323547363, -0.027779174968600273, 0.02363744005560875, -0.014607656747102737, 0.007215060293674469, -0.005611371248960495], [0.02638791874051094, -0.002004466950893402, 0.006238281726837158, -0.02508716657757759, -0.030183911323547363, -0.027779174968600273, 0.02363744005560875, -0.014607656747102737, 0.007215060293674469, -0.005611371248960495], [0.02638791874051094, -0.002004466950893402, 0.006238281726837158, -0.02508716657757759, -0.030183911323547363, -0.027779174968600273, 0.02363744005560875, -0.014607656747102737, 0.007215060293674469, -0.005611371248960495], [0.02638791874051094, -0.002004466950893402, 0.006238281726837158, -0.02508716657757759, -0.030183911323547363, -0.027779174968600273, 0.02363744005560875, -0.014607656747102737, 0.007215060293674469, -0.005611371248960495], [0.02638791874051094, -0.002004466950893402, 0.006238281726837158, -0.02508716657757759, -0.030183911323547363, -0.027779174968600273, 0.02363744005560875, -0.014607656747102737, 0.007215060293674469, -0.005611371248960495], [0.02638791874051094, -0.002004466950893402, 0.006238281726837158, -0.02508716657757759, -0.030183911323547363, -0.027779174968600273, 0.02363744005560875, -0.014607656747102737, 0.007215060293674469, -0.005611371248960495], [0.02638791874051094, -0.002004466950893402, 0.006238281726837158, -0.02508716657757759, -0.030183911323547363, -0.027779174968600273, 0.02363744005560875, -0.014607656747102737, 0.007215060293674469, -0.005611371248960495], [0.02638791874051094, -0.002004466950893402, 0.006238281726837158, -0.02508716657757759, -0.030183911323547363, -0.027779174968600273, 0.02363744005560875, -0.014607656747102737, 0.007215060293674469, -0.005611371248960495], [0.02638791874051094, -0.002004466950893402, 0.006238281726837158, -0.02508716657757759, -0.030183911323547363, -0.027779174968600273, 0.02363744005560875, -0.014607656747102737, 0.007215060293674469, -0.005611371248960495], [0.02638791874051094, -0.002004466950893402, 0.006238281726837158, -0.02508716657757759, -0.030183911323547363, -0.027779174968600273, 0.02363744005560875, -0.014607656747102737, 0.007215060293674469, -0.005611371248960495], [0.02638791874051094, -0.002004466950893402, 0.006238281726837158, -0.02508716657757759, -0.030183911323547363, -0.027779174968600273, 0.02363744005560875, -0.014607656747102737, 0.007215060293674469, -0.005611371248960495], [0.02638791874051094, -0.002004466950893402, 0.006238281726837158, -0.02508716657757759, -0.030183911323547363, -0.027779174968600273, 0.02363744005560875, -0.014607656747102737, 0.007215060293674469, -0.005611371248960495], [0.02638791874051094, -0.002004466950893402, 0.006238281726837158, -0.02508716657757759, -0.030183911323547363, -0.027779174968600273, 0.02363744005560875, -0.014607656747102737, 0.007215060293674469, -0.005611371248960495], [0.02638791874051094, -0.002004466950893402, 0.006238281726837158, -0.02508716657757759, -0.030183911323547363, -0.027779174968600273, 0.02363744005560875, -0.014607656747102737, 0.007215060293674469, -0.005611371248960495], [0.02638791874051094, -0.002004466950893402, 0.006238281726837158, -0.02508716657757759, -0.030183911323547363, -0.027779174968600273, 0.02363744005560875, -0.014607656747102737, 0.007215060293674469, -0.005611371248960495], [0.02638791874051094, -0.002004466950893402, 0.006238281726837158, -0.02508716657757759, -0.030183911323547363, -0.027779174968600273, 0.02363744005560875, -0.014607656747102737, 0.007215060293674469, -0.005611371248960495], [0.02638791874051094, -0.002004466950893402, 0.006238281726837158, -0.02508716657757759, -0.030183911323547363, -0.027779174968600273, 0.02363744005560875, -0.014607656747102737, 0.007215060293674469, -0.005611371248960495], [0.02638791874051094, -0.002004466950893402, 0.006238281726837158, -0.02508716657757759, -0.030183911323547363, -0.027779174968600273, 0.02363744005560875, -0.014607656747102737, 0.007215060293674469, -0.005611371248960495], [0.02638791874051094, -0.002004466950893402, 0.006238281726837158, -0.02508716657757759, -0.030183911323547363, -0.027779174968600273, 0.02363744005560875, -0.014607656747102737, 0.007215060293674469, -0.005611371248960495], [0.02638791874051094, -0.002004466950893402, 0.006238281726837158, -0.02508716657757759, -0.030183911323547363, -0.027779174968600273, 0.02363744005560875, -0.014607656747102737, 0.007215060293674469, -0.005611371248960495], [0.02638791874051094, -0.002004466950893402, 0.006238281726837158, -0.02508716657757759, -0.030183911323547363, -0.027779174968600273, 0.02363744005560875, -0.014607656747102737, 0.007215060293674469, -0.005611371248960495], [0.02638791874051094, -0.002004466950893402, 0.006238281726837158, -0.02508716657757759, -0.030183911323547363, -0.027779174968600273, 0.02363744005560875, -0.014607656747102737, 0.007215060293674469, -0.005611371248960495], [0.02638791874051094, -0.002004466950893402, 0.006238281726837158, -0.02508716657757759, -0.030183911323547363, -0.027779174968600273, 0.02363744005560875, -0.014607656747102737, 0.007215060293674469, -0.005611371248960495], [0.02638791874051094, -0.002004466950893402, 0.006238281726837158, -0.02508716657757759, -0.030183911323547363, -0.027779174968600273, 0.02363744005560875, -0.014607656747102737, 0.007215060293674469, -0.005611371248960495], [0.02638791874051094, -0.002004466950893402, 0.006238281726837158, -0.02508716657757759, -0.030183911323547363, -0.027779174968600273, 0.02363744005560875, -0.014607656747102737, 0.007215060293674469, -0.005611371248960495], [0.02638791874051094, -0.002004466950893402, 0.006238281726837158, -0.02508716657757759, -0.030183911323547363, -0.027779174968600273, 0.02363744005560875, -0.014607656747102737, 0.007215060293674469, -0.005611371248960495], [0.02638791874051094, -0.002004466950893402, 0.006238281726837158, -0.02508716657757759, -0.030183911323547363, -0.027779174968600273, 0.02363744005560875, -0.014607656747102737, 0.007215060293674469, -0.005611371248960495], [0.02638791874051094, -0.002004466950893402, 0.006238281726837158, -0.02508716657757759, -0.030183911323547363, -0.027779174968600273, 0.02363744005560875, -0.014607656747102737, 0.007215060293674469, -0.005611371248960495], [0.02638791874051094, -0.002004466950893402, 0.006238281726837158, -0.02508716657757759, -0.030183911323547363, -0.027779174968600273, 0.02363744005560875, -0.014607656747102737, 0.007215060293674469, -0.005611371248960495], [0.02638791874051094, -0.002004466950893402, 0.006238281726837158, -0.02508716657757759, -0.030183911323547363, -0.027779174968600273, 0.02363744005560875, -0.014607656747102737, 0.007215060293674469, -0.005611371248960495], [0.02638791874051094, -0.002004466950893402, 0.006238281726837158, -0.02508716657757759, -0.030183911323547363, -0.027779174968600273, 0.02363744005560875, -0.014607656747102737, 0.007215060293674469, -0.005611371248960495], [0.02638791874051094, -0.002004466950893402, 0.006238281726837158, -0.02508716657757759, -0.030183911323547363, -0.027779174968600273, 0.02363744005560875, -0.014607656747102737, 0.007215060293674469, -0.005611371248960495], [0.02638791874051094, -0.002004466950893402, 0.006238281726837158, -0.02508716657757759, -0.030183911323547363, -0.027779174968600273, 0.02363744005560875, -0.014607656747102737, 0.007215060293674469, -0.005611371248960495], [0.02638791874051094, -0.002004466950893402, 0.006238281726837158, -0.02508716657757759, -0.030183911323547363, -0.027779174968600273, 0.02363744005560875, -0.014607656747102737, 0.007215060293674469, -0.005611371248960495], [0.02638791874051094, -0.002004466950893402, 0.006238281726837158, -0.02508716657757759, -0.030183911323547363, -0.027779174968600273, 0.02363744005560875, -0.014607656747102737, 0.007215060293674469, -0.005611371248960495], [0.02638791874051094, -0.002004466950893402, 0.006238281726837158, -0.02508716657757759, -0.030183911323547363, -0.027779174968600273, 0.02363744005560875, -0.014607656747102737, 0.007215060293674469, -0.005611371248960495], [0.02638791874051094, -0.002004466950893402, 0.006238281726837158, -0.02508716657757759, -0.030183911323547363, -0.027779174968600273, 0.02363744005560875, -0.014607656747102737, 0.007215060293674469, -0.005611371248960495], [0.02638791874051094, -0.002004466950893402, 0.006238281726837158, -0.02508716657757759, -0.030183911323547363, -0.027779174968600273, 0.02363744005560875, -0.014607656747102737, 0.007215060293674469, -0.005611371248960495], [0.02638791874051094, -0.002004466950893402, 0.006238281726837158, -0.02508716657757759, -0.030183911323547363, -0.027779174968600273, 0.02363744005560875, -0.014607656747102737, 0.007215060293674469, -0.005611371248960495], [0.02638791874051094, -0.002004466950893402, 0.006238281726837158, -0.02508716657757759, -0.030183911323547363, -0.027779174968600273, 0.02363744005560875, -0.014607656747102737, 0.007215060293674469, -0.005611371248960495], [0.02638791874051094, -0.002004466950893402, 0.006238281726837158, -0.02508716657757759, -0.030183911323547363, -0.027779174968600273, 0.02363744005560875, -0.014607656747102737, 0.007215060293674469, -0.005611371248960495], [0.02638791874051094, -0.002004466950893402, 0.006238281726837158, -0.02508716657757759, -0.030183911323547363, -0.027779174968600273, 0.02363744005560875, -0.014607656747102737, 0.007215060293674469, -0.005611371248960495], [0.02638791874051094, -0.002004466950893402, 0.006238281726837158, -0.02508716657757759, -0.030183911323547363, -0.027779174968600273, 0.02363744005560875, -0.014607656747102737, 0.007215060293674469, -0.005611371248960495], [0.02638791874051094, -0.002004466950893402, 0.006238281726837158, -0.02508716657757759, -0.030183911323547363, -0.027779174968600273, 0.02363744005560875, -0.014607656747102737, 0.007215060293674469, -0.005611371248960495], [0.02638791874051094, -0.002004466950893402, 0.006238281726837158, -0.02508716657757759, -0.030183911323547363, -0.027779174968600273, 0.02363744005560875, -0.014607656747102737, 0.007215060293674469, -0.005611371248960495], [0.02638791874051094, -0.002004466950893402, 0.006238281726837158, -0.02508716657757759, -0.030183911323547363, -0.027779174968600273, 0.02363744005560875, -0.014607656747102737, 0.007215060293674469, -0.005611371248960495], [0.02638791874051094, -0.002004466950893402, 0.006238281726837158, -0.02508716657757759, -0.030183911323547363, -0.027779174968600273, 0.02363744005560875, -0.014607656747102737, 0.007215060293674469, -0.005611371248960495], [0.02638791874051094, -0.002004466950893402, 0.006238281726837158, -0.02508716657757759, -0.030183911323547363, -0.027779174968600273, 0.02363744005560875, -0.014607656747102737, 0.007215060293674469, -0.005611371248960495], [0.02638791874051094, -0.002004466950893402, 0.006238281726837158, -0.02508716657757759, -0.030183911323547363, -0.027779174968600273, 0.02363744005560875, -0.014607656747102737, 0.007215060293674469, -0.005611371248960495], [0.02638791874051094, -0.002004466950893402, 0.006238281726837158, -0.02508716657757759, -0.030183911323547363, -0.027779174968600273, 0.02363744005560875, -0.014607656747102737, 0.007215060293674469, -0.005611371248960495], [0.02638791874051094, -0.002004466950893402, 0.006238281726837158, -0.02508716657757759, -0.030183911323547363, -0.027779174968600273, 0.02363744005560875, -0.014607656747102737, 0.007215060293674469, -0.005611371248960495], [0.02638791874051094, -0.002004466950893402, 0.006238281726837158, -0.02508716657757759, -0.030183911323547363, -0.027779174968600273, 0.02363744005560875, -0.014607656747102737, 0.007215060293674469, -0.005611371248960495], [0.02638791874051094, -0.002004466950893402, 0.006238281726837158, -0.02508716657757759, -0.030183911323547363, -0.027779174968600273, 0.02363744005560875, -0.014607656747102737, 0.007215060293674469, -0.005611371248960495], [0.02638791874051094, -0.002004466950893402, 0.006238281726837158, -0.02508716657757759, -0.030183911323547363, -0.027779174968600273, 0.02363744005560875, -0.014607656747102737, 0.007215060293674469, -0.005611371248960495], [0.02638791874051094, -0.002004466950893402, 0.006238281726837158, -0.02508716657757759, -0.030183911323547363, -0.027779174968600273, 0.02363744005560875, -0.014607656747102737, 0.007215060293674469, -0.005611371248960495], [0.02638791874051094, -0.002004466950893402, 0.006238281726837158, -0.02508716657757759, -0.030183911323547363, -0.027779174968600273, 0.02363744005560875, -0.014607656747102737, 0.007215060293674469, -0.005611371248960495], [0.02638791874051094, -0.002004466950893402, 0.006238281726837158, -0.02508716657757759, -0.030183911323547363, -0.027779174968600273, 0.02363744005560875, -0.014607656747102737, 0.007215060293674469, -0.005611371248960495], [0.02638791874051094, -0.002004466950893402, 0.006238281726837158, -0.02508716657757759, -0.030183911323547363, -0.027779174968600273, 0.02363744005560875, -0.014607656747102737, 0.007215060293674469, -0.005611371248960495], [0.02638791874051094, -0.002004466950893402, 0.006238281726837158, -0.02508716657757759, -0.030183911323547363, -0.027779174968600273, 0.02363744005560875, -0.014607656747102737, 0.007215060293674469, -0.005611371248960495], [0.02638791874051094, -0.002004466950893402, 0.006238281726837158, -0.02508716657757759, -0.030183911323547363, -0.027779174968600273, 0.02363744005560875, -0.014607656747102737, 0.007215060293674469, -0.005611371248960495], [0.02638791874051094, -0.002004466950893402, 0.006238281726837158, -0.02508716657757759, -0.030183911323547363, -0.027779174968600273, 0.02363744005560875, -0.014607656747102737, 0.007215060293674469, -0.005611371248960495], [0.02638791874051094, -0.002004466950893402, 0.006238281726837158, -0.02508716657757759, -0.030183911323547363, -0.027779174968600273, 0.02363744005560875, -0.014607656747102737, 0.007215060293674469, -0.005611371248960495], [0.02638791874051094, -0.002004466950893402, 0.006238281726837158, -0.02508716657757759, -0.030183911323547363, -0.027779174968600273, 0.02363744005560875, -0.014607656747102737, 0.007215060293674469, -0.005611371248960495], [0.02638791874051094, -0.002004466950893402, 0.006238281726837158, -0.02508716657757759, -0.030183911323547363, -0.027779174968600273, 0.02363744005560875, -0.014607656747102737, 0.007215060293674469, -0.005611371248960495], [0.02638791874051094, -0.002004466950893402, 0.006238281726837158, -0.02508716657757759, -0.030183911323547363, -0.027779174968600273, 0.02363744005560875, -0.014607656747102737, 0.007215060293674469, -0.005611371248960495], [0.02638791874051094, -0.002004466950893402, 0.006238281726837158, -0.02508716657757759, -0.030183911323547363, -0.027779174968600273, 0.02363744005560875, -0.014607656747102737, 0.007215060293674469, -0.005611371248960495], [0.02638791874051094, -0.002004466950893402, 0.006238281726837158, -0.02508716657757759, -0.030183911323547363, -0.027779174968600273, 0.02363744005560875, -0.014607656747102737, 0.007215060293674469, -0.005611371248960495], [0.02638791874051094, -0.002004466950893402, 0.006238281726837158, -0.02508716657757759, -0.030183911323547363, -0.027779174968600273, 0.02363744005560875, -0.014607656747102737, 0.007215060293674469, -0.005611371248960495], [0.02638791874051094, -0.002004466950893402, 0.006238281726837158, -0.02508716657757759, -0.030183911323547363, -0.027779174968600273, 0.02363744005560875, -0.014607656747102737, 0.007215060293674469, -0.005611371248960495], [0.02638791874051094, -0.002004466950893402, 0.006238281726837158, -0.02508716657757759, -0.030183911323547363, -0.027779174968600273, 0.02363744005560875, -0.014607656747102737, 0.007215060293674469, -0.005611371248960495], [0.02638791874051094, -0.002004466950893402, 0.006238281726837158, -0.02508716657757759, -0.030183911323547363, -0.027779174968600273, 0.02363744005560875, -0.014607656747102737, 0.007215060293674469, -0.005611371248960495], [0.02638791874051094, -0.002004466950893402, 0.006238281726837158, -0.02508716657757759, -0.030183911323547363, -0.027779174968600273, 0.02363744005560875, -0.014607656747102737, 0.007215060293674469, -0.005611371248960495], [0.02638791874051094, -0.002004466950893402, 0.006238281726837158, -0.02508716657757759, -0.030183911323547363, -0.027779174968600273, 0.02363744005560875, -0.014607656747102737, 0.007215060293674469, -0.005611371248960495], [0.02638791874051094, -0.002004466950893402, 0.006238281726837158, -0.02508716657757759, -0.030183911323547363, -0.027779174968600273, 0.02363744005560875, -0.014607656747102737, 0.007215060293674469, -0.005611371248960495], [0.02638791874051094, -0.002004466950893402, 0.006238281726837158, -0.02508716657757759, -0.030183911323547363, -0.027779174968600273, 0.02363744005560875, -0.014607656747102737, 0.007215060293674469, -0.005611371248960495], [0.02638791874051094, -0.002004466950893402, 0.006238281726837158, -0.02508716657757759, -0.030183911323547363, -0.027779174968600273, 0.02363744005560875, -0.014607656747102737, 0.007215060293674469, -0.005611371248960495], [0.02638791874051094, -0.002004466950893402, 0.006238281726837158, -0.02508716657757759, -0.030183911323547363, -0.027779174968600273, 0.02363744005560875, -0.014607656747102737, 0.007215060293674469, -0.005611371248960495], [0.02638791874051094, -0.002004466950893402, 0.006238281726837158, -0.02508716657757759, -0.030183911323547363, -0.027779174968600273, 0.02363744005560875, -0.014607656747102737, 0.007215060293674469, -0.005611371248960495], [0.02638791874051094, -0.002004466950893402, 0.006238281726837158, -0.02508716657757759, -0.030183911323547363, -0.027779174968600273, 0.02363744005560875, -0.014607656747102737, 0.007215060293674469, -0.005611371248960495], [0.02638791874051094, -0.002004466950893402, 0.006238281726837158, -0.02508716657757759, -0.030183911323547363, -0.027779174968600273, 0.02363744005560875, -0.014607656747102737, 0.007215060293674469, -0.005611371248960495], [0.02638791874051094, -0.002004466950893402, 0.006238281726837158, -0.02508716657757759, -0.030183911323547363, -0.027779174968600273, 0.02363744005560875, -0.014607656747102737, 0.007215060293674469, -0.005611371248960495], [0.02638791874051094, -0.002004466950893402, 0.006238281726837158, -0.02508716657757759, -0.030183911323547363, -0.027779174968600273, 0.02363744005560875, -0.014607656747102737, 0.007215060293674469, -0.005611371248960495], [0.02638791874051094, -0.002004466950893402, 0.006238281726837158, -0.02508716657757759, -0.030183911323547363, -0.027779174968600273, 0.02363744005560875, -0.014607656747102737, 0.007215060293674469, -0.005611371248960495], [0.02638791874051094, -0.002004466950893402, 0.006238281726837158, -0.02508716657757759, -0.030183911323547363, -0.027779174968600273, 0.02363744005560875, -0.014607656747102737, 0.007215060293674469, -0.005611371248960495], [0.02638791874051094, -0.002004466950893402, 0.006238281726837158, -0.02508716657757759, -0.030183911323547363, -0.027779174968600273, 0.02363744005560875, -0.014607656747102737, 0.007215060293674469, -0.005611371248960495], [0.02638791874051094, -0.002004466950893402, 0.006238281726837158, -0.02508716657757759, -0.030183911323547363, -0.027779174968600273, 0.02363744005560875, -0.014607656747102737, 0.007215060293674469, -0.005611371248960495], [0.02638791874051094, -0.002004466950893402, 0.006238281726837158, -0.02508716657757759, -0.030183911323547363, -0.027779174968600273, 0.02363744005560875, -0.014607656747102737, 0.007215060293674469, -0.005611371248960495], [0.02638791874051094, -0.002004466950893402, 0.006238281726837158, -0.02508716657757759, -0.030183911323547363, -0.027779174968600273, 0.02363744005560875, -0.014607656747102737, 0.007215060293674469, -0.005611371248960495], [0.02638791874051094, -0.002004466950893402, 0.006238281726837158, -0.02508716657757759, -0.030183911323547363, -0.027779174968600273, 0.02363744005560875, -0.014607656747102737, 0.007215060293674469, -0.005611371248960495], [0.02638791874051094, -0.002004466950893402, 0.006238281726837158, -0.02508716657757759, -0.030183911323547363, -0.027779174968600273, 0.02363744005560875, -0.014607656747102737, 0.007215060293674469, -0.005611371248960495], [0.02638791874051094, -0.002004466950893402, 0.006238281726837158, -0.02508716657757759, -0.030183911323547363, -0.027779174968600273, 0.02363744005560875, -0.014607656747102737, 0.007215060293674469, -0.005611371248960495], [0.02638791874051094, -0.002004466950893402, 0.006238281726837158, -0.02508716657757759, -0.030183911323547363, -0.027779174968600273, 0.02363744005560875, -0.014607656747102737, 0.007215060293674469, -0.005611371248960495], [0.02638791874051094, -0.002004466950893402, 0.006238281726837158, -0.02508716657757759, -0.030183911323547363, -0.027779174968600273, 0.02363744005560875, -0.014607656747102737, 0.007215060293674469, -0.005611371248960495], [0.02638791874051094, -0.002004466950893402, 0.006238281726837158, -0.02508716657757759, -0.030183911323547363, -0.027779174968600273, 0.02363744005560875, -0.014607656747102737, 0.007215060293674469, -0.005611371248960495], [0.02638791874051094, -0.002004466950893402, 0.006238281726837158, -0.02508716657757759, -0.030183911323547363, -0.027779174968600273, 0.02363744005560875, -0.014607656747102737, 0.007215060293674469, -0.005611371248960495], [0.02638791874051094, -0.002004466950893402, 0.006238281726837158, -0.02508716657757759, -0.030183911323547363, -0.027779174968600273, 0.02363744005560875, -0.014607656747102737, 0.007215060293674469, -0.005611371248960495], [0.02638791874051094, -0.002004466950893402, 0.006238281726837158, -0.02508716657757759, -0.030183911323547363, -0.027779174968600273, 0.02363744005560875, -0.014607656747102737, 0.007215060293674469, -0.005611371248960495], [0.02638791874051094, -0.002004466950893402, 0.006238281726837158, -0.02508716657757759, -0.030183911323547363, -0.027779174968600273, 0.02363744005560875, -0.014607656747102737, 0.007215060293674469, -0.005611371248960495], [0.02638791874051094, -0.002004466950893402, 0.006238281726837158, -0.02508716657757759, -0.030183911323547363, -0.027779174968600273, 0.02363744005560875, -0.014607656747102737, 0.007215060293674469, -0.005611371248960495], [0.02638791874051094, -0.002004466950893402, 0.006238281726837158, -0.02508716657757759, -0.030183911323547363, -0.027779174968600273, 0.02363744005560875, -0.014607656747102737, 0.007215060293674469, -0.005611371248960495], [0.02638791874051094, -0.002004466950893402, 0.006238281726837158, -0.02508716657757759, -0.030183911323547363, -0.027779174968600273, 0.02363744005560875, -0.014607656747102737, 0.007215060293674469, -0.005611371248960495], [0.02638791874051094, -0.002004466950893402, 0.006238281726837158, -0.02508716657757759, -0.030183911323547363, -0.027779174968600273, 0.02363744005560875, -0.014607656747102737, 0.007215060293674469, -0.005611371248960495], [0.02638791874051094, -0.002004466950893402, 0.006238281726837158, -0.02508716657757759, -0.030183911323547363, -0.027779174968600273, 0.02363744005560875, -0.014607656747102737, 0.007215060293674469, -0.005611371248960495], [0.02638791874051094, -0.002004466950893402, 0.006238281726837158, -0.02508716657757759, -0.030183911323547363, -0.027779174968600273, 0.02363744005560875, -0.014607656747102737, 0.007215060293674469, -0.005611371248960495], [0.02638791874051094, -0.002004466950893402, 0.006238281726837158, -0.02508716657757759, -0.030183911323547363, -0.027779174968600273, 0.02363744005560875, -0.014607656747102737, 0.007215060293674469, -0.005611371248960495], [0.02638791874051094, -0.002004466950893402, 0.006238281726837158, -0.02508716657757759, -0.030183911323547363, -0.027779174968600273, 0.02363744005560875, -0.014607656747102737, 0.007215060293674469, -0.005611371248960495], [0.02638791874051094, -0.002004466950893402, 0.006238281726837158, -0.02508716657757759, -0.030183911323547363, -0.027779174968600273, 0.02363744005560875, -0.014607656747102737, 0.007215060293674469, -0.005611371248960495], [0.02638791874051094, -0.002004466950893402, 0.006238281726837158, -0.02508716657757759, -0.030183911323547363, -0.027779174968600273, 0.02363744005560875, -0.014607656747102737, 0.007215060293674469, -0.005611371248960495], [0.02638791874051094, -0.002004466950893402, 0.006238281726837158, -0.02508716657757759, -0.030183911323547363, -0.027779174968600273, 0.02363744005560875, -0.014607656747102737, 0.007215060293674469, -0.005611371248960495], [0.02638791874051094, -0.002004466950893402, 0.006238281726837158, -0.02508716657757759, -0.030183911323547363, -0.027779174968600273, 0.02363744005560875, -0.014607656747102737, 0.007215060293674469, -0.005611371248960495], [0.02638791874051094, -0.002004466950893402, 0.006238281726837158, -0.02508716657757759, -0.030183911323547363, -0.027779174968600273, 0.02363744005560875, -0.014607656747102737, 0.007215060293674469, -0.005611371248960495], [0.02638791874051094, -0.002004466950893402, 0.006238281726837158, -0.02508716657757759, -0.030183911323547363, -0.027779174968600273, 0.02363744005560875, -0.014607656747102737, 0.007215060293674469, -0.005611371248960495], [0.02638791874051094, -0.002004466950893402, 0.006238281726837158, -0.02508716657757759, -0.030183911323547363, -0.027779174968600273, 0.02363744005560875, -0.014607656747102737, 0.007215060293674469, -0.005611371248960495], [0.02638791874051094, -0.002004466950893402, 0.006238281726837158, -0.02508716657757759, -0.030183911323547363, -0.027779174968600273, 0.02363744005560875, -0.014607656747102737, 0.007215060293674469, -0.005611371248960495], [0.02638791874051094, -0.002004466950893402, 0.006238281726837158, -0.02508716657757759, -0.030183911323547363, -0.027779174968600273, 0.02363744005560875, -0.014607656747102737, 0.007215060293674469, -0.005611371248960495], [0.02638791874051094, -0.002004466950893402, 0.006238281726837158, -0.02508716657757759, -0.030183911323547363, -0.027779174968600273, 0.02363744005560875, -0.014607656747102737, 0.007215060293674469, -0.005611371248960495], [0.02638791874051094, -0.002004466950893402, 0.006238281726837158, -0.02508716657757759, -0.030183911323547363, -0.027779174968600273, 0.02363744005560875, -0.014607656747102737, 0.007215060293674469, -0.005611371248960495], [0.02638791874051094, -0.002004466950893402, 0.006238281726837158, -0.02508716657757759, -0.030183911323547363, -0.027779174968600273, 0.02363744005560875, -0.014607656747102737, 0.007215060293674469, -0.005611371248960495], [0.02638791874051094, -0.002004466950893402, 0.006238281726837158, -0.02508716657757759, -0.030183911323547363, -0.027779174968600273, 0.02363744005560875, -0.014607656747102737, 0.007215060293674469, -0.005611371248960495], [0.02638791874051094, -0.002004466950893402, 0.006238281726837158, -0.02508716657757759, -0.030183911323547363, -0.027779174968600273, 0.02363744005560875, -0.014607656747102737, 0.007215060293674469, -0.005611371248960495], [0.02638791874051094, -0.002004466950893402, 0.006238281726837158, -0.02508716657757759, -0.030183911323547363, -0.027779174968600273, 0.02363744005560875, -0.014607656747102737, 0.007215060293674469, -0.005611371248960495], [0.02638791874051094, -0.002004466950893402, 0.006238281726837158, -0.02508716657757759, -0.030183911323547363, -0.027779174968600273, 0.02363744005560875, -0.014607656747102737, 0.007215060293674469, -0.005611371248960495], [0.02638791874051094, -0.002004466950893402, 0.006238281726837158, -0.02508716657757759, -0.030183911323547363, -0.027779174968600273, 0.02363744005560875, -0.014607656747102737, 0.007215060293674469, -0.005611371248960495], [0.02638791874051094, -0.002004466950893402, 0.006238281726837158, -0.02508716657757759, -0.030183911323547363, -0.027779174968600273, 0.02363744005560875, -0.014607656747102737, 0.007215060293674469, -0.005611371248960495], [0.02638791874051094, -0.002004466950893402, 0.006238281726837158, -0.02508716657757759, -0.030183911323547363, -0.027779174968600273, 0.02363744005560875, -0.014607656747102737, 0.007215060293674469, -0.005611371248960495], [0.02638791874051094, -0.002004466950893402, 0.006238281726837158, -0.02508716657757759, -0.030183911323547363, -0.027779174968600273, 0.02363744005560875, -0.014607656747102737, 0.007215060293674469, -0.005611371248960495], [0.02638791874051094, -0.002004466950893402, 0.006238281726837158, -0.02508716657757759, -0.030183911323547363, -0.027779174968600273, 0.02363744005560875, -0.014607656747102737, 0.007215060293674469, -0.005611371248960495], [0.02638791874051094, -0.002004466950893402, 0.006238281726837158, -0.02508716657757759, -0.030183911323547363, -0.027779174968600273, 0.02363744005560875, -0.014607656747102737, 0.007215060293674469, -0.005611371248960495], [0.02638791874051094, -0.002004466950893402, 0.006238281726837158, -0.02508716657757759, -0.030183911323547363, -0.027779174968600273, 0.02363744005560875, -0.014607656747102737, 0.007215060293674469, -0.005611371248960495], [0.02638791874051094, -0.002004466950893402, 0.006238281726837158, -0.02508716657757759, -0.030183911323547363, -0.027779174968600273, 0.02363744005560875, -0.014607656747102737, 0.007215060293674469, -0.005611371248960495], [0.02638791874051094, -0.002004466950893402, 0.006238281726837158, -0.02508716657757759, -0.030183911323547363, -0.027779174968600273, 0.02363744005560875, -0.014607656747102737, 0.007215060293674469, -0.005611371248960495], [0.02638791874051094, -0.002004466950893402, 0.006238281726837158, -0.02508716657757759, -0.030183911323547363, -0.027779174968600273, 0.02363744005560875, -0.014607656747102737, 0.007215060293674469, -0.005611371248960495], [0.02638791874051094, -0.002004466950893402, 0.006238281726837158, -0.02508716657757759, -0.030183911323547363, -0.027779174968600273, 0.02363744005560875, -0.014607656747102737, 0.007215060293674469, -0.005611371248960495], [0.02638791874051094, -0.002004466950893402, 0.006238281726837158, -0.02508716657757759, -0.030183911323547363, -0.027779174968600273, 0.02363744005560875, -0.014607656747102737, 0.007215060293674469, -0.005611371248960495], [0.02638791874051094, -0.002004466950893402, 0.006238281726837158, -0.02508716657757759, -0.030183911323547363, -0.027779174968600273, 0.02363744005560875, -0.014607656747102737, 0.007215060293674469, -0.005611371248960495], [0.02638791874051094, -0.002004466950893402, 0.006238281726837158, -0.02508716657757759, -0.030183911323547363, -0.027779174968600273, 0.02363744005560875, -0.014607656747102737, 0.007215060293674469, -0.005611371248960495], [0.02638791874051094, -0.002004466950893402, 0.006238281726837158, -0.02508716657757759, -0.030183911323547363, -0.027779174968600273, 0.02363744005560875, -0.014607656747102737, 0.007215060293674469, -0.005611371248960495], [0.02638791874051094, -0.002004466950893402, 0.006238281726837158, -0.02508716657757759, -0.030183911323547363, -0.027779174968600273, 0.02363744005560875, -0.014607656747102737, 0.007215060293674469, -0.005611371248960495], [0.02638791874051094, -0.002004466950893402, 0.006238281726837158, -0.02508716657757759, -0.030183911323547363, -0.027779174968600273, 0.02363744005560875, -0.014607656747102737, 0.007215060293674469, -0.005611371248960495], [0.02638791874051094, -0.002004466950893402, 0.006238281726837158, -0.02508716657757759, -0.030183911323547363, -0.027779174968600273, 0.02363744005560875, -0.014607656747102737, 0.007215060293674469, -0.005611371248960495], [0.02638791874051094, -0.002004466950893402, 0.006238281726837158, -0.02508716657757759, -0.030183911323547363, -0.027779174968600273, 0.02363744005560875, -0.014607656747102737, 0.007215060293674469, -0.005611371248960495], [0.02638791874051094, -0.002004466950893402, 0.006238281726837158, -0.02508716657757759, -0.030183911323547363, -0.027779174968600273, 0.02363744005560875, -0.014607656747102737, 0.007215060293674469, -0.005611371248960495], [0.02638791874051094, -0.002004466950893402, 0.006238281726837158, -0.02508716657757759, -0.030183911323547363, -0.027779174968600273, 0.02363744005560875, -0.014607656747102737, 0.007215060293674469, -0.005611371248960495], [0.02638791874051094, -0.002004466950893402, 0.006238281726837158, -0.02508716657757759, -0.030183911323547363, -0.027779174968600273, 0.02363744005560875, -0.014607656747102737, 0.007215060293674469, -0.005611371248960495], [0.02638791874051094, -0.002004466950893402, 0.006238281726837158, -0.02508716657757759, -0.030183911323547363, -0.027779174968600273, 0.02363744005560875, -0.014607656747102737, 0.007215060293674469, -0.005611371248960495], [0.02638791874051094, -0.002004466950893402, 0.006238281726837158, -0.02508716657757759, -0.030183911323547363, -0.027779174968600273, 0.02363744005560875, -0.014607656747102737, 0.007215060293674469, -0.005611371248960495], [0.02638791874051094, -0.002004466950893402, 0.006238281726837158, -0.02508716657757759, -0.030183911323547363, -0.027779174968600273, 0.02363744005560875, -0.014607656747102737, 0.007215060293674469, -0.005611371248960495], [0.02638791874051094, -0.002004466950893402, 0.006238281726837158, -0.02508716657757759, -0.030183911323547363, -0.027779174968600273, 0.02363744005560875, -0.014607656747102737, 0.007215060293674469, -0.005611371248960495], [0.02638791874051094, -0.002004466950893402, 0.006238281726837158, -0.02508716657757759, -0.030183911323547363, -0.027779174968600273, 0.02363744005560875, -0.014607656747102737, 0.007215060293674469, -0.005611371248960495], [0.02638791874051094, -0.002004466950893402, 0.006238281726837158, -0.02508716657757759, -0.030183911323547363, -0.027779174968600273, 0.02363744005560875, -0.014607656747102737, 0.007215060293674469, -0.005611371248960495], [0.02638791874051094, -0.002004466950893402, 0.006238281726837158, -0.02508716657757759, -0.030183911323547363, -0.027779174968600273, 0.02363744005560875, -0.014607656747102737, 0.007215060293674469, -0.005611371248960495], [0.02638791874051094, -0.002004466950893402, 0.006238281726837158, -0.02508716657757759, -0.030183911323547363, -0.027779174968600273, 0.02363744005560875, -0.014607656747102737, 0.007215060293674469, -0.005611371248960495], [0.02638791874051094, -0.002004466950893402, 0.006238281726837158, -0.02508716657757759, -0.030183911323547363, -0.027779174968600273, 0.02363744005560875, -0.014607656747102737, 0.007215060293674469, -0.005611371248960495], [0.02638791874051094, -0.002004466950893402, 0.006238281726837158, -0.02508716657757759, -0.030183911323547363, -0.027779174968600273, 0.02363744005560875, -0.014607656747102737, 0.007215060293674469, -0.005611371248960495], [0.02638791874051094, -0.002004466950893402, 0.006238281726837158, -0.02508716657757759, -0.030183911323547363, -0.027779174968600273, 0.02363744005560875, -0.014607656747102737, 0.007215060293674469, -0.005611371248960495], [0.02638791874051094, -0.002004466950893402, 0.006238281726837158, -0.02508716657757759, -0.030183911323547363, -0.027779174968600273, 0.02363744005560875, -0.014607656747102737, 0.007215060293674469, -0.005611371248960495], [0.02638791874051094, -0.002004466950893402, 0.006238281726837158, -0.02508716657757759, -0.030183911323547363, -0.027779174968600273, 0.02363744005560875, -0.014607656747102737, 0.007215060293674469, -0.005611371248960495], [0.02638791874051094, -0.002004466950893402, 0.006238281726837158, -0.02508716657757759, -0.030183911323547363, -0.027779174968600273, 0.02363744005560875, -0.014607656747102737, 0.007215060293674469, -0.005611371248960495], [0.02638791874051094, -0.002004466950893402, 0.006238281726837158, -0.02508716657757759, -0.030183911323547363, -0.027779174968600273, 0.02363744005560875, -0.014607656747102737, 0.007215060293674469, -0.005611371248960495], [0.02638791874051094, -0.002004466950893402, 0.006238281726837158, -0.02508716657757759, -0.030183911323547363, -0.027779174968600273, 0.02363744005560875, -0.014607656747102737, 0.007215060293674469, -0.005611371248960495], [0.02638791874051094, -0.002004466950893402, 0.006238281726837158, -0.02508716657757759, -0.030183911323547363, -0.027779174968600273, 0.02363744005560875, -0.014607656747102737, 0.007215060293674469, -0.005611371248960495], [0.02638791874051094, -0.002004466950893402, 0.006238281726837158, -0.02508716657757759, -0.030183911323547363, -0.027779174968600273, 0.02363744005560875, -0.014607656747102737, 0.007215060293674469, -0.005611371248960495], [0.02638791874051094, -0.002004466950893402, 0.006238281726837158, -0.02508716657757759, -0.030183911323547363, -0.027779174968600273, 0.02363744005560875, -0.014607656747102737, 0.007215060293674469, -0.005611371248960495], [0.02638791874051094, -0.002004466950893402, 0.006238281726837158, -0.02508716657757759, -0.030183911323547363, -0.027779174968600273, 0.02363744005560875, -0.014607656747102737, 0.007215060293674469, -0.005611371248960495], [0.02638791874051094, -0.002004466950893402, 0.006238281726837158, -0.02508716657757759, -0.030183911323547363, -0.027779174968600273, 0.02363744005560875, -0.014607656747102737, 0.007215060293674469, -0.005611371248960495], [0.02638791874051094, -0.002004466950893402, 0.006238281726837158, -0.02508716657757759, -0.030183911323547363, -0.027779174968600273, 0.02363744005560875, -0.014607656747102737, 0.007215060293674469, -0.005611371248960495], [0.02638791874051094, -0.002004466950893402, 0.006238281726837158, -0.02508716657757759, -0.030183911323547363, -0.027779174968600273, 0.02363744005560875, -0.014607656747102737, 0.007215060293674469, -0.005611371248960495], [0.02638791874051094, -0.002004466950893402, 0.006238281726837158, -0.02508716657757759, -0.030183911323547363, -0.027779174968600273, 0.02363744005560875, -0.014607656747102737, 0.007215060293674469, -0.005611371248960495], [0.02638791874051094, -0.002004466950893402, 0.006238281726837158, -0.02508716657757759, -0.030183911323547363, -0.027779174968600273, 0.02363744005560875, -0.014607656747102737, 0.007215060293674469, -0.005611371248960495], [0.02638791874051094, -0.002004466950893402, 0.006238281726837158, -0.02508716657757759, -0.030183911323547363, -0.027779174968600273, 0.02363744005560875, -0.014607656747102737, 0.007215060293674469, -0.005611371248960495], [0.02638791874051094, -0.002004466950893402, 0.006238281726837158, -0.02508716657757759, -0.030183911323547363, -0.027779174968600273, 0.02363744005560875, -0.014607656747102737, 0.007215060293674469, -0.005611371248960495], [0.02638791874051094, -0.002004466950893402, 0.006238281726837158, -0.02508716657757759, -0.030183911323547363, -0.027779174968600273, 0.02363744005560875, -0.014607656747102737, 0.007215060293674469, -0.005611371248960495], [0.02638791874051094, -0.002004466950893402, 0.006238281726837158, -0.02508716657757759, -0.030183911323547363, -0.027779174968600273, 0.02363744005560875, -0.014607656747102737, 0.007215060293674469, -0.005611371248960495], [0.02638791874051094, -0.002004466950893402, 0.006238281726837158, -0.02508716657757759, -0.030183911323547363, -0.027779174968600273, 0.02363744005560875, -0.014607656747102737, 0.007215060293674469, -0.005611371248960495], [0.02638791874051094, -0.002004466950893402, 0.006238281726837158, -0.02508716657757759, -0.030183911323547363, -0.027779174968600273, 0.02363744005560875, -0.014607656747102737, 0.007215060293674469, -0.005611371248960495], [0.02638791874051094, -0.002004466950893402, 0.006238281726837158, -0.02508716657757759, -0.030183911323547363, -0.027779174968600273, 0.02363744005560875, -0.014607656747102737, 0.007215060293674469, -0.005611371248960495], [0.02638791874051094, -0.002004466950893402, 0.006238281726837158, -0.02508716657757759, -0.030183911323547363, -0.027779174968600273, 0.02363744005560875, -0.014607656747102737, 0.007215060293674469, -0.005611371248960495], [0.02638791874051094, -0.002004466950893402, 0.006238281726837158, -0.02508716657757759, -0.030183911323547363, -0.027779174968600273, 0.02363744005560875, -0.014607656747102737, 0.007215060293674469, -0.005611371248960495], [0.02638791874051094, -0.002004466950893402, 0.006238281726837158, -0.02508716657757759, -0.030183911323547363, -0.027779174968600273, 0.02363744005560875, -0.014607656747102737, 0.007215060293674469, -0.005611371248960495], [0.02638791874051094, -0.002004466950893402, 0.006238281726837158, -0.02508716657757759, -0.030183911323547363, -0.027779174968600273, 0.02363744005560875, -0.014607656747102737, 0.007215060293674469, -0.005611371248960495], [0.02638791874051094, -0.002004466950893402, 0.006238281726837158, -0.02508716657757759, -0.030183911323547363, -0.027779174968600273, 0.02363744005560875, -0.014607656747102737, 0.007215060293674469, -0.005611371248960495], [0.02638791874051094, -0.002004466950893402, 0.006238281726837158, -0.02508716657757759, -0.030183911323547363, -0.027779174968600273, 0.02363744005560875, -0.014607656747102737, 0.007215060293674469, -0.005611371248960495], [0.02638791874051094, -0.002004466950893402, 0.006238281726837158, -0.02508716657757759, -0.030183911323547363, -0.027779174968600273, 0.02363744005560875, -0.014607656747102737, 0.007215060293674469, -0.005611371248960495], [0.02638791874051094, -0.002004466950893402, 0.006238281726837158, -0.02508716657757759, -0.030183911323547363, -0.027779174968600273, 0.02363744005560875, -0.014607656747102737, 0.007215060293674469, -0.005611371248960495], [0.02638791874051094, -0.002004466950893402, 0.006238281726837158, -0.02508716657757759, -0.030183911323547363, -0.027779174968600273, 0.02363744005560875, -0.014607656747102737, 0.007215060293674469, -0.005611371248960495], [0.02638791874051094, -0.002004466950893402, 0.006238281726837158, -0.02508716657757759, -0.030183911323547363, -0.027779174968600273, 0.02363744005560875, -0.014607656747102737, 0.007215060293674469, -0.005611371248960495], [0.02638791874051094, -0.002004466950893402, 0.006238281726837158, -0.02508716657757759, -0.030183911323547363, -0.027779174968600273, 0.02363744005560875, -0.014607656747102737, 0.007215060293674469, -0.005611371248960495], [0.02638791874051094, -0.002004466950893402, 0.006238281726837158, -0.02508716657757759, -0.030183911323547363, -0.027779174968600273, 0.02363744005560875, -0.014607656747102737, 0.007215060293674469, -0.005611371248960495], [0.02638791874051094, -0.002004466950893402, 0.006238281726837158, -0.02508716657757759, -0.030183911323547363, -0.027779174968600273, 0.02363744005560875, -0.014607656747102737, 0.007215060293674469, -0.005611371248960495], [0.02638791874051094, -0.002004466950893402, 0.006238281726837158, -0.02508716657757759, -0.030183911323547363, -0.027779174968600273, 0.02363744005560875, -0.014607656747102737, 0.007215060293674469, -0.005611371248960495], [0.02638791874051094, -0.002004466950893402, 0.006238281726837158, -0.02508716657757759, -0.030183911323547363, -0.027779174968600273, 0.02363744005560875, -0.014607656747102737, 0.007215060293674469, -0.005611371248960495], [0.02638791874051094, -0.002004466950893402, 0.006238281726837158, -0.02508716657757759, -0.030183911323547363, -0.027779174968600273, 0.02363744005560875, -0.014607656747102737, 0.007215060293674469, -0.005611371248960495], [0.02638791874051094, -0.002004466950893402, 0.006238281726837158, -0.02508716657757759, -0.030183911323547363, -0.027779174968600273, 0.02363744005560875, -0.014607656747102737, 0.007215060293674469, -0.005611371248960495], [0.02638791874051094, -0.002004466950893402, 0.006238281726837158, -0.02508716657757759, -0.030183911323547363, -0.027779174968600273, 0.02363744005560875, -0.014607656747102737, 0.007215060293674469, -0.005611371248960495], [0.02638791874051094, -0.002004466950893402, 0.006238281726837158, -0.02508716657757759, -0.030183911323547363, -0.027779174968600273, 0.02363744005560875, -0.014607656747102737, 0.007215060293674469, -0.005611371248960495], [0.02638791874051094, -0.002004466950893402, 0.006238281726837158, -0.02508716657757759, -0.030183911323547363, -0.027779174968600273, 0.02363744005560875, -0.014607656747102737, 0.007215060293674469, -0.005611371248960495], [0.02638791874051094, -0.002004466950893402, 0.006238281726837158, -0.02508716657757759, -0.030183911323547363, -0.027779174968600273, 0.02363744005560875, -0.014607656747102737, 0.007215060293674469, -0.005611371248960495], [0.02638791874051094, -0.002004466950893402, 0.006238281726837158, -0.02508716657757759, -0.030183911323547363, -0.027779174968600273, 0.02363744005560875, -0.014607656747102737, 0.007215060293674469, -0.005611371248960495], [0.02638791874051094, -0.002004466950893402, 0.006238281726837158, -0.02508716657757759, -0.030183911323547363, -0.027779174968600273, 0.02363744005560875, -0.014607656747102737, 0.007215060293674469, -0.005611371248960495], [0.02638791874051094, -0.002004466950893402, 0.006238281726837158, -0.02508716657757759, -0.030183911323547363, -0.027779174968600273, 0.02363744005560875, -0.014607656747102737, 0.007215060293674469, -0.005611371248960495], [0.02638791874051094, -0.002004466950893402, 0.006238281726837158, -0.02508716657757759, -0.030183911323547363, -0.027779174968600273, 0.02363744005560875, -0.014607656747102737, 0.007215060293674469, -0.005611371248960495], [0.02638791874051094, -0.002004466950893402, 0.006238281726837158, -0.02508716657757759, -0.030183911323547363, -0.027779174968600273, 0.02363744005560875, -0.014607656747102737, 0.007215060293674469, -0.005611371248960495], [0.02638791874051094, -0.002004466950893402, 0.006238281726837158, -0.02508716657757759, -0.030183911323547363, -0.027779174968600273, 0.02363744005560875, -0.014607656747102737, 0.007215060293674469, -0.005611371248960495], [0.02638791874051094, -0.002004466950893402, 0.006238281726837158, -0.02508716657757759, -0.030183911323547363, -0.027779174968600273, 0.02363744005560875, -0.014607656747102737, 0.007215060293674469, -0.005611371248960495], [0.02638791874051094, -0.002004466950893402, 0.006238281726837158, -0.02508716657757759, -0.030183911323547363, -0.027779174968600273, 0.02363744005560875, -0.014607656747102737, 0.007215060293674469, -0.005611371248960495], [0.02638791874051094, -0.002004466950893402, 0.006238281726837158, -0.02508716657757759, -0.030183911323547363, -0.027779174968600273, 0.02363744005560875, -0.014607656747102737, 0.007215060293674469, -0.005611371248960495], [0.02638791874051094, -0.002004466950893402, 0.006238281726837158, -0.02508716657757759, -0.030183911323547363, -0.027779174968600273, 0.02363744005560875, -0.014607656747102737, 0.007215060293674469, -0.005611371248960495], [0.02638791874051094, -0.002004466950893402, 0.006238281726837158, -0.02508716657757759, -0.030183911323547363, -0.027779174968600273, 0.02363744005560875, -0.014607656747102737, 0.007215060293674469, -0.005611371248960495], [0.02638791874051094, -0.002004466950893402, 0.006238281726837158, -0.02508716657757759, -0.030183911323547363, -0.027779174968600273, 0.02363744005560875, -0.014607656747102737, 0.007215060293674469, -0.005611371248960495], [0.02638791874051094, -0.002004466950893402, 0.006238281726837158, -0.02508716657757759, -0.030183911323547363, -0.027779174968600273, 0.02363744005560875, -0.014607656747102737, 0.007215060293674469, -0.005611371248960495], [0.02638791874051094, -0.002004466950893402, 0.006238281726837158, -0.02508716657757759, -0.030183911323547363, -0.027779174968600273, 0.02363744005560875, -0.014607656747102737, 0.007215060293674469, -0.005611371248960495], [0.02638791874051094, -0.002004466950893402, 0.006238281726837158, -0.02508716657757759, -0.030183911323547363, -0.027779174968600273, 0.02363744005560875, -0.014607656747102737, 0.007215060293674469, -0.005611371248960495], [0.02638791874051094, -0.002004466950893402, 0.006238281726837158, -0.02508716657757759, -0.030183911323547363, -0.027779174968600273, 0.02363744005560875, -0.014607656747102737, 0.007215060293674469, -0.005611371248960495], [0.02638791874051094, -0.002004466950893402, 0.006238281726837158, -0.02508716657757759, -0.030183911323547363, -0.027779174968600273, 0.02363744005560875, -0.014607656747102737, 0.007215060293674469, -0.005611371248960495], [0.02638791874051094, -0.002004466950893402, 0.006238281726837158, -0.02508716657757759, -0.030183911323547363, -0.027779174968600273, 0.02363744005560875, -0.014607656747102737, 0.007215060293674469, -0.005611371248960495], [0.02638791874051094, -0.002004466950893402, 0.006238281726837158, -0.02508716657757759, -0.030183911323547363, -0.027779174968600273, 0.02363744005560875, -0.014607656747102737, 0.007215060293674469, -0.005611371248960495], [0.02638791874051094, -0.002004466950893402, 0.006238281726837158, -0.02508716657757759, -0.030183911323547363, -0.027779174968600273, 0.02363744005560875, -0.014607656747102737, 0.007215060293674469, -0.005611371248960495], [0.02638791874051094, -0.002004466950893402, 0.006238281726837158, -0.02508716657757759, -0.030183911323547363, -0.027779174968600273, 0.02363744005560875, -0.014607656747102737, 0.007215060293674469, -0.005611371248960495], [0.02638791874051094, -0.002004466950893402, 0.006238281726837158, -0.02508716657757759, -0.030183911323547363, -0.027779174968600273, 0.02363744005560875, -0.014607656747102737, 0.007215060293674469, -0.005611371248960495], [0.02638791874051094, -0.002004466950893402, 0.006238281726837158, -0.02508716657757759, -0.030183911323547363, -0.027779174968600273, 0.02363744005560875, -0.014607656747102737, 0.007215060293674469, -0.005611371248960495], [0.02638791874051094, -0.002004466950893402, 0.006238281726837158, -0.02508716657757759, -0.030183911323547363, -0.027779174968600273, 0.02363744005560875, -0.014607656747102737, 0.007215060293674469, -0.005611371248960495], [0.02638791874051094, -0.002004466950893402, 0.006238281726837158, -0.02508716657757759, -0.030183911323547363, -0.027779174968600273, 0.02363744005560875, -0.014607656747102737, 0.007215060293674469, -0.005611371248960495], [0.02638791874051094, -0.002004466950893402, 0.006238281726837158, -0.02508716657757759, -0.030183911323547363, -0.027779174968600273, 0.02363744005560875, -0.014607656747102737, 0.007215060293674469, -0.005611371248960495], [0.02638791874051094, -0.002004466950893402, 0.006238281726837158, -0.02508716657757759, -0.030183911323547363, -0.027779174968600273, 0.02363744005560875, -0.014607656747102737, 0.007215060293674469, -0.005611371248960495], [0.02638791874051094, -0.002004466950893402, 0.006238281726837158, -0.02508716657757759, -0.030183911323547363, -0.027779174968600273, 0.02363744005560875, -0.014607656747102737, 0.007215060293674469, -0.005611371248960495], [0.02638791874051094, -0.002004466950893402, 0.006238281726837158, -0.02508716657757759, -0.030183911323547363, -0.027779174968600273, 0.02363744005560875, -0.014607656747102737, 0.007215060293674469, -0.005611371248960495], [0.02638791874051094, -0.002004466950893402, 0.006238281726837158, -0.02508716657757759, -0.030183911323547363, -0.027779174968600273, 0.02363744005560875, -0.014607656747102737, 0.007215060293674469, -0.005611371248960495], [0.02638791874051094, -0.002004466950893402, 0.006238281726837158, -0.02508716657757759, -0.030183911323547363, -0.027779174968600273, 0.02363744005560875, -0.014607656747102737, 0.007215060293674469, -0.005611371248960495], [0.02638791874051094, -0.002004466950893402, 0.006238281726837158, -0.02508716657757759, -0.030183911323547363, -0.027779174968600273, 0.02363744005560875, -0.014607656747102737, 0.007215060293674469, -0.005611371248960495], [0.02638791874051094, -0.002004466950893402, 0.006238281726837158, -0.02508716657757759, -0.030183911323547363, -0.027779174968600273, 0.02363744005560875, -0.014607656747102737, 0.007215060293674469, -0.005611371248960495], [0.02638791874051094, -0.002004466950893402, 0.006238281726837158, -0.02508716657757759, -0.030183911323547363, -0.027779174968600273, 0.02363744005560875, -0.014607656747102737, 0.007215060293674469, -0.005611371248960495], [0.02638791874051094, -0.002004466950893402, 0.006238281726837158, -0.02508716657757759, -0.030183911323547363, -0.027779174968600273, 0.02363744005560875, -0.014607656747102737, 0.007215060293674469, -0.005611371248960495], [0.02638791874051094, -0.002004466950893402, 0.006238281726837158, -0.02508716657757759, -0.030183911323547363, -0.027779174968600273, 0.02363744005560875, -0.014607656747102737, 0.007215060293674469, -0.005611371248960495], [0.02638791874051094, -0.002004466950893402, 0.006238281726837158, -0.02508716657757759, -0.030183911323547363, -0.027779174968600273, 0.02363744005560875, -0.014607656747102737, 0.007215060293674469, -0.005611371248960495], [0.02638791874051094, -0.002004466950893402, 0.006238281726837158, -0.02508716657757759, -0.030183911323547363, -0.027779174968600273, 0.02363744005560875, -0.014607656747102737, 0.007215060293674469, -0.005611371248960495], [0.02638791874051094, -0.002004466950893402, 0.006238281726837158, -0.02508716657757759, -0.030183911323547363, -0.027779174968600273, 0.02363744005560875, -0.014607656747102737, 0.007215060293674469, -0.005611371248960495], [0.02638791874051094, -0.002004466950893402, 0.006238281726837158, -0.02508716657757759, -0.030183911323547363, -0.027779174968600273, 0.02363744005560875, -0.014607656747102737, 0.007215060293674469, -0.005611371248960495], [0.02638791874051094, -0.002004466950893402, 0.006238281726837158, -0.02508716657757759, -0.030183911323547363, -0.027779174968600273, 0.02363744005560875, -0.014607656747102737, 0.007215060293674469, -0.005611371248960495], [0.02638791874051094, -0.002004466950893402, 0.006238281726837158, -0.02508716657757759, -0.030183911323547363, -0.027779174968600273, 0.02363744005560875, -0.014607656747102737, 0.007215060293674469, -0.005611371248960495], [0.02638791874051094, -0.002004466950893402, 0.006238281726837158, -0.02508716657757759, -0.030183911323547363, -0.027779174968600273, 0.02363744005560875, -0.014607656747102737, 0.007215060293674469, -0.005611371248960495], [0.02638791874051094, -0.002004466950893402, 0.006238281726837158, -0.02508716657757759, -0.030183911323547363, -0.027779174968600273, 0.02363744005560875, -0.014607656747102737, 0.007215060293674469, -0.005611371248960495], [0.02638791874051094, -0.002004466950893402, 0.006238281726837158, -0.02508716657757759, -0.030183911323547363, -0.027779174968600273, 0.02363744005560875, -0.014607656747102737, 0.007215060293674469, -0.005611371248960495], [0.02638791874051094, -0.002004466950893402, 0.006238281726837158, -0.02508716657757759, -0.030183911323547363, -0.027779174968600273, 0.02363744005560875, -0.014607656747102737, 0.007215060293674469, -0.005611371248960495], [0.02638791874051094, -0.002004466950893402, 0.006238281726837158, -0.02508716657757759, -0.030183911323547363, -0.027779174968600273, 0.02363744005560875, -0.014607656747102737, 0.007215060293674469, -0.005611371248960495], [0.02638791874051094, -0.002004466950893402, 0.006238281726837158, -0.02508716657757759, -0.030183911323547363, -0.027779174968600273, 0.02363744005560875, -0.014607656747102737, 0.007215060293674469, -0.005611371248960495], [0.02638791874051094, -0.002004466950893402, 0.006238281726837158, -0.02508716657757759, -0.030183911323547363, -0.027779174968600273, 0.02363744005560875, -0.014607656747102737, 0.007215060293674469, -0.005611371248960495], [0.02638791874051094, -0.002004466950893402, 0.006238281726837158, -0.02508716657757759, -0.030183911323547363, -0.027779174968600273, 0.02363744005560875, -0.014607656747102737, 0.007215060293674469, -0.005611371248960495], [0.02638791874051094, -0.002004466950893402, 0.006238281726837158, -0.02508716657757759, -0.030183911323547363, -0.027779174968600273, 0.02363744005560875, -0.014607656747102737, 0.007215060293674469, -0.005611371248960495], [0.02638791874051094, -0.002004466950893402, 0.006238281726837158, -0.02508716657757759, -0.030183911323547363, -0.027779174968600273, 0.02363744005560875, -0.014607656747102737, 0.007215060293674469, -0.005611371248960495], [0.02638791874051094, -0.002004466950893402, 0.006238281726837158, -0.02508716657757759, -0.030183911323547363, -0.027779174968600273, 0.02363744005560875, -0.014607656747102737, 0.007215060293674469, -0.005611371248960495], [0.02638791874051094, -0.002004466950893402, 0.006238281726837158, -0.02508716657757759, -0.030183911323547363, -0.027779174968600273, 0.02363744005560875, -0.014607656747102737, 0.007215060293674469, -0.005611371248960495], [0.02638791874051094, -0.002004466950893402, 0.006238281726837158, -0.02508716657757759, -0.030183911323547363, -0.027779174968600273, 0.02363744005560875, -0.014607656747102737, 0.007215060293674469, -0.005611371248960495], [0.02638791874051094, -0.002004466950893402, 0.006238281726837158, -0.02508716657757759, -0.030183911323547363, -0.027779174968600273, 0.02363744005560875, -0.014607656747102737, 0.007215060293674469, -0.005611371248960495], [0.02638791874051094, -0.002004466950893402, 0.006238281726837158, -0.02508716657757759, -0.030183911323547363, -0.027779174968600273, 0.02363744005560875, -0.014607656747102737, 0.007215060293674469, -0.005611371248960495], [0.02638791874051094, -0.002004466950893402, 0.006238281726837158, -0.02508716657757759, -0.030183911323547363, -0.027779174968600273, 0.02363744005560875, -0.014607656747102737, 0.007215060293674469, -0.005611371248960495], [0.02638791874051094, -0.002004466950893402, 0.006238281726837158, -0.02508716657757759, -0.030183911323547363, -0.027779174968600273, 0.02363744005560875, -0.014607656747102737, 0.007215060293674469, -0.005611371248960495], [0.02638791874051094, -0.002004466950893402, 0.006238281726837158, -0.02508716657757759, -0.030183911323547363, -0.027779174968600273, 0.02363744005560875, -0.014607656747102737, 0.007215060293674469, -0.005611371248960495], [0.02638791874051094, -0.002004466950893402, 0.006238281726837158, -0.02508716657757759, -0.030183911323547363, -0.027779174968600273, 0.02363744005560875, -0.014607656747102737, 0.007215060293674469, -0.005611371248960495], [0.02638791874051094, -0.002004466950893402, 0.006238281726837158, -0.02508716657757759, -0.030183911323547363, -0.027779174968600273, 0.02363744005560875, -0.014607656747102737, 0.007215060293674469, -0.005611371248960495], [0.02638791874051094, -0.002004466950893402, 0.006238281726837158, -0.02508716657757759, -0.030183911323547363, -0.027779174968600273, 0.02363744005560875, -0.014607656747102737, 0.007215060293674469, -0.005611371248960495], [0.02638791874051094, -0.002004466950893402, 0.006238281726837158, -0.02508716657757759, -0.030183911323547363, -0.027779174968600273, 0.02363744005560875, -0.014607656747102737, 0.007215060293674469, -0.005611371248960495], [0.02638791874051094, -0.002004466950893402, 0.006238281726837158, -0.02508716657757759, -0.030183911323547363, -0.027779174968600273, 0.02363744005560875, -0.014607656747102737, 0.007215060293674469, -0.005611371248960495], [0.02638791874051094, -0.002004466950893402, 0.006238281726837158, -0.02508716657757759, -0.030183911323547363, -0.027779174968600273, 0.02363744005560875, -0.014607656747102737, 0.007215060293674469, -0.005611371248960495], [0.02638791874051094, -0.002004466950893402, 0.006238281726837158, -0.02508716657757759, -0.030183911323547363, -0.027779174968600273, 0.02363744005560875, -0.014607656747102737, 0.007215060293674469, -0.005611371248960495], [0.02638791874051094, -0.002004466950893402, 0.006238281726837158, -0.02508716657757759, -0.030183911323547363, -0.027779174968600273, 0.02363744005560875, -0.014607656747102737, 0.007215060293674469, -0.005611371248960495], [0.02638791874051094, -0.002004466950893402, 0.006238281726837158, -0.02508716657757759, -0.030183911323547363, -0.027779174968600273, 0.02363744005560875, -0.014607656747102737, 0.007215060293674469, -0.005611371248960495], [0.02638791874051094, -0.002004466950893402, 0.006238281726837158, -0.02508716657757759, -0.030183911323547363, -0.027779174968600273, 0.02363744005560875, -0.014607656747102737, 0.007215060293674469, -0.005611371248960495], [0.02638791874051094, -0.002004466950893402, 0.006238281726837158, -0.02508716657757759, -0.030183911323547363, -0.027779174968600273, 0.02363744005560875, -0.014607656747102737, 0.007215060293674469, -0.005611371248960495], [0.02638791874051094, -0.002004466950893402, 0.006238281726837158, -0.02508716657757759, -0.030183911323547363, -0.027779174968600273, 0.02363744005560875, -0.014607656747102737, 0.007215060293674469, -0.005611371248960495], [0.02638791874051094, -0.002004466950893402, 0.006238281726837158, -0.02508716657757759, -0.030183911323547363, -0.027779174968600273, 0.02363744005560875, -0.014607656747102737, 0.007215060293674469, -0.005611371248960495], [0.02638791874051094, -0.002004466950893402, 0.006238281726837158, -0.02508716657757759, -0.030183911323547363, -0.027779174968600273, 0.02363744005560875, -0.014607656747102737, 0.007215060293674469, -0.005611371248960495], [0.02638791874051094, -0.002004466950893402, 0.006238281726837158, -0.02508716657757759, -0.030183911323547363, -0.027779174968600273, 0.02363744005560875, -0.014607656747102737, 0.007215060293674469, -0.005611371248960495], [0.02638791874051094, -0.002004466950893402, 0.006238281726837158, -0.02508716657757759, -0.030183911323547363, -0.027779174968600273, 0.02363744005560875, -0.014607656747102737, 0.007215060293674469, -0.005611371248960495], [0.02638791874051094, -0.002004466950893402, 0.006238281726837158, -0.02508716657757759, -0.030183911323547363, -0.027779174968600273, 0.02363744005560875, -0.014607656747102737, 0.007215060293674469, -0.005611371248960495], [0.02638791874051094, -0.002004466950893402, 0.006238281726837158, -0.02508716657757759, -0.030183911323547363, -0.027779174968600273, 0.02363744005560875, -0.014607656747102737, 0.007215060293674469, -0.005611371248960495], [0.02638791874051094, -0.002004466950893402, 0.006238281726837158, -0.02508716657757759, -0.030183911323547363, -0.027779174968600273, 0.02363744005560875, -0.014607656747102737, 0.007215060293674469, -0.005611371248960495]]\",\n          \"[[-0.026850486174225807, -0.048000335693359375, -0.04266705736517906, 0.015860985964536667, -0.01614440605044365, 0.0471777580678463, 0.02810220792889595, 0.00391387939453125, -0.03550673648715019, -0.03230954706668854], [-0.04129748418927193, -0.013257421553134918, 0.00012363120913505554, 0.026533689349889755, -0.03610708564519882, 0.020051565021276474, -0.01954737864434719, 0.039344023913145065, 0.04291638359427452, 0.0025731921195983887], [-0.01877768151462078, -0.04619494825601578, -0.018461667001247406, 0.049491073936223984, 0.03424883261322975, -0.03521256521344185, 0.026610996574163437, 0.007668592035770416, 0.04720905050635338, 0.02365671470761299], [-0.03356458991765976, 0.006276916712522507, 0.013248059898614883, -0.02828742377460003, 0.03630765900015831, 0.028282437473535538, -0.027559710666537285, 0.028361964970827103, -0.031898438930511475, -0.020028090104460716], [-0.04042612388730049, -0.011941038072109222, 0.027838658541440964, -0.0032665617763996124, -0.00912700966000557, -0.021532630547881126, 0.04037882015109062, 0.04691607132554054, 0.029324140399694443, -0.020431434735655785], [0.04506668075919151, 0.031059298664331436, -0.026072943583130836, -0.014303289353847504, 0.03852567449212074, 0.03529122844338417, -0.04051925987005234, 0.012748870998620987, 0.04141148552298546, 0.03244117274880409], [0.016075778752565384, 0.010333944112062454, 0.04537170007824898, 0.0008343569934368134, -0.035150252282619476, -0.03245796263217926, 0.03774357959628105, 0.04159588739275932, 0.023958873003721237, -0.017435766756534576], [-0.04944106563925743, 0.036340322345495224, 0.015517164021730423, 0.04801691696047783, -0.0010916702449321747, 0.04899752512574196, -0.022223401814699173, -0.007112313061952591, -0.018081963062286377, -0.016482830047607422], [-0.028175974264740944, -0.021505022421479225, -0.03852570056915283, 0.033275019377470016, 0.03544677421450615, 0.009228013455867767, -0.03231304883956909, -0.02660212479531765, -0.003516126424074173, 0.04402961954474449], [0.008482776582241058, 0.03367895260453224, -0.00043842941522598267, -0.004346955567598343, -0.007126845419406891, 0.028578627854585648, 0.018778596073389053, 0.027031969279050827, 0.04787120595574379, 0.011036157608032227], [-0.018637370318174362, 0.022267702966928482, 0.041670169681310654, 0.030671272426843643, -0.002749156206846237, -0.021599555388092995, 0.008647941052913666, 0.0008795373141765594, 0.023314286023378372, -0.0001684539020061493], [-0.043575432151556015, -0.005243144929409027, 0.04429997131228447, -0.013743497431278229, -0.008605659008026123, 0.017477963119745255, -0.0107148177921772, -0.026666486635804176, 0.04262348636984825, 0.03926009312272072], [-0.026672257110476494, 0.005283772945404053, 0.025414709001779556, 0.03912677988409996, -0.032316163182258606, 0.027276840060949326, -0.04828329011797905, -0.02887784317135811, 0.023531798273324966, -0.035476792603731155], [0.016465771943330765, -0.006774544715881348, -0.03225431591272354, -0.044819366186857224, 0.022758055478334427, -0.041851770132780075, 0.0299600251019001, 0.04163170978426933, -0.0347743034362793, 0.003587614744901657], [0.003633357584476471, 0.02800903096795082, -0.016155946999788284, 0.019013825803995132, 0.023563135415315628, 0.037293028086423874, -0.01995380036532879, 0.03054380789399147, -0.03498993068933487, -0.03455237299203873], [0.02104378119111061, 0.014727059751749039, -0.04445815086364746, 0.016049329191446304, -0.01226271316409111, -0.0026922933757305145, 0.004896104335784912, -0.025889158248901367, -0.03385589271783829, -0.017448674887418747], [-0.007182620465755463, -0.021463727578520775, 0.01409396156668663, -0.023501599207520485, 0.018204275518655777, 0.02587589994072914, -0.013329852372407913, 0.013613257557153702, -0.024792982265353203, 0.000552058219909668], [-0.026672257110476494, 0.005283772945404053, 0.025414709001779556, 0.03912677988409996, -0.032316163182258606, 0.027276840060949326, -0.04828329011797905, -0.02887784317135811, 0.023531798273324966, -0.035476792603731155], [-0.010468244552612305, 0.03983573988080025, -0.017798922955989838, -0.04817316681146622, 0.00019603967666625977, -0.018514394760131836, -0.04185827821493149, -0.023773718625307083, -0.03884638473391533, -0.030157912522554398], [-0.013119041919708252, -0.02001035213470459, 0.038105178624391556, 0.022783543914556503, -0.028606021776795387, -0.005359925329685211, -0.04629267379641533, -0.007185507565736771, 0.005362212657928467, -0.03502636030316353], [-0.04447188600897789, 0.008885286748409271, 0.04257286712527275, -0.00955144315958023, -0.026901114732027054, -0.0050445906817913055, 0.024512361735105515, 0.014360491186380386, -0.03275712579488754, 0.008637845516204834], [0.03626003488898277, -0.04982361942529678, -0.00809023529291153, -0.03291970491409302, -0.04470787197351456, -0.04145529121160507, -0.0017221085727214813, -0.033866144716739655, 0.04182859882712364, 0.0022097118198871613], [-0.043634843081235886, -0.010818563401699066, -0.04692235216498375, -0.01565270498394966, -0.02738410234451294, -0.030784035101532936, 0.0044426098465919495, 0.03243572637438774, 0.026143383234739304, -0.01777418702840805], [-0.02442094124853611, 0.00020617246627807617, -0.041674982756376266, 0.03269144520163536, 0.035350266844034195, 0.04141971096396446, -0.02496941201388836, -0.02719864808022976, -0.00500188022851944, -0.005694590508937836], [0.04691983386874199, 0.04377973452210426, -0.005565870553255081, -0.0008283145725727081, -0.03188456594944, -0.01727813482284546, -0.021324289962649345, 0.0406017042696476, 0.029111970216035843, 0.012401796877384186], [0.018855024129152298, -0.03268720209598541, -0.049963321536779404, 0.03926784172654152, -0.017065130174160004, -0.04807497188448906, -0.0206157099455595, 0.028658177703619003, 0.009212493896484375, 0.008990764617919922], [-0.02417982928454876, 0.01929328218102455, -0.02781500853598118, -0.025565851479768753, 0.019773367792367935, 0.0073931217193603516, -0.019336773082613945, 0.02132366970181465, -0.022020673379302025, 0.02526649460196495], [-0.027286803349852562, 0.028493572026491165, -0.018546678125858307, -0.01537245512008667, -0.022843969985842705, -0.015597593039274216, -0.04060538858175278, 0.010596930980682373, -0.03395497798919678, -0.046257972717285156], [0.0350206159055233, -0.04019295051693916, -0.02894449234008789, 0.007498539984226227, 0.001802932471036911, 0.002527870237827301, 0.03224961832165718, -0.030970824882388115, -0.02903817966580391, -0.038615308701992035], [-0.043575432151556015, -0.005243144929409027, 0.04429997131228447, -0.013743497431278229, -0.008605659008026123, 0.017477963119745255, -0.0107148177921772, -0.026666486635804176, 0.04262348636984825, 0.03926009312272072], [-0.03756079822778702, 0.014687571674585342, -0.022398043423891068, -0.011171389371156693, -0.004486024379730225, -0.045704055577516556, -0.03335559368133545, 0.02973974123597145, -0.049329329282045364, 0.037272002547979355], [-0.026672257110476494, 0.005283772945404053, 0.025414709001779556, 0.03912677988409996, -0.032316163182258606, 0.027276840060949326, -0.04828329011797905, -0.02887784317135811, 0.023531798273324966, -0.035476792603731155], [-0.030177641659975052, -0.01861206442117691, 0.028019476681947708, -0.009067140519618988, 0.027511131018400192, 0.0028983354568481445, 0.01171477884054184, -0.036687254905700684, -0.03217821195721626, 0.04175196960568428], [-0.04029650613665581, -0.044240307062864304, 0.01818796619772911, 0.011383555829524994, 0.02090071514248848, 0.04289393499493599, -0.04469708353281021, 0.025032605975866318, 0.008461296558380127, 0.04572853073477745], [-0.04678155109286308, -0.0423128716647625, -0.01418597623705864, 0.0023685097694396973, -0.0383460633456707, 0.02398717775940895, -0.008220590651035309, 0.04187769070267677, -0.01608945056796074, -0.02535611391067505], [-0.04398077726364136, -0.03323539346456528, 0.03908277675509453, 0.007397521287202835, 0.021282542496919632, -0.002006448805332184, -0.04317741468548775, 0.0228634811937809, -0.048762835562229156, 0.01006091758608818], [-0.018054556101560593, -0.034065380692481995, -0.013321317732334137, 0.022680189460515976, 0.005687307566404343, 0.0074328407645225525, -0.04557320103049278, -0.048551131039857864, 0.017397072166204453, -0.03525453805923462], [-0.007182620465755463, -0.021463727578520775, 0.01409396156668663, -0.023501599207520485, 0.018204275518655777, 0.02587589994072914, -0.013329852372407913, 0.013613257557153702, -0.024792982265353203, 0.000552058219909668], [-0.026672257110476494, 0.005283772945404053, 0.025414709001779556, 0.03912677988409996, -0.032316163182258606, 0.027276840060949326, -0.04828329011797905, -0.02887784317135811, 0.023531798273324966, -0.035476792603731155], [-0.04935569688677788, -0.021733475849032402, -0.021954406052827835, -0.03746143728494644, -0.010014951229095459, -0.02254793606698513, 0.048763785511255264, 0.032032597810029984, 0.045486483722925186, 0.015091005712747574], [0.002171732485294342, -0.04184192419052124, 0.004721581935882568, -0.017048966139554977, 0.04061918333172798, 0.006973613053560257, 0.0112900510430336, -0.016998566687107086, -0.014748133718967438, -0.008331727236509323], [-0.006806720048189163, 0.0140053890645504, 0.02145254984498024, 0.02872040495276451, 0.03780081495642662, 0.036486733704805374, 0.039611902087926865, -0.04440512880682945, 0.03124573454260826, -0.02192244492471218], [0.021387826651334763, 0.03577191010117531, -0.04762643575668335, 0.022102776914834976, -0.046537067741155624, 0.0041214339435100555, -0.029616141691803932, 0.002634860575199127, 0.00970228761434555, -0.04579120874404907], [-0.006806720048189163, 0.0140053890645504, 0.02145254984498024, 0.02872040495276451, 0.03780081495642662, 0.036486733704805374, 0.039611902087926865, -0.04440512880682945, 0.03124573454260826, -0.02192244492471218], [-0.016485143452882767, 0.04416065290570259, -0.046303775161504745, 0.048130836337804794, -0.01879262924194336, 0.033298660069704056, -0.00213458389043808, 0.037733662873506546, -0.049059297889471054, 0.028735924512147903], [0.021387826651334763, 0.03577191010117531, -0.04762643575668335, 0.022102776914834976, -0.046537067741155624, 0.0041214339435100555, -0.029616141691803932, 0.002634860575199127, 0.00970228761434555, -0.04579120874404907], [-0.044430650770664215, 0.018929850310087204, -0.0005518905818462372, -0.039882052689790726, -0.023397935554385185, 0.03034595027565956, -0.04628041014075279, 0.02502722665667534, -0.014104019850492477, 0.01126854494214058], [0.018110405653715134, 0.038726065307855606, 0.01402047649025917, -0.009791087359189987, -0.03550926595926285, -0.017011262476444244, -0.006874512881040573, 0.04258599504828453, -0.04085429757833481, -0.03704118728637695], [-0.048029184341430664, -0.002641964703798294, 0.04497465863823891, 0.04171253368258476, -0.029461408033967018, -0.0449230931699276, -0.024128306657075882, -0.013092853128910065, 0.0029062405228614807, -0.00990910455584526], [0.021387826651334763, 0.03577191010117531, -0.04762643575668335, 0.022102776914834976, -0.046537067741155624, 0.0041214339435100555, -0.029616141691803932, 0.002634860575199127, 0.00970228761434555, -0.04579120874404907], [-0.0025182366371154785, 0.027001742273569107, -0.0083724744617939, 0.029365573078393936, 0.036789942532777786, -0.02721790038049221, 0.018400993198156357, -0.015511594712734222, -0.007228769361972809, -0.00019512325525283813], [-0.027445996180176735, -0.035193633288145065, 0.03849777951836586, -0.024491894990205765, 0.010786235332489014, 0.03567026928067207, -0.03879500553011894, 0.005693159997463226, 0.02255411073565483, -0.004855204373598099], [-0.006806720048189163, 0.0140053890645504, 0.02145254984498024, 0.02872040495276451, 0.03780081495642662, 0.036486733704805374, 0.039611902087926865, -0.04440512880682945, 0.03124573454260826, -0.02192244492471218], [-0.006806720048189163, 0.0140053890645504, 0.02145254984498024, 0.02872040495276451, 0.03780081495642662, 0.036486733704805374, 0.039611902087926865, -0.04440512880682945, 0.03124573454260826, -0.02192244492471218], [0.017060529440641403, 0.030887257307767868, -0.03361804783344269, -0.03336630016565323, 0.0030117519199848175, -0.02945537678897381, 0.03309846296906471, 0.02851983532309532, -0.04538445547223091, 0.031822625547647476], [-0.048335134983062744, 0.013923857361078262, -0.009481240063905716, 0.023347366601228714, 0.020530615001916885, -0.021283090114593506, 0.006980717182159424, 0.029300954192876816, -0.011621914803981781, 0.01594037190079689], [0.02088988944888115, -0.032478369772434235, 0.032433394342660904, 0.04045805707573891, -0.034325599670410156, 0.03857472911477089, -0.007473599165678024, -0.04903458431363106, 0.010911881923675537, -0.0008792057633399963], [0.024297308176755905, 0.01675194874405861, 0.020958151668310165, 0.04783090576529503, 0.022051643580198288, -0.025666404515504837, 0.007676400244235992, 0.004246998578310013, -0.01717410236597061, 0.004187118262052536], [-0.01679288223385811, 0.043997835367918015, -0.011889316141605377, -0.016502656042575836, 0.03059113398194313, -0.011934995651245117, -0.011262916028499603, 0.011730886995792389, 0.003131948411464691, -0.0036683566868305206], [-0.04403115436434746, -0.025650179013609886, -0.028447091579437256, 0.049522411078214645, -0.042945146560668945, 0.03530801460146904, -0.020640850067138672, -0.046245276927948, 0.03087698295712471, -0.016506336629390717], [0.003633357584476471, 0.02800903096795082, -0.016155946999788284, 0.019013825803995132, 0.023563135415315628, 0.037293028086423874, -0.01995380036532879, 0.03054380789399147, -0.03498993068933487, -0.03455237299203873], [-0.037185776978731155, 0.047138188034296036, 0.025210905820131302, 0.03810090199112892, 0.0248086117208004, 0.027846980839967728, 0.0331779383122921, -0.027194321155548096, 0.013440217822790146, -0.017838619649410248], [0.018110405653715134, 0.038726065307855606, 0.01402047649025917, -0.009791087359189987, -0.03550926595926285, -0.017011262476444244, -0.006874512881040573, 0.04258599504828453, -0.04085429757833481, -0.03704118728637695], [0.003633357584476471, 0.02800903096795082, -0.016155946999788284, 0.019013825803995132, 0.023563135415315628, 0.037293028086423874, -0.01995380036532879, 0.03054380789399147, -0.03498993068933487, -0.03455237299203873], [-0.048029184341430664, -0.002641964703798294, 0.04497465863823891, 0.04171253368258476, -0.029461408033967018, -0.0449230931699276, -0.024128306657075882, -0.013092853128910065, 0.0029062405228614807, -0.00990910455584526], [-0.011569477617740631, -0.020695721730589867, 0.028879154473543167, -0.013553880155086517, 0.009244393557310104, -0.012470591813325882, -0.029950320720672607, 0.047643233090639114, 0.04022878780961037, 0.02514464035630226], [0.018110405653715134, 0.038726065307855606, 0.01402047649025917, -0.009791087359189987, -0.03550926595926285, -0.017011262476444244, -0.006874512881040573, 0.04258599504828453, -0.04085429757833481, -0.03704118728637695], [0.003633357584476471, 0.02800903096795082, -0.016155946999788284, 0.019013825803995132, 0.023563135415315628, 0.037293028086423874, -0.01995380036532879, 0.03054380789399147, -0.03498993068933487, -0.03455237299203873], [-0.016485143452882767, 0.04416065290570259, -0.046303775161504745, 0.048130836337804794, -0.01879262924194336, 0.033298660069704056, -0.00213458389043808, 0.037733662873506546, -0.049059297889471054, 0.028735924512147903], [0.0404156930744648, -0.030076777562499046, 0.0036028139293193817, -0.0010575540363788605, 0.024555910378694534, -0.02427598275244236, 0.046935830265283585, 0.006863463670015335, 0.04830005392432213, 0.01378047838807106], [0.003633357584476471, 0.02800903096795082, -0.016155946999788284, 0.019013825803995132, 0.023563135415315628, 0.037293028086423874, -0.01995380036532879, 0.03054380789399147, -0.03498993068933487, -0.03455237299203873], [-0.04129748418927193, -0.013257421553134918, 0.00012363120913505554, 0.026533689349889755, -0.03610708564519882, 0.020051565021276474, -0.01954737864434719, 0.039344023913145065, 0.04291638359427452, 0.0025731921195983887], [0.004817914217710495, -0.04366568475961685, -0.028909360989928246, -0.00024836137890815735, -0.026671195402741432, 0.036224115639925, -0.003396235406398773, -0.03997994586825371, -0.004898976534605026, 0.018774960190057755], [-0.01662059873342514, 0.04707827791571617, 0.048653725534677505, 0.0033138394355773926, 0.029340852051973343, 0.015467431396245956, 0.02624354138970375, -0.04212584346532822, -0.018029045313596725, -0.041043173521757126], [-0.049475133419036865, -0.025465859100222588, -0.004111014306545258, 0.04694793000817299, 0.03747310861945152, -0.02348989248275757, 0.015872452408075333, 0.01445012167096138, 0.029501523822546005, -0.007935095578432083], [-0.030177641659975052, -0.01861206442117691, 0.028019476681947708, -0.009067140519618988, 0.027511131018400192, 0.0028983354568481445, 0.01171477884054184, -0.036687254905700684, -0.03217821195721626, 0.04175196960568428], [0.0404156930744648, -0.030076777562499046, 0.0036028139293193817, -0.0010575540363788605, 0.024555910378694534, -0.02427598275244236, 0.046935830265283585, 0.006863463670015335, 0.04830005392432213, 0.01378047838807106], [0.003633357584476471, 0.02800903096795082, -0.016155946999788284, 0.019013825803995132, 0.023563135415315628, 0.037293028086423874, -0.01995380036532879, 0.03054380789399147, -0.03498993068933487, -0.03455237299203873], [0.049778033047914505, -0.019566668197512627, 0.028964068740606308, -0.03672841936349869, 0.004224598407745361, -0.0024052858352661133, 0.04050228372216225, -0.031018376350402832, 0.015696708112955093, -0.035852063447237015], [0.003633357584476471, 0.02800903096795082, -0.016155946999788284, 0.019013825803995132, 0.023563135415315628, 0.037293028086423874, -0.01995380036532879, 0.03054380789399147, -0.03498993068933487, -0.03455237299203873], [0.03578224405646324, 0.01581687107682228, -0.010874606668949127, -0.03358757495880127, -0.01498732715845108, 0.024373915046453476, 0.01651756837964058, 0.005048166960477829, 0.04033133015036583, -0.043589603155851364], [0.008482776582241058, 0.03367895260453224, -0.00043842941522598267, -0.004346955567598343, -0.007126845419406891, 0.028578627854585648, 0.018778596073389053, 0.027031969279050827, 0.04787120595574379, 0.011036157608032227], [0.003633357584476471, 0.02800903096795082, -0.016155946999788284, 0.019013825803995132, 0.023563135415315628, 0.037293028086423874, -0.01995380036532879, 0.03054380789399147, -0.03498993068933487, -0.03455237299203873], [-0.0010808706283569336, 0.041711900383234024, -0.038991402834653854, 0.036964740604162216, -0.0021803006529808044, -0.03880920261144638, 0.013376500457525253, -0.02254248969256878, 0.040315818041563034, 0.04723275080323219], [-0.007182620465755463, -0.021463727578520775, 0.01409396156668663, -0.023501599207520485, 0.018204275518655777, 0.02587589994072914, -0.013329852372407913, 0.013613257557153702, -0.024792982265353203, 0.000552058219909668], [-0.026672257110476494, 0.005283772945404053, 0.025414709001779556, 0.03912677988409996, -0.032316163182258606, 0.027276840060949326, -0.04828329011797905, -0.02887784317135811, 0.023531798273324966, -0.035476792603731155], [0.018855024129152298, -0.03268720209598541, -0.049963321536779404, 0.03926784172654152, -0.017065130174160004, -0.04807497188448906, -0.0206157099455595, 0.028658177703619003, 0.009212493896484375, 0.008990764617919922], [-0.02457892894744873, 0.04829910025000572, -0.04915584251284599, -0.027321219444274902, -0.026443887501955032, -0.019075429067015648, -0.003808259963989258, -0.036525845527648926, -0.01896345615386963, 0.023386869579553604], [-0.02305368147790432, -0.026480305939912796, 0.00028971582651138306, 0.01958722248673439, -0.0019900090992450714, -3.446266055107117e-05, -0.04548612982034683, -0.016367614269256592, 0.02733207866549492, 0.04600420221686363], [0.010932229459285736, -0.019999707117676735, -0.04594525322318077, -0.04053152725100517, -0.009835124015808105, 0.025816727429628372, 0.026246335357427597, 0.04964927211403847, -0.043705787509679794, 0.032936904579401016], [-0.006806720048189163, 0.0140053890645504, 0.02145254984498024, 0.02872040495276451, 0.03780081495642662, 0.036486733704805374, 0.039611902087926865, -0.04440512880682945, 0.03124573454260826, -0.02192244492471218], [-0.038255058228969574, -0.0021886825561523438, 0.032501865178346634, -0.013404227793216705, -0.024114323779940605, 0.02973867580294609, 0.03254318609833717, -0.015523113310337067, 0.039080921560525894, -0.013017475605010986], [0.041134823113679886, -0.02176673524081707, 0.013765070587396622, 0.0016978606581687927, 0.044615697115659714, -0.037830233573913574, 0.025787245482206345, 0.0051045045256614685, -0.03348611667752266, 0.028630007058382034], [0.011959470808506012, -0.009210430085659027, 0.013971734791994095, 0.031058695167303085, -0.04073153808712959, -0.009455312043428421, -0.031337104737758636, -0.044739510864019394, 0.01165696233510971, -0.013236403465270996], [-0.02510364167392254, 0.019953619688749313, 0.01845456287264824, -0.03441878408193588, -0.026114070788025856, 0.03157571330666542, 0.034152399748563766, -0.028777623549103737, -0.016609229147434235, -0.03844423219561577], [0.018855024129152298, -0.03268720209598541, -0.049963321536779404, 0.03926784172654152, -0.017065130174160004, -0.04807497188448906, -0.0206157099455595, 0.028658177703619003, 0.009212493896484375, 0.008990764617919922], [-0.027286803349852562, 0.028493572026491165, -0.018546678125858307, -0.01537245512008667, -0.022843969985842705, -0.015597593039274216, -0.04060538858175278, 0.010596930980682373, -0.03395497798919678, -0.046257972717285156], [-0.010468244552612305, 0.03983573988080025, -0.017798922955989838, -0.04817316681146622, 0.00019603967666625977, -0.018514394760131836, -0.04185827821493149, -0.023773718625307083, -0.03884638473391533, -0.030157912522554398], [-0.006806720048189163, 0.0140053890645504, 0.02145254984498024, 0.02872040495276451, 0.03780081495642662, 0.036486733704805374, 0.039611902087926865, -0.04440512880682945, 0.03124573454260826, -0.02192244492471218], [0.027190569788217545, 0.012869428843259811, -0.037736643105745316, 0.0209430493414402, 0.04709085449576378, -0.026659894734621048, 0.01683957502245903, -0.020242536440491676, -0.034666575491428375, 0.03379540517926216], [-0.032245829701423645, -0.0036686770617961884, 0.03275759145617485, 0.028659317642450333, -0.03739511966705322, -0.015028201043605804, 0.03145890310406685, 0.005363475531339645, 0.042836930602788925, -0.04379945993423462], [-0.02510364167392254, 0.019953619688749313, 0.01845456287264824, -0.03441878408193588, -0.026114070788025856, 0.03157571330666542, 0.034152399748563766, -0.028777623549103737, -0.016609229147434235, -0.03844423219561577], [-0.03756079822778702, 0.014687571674585342, -0.022398043423891068, -0.011171389371156693, -0.004486024379730225, -0.045704055577516556, -0.03335559368133545, 0.02973974123597145, -0.049329329282045364, 0.037272002547979355], [0.03753786161541939, -0.016016602516174316, 0.00707162544131279, -0.01371394470334053, -0.014259934425354004, 0.027998756617307663, 0.024075638502836227, -0.013315510004758835, 0.023711416870355606, -0.03581557422876358], [-0.02417982928454876, 0.01929328218102455, -0.02781500853598118, -0.025565851479768753, 0.019773367792367935, 0.0073931217193603516, -0.019336773082613945, 0.02132366970181465, -0.022020673379302025, 0.02526649460196495], [-0.027286803349852562, 0.028493572026491165, -0.018546678125858307, -0.01537245512008667, -0.022843969985842705, -0.015597593039274216, -0.04060538858175278, 0.010596930980682373, -0.03395497798919678, -0.046257972717285156], [0.010932229459285736, -0.019999707117676735, -0.04594525322318077, -0.04053152725100517, -0.009835124015808105, 0.025816727429628372, 0.026246335357427597, 0.04964927211403847, -0.043705787509679794, 0.032936904579401016], [0.002726614475250244, 0.047503117471933365, -0.021440720185637474, -0.0422968752682209, -0.029359126463532448, 0.0062933191657066345, -0.007589817047119141, -0.04664964601397514, 0.01629742607474327, -0.046633150428533554], [-0.008717644959688187, -0.015194546431303024, 0.008453749120235443, 0.0474819652736187, -0.04314147308468819, -0.045799147337675095, 0.0003717169165611267, -0.012209594249725342, 0.02051428332924843, -0.041981495916843414], [-0.02457892894744873, 0.04829910025000572, -0.04915584251284599, -0.027321219444274902, -0.026443887501955032, -0.019075429067015648, -0.003808259963989258, -0.036525845527648926, -0.01896345615386963, 0.023386869579553604], [0.019708339124917984, 0.006560944020748138, -0.02328813076019287, 0.04963798448443413, -0.018334675580263138, -0.03841305896639824, -0.02135697565972805, -0.004663728177547455, 0.044214438647031784, -0.04617033153772354], [0.02106945589184761, 0.030451808124780655, 0.012612689286470413, -0.01393066719174385, 0.015126798301935196, -0.038657914847135544, 0.009576119482517242, 0.015519488602876663, 0.02054036781191826, 0.02228507027029991], [0.022005680948495865, -0.03583608940243721, 0.04266339913010597, -0.0022922977805137634, 0.015390101820230484, 0.01371971145272255, -0.042932093143463135, -0.047358881682157516, 0.0462830550968647, 0.011131487786769867], [0.009079672396183014, 0.031587351113557816, 0.022635426372289658, 0.03597373887896538, 0.01253041997551918, 0.044698309153318405, -0.004821430891752243, -0.02962447516620159, -0.028391754254698753, -0.007940281182527542], [0.005384016782045364, -0.046315062791109085, -0.001079656183719635, 0.0377422459423542, 0.009752966463565826, -0.020421087741851807, 0.02634190395474434, 0.02738073095679283, 0.045092929154634476, 0.006443869322538376], [-0.04826385900378227, 0.017703484743833542, -0.00696728378534317, 0.00551750510931015, -0.02285081148147583, -0.034394800662994385, -0.009789429605007172, 0.04688887670636177, -0.04610636457800865, -0.0129171721637249], [0.02023926004767418, -0.044851552695035934, 0.017643343657255173, 0.03774315491318703, -0.036302316933870316, 0.02946782484650612, 0.022718731313943863, -0.022193586453795433, 0.006378006190061569, 0.016008976846933365], [0.022005680948495865, -0.03583608940243721, 0.04266339913010597, -0.0022922977805137634, 0.015390101820230484, 0.01371971145272255, -0.042932093143463135, -0.047358881682157516, 0.0462830550968647, 0.011131487786769867], [0.005384016782045364, -0.046315062791109085, -0.001079656183719635, 0.0377422459423542, 0.009752966463565826, -0.020421087741851807, 0.02634190395474434, 0.02738073095679283, 0.045092929154634476, 0.006443869322538376], [0.00022156164050102234, -0.02673405408859253, -0.01464073732495308, 0.030808601528406143, 0.008299421519041061, -0.023098552599549294, 0.023248348385095596, -0.02504141442477703, -0.014747750014066696, -0.02702791802585125], [-0.02510364167392254, 0.019953619688749313, 0.01845456287264824, -0.03441878408193588, -0.026114070788025856, 0.03157571330666542, 0.034152399748563766, -0.028777623549103737, -0.016609229147434235, -0.03844423219561577], [0.011959470808506012, -0.009210430085659027, 0.013971734791994095, 0.031058695167303085, -0.04073153808712959, -0.009455312043428421, -0.031337104737758636, -0.044739510864019394, 0.01165696233510971, -0.013236403465270996], [0.020072784274816513, -0.044914163649082184, 0.026383761316537857, -0.002515207976102829, -0.014506030827760696, -0.02946688048541546, 0.037810612469911575, -0.048357248306274414, 0.0006872415542602539, 0.04468027129769325], [-0.007182620465755463, -0.021463727578520775, 0.01409396156668663, -0.023501599207520485, 0.018204275518655777, 0.02587589994072914, -0.013329852372407913, 0.013613257557153702, -0.024792982265353203, 0.000552058219909668], [-0.026672257110476494, 0.005283772945404053, 0.025414709001779556, 0.03912677988409996, -0.032316163182258606, 0.027276840060949326, -0.04828329011797905, -0.02887784317135811, 0.023531798273324966, -0.035476792603731155], [-0.007182620465755463, -0.021463727578520775, 0.01409396156668663, -0.023501599207520485, 0.018204275518655777, 0.02587589994072914, -0.013329852372407913, 0.013613257557153702, -0.024792982265353203, 0.000552058219909668], [-0.007465183734893799, 0.03367825970053673, 0.024179544299840927, -0.03147653490304947, -0.011933255940675735, 0.03370538726449013, 0.010801363736391068, 0.042974118143320084, -0.013872206211090088, -0.015818405896425247], [0.019527364522218704, -0.027660775929689407, -0.03186037391424179, 0.04526245966553688, -0.006081044673919678, -0.010471366345882416, -0.04379460960626602, -0.026212168857455254, -0.01778043434023857, 0.02828695997595787], [-0.014161337167024612, -0.007243216037750244, 0.02920522913336754, 0.03620374575257301, -0.02601950243115425, 0.015353772789239883, -0.00811469554901123, 0.012221433222293854, 0.028513465076684952, -0.014740563929080963], [0.004700660705566406, -0.003391362726688385, -0.0029812827706336975, 0.03764766827225685, 0.04107004776597023, -0.006870150566101074, 0.004312895238399506, 0.0411776639521122, -0.00017784908413887024, -0.015471458435058594], [0.010932229459285736, -0.019999707117676735, -0.04594525322318077, -0.04053152725100517, -0.009835124015808105, 0.025816727429628372, 0.026246335357427597, 0.04964927211403847, -0.043705787509679794, 0.032936904579401016], [0.03214744105935097, -0.03604616969823837, 0.021773841232061386, -0.04887280613183975, -0.012394845485687256, -0.017611335963010788, 0.04479851946234703, 0.00712132453918457, 0.04918168857693672, -0.02123105525970459], [-0.002239026129245758, 0.042405057698488235, 0.03535811975598335, -0.04443606361746788, -0.0231799129396677, -0.013986311852931976, 0.008322037756443024, -0.0050477273762226105, 0.03342094644904137, -0.04113645479083061], [0.009079672396183014, 0.031587351113557816, 0.022635426372289658, 0.03597373887896538, 0.01253041997551918, 0.044698309153318405, -0.004821430891752243, -0.02962447516620159, -0.028391754254698753, -0.007940281182527542], [-0.007465183734893799, 0.03367825970053673, 0.024179544299840927, -0.03147653490304947, -0.011933255940675735, 0.03370538726449013, 0.010801363736391068, 0.042974118143320084, -0.013872206211090088, -0.015818405896425247], [0.017674770206212997, -0.009649384766817093, 0.035328637808561325, 0.040152717381715775, -0.04071742296218872, 0.020804349333047867, 0.0005021467804908752, -0.026818443089723587, 0.024530958384275436, 0.0481230728328228], [-0.02457892894744873, 0.04829910025000572, -0.04915584251284599, -0.027321219444274902, -0.026443887501955032, -0.019075429067015648, -0.003808259963989258, -0.036525845527648926, -0.01896345615386963, 0.023386869579553604], [-0.026850927621126175, -0.025710726156830788, -0.007147263735532761, -0.028253663331270218, 0.02115173265337944, -0.010822881013154984, 0.008269239217042923, -0.03875577449798584, 0.00987917184829712, -0.001865386962890625], [-0.006806720048189163, 0.0140053890645504, 0.02145254984498024, 0.02872040495276451, 0.03780081495642662, 0.036486733704805374, 0.039611902087926865, -0.04440512880682945, 0.03124573454260826, -0.02192244492471218], [0.024093296378850937, -0.036031149327754974, -0.01339665800333023, 0.020248327404260635, -0.006184041500091553, 0.030017439275979996, -0.02733941189944744, 0.03228827938437462, -0.026461685076355934, -0.049798812717199326], [0.04681907966732979, -0.019280970096588135, -0.028008664026856422, 0.016567695885896683, 0.0408872626721859, 0.020082365721464157, -0.001821957528591156, 0.03004247322678566, -0.03877968713641167, -0.04816918447613716], [0.0011354908347129822, 0.03712780401110649, -0.007739163935184479, 0.04335146024823189, -0.037703048437833786, -0.019315946847200394, -0.022326720878481865, 0.028332602232694626, -0.03935723379254341, -0.035480797290802], [0.018855024129152298, -0.03268720209598541, -0.049963321536779404, 0.03926784172654152, -0.017065130174160004, -0.04807497188448906, -0.0206157099455595, 0.028658177703619003, 0.009212493896484375, 0.008990764617919922], [0.005384016782045364, -0.046315062791109085, -0.001079656183719635, 0.0377422459423542, 0.009752966463565826, -0.020421087741851807, 0.02634190395474434, 0.02738073095679283, 0.045092929154634476, 0.006443869322538376], [0.04548260197043419, 0.01907140389084816, 0.007891010493040085, -0.02293224446475506, 0.02070765569806099, 0.03350064530968666, 0.02774772420525551, 0.022881794720888138, 0.01593264564871788, -0.02854219637811184], [-0.037969909608364105, -0.0324067696928978, -0.01252509281039238, 0.03364289924502373, 0.047708187252283096, -0.04729459434747696, -0.015616070479154587, -0.025515520945191383, -0.03939191251993179, -0.0028079263865947723], [-0.04104263707995415, -0.006351731717586517, 0.03821687772870064, 0.011739742010831833, 0.023080836981534958, 0.028314147144556046, 0.015316609293222427, 0.029246333986520767, 0.009239375591278076, 0.043895017355680466], [0.009079672396183014, 0.031587351113557816, 0.022635426372289658, 0.03597373887896538, 0.01253041997551918, 0.044698309153318405, -0.004821430891752243, -0.02962447516620159, -0.028391754254698753, -0.007940281182527542], [0.012999285012483597, -0.016111422330141068, 0.039007749408483505, -0.0329216867685318, -0.019571149721741676, -0.004801880568265915, 0.018522944301366806, -0.01640404388308525, -0.008072864264249802, 0.03520253673195839], [-0.0008717887103557587, -0.04696537181735039, 0.041014913469552994, -0.024902189150452614, 0.0014740116894245148, -0.034886013716459274, -0.014363586902618408, 0.024387028068304062, -0.0284211877733469, 0.004800319671630859], [-0.04129748418927193, -0.013257421553134918, 0.00012363120913505554, 0.026533689349889755, -0.03610708564519882, 0.020051565021276474, -0.01954737864434719, 0.039344023913145065, 0.04291638359427452, 0.0025731921195983887], [-0.006806720048189163, 0.0140053890645504, 0.02145254984498024, 0.02872040495276451, 0.03780081495642662, 0.036486733704805374, 0.039611902087926865, -0.04440512880682945, 0.03124573454260826, -0.02192244492471218], [0.02638791874051094, -0.002004466950893402, 0.006238281726837158, -0.02508716657757759, -0.030183911323547363, -0.027779174968600273, 0.02363744005560875, -0.014607656747102737, 0.007215060293674469, -0.005611371248960495], [0.02638791874051094, -0.002004466950893402, 0.006238281726837158, -0.02508716657757759, -0.030183911323547363, -0.027779174968600273, 0.02363744005560875, -0.014607656747102737, 0.007215060293674469, -0.005611371248960495], [0.02638791874051094, -0.002004466950893402, 0.006238281726837158, -0.02508716657757759, -0.030183911323547363, -0.027779174968600273, 0.02363744005560875, -0.014607656747102737, 0.007215060293674469, -0.005611371248960495], [0.02638791874051094, -0.002004466950893402, 0.006238281726837158, -0.02508716657757759, -0.030183911323547363, -0.027779174968600273, 0.02363744005560875, -0.014607656747102737, 0.007215060293674469, -0.005611371248960495], [0.02638791874051094, -0.002004466950893402, 0.006238281726837158, -0.02508716657757759, -0.030183911323547363, -0.027779174968600273, 0.02363744005560875, -0.014607656747102737, 0.007215060293674469, -0.005611371248960495], [0.02638791874051094, -0.002004466950893402, 0.006238281726837158, -0.02508716657757759, -0.030183911323547363, -0.027779174968600273, 0.02363744005560875, -0.014607656747102737, 0.007215060293674469, -0.005611371248960495], [0.02638791874051094, -0.002004466950893402, 0.006238281726837158, -0.02508716657757759, -0.030183911323547363, -0.027779174968600273, 0.02363744005560875, -0.014607656747102737, 0.007215060293674469, -0.005611371248960495], [0.02638791874051094, -0.002004466950893402, 0.006238281726837158, -0.02508716657757759, -0.030183911323547363, -0.027779174968600273, 0.02363744005560875, -0.014607656747102737, 0.007215060293674469, -0.005611371248960495], [0.02638791874051094, -0.002004466950893402, 0.006238281726837158, -0.02508716657757759, -0.030183911323547363, -0.027779174968600273, 0.02363744005560875, -0.014607656747102737, 0.007215060293674469, -0.005611371248960495], [0.02638791874051094, -0.002004466950893402, 0.006238281726837158, -0.02508716657757759, -0.030183911323547363, -0.027779174968600273, 0.02363744005560875, -0.014607656747102737, 0.007215060293674469, -0.005611371248960495], [0.02638791874051094, -0.002004466950893402, 0.006238281726837158, -0.02508716657757759, -0.030183911323547363, -0.027779174968600273, 0.02363744005560875, -0.014607656747102737, 0.007215060293674469, -0.005611371248960495], [0.02638791874051094, -0.002004466950893402, 0.006238281726837158, -0.02508716657757759, -0.030183911323547363, -0.027779174968600273, 0.02363744005560875, -0.014607656747102737, 0.007215060293674469, -0.005611371248960495], [0.02638791874051094, -0.002004466950893402, 0.006238281726837158, -0.02508716657757759, -0.030183911323547363, -0.027779174968600273, 0.02363744005560875, -0.014607656747102737, 0.007215060293674469, -0.005611371248960495], [0.02638791874051094, -0.002004466950893402, 0.006238281726837158, -0.02508716657757759, -0.030183911323547363, -0.027779174968600273, 0.02363744005560875, -0.014607656747102737, 0.007215060293674469, -0.005611371248960495], [0.02638791874051094, -0.002004466950893402, 0.006238281726837158, -0.02508716657757759, -0.030183911323547363, -0.027779174968600273, 0.02363744005560875, -0.014607656747102737, 0.007215060293674469, -0.005611371248960495], [0.02638791874051094, -0.002004466950893402, 0.006238281726837158, -0.02508716657757759, -0.030183911323547363, -0.027779174968600273, 0.02363744005560875, -0.014607656747102737, 0.007215060293674469, -0.005611371248960495], [0.02638791874051094, -0.002004466950893402, 0.006238281726837158, -0.02508716657757759, -0.030183911323547363, -0.027779174968600273, 0.02363744005560875, -0.014607656747102737, 0.007215060293674469, -0.005611371248960495], [0.02638791874051094, -0.002004466950893402, 0.006238281726837158, -0.02508716657757759, -0.030183911323547363, -0.027779174968600273, 0.02363744005560875, -0.014607656747102737, 0.007215060293674469, -0.005611371248960495], [0.02638791874051094, -0.002004466950893402, 0.006238281726837158, -0.02508716657757759, -0.030183911323547363, -0.027779174968600273, 0.02363744005560875, -0.014607656747102737, 0.007215060293674469, -0.005611371248960495], [0.02638791874051094, -0.002004466950893402, 0.006238281726837158, -0.02508716657757759, -0.030183911323547363, -0.027779174968600273, 0.02363744005560875, -0.014607656747102737, 0.007215060293674469, -0.005611371248960495], [0.02638791874051094, -0.002004466950893402, 0.006238281726837158, -0.02508716657757759, -0.030183911323547363, -0.027779174968600273, 0.02363744005560875, -0.014607656747102737, 0.007215060293674469, -0.005611371248960495], [0.02638791874051094, -0.002004466950893402, 0.006238281726837158, -0.02508716657757759, -0.030183911323547363, -0.027779174968600273, 0.02363744005560875, -0.014607656747102737, 0.007215060293674469, -0.005611371248960495], [0.02638791874051094, -0.002004466950893402, 0.006238281726837158, -0.02508716657757759, -0.030183911323547363, -0.027779174968600273, 0.02363744005560875, -0.014607656747102737, 0.007215060293674469, -0.005611371248960495], [0.02638791874051094, -0.002004466950893402, 0.006238281726837158, -0.02508716657757759, -0.030183911323547363, -0.027779174968600273, 0.02363744005560875, -0.014607656747102737, 0.007215060293674469, -0.005611371248960495], [0.02638791874051094, -0.002004466950893402, 0.006238281726837158, -0.02508716657757759, -0.030183911323547363, -0.027779174968600273, 0.02363744005560875, -0.014607656747102737, 0.007215060293674469, -0.005611371248960495], [0.02638791874051094, -0.002004466950893402, 0.006238281726837158, -0.02508716657757759, -0.030183911323547363, -0.027779174968600273, 0.02363744005560875, -0.014607656747102737, 0.007215060293674469, -0.005611371248960495], [0.02638791874051094, -0.002004466950893402, 0.006238281726837158, -0.02508716657757759, -0.030183911323547363, -0.027779174968600273, 0.02363744005560875, -0.014607656747102737, 0.007215060293674469, -0.005611371248960495], [0.02638791874051094, -0.002004466950893402, 0.006238281726837158, -0.02508716657757759, -0.030183911323547363, -0.027779174968600273, 0.02363744005560875, -0.014607656747102737, 0.007215060293674469, -0.005611371248960495], [0.02638791874051094, -0.002004466950893402, 0.006238281726837158, -0.02508716657757759, -0.030183911323547363, -0.027779174968600273, 0.02363744005560875, -0.014607656747102737, 0.007215060293674469, -0.005611371248960495], [0.02638791874051094, -0.002004466950893402, 0.006238281726837158, -0.02508716657757759, -0.030183911323547363, -0.027779174968600273, 0.02363744005560875, -0.014607656747102737, 0.007215060293674469, -0.005611371248960495], [0.02638791874051094, -0.002004466950893402, 0.006238281726837158, -0.02508716657757759, -0.030183911323547363, -0.027779174968600273, 0.02363744005560875, -0.014607656747102737, 0.007215060293674469, -0.005611371248960495], [0.02638791874051094, -0.002004466950893402, 0.006238281726837158, -0.02508716657757759, -0.030183911323547363, -0.027779174968600273, 0.02363744005560875, -0.014607656747102737, 0.007215060293674469, -0.005611371248960495], [0.02638791874051094, -0.002004466950893402, 0.006238281726837158, -0.02508716657757759, -0.030183911323547363, -0.027779174968600273, 0.02363744005560875, -0.014607656747102737, 0.007215060293674469, -0.005611371248960495], [0.02638791874051094, -0.002004466950893402, 0.006238281726837158, -0.02508716657757759, -0.030183911323547363, -0.027779174968600273, 0.02363744005560875, -0.014607656747102737, 0.007215060293674469, -0.005611371248960495], [0.02638791874051094, -0.002004466950893402, 0.006238281726837158, -0.02508716657757759, -0.030183911323547363, -0.027779174968600273, 0.02363744005560875, -0.014607656747102737, 0.007215060293674469, -0.005611371248960495], [0.02638791874051094, -0.002004466950893402, 0.006238281726837158, -0.02508716657757759, -0.030183911323547363, -0.027779174968600273, 0.02363744005560875, -0.014607656747102737, 0.007215060293674469, -0.005611371248960495], [0.02638791874051094, -0.002004466950893402, 0.006238281726837158, -0.02508716657757759, -0.030183911323547363, -0.027779174968600273, 0.02363744005560875, -0.014607656747102737, 0.007215060293674469, -0.005611371248960495], [0.02638791874051094, -0.002004466950893402, 0.006238281726837158, -0.02508716657757759, -0.030183911323547363, -0.027779174968600273, 0.02363744005560875, -0.014607656747102737, 0.007215060293674469, -0.005611371248960495], [0.02638791874051094, -0.002004466950893402, 0.006238281726837158, -0.02508716657757759, -0.030183911323547363, -0.027779174968600273, 0.02363744005560875, -0.014607656747102737, 0.007215060293674469, -0.005611371248960495], [0.02638791874051094, -0.002004466950893402, 0.006238281726837158, -0.02508716657757759, -0.030183911323547363, -0.027779174968600273, 0.02363744005560875, -0.014607656747102737, 0.007215060293674469, -0.005611371248960495], [0.02638791874051094, -0.002004466950893402, 0.006238281726837158, -0.02508716657757759, -0.030183911323547363, -0.027779174968600273, 0.02363744005560875, -0.014607656747102737, 0.007215060293674469, -0.005611371248960495], [0.02638791874051094, -0.002004466950893402, 0.006238281726837158, -0.02508716657757759, -0.030183911323547363, -0.027779174968600273, 0.02363744005560875, -0.014607656747102737, 0.007215060293674469, -0.005611371248960495], [0.02638791874051094, -0.002004466950893402, 0.006238281726837158, -0.02508716657757759, -0.030183911323547363, -0.027779174968600273, 0.02363744005560875, -0.014607656747102737, 0.007215060293674469, -0.005611371248960495], [0.02638791874051094, -0.002004466950893402, 0.006238281726837158, -0.02508716657757759, -0.030183911323547363, -0.027779174968600273, 0.02363744005560875, -0.014607656747102737, 0.007215060293674469, -0.005611371248960495], [0.02638791874051094, -0.002004466950893402, 0.006238281726837158, -0.02508716657757759, -0.030183911323547363, -0.027779174968600273, 0.02363744005560875, -0.014607656747102737, 0.007215060293674469, -0.005611371248960495], [0.02638791874051094, -0.002004466950893402, 0.006238281726837158, -0.02508716657757759, -0.030183911323547363, -0.027779174968600273, 0.02363744005560875, -0.014607656747102737, 0.007215060293674469, -0.005611371248960495], [0.02638791874051094, -0.002004466950893402, 0.006238281726837158, -0.02508716657757759, -0.030183911323547363, -0.027779174968600273, 0.02363744005560875, -0.014607656747102737, 0.007215060293674469, -0.005611371248960495], [0.02638791874051094, -0.002004466950893402, 0.006238281726837158, -0.02508716657757759, -0.030183911323547363, -0.027779174968600273, 0.02363744005560875, -0.014607656747102737, 0.007215060293674469, -0.005611371248960495], [0.02638791874051094, -0.002004466950893402, 0.006238281726837158, -0.02508716657757759, -0.030183911323547363, -0.027779174968600273, 0.02363744005560875, -0.014607656747102737, 0.007215060293674469, -0.005611371248960495], [0.02638791874051094, -0.002004466950893402, 0.006238281726837158, -0.02508716657757759, -0.030183911323547363, -0.027779174968600273, 0.02363744005560875, -0.014607656747102737, 0.007215060293674469, -0.005611371248960495], [0.02638791874051094, -0.002004466950893402, 0.006238281726837158, -0.02508716657757759, -0.030183911323547363, -0.027779174968600273, 0.02363744005560875, -0.014607656747102737, 0.007215060293674469, -0.005611371248960495], [0.02638791874051094, -0.002004466950893402, 0.006238281726837158, -0.02508716657757759, -0.030183911323547363, -0.027779174968600273, 0.02363744005560875, -0.014607656747102737, 0.007215060293674469, -0.005611371248960495], [0.02638791874051094, -0.002004466950893402, 0.006238281726837158, -0.02508716657757759, -0.030183911323547363, -0.027779174968600273, 0.02363744005560875, -0.014607656747102737, 0.007215060293674469, -0.005611371248960495], [0.02638791874051094, -0.002004466950893402, 0.006238281726837158, -0.02508716657757759, -0.030183911323547363, -0.027779174968600273, 0.02363744005560875, -0.014607656747102737, 0.007215060293674469, -0.005611371248960495], [0.02638791874051094, -0.002004466950893402, 0.006238281726837158, -0.02508716657757759, -0.030183911323547363, -0.027779174968600273, 0.02363744005560875, -0.014607656747102737, 0.007215060293674469, -0.005611371248960495], [0.02638791874051094, -0.002004466950893402, 0.006238281726837158, -0.02508716657757759, -0.030183911323547363, -0.027779174968600273, 0.02363744005560875, -0.014607656747102737, 0.007215060293674469, -0.005611371248960495], [0.02638791874051094, -0.002004466950893402, 0.006238281726837158, -0.02508716657757759, -0.030183911323547363, -0.027779174968600273, 0.02363744005560875, -0.014607656747102737, 0.007215060293674469, -0.005611371248960495], [0.02638791874051094, -0.002004466950893402, 0.006238281726837158, -0.02508716657757759, -0.030183911323547363, -0.027779174968600273, 0.02363744005560875, -0.014607656747102737, 0.007215060293674469, -0.005611371248960495], [0.02638791874051094, -0.002004466950893402, 0.006238281726837158, -0.02508716657757759, -0.030183911323547363, -0.027779174968600273, 0.02363744005560875, -0.014607656747102737, 0.007215060293674469, -0.005611371248960495], [0.02638791874051094, -0.002004466950893402, 0.006238281726837158, -0.02508716657757759, -0.030183911323547363, -0.027779174968600273, 0.02363744005560875, -0.014607656747102737, 0.007215060293674469, -0.005611371248960495], [0.02638791874051094, -0.002004466950893402, 0.006238281726837158, -0.02508716657757759, -0.030183911323547363, -0.027779174968600273, 0.02363744005560875, -0.014607656747102737, 0.007215060293674469, -0.005611371248960495], [0.02638791874051094, -0.002004466950893402, 0.006238281726837158, -0.02508716657757759, -0.030183911323547363, -0.027779174968600273, 0.02363744005560875, -0.014607656747102737, 0.007215060293674469, -0.005611371248960495], [0.02638791874051094, -0.002004466950893402, 0.006238281726837158, -0.02508716657757759, -0.030183911323547363, -0.027779174968600273, 0.02363744005560875, -0.014607656747102737, 0.007215060293674469, -0.005611371248960495], [0.02638791874051094, -0.002004466950893402, 0.006238281726837158, -0.02508716657757759, -0.030183911323547363, -0.027779174968600273, 0.02363744005560875, -0.014607656747102737, 0.007215060293674469, -0.005611371248960495], [0.02638791874051094, -0.002004466950893402, 0.006238281726837158, -0.02508716657757759, -0.030183911323547363, -0.027779174968600273, 0.02363744005560875, -0.014607656747102737, 0.007215060293674469, -0.005611371248960495], [0.02638791874051094, -0.002004466950893402, 0.006238281726837158, -0.02508716657757759, -0.030183911323547363, -0.027779174968600273, 0.02363744005560875, -0.014607656747102737, 0.007215060293674469, -0.005611371248960495], [0.02638791874051094, -0.002004466950893402, 0.006238281726837158, -0.02508716657757759, -0.030183911323547363, -0.027779174968600273, 0.02363744005560875, -0.014607656747102737, 0.007215060293674469, -0.005611371248960495], [0.02638791874051094, -0.002004466950893402, 0.006238281726837158, -0.02508716657757759, -0.030183911323547363, -0.027779174968600273, 0.02363744005560875, -0.014607656747102737, 0.007215060293674469, -0.005611371248960495], [0.02638791874051094, -0.002004466950893402, 0.006238281726837158, -0.02508716657757759, -0.030183911323547363, -0.027779174968600273, 0.02363744005560875, -0.014607656747102737, 0.007215060293674469, -0.005611371248960495], [0.02638791874051094, -0.002004466950893402, 0.006238281726837158, -0.02508716657757759, -0.030183911323547363, -0.027779174968600273, 0.02363744005560875, -0.014607656747102737, 0.007215060293674469, -0.005611371248960495], [0.02638791874051094, -0.002004466950893402, 0.006238281726837158, -0.02508716657757759, -0.030183911323547363, -0.027779174968600273, 0.02363744005560875, -0.014607656747102737, 0.007215060293674469, -0.005611371248960495], [0.02638791874051094, -0.002004466950893402, 0.006238281726837158, -0.02508716657757759, -0.030183911323547363, -0.027779174968600273, 0.02363744005560875, -0.014607656747102737, 0.007215060293674469, -0.005611371248960495], [0.02638791874051094, -0.002004466950893402, 0.006238281726837158, -0.02508716657757759, -0.030183911323547363, -0.027779174968600273, 0.02363744005560875, -0.014607656747102737, 0.007215060293674469, -0.005611371248960495], [0.02638791874051094, -0.002004466950893402, 0.006238281726837158, -0.02508716657757759, -0.030183911323547363, -0.027779174968600273, 0.02363744005560875, -0.014607656747102737, 0.007215060293674469, -0.005611371248960495], [0.02638791874051094, -0.002004466950893402, 0.006238281726837158, -0.02508716657757759, -0.030183911323547363, -0.027779174968600273, 0.02363744005560875, -0.014607656747102737, 0.007215060293674469, -0.005611371248960495], [0.02638791874051094, -0.002004466950893402, 0.006238281726837158, -0.02508716657757759, -0.030183911323547363, -0.027779174968600273, 0.02363744005560875, -0.014607656747102737, 0.007215060293674469, -0.005611371248960495], [0.02638791874051094, -0.002004466950893402, 0.006238281726837158, -0.02508716657757759, -0.030183911323547363, -0.027779174968600273, 0.02363744005560875, -0.014607656747102737, 0.007215060293674469, -0.005611371248960495], [0.02638791874051094, -0.002004466950893402, 0.006238281726837158, -0.02508716657757759, -0.030183911323547363, -0.027779174968600273, 0.02363744005560875, -0.014607656747102737, 0.007215060293674469, -0.005611371248960495], [0.02638791874051094, -0.002004466950893402, 0.006238281726837158, -0.02508716657757759, -0.030183911323547363, -0.027779174968600273, 0.02363744005560875, -0.014607656747102737, 0.007215060293674469, -0.005611371248960495], [0.02638791874051094, -0.002004466950893402, 0.006238281726837158, -0.02508716657757759, -0.030183911323547363, -0.027779174968600273, 0.02363744005560875, -0.014607656747102737, 0.007215060293674469, -0.005611371248960495], [0.02638791874051094, -0.002004466950893402, 0.006238281726837158, -0.02508716657757759, -0.030183911323547363, -0.027779174968600273, 0.02363744005560875, -0.014607656747102737, 0.007215060293674469, -0.005611371248960495], [0.02638791874051094, -0.002004466950893402, 0.006238281726837158, -0.02508716657757759, -0.030183911323547363, -0.027779174968600273, 0.02363744005560875, -0.014607656747102737, 0.007215060293674469, -0.005611371248960495], [0.02638791874051094, -0.002004466950893402, 0.006238281726837158, -0.02508716657757759, -0.030183911323547363, -0.027779174968600273, 0.02363744005560875, -0.014607656747102737, 0.007215060293674469, -0.005611371248960495], [0.02638791874051094, -0.002004466950893402, 0.006238281726837158, -0.02508716657757759, -0.030183911323547363, -0.027779174968600273, 0.02363744005560875, -0.014607656747102737, 0.007215060293674469, -0.005611371248960495], [0.02638791874051094, -0.002004466950893402, 0.006238281726837158, -0.02508716657757759, -0.030183911323547363, -0.027779174968600273, 0.02363744005560875, -0.014607656747102737, 0.007215060293674469, -0.005611371248960495], [0.02638791874051094, -0.002004466950893402, 0.006238281726837158, -0.02508716657757759, -0.030183911323547363, -0.027779174968600273, 0.02363744005560875, -0.014607656747102737, 0.007215060293674469, -0.005611371248960495], [0.02638791874051094, -0.002004466950893402, 0.006238281726837158, -0.02508716657757759, -0.030183911323547363, -0.027779174968600273, 0.02363744005560875, -0.014607656747102737, 0.007215060293674469, -0.005611371248960495], [0.02638791874051094, -0.002004466950893402, 0.006238281726837158, -0.02508716657757759, -0.030183911323547363, -0.027779174968600273, 0.02363744005560875, -0.014607656747102737, 0.007215060293674469, -0.005611371248960495], [0.02638791874051094, -0.002004466950893402, 0.006238281726837158, -0.02508716657757759, -0.030183911323547363, -0.027779174968600273, 0.02363744005560875, -0.014607656747102737, 0.007215060293674469, -0.005611371248960495], [0.02638791874051094, -0.002004466950893402, 0.006238281726837158, -0.02508716657757759, -0.030183911323547363, -0.027779174968600273, 0.02363744005560875, -0.014607656747102737, 0.007215060293674469, -0.005611371248960495], [0.02638791874051094, -0.002004466950893402, 0.006238281726837158, -0.02508716657757759, -0.030183911323547363, -0.027779174968600273, 0.02363744005560875, -0.014607656747102737, 0.007215060293674469, -0.005611371248960495], [0.02638791874051094, -0.002004466950893402, 0.006238281726837158, -0.02508716657757759, -0.030183911323547363, -0.027779174968600273, 0.02363744005560875, -0.014607656747102737, 0.007215060293674469, -0.005611371248960495], [0.02638791874051094, -0.002004466950893402, 0.006238281726837158, -0.02508716657757759, -0.030183911323547363, -0.027779174968600273, 0.02363744005560875, -0.014607656747102737, 0.007215060293674469, -0.005611371248960495], [0.02638791874051094, -0.002004466950893402, 0.006238281726837158, -0.02508716657757759, -0.030183911323547363, -0.027779174968600273, 0.02363744005560875, -0.014607656747102737, 0.007215060293674469, -0.005611371248960495], [0.02638791874051094, -0.002004466950893402, 0.006238281726837158, -0.02508716657757759, -0.030183911323547363, -0.027779174968600273, 0.02363744005560875, -0.014607656747102737, 0.007215060293674469, -0.005611371248960495], [0.02638791874051094, -0.002004466950893402, 0.006238281726837158, -0.02508716657757759, -0.030183911323547363, -0.027779174968600273, 0.02363744005560875, -0.014607656747102737, 0.007215060293674469, -0.005611371248960495], [0.02638791874051094, -0.002004466950893402, 0.006238281726837158, -0.02508716657757759, -0.030183911323547363, -0.027779174968600273, 0.02363744005560875, -0.014607656747102737, 0.007215060293674469, -0.005611371248960495], [0.02638791874051094, -0.002004466950893402, 0.006238281726837158, -0.02508716657757759, -0.030183911323547363, -0.027779174968600273, 0.02363744005560875, -0.014607656747102737, 0.007215060293674469, -0.005611371248960495], [0.02638791874051094, -0.002004466950893402, 0.006238281726837158, -0.02508716657757759, -0.030183911323547363, -0.027779174968600273, 0.02363744005560875, -0.014607656747102737, 0.007215060293674469, -0.005611371248960495], [0.02638791874051094, -0.002004466950893402, 0.006238281726837158, -0.02508716657757759, -0.030183911323547363, -0.027779174968600273, 0.02363744005560875, -0.014607656747102737, 0.007215060293674469, -0.005611371248960495], [0.02638791874051094, -0.002004466950893402, 0.006238281726837158, -0.02508716657757759, -0.030183911323547363, -0.027779174968600273, 0.02363744005560875, -0.014607656747102737, 0.007215060293674469, -0.005611371248960495], [0.02638791874051094, -0.002004466950893402, 0.006238281726837158, -0.02508716657757759, -0.030183911323547363, -0.027779174968600273, 0.02363744005560875, -0.014607656747102737, 0.007215060293674469, -0.005611371248960495], [0.02638791874051094, -0.002004466950893402, 0.006238281726837158, -0.02508716657757759, -0.030183911323547363, -0.027779174968600273, 0.02363744005560875, -0.014607656747102737, 0.007215060293674469, -0.005611371248960495], [0.02638791874051094, -0.002004466950893402, 0.006238281726837158, -0.02508716657757759, -0.030183911323547363, -0.027779174968600273, 0.02363744005560875, -0.014607656747102737, 0.007215060293674469, -0.005611371248960495], [0.02638791874051094, -0.002004466950893402, 0.006238281726837158, -0.02508716657757759, -0.030183911323547363, -0.027779174968600273, 0.02363744005560875, -0.014607656747102737, 0.007215060293674469, -0.005611371248960495], [0.02638791874051094, -0.002004466950893402, 0.006238281726837158, -0.02508716657757759, -0.030183911323547363, -0.027779174968600273, 0.02363744005560875, -0.014607656747102737, 0.007215060293674469, -0.005611371248960495], [0.02638791874051094, -0.002004466950893402, 0.006238281726837158, -0.02508716657757759, -0.030183911323547363, -0.027779174968600273, 0.02363744005560875, -0.014607656747102737, 0.007215060293674469, -0.005611371248960495], [0.02638791874051094, -0.002004466950893402, 0.006238281726837158, -0.02508716657757759, -0.030183911323547363, -0.027779174968600273, 0.02363744005560875, -0.014607656747102737, 0.007215060293674469, -0.005611371248960495], [0.02638791874051094, -0.002004466950893402, 0.006238281726837158, -0.02508716657757759, -0.030183911323547363, -0.027779174968600273, 0.02363744005560875, -0.014607656747102737, 0.007215060293674469, -0.005611371248960495], [0.02638791874051094, -0.002004466950893402, 0.006238281726837158, -0.02508716657757759, -0.030183911323547363, -0.027779174968600273, 0.02363744005560875, -0.014607656747102737, 0.007215060293674469, -0.005611371248960495], [0.02638791874051094, -0.002004466950893402, 0.006238281726837158, -0.02508716657757759, -0.030183911323547363, -0.027779174968600273, 0.02363744005560875, -0.014607656747102737, 0.007215060293674469, -0.005611371248960495], [0.02638791874051094, -0.002004466950893402, 0.006238281726837158, -0.02508716657757759, -0.030183911323547363, -0.027779174968600273, 0.02363744005560875, -0.014607656747102737, 0.007215060293674469, -0.005611371248960495], [0.02638791874051094, -0.002004466950893402, 0.006238281726837158, -0.02508716657757759, -0.030183911323547363, -0.027779174968600273, 0.02363744005560875, -0.014607656747102737, 0.007215060293674469, -0.005611371248960495], [0.02638791874051094, -0.002004466950893402, 0.006238281726837158, -0.02508716657757759, -0.030183911323547363, -0.027779174968600273, 0.02363744005560875, -0.014607656747102737, 0.007215060293674469, -0.005611371248960495], [0.02638791874051094, -0.002004466950893402, 0.006238281726837158, -0.02508716657757759, -0.030183911323547363, -0.027779174968600273, 0.02363744005560875, -0.014607656747102737, 0.007215060293674469, -0.005611371248960495], [0.02638791874051094, -0.002004466950893402, 0.006238281726837158, -0.02508716657757759, -0.030183911323547363, -0.027779174968600273, 0.02363744005560875, -0.014607656747102737, 0.007215060293674469, -0.005611371248960495], [0.02638791874051094, -0.002004466950893402, 0.006238281726837158, -0.02508716657757759, -0.030183911323547363, -0.027779174968600273, 0.02363744005560875, -0.014607656747102737, 0.007215060293674469, -0.005611371248960495], [0.02638791874051094, -0.002004466950893402, 0.006238281726837158, -0.02508716657757759, -0.030183911323547363, -0.027779174968600273, 0.02363744005560875, -0.014607656747102737, 0.007215060293674469, -0.005611371248960495], [0.02638791874051094, -0.002004466950893402, 0.006238281726837158, -0.02508716657757759, -0.030183911323547363, -0.027779174968600273, 0.02363744005560875, -0.014607656747102737, 0.007215060293674469, -0.005611371248960495], [0.02638791874051094, -0.002004466950893402, 0.006238281726837158, -0.02508716657757759, -0.030183911323547363, -0.027779174968600273, 0.02363744005560875, -0.014607656747102737, 0.007215060293674469, -0.005611371248960495], [0.02638791874051094, -0.002004466950893402, 0.006238281726837158, -0.02508716657757759, -0.030183911323547363, -0.027779174968600273, 0.02363744005560875, -0.014607656747102737, 0.007215060293674469, -0.005611371248960495], [0.02638791874051094, -0.002004466950893402, 0.006238281726837158, -0.02508716657757759, -0.030183911323547363, -0.027779174968600273, 0.02363744005560875, -0.014607656747102737, 0.007215060293674469, -0.005611371248960495], [0.02638791874051094, -0.002004466950893402, 0.006238281726837158, -0.02508716657757759, -0.030183911323547363, -0.027779174968600273, 0.02363744005560875, -0.014607656747102737, 0.007215060293674469, -0.005611371248960495], [0.02638791874051094, -0.002004466950893402, 0.006238281726837158, -0.02508716657757759, -0.030183911323547363, -0.027779174968600273, 0.02363744005560875, -0.014607656747102737, 0.007215060293674469, -0.005611371248960495], [0.02638791874051094, -0.002004466950893402, 0.006238281726837158, -0.02508716657757759, -0.030183911323547363, -0.027779174968600273, 0.02363744005560875, -0.014607656747102737, 0.007215060293674469, -0.005611371248960495], [0.02638791874051094, -0.002004466950893402, 0.006238281726837158, -0.02508716657757759, -0.030183911323547363, -0.027779174968600273, 0.02363744005560875, -0.014607656747102737, 0.007215060293674469, -0.005611371248960495], [0.02638791874051094, -0.002004466950893402, 0.006238281726837158, -0.02508716657757759, -0.030183911323547363, -0.027779174968600273, 0.02363744005560875, -0.014607656747102737, 0.007215060293674469, -0.005611371248960495], [0.02638791874051094, -0.002004466950893402, 0.006238281726837158, -0.02508716657757759, -0.030183911323547363, -0.027779174968600273, 0.02363744005560875, -0.014607656747102737, 0.007215060293674469, -0.005611371248960495], [0.02638791874051094, -0.002004466950893402, 0.006238281726837158, -0.02508716657757759, -0.030183911323547363, -0.027779174968600273, 0.02363744005560875, -0.014607656747102737, 0.007215060293674469, -0.005611371248960495], [0.02638791874051094, -0.002004466950893402, 0.006238281726837158, -0.02508716657757759, -0.030183911323547363, -0.027779174968600273, 0.02363744005560875, -0.014607656747102737, 0.007215060293674469, -0.005611371248960495], [0.02638791874051094, -0.002004466950893402, 0.006238281726837158, -0.02508716657757759, -0.030183911323547363, -0.027779174968600273, 0.02363744005560875, -0.014607656747102737, 0.007215060293674469, -0.005611371248960495], [0.02638791874051094, -0.002004466950893402, 0.006238281726837158, -0.02508716657757759, -0.030183911323547363, -0.027779174968600273, 0.02363744005560875, -0.014607656747102737, 0.007215060293674469, -0.005611371248960495], [0.02638791874051094, -0.002004466950893402, 0.006238281726837158, -0.02508716657757759, -0.030183911323547363, -0.027779174968600273, 0.02363744005560875, -0.014607656747102737, 0.007215060293674469, -0.005611371248960495], [0.02638791874051094, -0.002004466950893402, 0.006238281726837158, -0.02508716657757759, -0.030183911323547363, -0.027779174968600273, 0.02363744005560875, -0.014607656747102737, 0.007215060293674469, -0.005611371248960495], [0.02638791874051094, -0.002004466950893402, 0.006238281726837158, -0.02508716657757759, -0.030183911323547363, -0.027779174968600273, 0.02363744005560875, -0.014607656747102737, 0.007215060293674469, -0.005611371248960495], [0.02638791874051094, -0.002004466950893402, 0.006238281726837158, -0.02508716657757759, -0.030183911323547363, -0.027779174968600273, 0.02363744005560875, -0.014607656747102737, 0.007215060293674469, -0.005611371248960495], [0.02638791874051094, -0.002004466950893402, 0.006238281726837158, -0.02508716657757759, -0.030183911323547363, -0.027779174968600273, 0.02363744005560875, -0.014607656747102737, 0.007215060293674469, -0.005611371248960495], [0.02638791874051094, -0.002004466950893402, 0.006238281726837158, -0.02508716657757759, -0.030183911323547363, -0.027779174968600273, 0.02363744005560875, -0.014607656747102737, 0.007215060293674469, -0.005611371248960495], [0.02638791874051094, -0.002004466950893402, 0.006238281726837158, -0.02508716657757759, -0.030183911323547363, -0.027779174968600273, 0.02363744005560875, -0.014607656747102737, 0.007215060293674469, -0.005611371248960495], [0.02638791874051094, -0.002004466950893402, 0.006238281726837158, -0.02508716657757759, -0.030183911323547363, -0.027779174968600273, 0.02363744005560875, -0.014607656747102737, 0.007215060293674469, -0.005611371248960495], [0.02638791874051094, -0.002004466950893402, 0.006238281726837158, -0.02508716657757759, -0.030183911323547363, -0.027779174968600273, 0.02363744005560875, -0.014607656747102737, 0.007215060293674469, -0.005611371248960495], [0.02638791874051094, -0.002004466950893402, 0.006238281726837158, -0.02508716657757759, -0.030183911323547363, -0.027779174968600273, 0.02363744005560875, -0.014607656747102737, 0.007215060293674469, -0.005611371248960495], [0.02638791874051094, -0.002004466950893402, 0.006238281726837158, -0.02508716657757759, -0.030183911323547363, -0.027779174968600273, 0.02363744005560875, -0.014607656747102737, 0.007215060293674469, -0.005611371248960495], [0.02638791874051094, -0.002004466950893402, 0.006238281726837158, -0.02508716657757759, -0.030183911323547363, -0.027779174968600273, 0.02363744005560875, -0.014607656747102737, 0.007215060293674469, -0.005611371248960495], [0.02638791874051094, -0.002004466950893402, 0.006238281726837158, -0.02508716657757759, -0.030183911323547363, -0.027779174968600273, 0.02363744005560875, -0.014607656747102737, 0.007215060293674469, -0.005611371248960495], [0.02638791874051094, -0.002004466950893402, 0.006238281726837158, -0.02508716657757759, -0.030183911323547363, -0.027779174968600273, 0.02363744005560875, -0.014607656747102737, 0.007215060293674469, -0.005611371248960495], [0.02638791874051094, -0.002004466950893402, 0.006238281726837158, -0.02508716657757759, -0.030183911323547363, -0.027779174968600273, 0.02363744005560875, -0.014607656747102737, 0.007215060293674469, -0.005611371248960495], [0.02638791874051094, -0.002004466950893402, 0.006238281726837158, -0.02508716657757759, -0.030183911323547363, -0.027779174968600273, 0.02363744005560875, -0.014607656747102737, 0.007215060293674469, -0.005611371248960495], [0.02638791874051094, -0.002004466950893402, 0.006238281726837158, -0.02508716657757759, -0.030183911323547363, -0.027779174968600273, 0.02363744005560875, -0.014607656747102737, 0.007215060293674469, -0.005611371248960495], [0.02638791874051094, -0.002004466950893402, 0.006238281726837158, -0.02508716657757759, -0.030183911323547363, -0.027779174968600273, 0.02363744005560875, -0.014607656747102737, 0.007215060293674469, -0.005611371248960495], [0.02638791874051094, -0.002004466950893402, 0.006238281726837158, -0.02508716657757759, -0.030183911323547363, -0.027779174968600273, 0.02363744005560875, -0.014607656747102737, 0.007215060293674469, -0.005611371248960495], [0.02638791874051094, -0.002004466950893402, 0.006238281726837158, -0.02508716657757759, -0.030183911323547363, -0.027779174968600273, 0.02363744005560875, -0.014607656747102737, 0.007215060293674469, -0.005611371248960495], [0.02638791874051094, -0.002004466950893402, 0.006238281726837158, -0.02508716657757759, -0.030183911323547363, -0.027779174968600273, 0.02363744005560875, -0.014607656747102737, 0.007215060293674469, -0.005611371248960495], [0.02638791874051094, -0.002004466950893402, 0.006238281726837158, -0.02508716657757759, -0.030183911323547363, -0.027779174968600273, 0.02363744005560875, -0.014607656747102737, 0.007215060293674469, -0.005611371248960495], [0.02638791874051094, -0.002004466950893402, 0.006238281726837158, -0.02508716657757759, -0.030183911323547363, -0.027779174968600273, 0.02363744005560875, -0.014607656747102737, 0.007215060293674469, -0.005611371248960495], [0.02638791874051094, -0.002004466950893402, 0.006238281726837158, -0.02508716657757759, -0.030183911323547363, -0.027779174968600273, 0.02363744005560875, -0.014607656747102737, 0.007215060293674469, -0.005611371248960495], [0.02638791874051094, -0.002004466950893402, 0.006238281726837158, -0.02508716657757759, -0.030183911323547363, -0.027779174968600273, 0.02363744005560875, -0.014607656747102737, 0.007215060293674469, -0.005611371248960495], [0.02638791874051094, -0.002004466950893402, 0.006238281726837158, -0.02508716657757759, -0.030183911323547363, -0.027779174968600273, 0.02363744005560875, -0.014607656747102737, 0.007215060293674469, -0.005611371248960495], [0.02638791874051094, -0.002004466950893402, 0.006238281726837158, -0.02508716657757759, -0.030183911323547363, -0.027779174968600273, 0.02363744005560875, -0.014607656747102737, 0.007215060293674469, -0.005611371248960495], [0.02638791874051094, -0.002004466950893402, 0.006238281726837158, -0.02508716657757759, -0.030183911323547363, -0.027779174968600273, 0.02363744005560875, -0.014607656747102737, 0.007215060293674469, -0.005611371248960495], [0.02638791874051094, -0.002004466950893402, 0.006238281726837158, -0.02508716657757759, -0.030183911323547363, -0.027779174968600273, 0.02363744005560875, -0.014607656747102737, 0.007215060293674469, -0.005611371248960495], [0.02638791874051094, -0.002004466950893402, 0.006238281726837158, -0.02508716657757759, -0.030183911323547363, -0.027779174968600273, 0.02363744005560875, -0.014607656747102737, 0.007215060293674469, -0.005611371248960495], [0.02638791874051094, -0.002004466950893402, 0.006238281726837158, -0.02508716657757759, -0.030183911323547363, -0.027779174968600273, 0.02363744005560875, -0.014607656747102737, 0.007215060293674469, -0.005611371248960495], [0.02638791874051094, -0.002004466950893402, 0.006238281726837158, -0.02508716657757759, -0.030183911323547363, -0.027779174968600273, 0.02363744005560875, -0.014607656747102737, 0.007215060293674469, -0.005611371248960495], [0.02638791874051094, -0.002004466950893402, 0.006238281726837158, -0.02508716657757759, -0.030183911323547363, -0.027779174968600273, 0.02363744005560875, -0.014607656747102737, 0.007215060293674469, -0.005611371248960495], [0.02638791874051094, -0.002004466950893402, 0.006238281726837158, -0.02508716657757759, -0.030183911323547363, -0.027779174968600273, 0.02363744005560875, -0.014607656747102737, 0.007215060293674469, -0.005611371248960495], [0.02638791874051094, -0.002004466950893402, 0.006238281726837158, -0.02508716657757759, -0.030183911323547363, -0.027779174968600273, 0.02363744005560875, -0.014607656747102737, 0.007215060293674469, -0.005611371248960495], [0.02638791874051094, -0.002004466950893402, 0.006238281726837158, -0.02508716657757759, -0.030183911323547363, -0.027779174968600273, 0.02363744005560875, -0.014607656747102737, 0.007215060293674469, -0.005611371248960495], [0.02638791874051094, -0.002004466950893402, 0.006238281726837158, -0.02508716657757759, -0.030183911323547363, -0.027779174968600273, 0.02363744005560875, -0.014607656747102737, 0.007215060293674469, -0.005611371248960495], [0.02638791874051094, -0.002004466950893402, 0.006238281726837158, -0.02508716657757759, -0.030183911323547363, -0.027779174968600273, 0.02363744005560875, -0.014607656747102737, 0.007215060293674469, -0.005611371248960495], [0.02638791874051094, -0.002004466950893402, 0.006238281726837158, -0.02508716657757759, -0.030183911323547363, -0.027779174968600273, 0.02363744005560875, -0.014607656747102737, 0.007215060293674469, -0.005611371248960495], [0.02638791874051094, -0.002004466950893402, 0.006238281726837158, -0.02508716657757759, -0.030183911323547363, -0.027779174968600273, 0.02363744005560875, -0.014607656747102737, 0.007215060293674469, -0.005611371248960495], [0.02638791874051094, -0.002004466950893402, 0.006238281726837158, -0.02508716657757759, -0.030183911323547363, -0.027779174968600273, 0.02363744005560875, -0.014607656747102737, 0.007215060293674469, -0.005611371248960495], [0.02638791874051094, -0.002004466950893402, 0.006238281726837158, -0.02508716657757759, -0.030183911323547363, -0.027779174968600273, 0.02363744005560875, -0.014607656747102737, 0.007215060293674469, -0.005611371248960495], [0.02638791874051094, -0.002004466950893402, 0.006238281726837158, -0.02508716657757759, -0.030183911323547363, -0.027779174968600273, 0.02363744005560875, -0.014607656747102737, 0.007215060293674469, -0.005611371248960495], [0.02638791874051094, -0.002004466950893402, 0.006238281726837158, -0.02508716657757759, -0.030183911323547363, -0.027779174968600273, 0.02363744005560875, -0.014607656747102737, 0.007215060293674469, -0.005611371248960495], [0.02638791874051094, -0.002004466950893402, 0.006238281726837158, -0.02508716657757759, -0.030183911323547363, -0.027779174968600273, 0.02363744005560875, -0.014607656747102737, 0.007215060293674469, -0.005611371248960495], [0.02638791874051094, -0.002004466950893402, 0.006238281726837158, -0.02508716657757759, -0.030183911323547363, -0.027779174968600273, 0.02363744005560875, -0.014607656747102737, 0.007215060293674469, -0.005611371248960495], [0.02638791874051094, -0.002004466950893402, 0.006238281726837158, -0.02508716657757759, -0.030183911323547363, -0.027779174968600273, 0.02363744005560875, -0.014607656747102737, 0.007215060293674469, -0.005611371248960495], [0.02638791874051094, -0.002004466950893402, 0.006238281726837158, -0.02508716657757759, -0.030183911323547363, -0.027779174968600273, 0.02363744005560875, -0.014607656747102737, 0.007215060293674469, -0.005611371248960495], [0.02638791874051094, -0.002004466950893402, 0.006238281726837158, -0.02508716657757759, -0.030183911323547363, -0.027779174968600273, 0.02363744005560875, -0.014607656747102737, 0.007215060293674469, -0.005611371248960495], [0.02638791874051094, -0.002004466950893402, 0.006238281726837158, -0.02508716657757759, -0.030183911323547363, -0.027779174968600273, 0.02363744005560875, -0.014607656747102737, 0.007215060293674469, -0.005611371248960495], [0.02638791874051094, -0.002004466950893402, 0.006238281726837158, -0.02508716657757759, -0.030183911323547363, -0.027779174968600273, 0.02363744005560875, -0.014607656747102737, 0.007215060293674469, -0.005611371248960495], [0.02638791874051094, -0.002004466950893402, 0.006238281726837158, -0.02508716657757759, -0.030183911323547363, -0.027779174968600273, 0.02363744005560875, -0.014607656747102737, 0.007215060293674469, -0.005611371248960495], [0.02638791874051094, -0.002004466950893402, 0.006238281726837158, -0.02508716657757759, -0.030183911323547363, -0.027779174968600273, 0.02363744005560875, -0.014607656747102737, 0.007215060293674469, -0.005611371248960495], [0.02638791874051094, -0.002004466950893402, 0.006238281726837158, -0.02508716657757759, -0.030183911323547363, -0.027779174968600273, 0.02363744005560875, -0.014607656747102737, 0.007215060293674469, -0.005611371248960495], [0.02638791874051094, -0.002004466950893402, 0.006238281726837158, -0.02508716657757759, -0.030183911323547363, -0.027779174968600273, 0.02363744005560875, -0.014607656747102737, 0.007215060293674469, -0.005611371248960495], [0.02638791874051094, -0.002004466950893402, 0.006238281726837158, -0.02508716657757759, -0.030183911323547363, -0.027779174968600273, 0.02363744005560875, -0.014607656747102737, 0.007215060293674469, -0.005611371248960495], [0.02638791874051094, -0.002004466950893402, 0.006238281726837158, -0.02508716657757759, -0.030183911323547363, -0.027779174968600273, 0.02363744005560875, -0.014607656747102737, 0.007215060293674469, -0.005611371248960495], [0.02638791874051094, -0.002004466950893402, 0.006238281726837158, -0.02508716657757759, -0.030183911323547363, -0.027779174968600273, 0.02363744005560875, -0.014607656747102737, 0.007215060293674469, -0.005611371248960495], [0.02638791874051094, -0.002004466950893402, 0.006238281726837158, -0.02508716657757759, -0.030183911323547363, -0.027779174968600273, 0.02363744005560875, -0.014607656747102737, 0.007215060293674469, -0.005611371248960495], [0.02638791874051094, -0.002004466950893402, 0.006238281726837158, -0.02508716657757759, -0.030183911323547363, -0.027779174968600273, 0.02363744005560875, -0.014607656747102737, 0.007215060293674469, -0.005611371248960495], [0.02638791874051094, -0.002004466950893402, 0.006238281726837158, -0.02508716657757759, -0.030183911323547363, -0.027779174968600273, 0.02363744005560875, -0.014607656747102737, 0.007215060293674469, -0.005611371248960495], [0.02638791874051094, -0.002004466950893402, 0.006238281726837158, -0.02508716657757759, -0.030183911323547363, -0.027779174968600273, 0.02363744005560875, -0.014607656747102737, 0.007215060293674469, -0.005611371248960495], [0.02638791874051094, -0.002004466950893402, 0.006238281726837158, -0.02508716657757759, -0.030183911323547363, -0.027779174968600273, 0.02363744005560875, -0.014607656747102737, 0.007215060293674469, -0.005611371248960495], [0.02638791874051094, -0.002004466950893402, 0.006238281726837158, -0.02508716657757759, -0.030183911323547363, -0.027779174968600273, 0.02363744005560875, -0.014607656747102737, 0.007215060293674469, -0.005611371248960495], [0.02638791874051094, -0.002004466950893402, 0.006238281726837158, -0.02508716657757759, -0.030183911323547363, -0.027779174968600273, 0.02363744005560875, -0.014607656747102737, 0.007215060293674469, -0.005611371248960495], [0.02638791874051094, -0.002004466950893402, 0.006238281726837158, -0.02508716657757759, -0.030183911323547363, -0.027779174968600273, 0.02363744005560875, -0.014607656747102737, 0.007215060293674469, -0.005611371248960495], [0.02638791874051094, -0.002004466950893402, 0.006238281726837158, -0.02508716657757759, -0.030183911323547363, -0.027779174968600273, 0.02363744005560875, -0.014607656747102737, 0.007215060293674469, -0.005611371248960495], [0.02638791874051094, -0.002004466950893402, 0.006238281726837158, -0.02508716657757759, -0.030183911323547363, -0.027779174968600273, 0.02363744005560875, -0.014607656747102737, 0.007215060293674469, -0.005611371248960495], [0.02638791874051094, -0.002004466950893402, 0.006238281726837158, -0.02508716657757759, -0.030183911323547363, -0.027779174968600273, 0.02363744005560875, -0.014607656747102737, 0.007215060293674469, -0.005611371248960495], [0.02638791874051094, -0.002004466950893402, 0.006238281726837158, -0.02508716657757759, -0.030183911323547363, -0.027779174968600273, 0.02363744005560875, -0.014607656747102737, 0.007215060293674469, -0.005611371248960495], [0.02638791874051094, -0.002004466950893402, 0.006238281726837158, -0.02508716657757759, -0.030183911323547363, -0.027779174968600273, 0.02363744005560875, -0.014607656747102737, 0.007215060293674469, -0.005611371248960495], [0.02638791874051094, -0.002004466950893402, 0.006238281726837158, -0.02508716657757759, -0.030183911323547363, -0.027779174968600273, 0.02363744005560875, -0.014607656747102737, 0.007215060293674469, -0.005611371248960495], [0.02638791874051094, -0.002004466950893402, 0.006238281726837158, -0.02508716657757759, -0.030183911323547363, -0.027779174968600273, 0.02363744005560875, -0.014607656747102737, 0.007215060293674469, -0.005611371248960495], [0.02638791874051094, -0.002004466950893402, 0.006238281726837158, -0.02508716657757759, -0.030183911323547363, -0.027779174968600273, 0.02363744005560875, -0.014607656747102737, 0.007215060293674469, -0.005611371248960495], [0.02638791874051094, -0.002004466950893402, 0.006238281726837158, -0.02508716657757759, -0.030183911323547363, -0.027779174968600273, 0.02363744005560875, -0.014607656747102737, 0.007215060293674469, -0.005611371248960495], [0.02638791874051094, -0.002004466950893402, 0.006238281726837158, -0.02508716657757759, -0.030183911323547363, -0.027779174968600273, 0.02363744005560875, -0.014607656747102737, 0.007215060293674469, -0.005611371248960495], [0.02638791874051094, -0.002004466950893402, 0.006238281726837158, -0.02508716657757759, -0.030183911323547363, -0.027779174968600273, 0.02363744005560875, -0.014607656747102737, 0.007215060293674469, -0.005611371248960495], [0.02638791874051094, -0.002004466950893402, 0.006238281726837158, -0.02508716657757759, -0.030183911323547363, -0.027779174968600273, 0.02363744005560875, -0.014607656747102737, 0.007215060293674469, -0.005611371248960495], [0.02638791874051094, -0.002004466950893402, 0.006238281726837158, -0.02508716657757759, -0.030183911323547363, -0.027779174968600273, 0.02363744005560875, -0.014607656747102737, 0.007215060293674469, -0.005611371248960495], [0.02638791874051094, -0.002004466950893402, 0.006238281726837158, -0.02508716657757759, -0.030183911323547363, -0.027779174968600273, 0.02363744005560875, -0.014607656747102737, 0.007215060293674469, -0.005611371248960495], [0.02638791874051094, -0.002004466950893402, 0.006238281726837158, -0.02508716657757759, -0.030183911323547363, -0.027779174968600273, 0.02363744005560875, -0.014607656747102737, 0.007215060293674469, -0.005611371248960495], [0.02638791874051094, -0.002004466950893402, 0.006238281726837158, -0.02508716657757759, -0.030183911323547363, -0.027779174968600273, 0.02363744005560875, -0.014607656747102737, 0.007215060293674469, -0.005611371248960495], [0.02638791874051094, -0.002004466950893402, 0.006238281726837158, -0.02508716657757759, -0.030183911323547363, -0.027779174968600273, 0.02363744005560875, -0.014607656747102737, 0.007215060293674469, -0.005611371248960495], [0.02638791874051094, -0.002004466950893402, 0.006238281726837158, -0.02508716657757759, -0.030183911323547363, -0.027779174968600273, 0.02363744005560875, -0.014607656747102737, 0.007215060293674469, -0.005611371248960495], [0.02638791874051094, -0.002004466950893402, 0.006238281726837158, -0.02508716657757759, -0.030183911323547363, -0.027779174968600273, 0.02363744005560875, -0.014607656747102737, 0.007215060293674469, -0.005611371248960495], [0.02638791874051094, -0.002004466950893402, 0.006238281726837158, -0.02508716657757759, -0.030183911323547363, -0.027779174968600273, 0.02363744005560875, -0.014607656747102737, 0.007215060293674469, -0.005611371248960495], [0.02638791874051094, -0.002004466950893402, 0.006238281726837158, -0.02508716657757759, -0.030183911323547363, -0.027779174968600273, 0.02363744005560875, -0.014607656747102737, 0.007215060293674469, -0.005611371248960495], [0.02638791874051094, -0.002004466950893402, 0.006238281726837158, -0.02508716657757759, -0.030183911323547363, -0.027779174968600273, 0.02363744005560875, -0.014607656747102737, 0.007215060293674469, -0.005611371248960495], [0.02638791874051094, -0.002004466950893402, 0.006238281726837158, -0.02508716657757759, -0.030183911323547363, -0.027779174968600273, 0.02363744005560875, -0.014607656747102737, 0.007215060293674469, -0.005611371248960495], [0.02638791874051094, -0.002004466950893402, 0.006238281726837158, -0.02508716657757759, -0.030183911323547363, -0.027779174968600273, 0.02363744005560875, -0.014607656747102737, 0.007215060293674469, -0.005611371248960495], [0.02638791874051094, -0.002004466950893402, 0.006238281726837158, -0.02508716657757759, -0.030183911323547363, -0.027779174968600273, 0.02363744005560875, -0.014607656747102737, 0.007215060293674469, -0.005611371248960495], [0.02638791874051094, -0.002004466950893402, 0.006238281726837158, -0.02508716657757759, -0.030183911323547363, -0.027779174968600273, 0.02363744005560875, -0.014607656747102737, 0.007215060293674469, -0.005611371248960495], [0.02638791874051094, -0.002004466950893402, 0.006238281726837158, -0.02508716657757759, -0.030183911323547363, -0.027779174968600273, 0.02363744005560875, -0.014607656747102737, 0.007215060293674469, -0.005611371248960495], [0.02638791874051094, -0.002004466950893402, 0.006238281726837158, -0.02508716657757759, -0.030183911323547363, -0.027779174968600273, 0.02363744005560875, -0.014607656747102737, 0.007215060293674469, -0.005611371248960495], [0.02638791874051094, -0.002004466950893402, 0.006238281726837158, -0.02508716657757759, -0.030183911323547363, -0.027779174968600273, 0.02363744005560875, -0.014607656747102737, 0.007215060293674469, -0.005611371248960495], [0.02638791874051094, -0.002004466950893402, 0.006238281726837158, -0.02508716657757759, -0.030183911323547363, -0.027779174968600273, 0.02363744005560875, -0.014607656747102737, 0.007215060293674469, -0.005611371248960495], [0.02638791874051094, -0.002004466950893402, 0.006238281726837158, -0.02508716657757759, -0.030183911323547363, -0.027779174968600273, 0.02363744005560875, -0.014607656747102737, 0.007215060293674469, -0.005611371248960495], [0.02638791874051094, -0.002004466950893402, 0.006238281726837158, -0.02508716657757759, -0.030183911323547363, -0.027779174968600273, 0.02363744005560875, -0.014607656747102737, 0.007215060293674469, -0.005611371248960495], [0.02638791874051094, -0.002004466950893402, 0.006238281726837158, -0.02508716657757759, -0.030183911323547363, -0.027779174968600273, 0.02363744005560875, -0.014607656747102737, 0.007215060293674469, -0.005611371248960495], [0.02638791874051094, -0.002004466950893402, 0.006238281726837158, -0.02508716657757759, -0.030183911323547363, -0.027779174968600273, 0.02363744005560875, -0.014607656747102737, 0.007215060293674469, -0.005611371248960495], [0.02638791874051094, -0.002004466950893402, 0.006238281726837158, -0.02508716657757759, -0.030183911323547363, -0.027779174968600273, 0.02363744005560875, -0.014607656747102737, 0.007215060293674469, -0.005611371248960495], [0.02638791874051094, -0.002004466950893402, 0.006238281726837158, -0.02508716657757759, -0.030183911323547363, -0.027779174968600273, 0.02363744005560875, -0.014607656747102737, 0.007215060293674469, -0.005611371248960495], [0.02638791874051094, -0.002004466950893402, 0.006238281726837158, -0.02508716657757759, -0.030183911323547363, -0.027779174968600273, 0.02363744005560875, -0.014607656747102737, 0.007215060293674469, -0.005611371248960495], [0.02638791874051094, -0.002004466950893402, 0.006238281726837158, -0.02508716657757759, -0.030183911323547363, -0.027779174968600273, 0.02363744005560875, -0.014607656747102737, 0.007215060293674469, -0.005611371248960495], [0.02638791874051094, -0.002004466950893402, 0.006238281726837158, -0.02508716657757759, -0.030183911323547363, -0.027779174968600273, 0.02363744005560875, -0.014607656747102737, 0.007215060293674469, -0.005611371248960495], [0.02638791874051094, -0.002004466950893402, 0.006238281726837158, -0.02508716657757759, -0.030183911323547363, -0.027779174968600273, 0.02363744005560875, -0.014607656747102737, 0.007215060293674469, -0.005611371248960495], [0.02638791874051094, -0.002004466950893402, 0.006238281726837158, -0.02508716657757759, -0.030183911323547363, -0.027779174968600273, 0.02363744005560875, -0.014607656747102737, 0.007215060293674469, -0.005611371248960495], [0.02638791874051094, -0.002004466950893402, 0.006238281726837158, -0.02508716657757759, -0.030183911323547363, -0.027779174968600273, 0.02363744005560875, -0.014607656747102737, 0.007215060293674469, -0.005611371248960495], [0.02638791874051094, -0.002004466950893402, 0.006238281726837158, -0.02508716657757759, -0.030183911323547363, -0.027779174968600273, 0.02363744005560875, -0.014607656747102737, 0.007215060293674469, -0.005611371248960495], [0.02638791874051094, -0.002004466950893402, 0.006238281726837158, -0.02508716657757759, -0.030183911323547363, -0.027779174968600273, 0.02363744005560875, -0.014607656747102737, 0.007215060293674469, -0.005611371248960495], [0.02638791874051094, -0.002004466950893402, 0.006238281726837158, -0.02508716657757759, -0.030183911323547363, -0.027779174968600273, 0.02363744005560875, -0.014607656747102737, 0.007215060293674469, -0.005611371248960495], [0.02638791874051094, -0.002004466950893402, 0.006238281726837158, -0.02508716657757759, -0.030183911323547363, -0.027779174968600273, 0.02363744005560875, -0.014607656747102737, 0.007215060293674469, -0.005611371248960495], [0.02638791874051094, -0.002004466950893402, 0.006238281726837158, -0.02508716657757759, -0.030183911323547363, -0.027779174968600273, 0.02363744005560875, -0.014607656747102737, 0.007215060293674469, -0.005611371248960495], [0.02638791874051094, -0.002004466950893402, 0.006238281726837158, -0.02508716657757759, -0.030183911323547363, -0.027779174968600273, 0.02363744005560875, -0.014607656747102737, 0.007215060293674469, -0.005611371248960495], [0.02638791874051094, -0.002004466950893402, 0.006238281726837158, -0.02508716657757759, -0.030183911323547363, -0.027779174968600273, 0.02363744005560875, -0.014607656747102737, 0.007215060293674469, -0.005611371248960495], [0.02638791874051094, -0.002004466950893402, 0.006238281726837158, -0.02508716657757759, -0.030183911323547363, -0.027779174968600273, 0.02363744005560875, -0.014607656747102737, 0.007215060293674469, -0.005611371248960495], [0.02638791874051094, -0.002004466950893402, 0.006238281726837158, -0.02508716657757759, -0.030183911323547363, -0.027779174968600273, 0.02363744005560875, -0.014607656747102737, 0.007215060293674469, -0.005611371248960495], [0.02638791874051094, -0.002004466950893402, 0.006238281726837158, -0.02508716657757759, -0.030183911323547363, -0.027779174968600273, 0.02363744005560875, -0.014607656747102737, 0.007215060293674469, -0.005611371248960495], [0.02638791874051094, -0.002004466950893402, 0.006238281726837158, -0.02508716657757759, -0.030183911323547363, -0.027779174968600273, 0.02363744005560875, -0.014607656747102737, 0.007215060293674469, -0.005611371248960495], [0.02638791874051094, -0.002004466950893402, 0.006238281726837158, -0.02508716657757759, -0.030183911323547363, -0.027779174968600273, 0.02363744005560875, -0.014607656747102737, 0.007215060293674469, -0.005611371248960495], [0.02638791874051094, -0.002004466950893402, 0.006238281726837158, -0.02508716657757759, -0.030183911323547363, -0.027779174968600273, 0.02363744005560875, -0.014607656747102737, 0.007215060293674469, -0.005611371248960495], [0.02638791874051094, -0.002004466950893402, 0.006238281726837158, -0.02508716657757759, -0.030183911323547363, -0.027779174968600273, 0.02363744005560875, -0.014607656747102737, 0.007215060293674469, -0.005611371248960495], [0.02638791874051094, -0.002004466950893402, 0.006238281726837158, -0.02508716657757759, -0.030183911323547363, -0.027779174968600273, 0.02363744005560875, -0.014607656747102737, 0.007215060293674469, -0.005611371248960495], [0.02638791874051094, -0.002004466950893402, 0.006238281726837158, -0.02508716657757759, -0.030183911323547363, -0.027779174968600273, 0.02363744005560875, -0.014607656747102737, 0.007215060293674469, -0.005611371248960495], [0.02638791874051094, -0.002004466950893402, 0.006238281726837158, -0.02508716657757759, -0.030183911323547363, -0.027779174968600273, 0.02363744005560875, -0.014607656747102737, 0.007215060293674469, -0.005611371248960495], [0.02638791874051094, -0.002004466950893402, 0.006238281726837158, -0.02508716657757759, -0.030183911323547363, -0.027779174968600273, 0.02363744005560875, -0.014607656747102737, 0.007215060293674469, -0.005611371248960495], [0.02638791874051094, -0.002004466950893402, 0.006238281726837158, -0.02508716657757759, -0.030183911323547363, -0.027779174968600273, 0.02363744005560875, -0.014607656747102737, 0.007215060293674469, -0.005611371248960495], [0.02638791874051094, -0.002004466950893402, 0.006238281726837158, -0.02508716657757759, -0.030183911323547363, -0.027779174968600273, 0.02363744005560875, -0.014607656747102737, 0.007215060293674469, -0.005611371248960495], [0.02638791874051094, -0.002004466950893402, 0.006238281726837158, -0.02508716657757759, -0.030183911323547363, -0.027779174968600273, 0.02363744005560875, -0.014607656747102737, 0.007215060293674469, -0.005611371248960495], [0.02638791874051094, -0.002004466950893402, 0.006238281726837158, -0.02508716657757759, -0.030183911323547363, -0.027779174968600273, 0.02363744005560875, -0.014607656747102737, 0.007215060293674469, -0.005611371248960495], [0.02638791874051094, -0.002004466950893402, 0.006238281726837158, -0.02508716657757759, -0.030183911323547363, -0.027779174968600273, 0.02363744005560875, -0.014607656747102737, 0.007215060293674469, -0.005611371248960495], [0.02638791874051094, -0.002004466950893402, 0.006238281726837158, -0.02508716657757759, -0.030183911323547363, -0.027779174968600273, 0.02363744005560875, -0.014607656747102737, 0.007215060293674469, -0.005611371248960495], [0.02638791874051094, -0.002004466950893402, 0.006238281726837158, -0.02508716657757759, -0.030183911323547363, -0.027779174968600273, 0.02363744005560875, -0.014607656747102737, 0.007215060293674469, -0.005611371248960495], [0.02638791874051094, -0.002004466950893402, 0.006238281726837158, -0.02508716657757759, -0.030183911323547363, -0.027779174968600273, 0.02363744005560875, -0.014607656747102737, 0.007215060293674469, -0.005611371248960495], [0.02638791874051094, -0.002004466950893402, 0.006238281726837158, -0.02508716657757759, -0.030183911323547363, -0.027779174968600273, 0.02363744005560875, -0.014607656747102737, 0.007215060293674469, -0.005611371248960495], [0.02638791874051094, -0.002004466950893402, 0.006238281726837158, -0.02508716657757759, -0.030183911323547363, -0.027779174968600273, 0.02363744005560875, -0.014607656747102737, 0.007215060293674469, -0.005611371248960495], [0.02638791874051094, -0.002004466950893402, 0.006238281726837158, -0.02508716657757759, -0.030183911323547363, -0.027779174968600273, 0.02363744005560875, -0.014607656747102737, 0.007215060293674469, -0.005611371248960495], [0.02638791874051094, -0.002004466950893402, 0.006238281726837158, -0.02508716657757759, -0.030183911323547363, -0.027779174968600273, 0.02363744005560875, -0.014607656747102737, 0.007215060293674469, -0.005611371248960495], [0.02638791874051094, -0.002004466950893402, 0.006238281726837158, -0.02508716657757759, -0.030183911323547363, -0.027779174968600273, 0.02363744005560875, -0.014607656747102737, 0.007215060293674469, -0.005611371248960495], [0.02638791874051094, -0.002004466950893402, 0.006238281726837158, -0.02508716657757759, -0.030183911323547363, -0.027779174968600273, 0.02363744005560875, -0.014607656747102737, 0.007215060293674469, -0.005611371248960495], [0.02638791874051094, -0.002004466950893402, 0.006238281726837158, -0.02508716657757759, -0.030183911323547363, -0.027779174968600273, 0.02363744005560875, -0.014607656747102737, 0.007215060293674469, -0.005611371248960495], [0.02638791874051094, -0.002004466950893402, 0.006238281726837158, -0.02508716657757759, -0.030183911323547363, -0.027779174968600273, 0.02363744005560875, -0.014607656747102737, 0.007215060293674469, -0.005611371248960495], [0.02638791874051094, -0.002004466950893402, 0.006238281726837158, -0.02508716657757759, -0.030183911323547363, -0.027779174968600273, 0.02363744005560875, -0.014607656747102737, 0.007215060293674469, -0.005611371248960495], [0.02638791874051094, -0.002004466950893402, 0.006238281726837158, -0.02508716657757759, -0.030183911323547363, -0.027779174968600273, 0.02363744005560875, -0.014607656747102737, 0.007215060293674469, -0.005611371248960495], [0.02638791874051094, -0.002004466950893402, 0.006238281726837158, -0.02508716657757759, -0.030183911323547363, -0.027779174968600273, 0.02363744005560875, -0.014607656747102737, 0.007215060293674469, -0.005611371248960495], [0.02638791874051094, -0.002004466950893402, 0.006238281726837158, -0.02508716657757759, -0.030183911323547363, -0.027779174968600273, 0.02363744005560875, -0.014607656747102737, 0.007215060293674469, -0.005611371248960495], [0.02638791874051094, -0.002004466950893402, 0.006238281726837158, -0.02508716657757759, -0.030183911323547363, -0.027779174968600273, 0.02363744005560875, -0.014607656747102737, 0.007215060293674469, -0.005611371248960495], [0.02638791874051094, -0.002004466950893402, 0.006238281726837158, -0.02508716657757759, -0.030183911323547363, -0.027779174968600273, 0.02363744005560875, -0.014607656747102737, 0.007215060293674469, -0.005611371248960495], [0.02638791874051094, -0.002004466950893402, 0.006238281726837158, -0.02508716657757759, -0.030183911323547363, -0.027779174968600273, 0.02363744005560875, -0.014607656747102737, 0.007215060293674469, -0.005611371248960495], [0.02638791874051094, -0.002004466950893402, 0.006238281726837158, -0.02508716657757759, -0.030183911323547363, -0.027779174968600273, 0.02363744005560875, -0.014607656747102737, 0.007215060293674469, -0.005611371248960495], [0.02638791874051094, -0.002004466950893402, 0.006238281726837158, -0.02508716657757759, -0.030183911323547363, -0.027779174968600273, 0.02363744005560875, -0.014607656747102737, 0.007215060293674469, -0.005611371248960495], [0.02638791874051094, -0.002004466950893402, 0.006238281726837158, -0.02508716657757759, -0.030183911323547363, -0.027779174968600273, 0.02363744005560875, -0.014607656747102737, 0.007215060293674469, -0.005611371248960495], [0.02638791874051094, -0.002004466950893402, 0.006238281726837158, -0.02508716657757759, -0.030183911323547363, -0.027779174968600273, 0.02363744005560875, -0.014607656747102737, 0.007215060293674469, -0.005611371248960495], [0.02638791874051094, -0.002004466950893402, 0.006238281726837158, -0.02508716657757759, -0.030183911323547363, -0.027779174968600273, 0.02363744005560875, -0.014607656747102737, 0.007215060293674469, -0.005611371248960495], [0.02638791874051094, -0.002004466950893402, 0.006238281726837158, -0.02508716657757759, -0.030183911323547363, -0.027779174968600273, 0.02363744005560875, -0.014607656747102737, 0.007215060293674469, -0.005611371248960495], [0.02638791874051094, -0.002004466950893402, 0.006238281726837158, -0.02508716657757759, -0.030183911323547363, -0.027779174968600273, 0.02363744005560875, -0.014607656747102737, 0.007215060293674469, -0.005611371248960495], [0.02638791874051094, -0.002004466950893402, 0.006238281726837158, -0.02508716657757759, -0.030183911323547363, -0.027779174968600273, 0.02363744005560875, -0.014607656747102737, 0.007215060293674469, -0.005611371248960495], [0.02638791874051094, -0.002004466950893402, 0.006238281726837158, -0.02508716657757759, -0.030183911323547363, -0.027779174968600273, 0.02363744005560875, -0.014607656747102737, 0.007215060293674469, -0.005611371248960495], [0.02638791874051094, -0.002004466950893402, 0.006238281726837158, -0.02508716657757759, -0.030183911323547363, -0.027779174968600273, 0.02363744005560875, -0.014607656747102737, 0.007215060293674469, -0.005611371248960495], [0.02638791874051094, -0.002004466950893402, 0.006238281726837158, -0.02508716657757759, -0.030183911323547363, -0.027779174968600273, 0.02363744005560875, -0.014607656747102737, 0.007215060293674469, -0.005611371248960495], [0.02638791874051094, -0.002004466950893402, 0.006238281726837158, -0.02508716657757759, -0.030183911323547363, -0.027779174968600273, 0.02363744005560875, -0.014607656747102737, 0.007215060293674469, -0.005611371248960495], [0.02638791874051094, -0.002004466950893402, 0.006238281726837158, -0.02508716657757759, -0.030183911323547363, -0.027779174968600273, 0.02363744005560875, -0.014607656747102737, 0.007215060293674469, -0.005611371248960495], [0.02638791874051094, -0.002004466950893402, 0.006238281726837158, -0.02508716657757759, -0.030183911323547363, -0.027779174968600273, 0.02363744005560875, -0.014607656747102737, 0.007215060293674469, -0.005611371248960495], [0.02638791874051094, -0.002004466950893402, 0.006238281726837158, -0.02508716657757759, -0.030183911323547363, -0.027779174968600273, 0.02363744005560875, -0.014607656747102737, 0.007215060293674469, -0.005611371248960495], [0.02638791874051094, -0.002004466950893402, 0.006238281726837158, -0.02508716657757759, -0.030183911323547363, -0.027779174968600273, 0.02363744005560875, -0.014607656747102737, 0.007215060293674469, -0.005611371248960495], [0.02638791874051094, -0.002004466950893402, 0.006238281726837158, -0.02508716657757759, -0.030183911323547363, -0.027779174968600273, 0.02363744005560875, -0.014607656747102737, 0.007215060293674469, -0.005611371248960495], [0.02638791874051094, -0.002004466950893402, 0.006238281726837158, -0.02508716657757759, -0.030183911323547363, -0.027779174968600273, 0.02363744005560875, -0.014607656747102737, 0.007215060293674469, -0.005611371248960495], [0.02638791874051094, -0.002004466950893402, 0.006238281726837158, -0.02508716657757759, -0.030183911323547363, -0.027779174968600273, 0.02363744005560875, -0.014607656747102737, 0.007215060293674469, -0.005611371248960495], [0.02638791874051094, -0.002004466950893402, 0.006238281726837158, -0.02508716657757759, -0.030183911323547363, -0.027779174968600273, 0.02363744005560875, -0.014607656747102737, 0.007215060293674469, -0.005611371248960495], [0.02638791874051094, -0.002004466950893402, 0.006238281726837158, -0.02508716657757759, -0.030183911323547363, -0.027779174968600273, 0.02363744005560875, -0.014607656747102737, 0.007215060293674469, -0.005611371248960495], [0.02638791874051094, -0.002004466950893402, 0.006238281726837158, -0.02508716657757759, -0.030183911323547363, -0.027779174968600273, 0.02363744005560875, -0.014607656747102737, 0.007215060293674469, -0.005611371248960495], [0.02638791874051094, -0.002004466950893402, 0.006238281726837158, -0.02508716657757759, -0.030183911323547363, -0.027779174968600273, 0.02363744005560875, -0.014607656747102737, 0.007215060293674469, -0.005611371248960495], [0.02638791874051094, -0.002004466950893402, 0.006238281726837158, -0.02508716657757759, -0.030183911323547363, -0.027779174968600273, 0.02363744005560875, -0.014607656747102737, 0.007215060293674469, -0.005611371248960495], [0.02638791874051094, -0.002004466950893402, 0.006238281726837158, -0.02508716657757759, -0.030183911323547363, -0.027779174968600273, 0.02363744005560875, -0.014607656747102737, 0.007215060293674469, -0.005611371248960495], [0.02638791874051094, -0.002004466950893402, 0.006238281726837158, -0.02508716657757759, -0.030183911323547363, -0.027779174968600273, 0.02363744005560875, -0.014607656747102737, 0.007215060293674469, -0.005611371248960495], [0.02638791874051094, -0.002004466950893402, 0.006238281726837158, -0.02508716657757759, -0.030183911323547363, -0.027779174968600273, 0.02363744005560875, -0.014607656747102737, 0.007215060293674469, -0.005611371248960495], [0.02638791874051094, -0.002004466950893402, 0.006238281726837158, -0.02508716657757759, -0.030183911323547363, -0.027779174968600273, 0.02363744005560875, -0.014607656747102737, 0.007215060293674469, -0.005611371248960495], [0.02638791874051094, -0.002004466950893402, 0.006238281726837158, -0.02508716657757759, -0.030183911323547363, -0.027779174968600273, 0.02363744005560875, -0.014607656747102737, 0.007215060293674469, -0.005611371248960495], [0.02638791874051094, -0.002004466950893402, 0.006238281726837158, -0.02508716657757759, -0.030183911323547363, -0.027779174968600273, 0.02363744005560875, -0.014607656747102737, 0.007215060293674469, -0.005611371248960495], [0.02638791874051094, -0.002004466950893402, 0.006238281726837158, -0.02508716657757759, -0.030183911323547363, -0.027779174968600273, 0.02363744005560875, -0.014607656747102737, 0.007215060293674469, -0.005611371248960495], [0.02638791874051094, -0.002004466950893402, 0.006238281726837158, -0.02508716657757759, -0.030183911323547363, -0.027779174968600273, 0.02363744005560875, -0.014607656747102737, 0.007215060293674469, -0.005611371248960495], [0.02638791874051094, -0.002004466950893402, 0.006238281726837158, -0.02508716657757759, -0.030183911323547363, -0.027779174968600273, 0.02363744005560875, -0.014607656747102737, 0.007215060293674469, -0.005611371248960495], [0.02638791874051094, -0.002004466950893402, 0.006238281726837158, -0.02508716657757759, -0.030183911323547363, -0.027779174968600273, 0.02363744005560875, -0.014607656747102737, 0.007215060293674469, -0.005611371248960495], [0.02638791874051094, -0.002004466950893402, 0.006238281726837158, -0.02508716657757759, -0.030183911323547363, -0.027779174968600273, 0.02363744005560875, -0.014607656747102737, 0.007215060293674469, -0.005611371248960495], [0.02638791874051094, -0.002004466950893402, 0.006238281726837158, -0.02508716657757759, -0.030183911323547363, -0.027779174968600273, 0.02363744005560875, -0.014607656747102737, 0.007215060293674469, -0.005611371248960495], [0.02638791874051094, -0.002004466950893402, 0.006238281726837158, -0.02508716657757759, -0.030183911323547363, -0.027779174968600273, 0.02363744005560875, -0.014607656747102737, 0.007215060293674469, -0.005611371248960495], [0.02638791874051094, -0.002004466950893402, 0.006238281726837158, -0.02508716657757759, -0.030183911323547363, -0.027779174968600273, 0.02363744005560875, -0.014607656747102737, 0.007215060293674469, -0.005611371248960495], [0.02638791874051094, -0.002004466950893402, 0.006238281726837158, -0.02508716657757759, -0.030183911323547363, -0.027779174968600273, 0.02363744005560875, -0.014607656747102737, 0.007215060293674469, -0.005611371248960495], [0.02638791874051094, -0.002004466950893402, 0.006238281726837158, -0.02508716657757759, -0.030183911323547363, -0.027779174968600273, 0.02363744005560875, -0.014607656747102737, 0.007215060293674469, -0.005611371248960495], [0.02638791874051094, -0.002004466950893402, 0.006238281726837158, -0.02508716657757759, -0.030183911323547363, -0.027779174968600273, 0.02363744005560875, -0.014607656747102737, 0.007215060293674469, -0.005611371248960495], [0.02638791874051094, -0.002004466950893402, 0.006238281726837158, -0.02508716657757759, -0.030183911323547363, -0.027779174968600273, 0.02363744005560875, -0.014607656747102737, 0.007215060293674469, -0.005611371248960495], [0.02638791874051094, -0.002004466950893402, 0.006238281726837158, -0.02508716657757759, -0.030183911323547363, -0.027779174968600273, 0.02363744005560875, -0.014607656747102737, 0.007215060293674469, -0.005611371248960495], [0.02638791874051094, -0.002004466950893402, 0.006238281726837158, -0.02508716657757759, -0.030183911323547363, -0.027779174968600273, 0.02363744005560875, -0.014607656747102737, 0.007215060293674469, -0.005611371248960495], [0.02638791874051094, -0.002004466950893402, 0.006238281726837158, -0.02508716657757759, -0.030183911323547363, -0.027779174968600273, 0.02363744005560875, -0.014607656747102737, 0.007215060293674469, -0.005611371248960495], [0.02638791874051094, -0.002004466950893402, 0.006238281726837158, -0.02508716657757759, -0.030183911323547363, -0.027779174968600273, 0.02363744005560875, -0.014607656747102737, 0.007215060293674469, -0.005611371248960495], [0.02638791874051094, -0.002004466950893402, 0.006238281726837158, -0.02508716657757759, -0.030183911323547363, -0.027779174968600273, 0.02363744005560875, -0.014607656747102737, 0.007215060293674469, -0.005611371248960495], [0.02638791874051094, -0.002004466950893402, 0.006238281726837158, -0.02508716657757759, -0.030183911323547363, -0.027779174968600273, 0.02363744005560875, -0.014607656747102737, 0.007215060293674469, -0.005611371248960495], [0.02638791874051094, -0.002004466950893402, 0.006238281726837158, -0.02508716657757759, -0.030183911323547363, -0.027779174968600273, 0.02363744005560875, -0.014607656747102737, 0.007215060293674469, -0.005611371248960495], [0.02638791874051094, -0.002004466950893402, 0.006238281726837158, -0.02508716657757759, -0.030183911323547363, -0.027779174968600273, 0.02363744005560875, -0.014607656747102737, 0.007215060293674469, -0.005611371248960495], [0.02638791874051094, -0.002004466950893402, 0.006238281726837158, -0.02508716657757759, -0.030183911323547363, -0.027779174968600273, 0.02363744005560875, -0.014607656747102737, 0.007215060293674469, -0.005611371248960495], [0.02638791874051094, -0.002004466950893402, 0.006238281726837158, -0.02508716657757759, -0.030183911323547363, -0.027779174968600273, 0.02363744005560875, -0.014607656747102737, 0.007215060293674469, -0.005611371248960495], [0.02638791874051094, -0.002004466950893402, 0.006238281726837158, -0.02508716657757759, -0.030183911323547363, -0.027779174968600273, 0.02363744005560875, -0.014607656747102737, 0.007215060293674469, -0.005611371248960495], [0.02638791874051094, -0.002004466950893402, 0.006238281726837158, -0.02508716657757759, -0.030183911323547363, -0.027779174968600273, 0.02363744005560875, -0.014607656747102737, 0.007215060293674469, -0.005611371248960495], [0.02638791874051094, -0.002004466950893402, 0.006238281726837158, -0.02508716657757759, -0.030183911323547363, -0.027779174968600273, 0.02363744005560875, -0.014607656747102737, 0.007215060293674469, -0.005611371248960495], [0.02638791874051094, -0.002004466950893402, 0.006238281726837158, -0.02508716657757759, -0.030183911323547363, -0.027779174968600273, 0.02363744005560875, -0.014607656747102737, 0.007215060293674469, -0.005611371248960495], [0.02638791874051094, -0.002004466950893402, 0.006238281726837158, -0.02508716657757759, -0.030183911323547363, -0.027779174968600273, 0.02363744005560875, -0.014607656747102737, 0.007215060293674469, -0.005611371248960495], [0.02638791874051094, -0.002004466950893402, 0.006238281726837158, -0.02508716657757759, -0.030183911323547363, -0.027779174968600273, 0.02363744005560875, -0.014607656747102737, 0.007215060293674469, -0.005611371248960495], [0.02638791874051094, -0.002004466950893402, 0.006238281726837158, -0.02508716657757759, -0.030183911323547363, -0.027779174968600273, 0.02363744005560875, -0.014607656747102737, 0.007215060293674469, -0.005611371248960495], [0.02638791874051094, -0.002004466950893402, 0.006238281726837158, -0.02508716657757759, -0.030183911323547363, -0.027779174968600273, 0.02363744005560875, -0.014607656747102737, 0.007215060293674469, -0.005611371248960495], [0.02638791874051094, -0.002004466950893402, 0.006238281726837158, -0.02508716657757759, -0.030183911323547363, -0.027779174968600273, 0.02363744005560875, -0.014607656747102737, 0.007215060293674469, -0.005611371248960495], [0.02638791874051094, -0.002004466950893402, 0.006238281726837158, -0.02508716657757759, -0.030183911323547363, -0.027779174968600273, 0.02363744005560875, -0.014607656747102737, 0.007215060293674469, -0.005611371248960495], [0.02638791874051094, -0.002004466950893402, 0.006238281726837158, -0.02508716657757759, -0.030183911323547363, -0.027779174968600273, 0.02363744005560875, -0.014607656747102737, 0.007215060293674469, -0.005611371248960495], [0.02638791874051094, -0.002004466950893402, 0.006238281726837158, -0.02508716657757759, -0.030183911323547363, -0.027779174968600273, 0.02363744005560875, -0.014607656747102737, 0.007215060293674469, -0.005611371248960495], [0.02638791874051094, -0.002004466950893402, 0.006238281726837158, -0.02508716657757759, -0.030183911323547363, -0.027779174968600273, 0.02363744005560875, -0.014607656747102737, 0.007215060293674469, -0.005611371248960495], [0.02638791874051094, -0.002004466950893402, 0.006238281726837158, -0.02508716657757759, -0.030183911323547363, -0.027779174968600273, 0.02363744005560875, -0.014607656747102737, 0.007215060293674469, -0.005611371248960495], [0.02638791874051094, -0.002004466950893402, 0.006238281726837158, -0.02508716657757759, -0.030183911323547363, -0.027779174968600273, 0.02363744005560875, -0.014607656747102737, 0.007215060293674469, -0.005611371248960495], [0.02638791874051094, -0.002004466950893402, 0.006238281726837158, -0.02508716657757759, -0.030183911323547363, -0.027779174968600273, 0.02363744005560875, -0.014607656747102737, 0.007215060293674469, -0.005611371248960495], [0.02638791874051094, -0.002004466950893402, 0.006238281726837158, -0.02508716657757759, -0.030183911323547363, -0.027779174968600273, 0.02363744005560875, -0.014607656747102737, 0.007215060293674469, -0.005611371248960495], [0.02638791874051094, -0.002004466950893402, 0.006238281726837158, -0.02508716657757759, -0.030183911323547363, -0.027779174968600273, 0.02363744005560875, -0.014607656747102737, 0.007215060293674469, -0.005611371248960495], [0.02638791874051094, -0.002004466950893402, 0.006238281726837158, -0.02508716657757759, -0.030183911323547363, -0.027779174968600273, 0.02363744005560875, -0.014607656747102737, 0.007215060293674469, -0.005611371248960495], [0.02638791874051094, -0.002004466950893402, 0.006238281726837158, -0.02508716657757759, -0.030183911323547363, -0.027779174968600273, 0.02363744005560875, -0.014607656747102737, 0.007215060293674469, -0.005611371248960495], [0.02638791874051094, -0.002004466950893402, 0.006238281726837158, -0.02508716657757759, -0.030183911323547363, -0.027779174968600273, 0.02363744005560875, -0.014607656747102737, 0.007215060293674469, -0.005611371248960495], [0.02638791874051094, -0.002004466950893402, 0.006238281726837158, -0.02508716657757759, -0.030183911323547363, -0.027779174968600273, 0.02363744005560875, -0.014607656747102737, 0.007215060293674469, -0.005611371248960495], [0.02638791874051094, -0.002004466950893402, 0.006238281726837158, -0.02508716657757759, -0.030183911323547363, -0.027779174968600273, 0.02363744005560875, -0.014607656747102737, 0.007215060293674469, -0.005611371248960495], [0.02638791874051094, -0.002004466950893402, 0.006238281726837158, -0.02508716657757759, -0.030183911323547363, -0.027779174968600273, 0.02363744005560875, -0.014607656747102737, 0.007215060293674469, -0.005611371248960495], [0.02638791874051094, -0.002004466950893402, 0.006238281726837158, -0.02508716657757759, -0.030183911323547363, -0.027779174968600273, 0.02363744005560875, -0.014607656747102737, 0.007215060293674469, -0.005611371248960495], [0.02638791874051094, -0.002004466950893402, 0.006238281726837158, -0.02508716657757759, -0.030183911323547363, -0.027779174968600273, 0.02363744005560875, -0.014607656747102737, 0.007215060293674469, -0.005611371248960495], [0.02638791874051094, -0.002004466950893402, 0.006238281726837158, -0.02508716657757759, -0.030183911323547363, -0.027779174968600273, 0.02363744005560875, -0.014607656747102737, 0.007215060293674469, -0.005611371248960495], [0.02638791874051094, -0.002004466950893402, 0.006238281726837158, -0.02508716657757759, -0.030183911323547363, -0.027779174968600273, 0.02363744005560875, -0.014607656747102737, 0.007215060293674469, -0.005611371248960495], [0.02638791874051094, -0.002004466950893402, 0.006238281726837158, -0.02508716657757759, -0.030183911323547363, -0.027779174968600273, 0.02363744005560875, -0.014607656747102737, 0.007215060293674469, -0.005611371248960495], [0.02638791874051094, -0.002004466950893402, 0.006238281726837158, -0.02508716657757759, -0.030183911323547363, -0.027779174968600273, 0.02363744005560875, -0.014607656747102737, 0.007215060293674469, -0.005611371248960495], [0.02638791874051094, -0.002004466950893402, 0.006238281726837158, -0.02508716657757759, -0.030183911323547363, -0.027779174968600273, 0.02363744005560875, -0.014607656747102737, 0.007215060293674469, -0.005611371248960495], [0.02638791874051094, -0.002004466950893402, 0.006238281726837158, -0.02508716657757759, -0.030183911323547363, -0.027779174968600273, 0.02363744005560875, -0.014607656747102737, 0.007215060293674469, -0.005611371248960495], [0.02638791874051094, -0.002004466950893402, 0.006238281726837158, -0.02508716657757759, -0.030183911323547363, -0.027779174968600273, 0.02363744005560875, -0.014607656747102737, 0.007215060293674469, -0.005611371248960495], [0.02638791874051094, -0.002004466950893402, 0.006238281726837158, -0.02508716657757759, -0.030183911323547363, -0.027779174968600273, 0.02363744005560875, -0.014607656747102737, 0.007215060293674469, -0.005611371248960495], [0.02638791874051094, -0.002004466950893402, 0.006238281726837158, -0.02508716657757759, -0.030183911323547363, -0.027779174968600273, 0.02363744005560875, -0.014607656747102737, 0.007215060293674469, -0.005611371248960495], [0.02638791874051094, -0.002004466950893402, 0.006238281726837158, -0.02508716657757759, -0.030183911323547363, -0.027779174968600273, 0.02363744005560875, -0.014607656747102737, 0.007215060293674469, -0.005611371248960495], [0.02638791874051094, -0.002004466950893402, 0.006238281726837158, -0.02508716657757759, -0.030183911323547363, -0.027779174968600273, 0.02363744005560875, -0.014607656747102737, 0.007215060293674469, -0.005611371248960495], [0.02638791874051094, -0.002004466950893402, 0.006238281726837158, -0.02508716657757759, -0.030183911323547363, -0.027779174968600273, 0.02363744005560875, -0.014607656747102737, 0.007215060293674469, -0.005611371248960495], [0.02638791874051094, -0.002004466950893402, 0.006238281726837158, -0.02508716657757759, -0.030183911323547363, -0.027779174968600273, 0.02363744005560875, -0.014607656747102737, 0.007215060293674469, -0.005611371248960495], [0.02638791874051094, -0.002004466950893402, 0.006238281726837158, -0.02508716657757759, -0.030183911323547363, -0.027779174968600273, 0.02363744005560875, -0.014607656747102737, 0.007215060293674469, -0.005611371248960495], [0.02638791874051094, -0.002004466950893402, 0.006238281726837158, -0.02508716657757759, -0.030183911323547363, -0.027779174968600273, 0.02363744005560875, -0.014607656747102737, 0.007215060293674469, -0.005611371248960495], [0.02638791874051094, -0.002004466950893402, 0.006238281726837158, -0.02508716657757759, -0.030183911323547363, -0.027779174968600273, 0.02363744005560875, -0.014607656747102737, 0.007215060293674469, -0.005611371248960495], [0.02638791874051094, -0.002004466950893402, 0.006238281726837158, -0.02508716657757759, -0.030183911323547363, -0.027779174968600273, 0.02363744005560875, -0.014607656747102737, 0.007215060293674469, -0.005611371248960495], [0.02638791874051094, -0.002004466950893402, 0.006238281726837158, -0.02508716657757759, -0.030183911323547363, -0.027779174968600273, 0.02363744005560875, -0.014607656747102737, 0.007215060293674469, -0.005611371248960495], [0.02638791874051094, -0.002004466950893402, 0.006238281726837158, -0.02508716657757759, -0.030183911323547363, -0.027779174968600273, 0.02363744005560875, -0.014607656747102737, 0.007215060293674469, -0.005611371248960495], [0.02638791874051094, -0.002004466950893402, 0.006238281726837158, -0.02508716657757759, -0.030183911323547363, -0.027779174968600273, 0.02363744005560875, -0.014607656747102737, 0.007215060293674469, -0.005611371248960495], [0.02638791874051094, -0.002004466950893402, 0.006238281726837158, -0.02508716657757759, -0.030183911323547363, -0.027779174968600273, 0.02363744005560875, -0.014607656747102737, 0.007215060293674469, -0.005611371248960495], [0.02638791874051094, -0.002004466950893402, 0.006238281726837158, -0.02508716657757759, -0.030183911323547363, -0.027779174968600273, 0.02363744005560875, -0.014607656747102737, 0.007215060293674469, -0.005611371248960495], [0.02638791874051094, -0.002004466950893402, 0.006238281726837158, -0.02508716657757759, -0.030183911323547363, -0.027779174968600273, 0.02363744005560875, -0.014607656747102737, 0.007215060293674469, -0.005611371248960495], [0.02638791874051094, -0.002004466950893402, 0.006238281726837158, -0.02508716657757759, -0.030183911323547363, -0.027779174968600273, 0.02363744005560875, -0.014607656747102737, 0.007215060293674469, -0.005611371248960495], [0.02638791874051094, -0.002004466950893402, 0.006238281726837158, -0.02508716657757759, -0.030183911323547363, -0.027779174968600273, 0.02363744005560875, -0.014607656747102737, 0.007215060293674469, -0.005611371248960495], [0.02638791874051094, -0.002004466950893402, 0.006238281726837158, -0.02508716657757759, -0.030183911323547363, -0.027779174968600273, 0.02363744005560875, -0.014607656747102737, 0.007215060293674469, -0.005611371248960495], [0.02638791874051094, -0.002004466950893402, 0.006238281726837158, -0.02508716657757759, -0.030183911323547363, -0.027779174968600273, 0.02363744005560875, -0.014607656747102737, 0.007215060293674469, -0.005611371248960495], [0.02638791874051094, -0.002004466950893402, 0.006238281726837158, -0.02508716657757759, -0.030183911323547363, -0.027779174968600273, 0.02363744005560875, -0.014607656747102737, 0.007215060293674469, -0.005611371248960495], [0.02638791874051094, -0.002004466950893402, 0.006238281726837158, -0.02508716657757759, -0.030183911323547363, -0.027779174968600273, 0.02363744005560875, -0.014607656747102737, 0.007215060293674469, -0.005611371248960495], [0.02638791874051094, -0.002004466950893402, 0.006238281726837158, -0.02508716657757759, -0.030183911323547363, -0.027779174968600273, 0.02363744005560875, -0.014607656747102737, 0.007215060293674469, -0.005611371248960495], [0.02638791874051094, -0.002004466950893402, 0.006238281726837158, -0.02508716657757759, -0.030183911323547363, -0.027779174968600273, 0.02363744005560875, -0.014607656747102737, 0.007215060293674469, -0.005611371248960495], [0.02638791874051094, -0.002004466950893402, 0.006238281726837158, -0.02508716657757759, -0.030183911323547363, -0.027779174968600273, 0.02363744005560875, -0.014607656747102737, 0.007215060293674469, -0.005611371248960495], [0.02638791874051094, -0.002004466950893402, 0.006238281726837158, -0.02508716657757759, -0.030183911323547363, -0.027779174968600273, 0.02363744005560875, -0.014607656747102737, 0.007215060293674469, -0.005611371248960495], [0.02638791874051094, -0.002004466950893402, 0.006238281726837158, -0.02508716657757759, -0.030183911323547363, -0.027779174968600273, 0.02363744005560875, -0.014607656747102737, 0.007215060293674469, -0.005611371248960495], [0.02638791874051094, -0.002004466950893402, 0.006238281726837158, -0.02508716657757759, -0.030183911323547363, -0.027779174968600273, 0.02363744005560875, -0.014607656747102737, 0.007215060293674469, -0.005611371248960495], [0.02638791874051094, -0.002004466950893402, 0.006238281726837158, -0.02508716657757759, -0.030183911323547363, -0.027779174968600273, 0.02363744005560875, -0.014607656747102737, 0.007215060293674469, -0.005611371248960495], [0.02638791874051094, -0.002004466950893402, 0.006238281726837158, -0.02508716657757759, -0.030183911323547363, -0.027779174968600273, 0.02363744005560875, -0.014607656747102737, 0.007215060293674469, -0.005611371248960495], [0.02638791874051094, -0.002004466950893402, 0.006238281726837158, -0.02508716657757759, -0.030183911323547363, -0.027779174968600273, 0.02363744005560875, -0.014607656747102737, 0.007215060293674469, -0.005611371248960495], [0.02638791874051094, -0.002004466950893402, 0.006238281726837158, -0.02508716657757759, -0.030183911323547363, -0.027779174968600273, 0.02363744005560875, -0.014607656747102737, 0.007215060293674469, -0.005611371248960495], [0.02638791874051094, -0.002004466950893402, 0.006238281726837158, -0.02508716657757759, -0.030183911323547363, -0.027779174968600273, 0.02363744005560875, -0.014607656747102737, 0.007215060293674469, -0.005611371248960495], [0.02638791874051094, -0.002004466950893402, 0.006238281726837158, -0.02508716657757759, -0.030183911323547363, -0.027779174968600273, 0.02363744005560875, -0.014607656747102737, 0.007215060293674469, -0.005611371248960495], [0.02638791874051094, -0.002004466950893402, 0.006238281726837158, -0.02508716657757759, -0.030183911323547363, -0.027779174968600273, 0.02363744005560875, -0.014607656747102737, 0.007215060293674469, -0.005611371248960495], [0.02638791874051094, -0.002004466950893402, 0.006238281726837158, -0.02508716657757759, -0.030183911323547363, -0.027779174968600273, 0.02363744005560875, -0.014607656747102737, 0.007215060293674469, -0.005611371248960495], [0.02638791874051094, -0.002004466950893402, 0.006238281726837158, -0.02508716657757759, -0.030183911323547363, -0.027779174968600273, 0.02363744005560875, -0.014607656747102737, 0.007215060293674469, -0.005611371248960495], [0.02638791874051094, -0.002004466950893402, 0.006238281726837158, -0.02508716657757759, -0.030183911323547363, -0.027779174968600273, 0.02363744005560875, -0.014607656747102737, 0.007215060293674469, -0.005611371248960495], [0.02638791874051094, -0.002004466950893402, 0.006238281726837158, -0.02508716657757759, -0.030183911323547363, -0.027779174968600273, 0.02363744005560875, -0.014607656747102737, 0.007215060293674469, -0.005611371248960495], [0.02638791874051094, -0.002004466950893402, 0.006238281726837158, -0.02508716657757759, -0.030183911323547363, -0.027779174968600273, 0.02363744005560875, -0.014607656747102737, 0.007215060293674469, -0.005611371248960495], [0.02638791874051094, -0.002004466950893402, 0.006238281726837158, -0.02508716657757759, -0.030183911323547363, -0.027779174968600273, 0.02363744005560875, -0.014607656747102737, 0.007215060293674469, -0.005611371248960495], [0.02638791874051094, -0.002004466950893402, 0.006238281726837158, -0.02508716657757759, -0.030183911323547363, -0.027779174968600273, 0.02363744005560875, -0.014607656747102737, 0.007215060293674469, -0.005611371248960495], [0.02638791874051094, -0.002004466950893402, 0.006238281726837158, -0.02508716657757759, -0.030183911323547363, -0.027779174968600273, 0.02363744005560875, -0.014607656747102737, 0.007215060293674469, -0.005611371248960495], [0.02638791874051094, -0.002004466950893402, 0.006238281726837158, -0.02508716657757759, -0.030183911323547363, -0.027779174968600273, 0.02363744005560875, -0.014607656747102737, 0.007215060293674469, -0.005611371248960495], [0.02638791874051094, -0.002004466950893402, 0.006238281726837158, -0.02508716657757759, -0.030183911323547363, -0.027779174968600273, 0.02363744005560875, -0.014607656747102737, 0.007215060293674469, -0.005611371248960495], [0.02638791874051094, -0.002004466950893402, 0.006238281726837158, -0.02508716657757759, -0.030183911323547363, -0.027779174968600273, 0.02363744005560875, -0.014607656747102737, 0.007215060293674469, -0.005611371248960495], [0.02638791874051094, -0.002004466950893402, 0.006238281726837158, -0.02508716657757759, -0.030183911323547363, -0.027779174968600273, 0.02363744005560875, -0.014607656747102737, 0.007215060293674469, -0.005611371248960495], [0.02638791874051094, -0.002004466950893402, 0.006238281726837158, -0.02508716657757759, -0.030183911323547363, -0.027779174968600273, 0.02363744005560875, -0.014607656747102737, 0.007215060293674469, -0.005611371248960495], [0.02638791874051094, -0.002004466950893402, 0.006238281726837158, -0.02508716657757759, -0.030183911323547363, -0.027779174968600273, 0.02363744005560875, -0.014607656747102737, 0.007215060293674469, -0.005611371248960495], [0.02638791874051094, -0.002004466950893402, 0.006238281726837158, -0.02508716657757759, -0.030183911323547363, -0.027779174968600273, 0.02363744005560875, -0.014607656747102737, 0.007215060293674469, -0.005611371248960495], [0.02638791874051094, -0.002004466950893402, 0.006238281726837158, -0.02508716657757759, -0.030183911323547363, -0.027779174968600273, 0.02363744005560875, -0.014607656747102737, 0.007215060293674469, -0.005611371248960495], [0.02638791874051094, -0.002004466950893402, 0.006238281726837158, -0.02508716657757759, -0.030183911323547363, -0.027779174968600273, 0.02363744005560875, -0.014607656747102737, 0.007215060293674469, -0.005611371248960495], [0.02638791874051094, -0.002004466950893402, 0.006238281726837158, -0.02508716657757759, -0.030183911323547363, -0.027779174968600273, 0.02363744005560875, -0.014607656747102737, 0.007215060293674469, -0.005611371248960495], [0.02638791874051094, -0.002004466950893402, 0.006238281726837158, -0.02508716657757759, -0.030183911323547363, -0.027779174968600273, 0.02363744005560875, -0.014607656747102737, 0.007215060293674469, -0.005611371248960495], [0.02638791874051094, -0.002004466950893402, 0.006238281726837158, -0.02508716657757759, -0.030183911323547363, -0.027779174968600273, 0.02363744005560875, -0.014607656747102737, 0.007215060293674469, -0.005611371248960495], [0.02638791874051094, -0.002004466950893402, 0.006238281726837158, -0.02508716657757759, -0.030183911323547363, -0.027779174968600273, 0.02363744005560875, -0.014607656747102737, 0.007215060293674469, -0.005611371248960495], [0.02638791874051094, -0.002004466950893402, 0.006238281726837158, -0.02508716657757759, -0.030183911323547363, -0.027779174968600273, 0.02363744005560875, -0.014607656747102737, 0.007215060293674469, -0.005611371248960495], [0.02638791874051094, -0.002004466950893402, 0.006238281726837158, -0.02508716657757759, -0.030183911323547363, -0.027779174968600273, 0.02363744005560875, -0.014607656747102737, 0.007215060293674469, -0.005611371248960495], [0.02638791874051094, -0.002004466950893402, 0.006238281726837158, -0.02508716657757759, -0.030183911323547363, -0.027779174968600273, 0.02363744005560875, -0.014607656747102737, 0.007215060293674469, -0.005611371248960495], [0.02638791874051094, -0.002004466950893402, 0.006238281726837158, -0.02508716657757759, -0.030183911323547363, -0.027779174968600273, 0.02363744005560875, -0.014607656747102737, 0.007215060293674469, -0.005611371248960495], [0.02638791874051094, -0.002004466950893402, 0.006238281726837158, -0.02508716657757759, -0.030183911323547363, -0.027779174968600273, 0.02363744005560875, -0.014607656747102737, 0.007215060293674469, -0.005611371248960495], [0.02638791874051094, -0.002004466950893402, 0.006238281726837158, -0.02508716657757759, -0.030183911323547363, -0.027779174968600273, 0.02363744005560875, -0.014607656747102737, 0.007215060293674469, -0.005611371248960495], [0.02638791874051094, -0.002004466950893402, 0.006238281726837158, -0.02508716657757759, -0.030183911323547363, -0.027779174968600273, 0.02363744005560875, -0.014607656747102737, 0.007215060293674469, -0.005611371248960495], [0.02638791874051094, -0.002004466950893402, 0.006238281726837158, -0.02508716657757759, -0.030183911323547363, -0.027779174968600273, 0.02363744005560875, -0.014607656747102737, 0.007215060293674469, -0.005611371248960495], [0.02638791874051094, -0.002004466950893402, 0.006238281726837158, -0.02508716657757759, -0.030183911323547363, -0.027779174968600273, 0.02363744005560875, -0.014607656747102737, 0.007215060293674469, -0.005611371248960495], [0.02638791874051094, -0.002004466950893402, 0.006238281726837158, -0.02508716657757759, -0.030183911323547363, -0.027779174968600273, 0.02363744005560875, -0.014607656747102737, 0.007215060293674469, -0.005611371248960495], [0.02638791874051094, -0.002004466950893402, 0.006238281726837158, -0.02508716657757759, -0.030183911323547363, -0.027779174968600273, 0.02363744005560875, -0.014607656747102737, 0.007215060293674469, -0.005611371248960495], [0.02638791874051094, -0.002004466950893402, 0.006238281726837158, -0.02508716657757759, -0.030183911323547363, -0.027779174968600273, 0.02363744005560875, -0.014607656747102737, 0.007215060293674469, -0.005611371248960495], [0.02638791874051094, -0.002004466950893402, 0.006238281726837158, -0.02508716657757759, -0.030183911323547363, -0.027779174968600273, 0.02363744005560875, -0.014607656747102737, 0.007215060293674469, -0.005611371248960495], [0.02638791874051094, -0.002004466950893402, 0.006238281726837158, -0.02508716657757759, -0.030183911323547363, -0.027779174968600273, 0.02363744005560875, -0.014607656747102737, 0.007215060293674469, -0.005611371248960495], [0.02638791874051094, -0.002004466950893402, 0.006238281726837158, -0.02508716657757759, -0.030183911323547363, -0.027779174968600273, 0.02363744005560875, -0.014607656747102737, 0.007215060293674469, -0.005611371248960495], [0.02638791874051094, -0.002004466950893402, 0.006238281726837158, -0.02508716657757759, -0.030183911323547363, -0.027779174968600273, 0.02363744005560875, -0.014607656747102737, 0.007215060293674469, -0.005611371248960495], [0.02638791874051094, -0.002004466950893402, 0.006238281726837158, -0.02508716657757759, -0.030183911323547363, -0.027779174968600273, 0.02363744005560875, -0.014607656747102737, 0.007215060293674469, -0.005611371248960495], [0.02638791874051094, -0.002004466950893402, 0.006238281726837158, -0.02508716657757759, -0.030183911323547363, -0.027779174968600273, 0.02363744005560875, -0.014607656747102737, 0.007215060293674469, -0.005611371248960495], [0.02638791874051094, -0.002004466950893402, 0.006238281726837158, -0.02508716657757759, -0.030183911323547363, -0.027779174968600273, 0.02363744005560875, -0.014607656747102737, 0.007215060293674469, -0.005611371248960495], [0.02638791874051094, -0.002004466950893402, 0.006238281726837158, -0.02508716657757759, -0.030183911323547363, -0.027779174968600273, 0.02363744005560875, -0.014607656747102737, 0.007215060293674469, -0.005611371248960495], [0.02638791874051094, -0.002004466950893402, 0.006238281726837158, -0.02508716657757759, -0.030183911323547363, -0.027779174968600273, 0.02363744005560875, -0.014607656747102737, 0.007215060293674469, -0.005611371248960495], [0.02638791874051094, -0.002004466950893402, 0.006238281726837158, -0.02508716657757759, -0.030183911323547363, -0.027779174968600273, 0.02363744005560875, -0.014607656747102737, 0.007215060293674469, -0.005611371248960495], [0.02638791874051094, -0.002004466950893402, 0.006238281726837158, -0.02508716657757759, -0.030183911323547363, -0.027779174968600273, 0.02363744005560875, -0.014607656747102737, 0.007215060293674469, -0.005611371248960495], [0.02638791874051094, -0.002004466950893402, 0.006238281726837158, -0.02508716657757759, -0.030183911323547363, -0.027779174968600273, 0.02363744005560875, -0.014607656747102737, 0.007215060293674469, -0.005611371248960495], [0.02638791874051094, -0.002004466950893402, 0.006238281726837158, -0.02508716657757759, -0.030183911323547363, -0.027779174968600273, 0.02363744005560875, -0.014607656747102737, 0.007215060293674469, -0.005611371248960495], [0.02638791874051094, -0.002004466950893402, 0.006238281726837158, -0.02508716657757759, -0.030183911323547363, -0.027779174968600273, 0.02363744005560875, -0.014607656747102737, 0.007215060293674469, -0.005611371248960495], [0.02638791874051094, -0.002004466950893402, 0.006238281726837158, -0.02508716657757759, -0.030183911323547363, -0.027779174968600273, 0.02363744005560875, -0.014607656747102737, 0.007215060293674469, -0.005611371248960495], [0.02638791874051094, -0.002004466950893402, 0.006238281726837158, -0.02508716657757759, -0.030183911323547363, -0.027779174968600273, 0.02363744005560875, -0.014607656747102737, 0.007215060293674469, -0.005611371248960495], [0.02638791874051094, -0.002004466950893402, 0.006238281726837158, -0.02508716657757759, -0.030183911323547363, -0.027779174968600273, 0.02363744005560875, -0.014607656747102737, 0.007215060293674469, -0.005611371248960495], [0.02638791874051094, -0.002004466950893402, 0.006238281726837158, -0.02508716657757759, -0.030183911323547363, -0.027779174968600273, 0.02363744005560875, -0.014607656747102737, 0.007215060293674469, -0.005611371248960495], [0.02638791874051094, -0.002004466950893402, 0.006238281726837158, -0.02508716657757759, -0.030183911323547363, -0.027779174968600273, 0.02363744005560875, -0.014607656747102737, 0.007215060293674469, -0.005611371248960495], [0.02638791874051094, -0.002004466950893402, 0.006238281726837158, -0.02508716657757759, -0.030183911323547363, -0.027779174968600273, 0.02363744005560875, -0.014607656747102737, 0.007215060293674469, -0.005611371248960495], [0.02638791874051094, -0.002004466950893402, 0.006238281726837158, -0.02508716657757759, -0.030183911323547363, -0.027779174968600273, 0.02363744005560875, -0.014607656747102737, 0.007215060293674469, -0.005611371248960495], [0.02638791874051094, -0.002004466950893402, 0.006238281726837158, -0.02508716657757759, -0.030183911323547363, -0.027779174968600273, 0.02363744005560875, -0.014607656747102737, 0.007215060293674469, -0.005611371248960495], [0.02638791874051094, -0.002004466950893402, 0.006238281726837158, -0.02508716657757759, -0.030183911323547363, -0.027779174968600273, 0.02363744005560875, -0.014607656747102737, 0.007215060293674469, -0.005611371248960495], [0.02638791874051094, -0.002004466950893402, 0.006238281726837158, -0.02508716657757759, -0.030183911323547363, -0.027779174968600273, 0.02363744005560875, -0.014607656747102737, 0.007215060293674469, -0.005611371248960495], [0.02638791874051094, -0.002004466950893402, 0.006238281726837158, -0.02508716657757759, -0.030183911323547363, -0.027779174968600273, 0.02363744005560875, -0.014607656747102737, 0.007215060293674469, -0.005611371248960495], [0.02638791874051094, -0.002004466950893402, 0.006238281726837158, -0.02508716657757759, -0.030183911323547363, -0.027779174968600273, 0.02363744005560875, -0.014607656747102737, 0.007215060293674469, -0.005611371248960495], [0.02638791874051094, -0.002004466950893402, 0.006238281726837158, -0.02508716657757759, -0.030183911323547363, -0.027779174968600273, 0.02363744005560875, -0.014607656747102737, 0.007215060293674469, -0.005611371248960495], [0.02638791874051094, -0.002004466950893402, 0.006238281726837158, -0.02508716657757759, -0.030183911323547363, -0.027779174968600273, 0.02363744005560875, -0.014607656747102737, 0.007215060293674469, -0.005611371248960495], [0.02638791874051094, -0.002004466950893402, 0.006238281726837158, -0.02508716657757759, -0.030183911323547363, -0.027779174968600273, 0.02363744005560875, -0.014607656747102737, 0.007215060293674469, -0.005611371248960495], [0.02638791874051094, -0.002004466950893402, 0.006238281726837158, -0.02508716657757759, -0.030183911323547363, -0.027779174968600273, 0.02363744005560875, -0.014607656747102737, 0.007215060293674469, -0.005611371248960495], [0.02638791874051094, -0.002004466950893402, 0.006238281726837158, -0.02508716657757759, -0.030183911323547363, -0.027779174968600273, 0.02363744005560875, -0.014607656747102737, 0.007215060293674469, -0.005611371248960495], [0.02638791874051094, -0.002004466950893402, 0.006238281726837158, -0.02508716657757759, -0.030183911323547363, -0.027779174968600273, 0.02363744005560875, -0.014607656747102737, 0.007215060293674469, -0.005611371248960495], [0.02638791874051094, -0.002004466950893402, 0.006238281726837158, -0.02508716657757759, -0.030183911323547363, -0.027779174968600273, 0.02363744005560875, -0.014607656747102737, 0.007215060293674469, -0.005611371248960495], [0.02638791874051094, -0.002004466950893402, 0.006238281726837158, -0.02508716657757759, -0.030183911323547363, -0.027779174968600273, 0.02363744005560875, -0.014607656747102737, 0.007215060293674469, -0.005611371248960495], [0.02638791874051094, -0.002004466950893402, 0.006238281726837158, -0.02508716657757759, -0.030183911323547363, -0.027779174968600273, 0.02363744005560875, -0.014607656747102737, 0.007215060293674469, -0.005611371248960495], [0.02638791874051094, -0.002004466950893402, 0.006238281726837158, -0.02508716657757759, -0.030183911323547363, -0.027779174968600273, 0.02363744005560875, -0.014607656747102737, 0.007215060293674469, -0.005611371248960495], [0.02638791874051094, -0.002004466950893402, 0.006238281726837158, -0.02508716657757759, -0.030183911323547363, -0.027779174968600273, 0.02363744005560875, -0.014607656747102737, 0.007215060293674469, -0.005611371248960495], [0.02638791874051094, -0.002004466950893402, 0.006238281726837158, -0.02508716657757759, -0.030183911323547363, -0.027779174968600273, 0.02363744005560875, -0.014607656747102737, 0.007215060293674469, -0.005611371248960495], [0.02638791874051094, -0.002004466950893402, 0.006238281726837158, -0.02508716657757759, -0.030183911323547363, -0.027779174968600273, 0.02363744005560875, -0.014607656747102737, 0.007215060293674469, -0.005611371248960495], [0.02638791874051094, -0.002004466950893402, 0.006238281726837158, -0.02508716657757759, -0.030183911323547363, -0.027779174968600273, 0.02363744005560875, -0.014607656747102737, 0.007215060293674469, -0.005611371248960495], [0.02638791874051094, -0.002004466950893402, 0.006238281726837158, -0.02508716657757759, -0.030183911323547363, -0.027779174968600273, 0.02363744005560875, -0.014607656747102737, 0.007215060293674469, -0.005611371248960495], [0.02638791874051094, -0.002004466950893402, 0.006238281726837158, -0.02508716657757759, -0.030183911323547363, -0.027779174968600273, 0.02363744005560875, -0.014607656747102737, 0.007215060293674469, -0.005611371248960495], [0.02638791874051094, -0.002004466950893402, 0.006238281726837158, -0.02508716657757759, -0.030183911323547363, -0.027779174968600273, 0.02363744005560875, -0.014607656747102737, 0.007215060293674469, -0.005611371248960495], [0.02638791874051094, -0.002004466950893402, 0.006238281726837158, -0.02508716657757759, -0.030183911323547363, -0.027779174968600273, 0.02363744005560875, -0.014607656747102737, 0.007215060293674469, -0.005611371248960495], [0.02638791874051094, -0.002004466950893402, 0.006238281726837158, -0.02508716657757759, -0.030183911323547363, -0.027779174968600273, 0.02363744005560875, -0.014607656747102737, 0.007215060293674469, -0.005611371248960495], [0.02638791874051094, -0.002004466950893402, 0.006238281726837158, -0.02508716657757759, -0.030183911323547363, -0.027779174968600273, 0.02363744005560875, -0.014607656747102737, 0.007215060293674469, -0.005611371248960495], [0.02638791874051094, -0.002004466950893402, 0.006238281726837158, -0.02508716657757759, -0.030183911323547363, -0.027779174968600273, 0.02363744005560875, -0.014607656747102737, 0.007215060293674469, -0.005611371248960495], [0.02638791874051094, -0.002004466950893402, 0.006238281726837158, -0.02508716657757759, -0.030183911323547363, -0.027779174968600273, 0.02363744005560875, -0.014607656747102737, 0.007215060293674469, -0.005611371248960495], [0.02638791874051094, -0.002004466950893402, 0.006238281726837158, -0.02508716657757759, -0.030183911323547363, -0.027779174968600273, 0.02363744005560875, -0.014607656747102737, 0.007215060293674469, -0.005611371248960495], [0.02638791874051094, -0.002004466950893402, 0.006238281726837158, -0.02508716657757759, -0.030183911323547363, -0.027779174968600273, 0.02363744005560875, -0.014607656747102737, 0.007215060293674469, -0.005611371248960495], [0.02638791874051094, -0.002004466950893402, 0.006238281726837158, -0.02508716657757759, -0.030183911323547363, -0.027779174968600273, 0.02363744005560875, -0.014607656747102737, 0.007215060293674469, -0.005611371248960495], [0.02638791874051094, -0.002004466950893402, 0.006238281726837158, -0.02508716657757759, -0.030183911323547363, -0.027779174968600273, 0.02363744005560875, -0.014607656747102737, 0.007215060293674469, -0.005611371248960495], [0.02638791874051094, -0.002004466950893402, 0.006238281726837158, -0.02508716657757759, -0.030183911323547363, -0.027779174968600273, 0.02363744005560875, -0.014607656747102737, 0.007215060293674469, -0.005611371248960495], [0.02638791874051094, -0.002004466950893402, 0.006238281726837158, -0.02508716657757759, -0.030183911323547363, -0.027779174968600273, 0.02363744005560875, -0.014607656747102737, 0.007215060293674469, -0.005611371248960495], [0.02638791874051094, -0.002004466950893402, 0.006238281726837158, -0.02508716657757759, -0.030183911323547363, -0.027779174968600273, 0.02363744005560875, -0.014607656747102737, 0.007215060293674469, -0.005611371248960495], [0.02638791874051094, -0.002004466950893402, 0.006238281726837158, -0.02508716657757759, -0.030183911323547363, -0.027779174968600273, 0.02363744005560875, -0.014607656747102737, 0.007215060293674469, -0.005611371248960495], [0.02638791874051094, -0.002004466950893402, 0.006238281726837158, -0.02508716657757759, -0.030183911323547363, -0.027779174968600273, 0.02363744005560875, -0.014607656747102737, 0.007215060293674469, -0.005611371248960495], [0.02638791874051094, -0.002004466950893402, 0.006238281726837158, -0.02508716657757759, -0.030183911323547363, -0.027779174968600273, 0.02363744005560875, -0.014607656747102737, 0.007215060293674469, -0.005611371248960495], [0.02638791874051094, -0.002004466950893402, 0.006238281726837158, -0.02508716657757759, -0.030183911323547363, -0.027779174968600273, 0.02363744005560875, -0.014607656747102737, 0.007215060293674469, -0.005611371248960495], [0.02638791874051094, -0.002004466950893402, 0.006238281726837158, -0.02508716657757759, -0.030183911323547363, -0.027779174968600273, 0.02363744005560875, -0.014607656747102737, 0.007215060293674469, -0.005611371248960495], [0.02638791874051094, -0.002004466950893402, 0.006238281726837158, -0.02508716657757759, -0.030183911323547363, -0.027779174968600273, 0.02363744005560875, -0.014607656747102737, 0.007215060293674469, -0.005611371248960495], [0.02638791874051094, -0.002004466950893402, 0.006238281726837158, -0.02508716657757759, -0.030183911323547363, -0.027779174968600273, 0.02363744005560875, -0.014607656747102737, 0.007215060293674469, -0.005611371248960495], [0.02638791874051094, -0.002004466950893402, 0.006238281726837158, -0.02508716657757759, -0.030183911323547363, -0.027779174968600273, 0.02363744005560875, -0.014607656747102737, 0.007215060293674469, -0.005611371248960495], [0.02638791874051094, -0.002004466950893402, 0.006238281726837158, -0.02508716657757759, -0.030183911323547363, -0.027779174968600273, 0.02363744005560875, -0.014607656747102737, 0.007215060293674469, -0.005611371248960495], [0.02638791874051094, -0.002004466950893402, 0.006238281726837158, -0.02508716657757759, -0.030183911323547363, -0.027779174968600273, 0.02363744005560875, -0.014607656747102737, 0.007215060293674469, -0.005611371248960495], [0.02638791874051094, -0.002004466950893402, 0.006238281726837158, -0.02508716657757759, -0.030183911323547363, -0.027779174968600273, 0.02363744005560875, -0.014607656747102737, 0.007215060293674469, -0.005611371248960495], [0.02638791874051094, -0.002004466950893402, 0.006238281726837158, -0.02508716657757759, -0.030183911323547363, -0.027779174968600273, 0.02363744005560875, -0.014607656747102737, 0.007215060293674469, -0.005611371248960495], [0.02638791874051094, -0.002004466950893402, 0.006238281726837158, -0.02508716657757759, -0.030183911323547363, -0.027779174968600273, 0.02363744005560875, -0.014607656747102737, 0.007215060293674469, -0.005611371248960495], [0.02638791874051094, -0.002004466950893402, 0.006238281726837158, -0.02508716657757759, -0.030183911323547363, -0.027779174968600273, 0.02363744005560875, -0.014607656747102737, 0.007215060293674469, -0.005611371248960495], [0.02638791874051094, -0.002004466950893402, 0.006238281726837158, -0.02508716657757759, -0.030183911323547363, -0.027779174968600273, 0.02363744005560875, -0.014607656747102737, 0.007215060293674469, -0.005611371248960495], [0.02638791874051094, -0.002004466950893402, 0.006238281726837158, -0.02508716657757759, -0.030183911323547363, -0.027779174968600273, 0.02363744005560875, -0.014607656747102737, 0.007215060293674469, -0.005611371248960495], [0.02638791874051094, -0.002004466950893402, 0.006238281726837158, -0.02508716657757759, -0.030183911323547363, -0.027779174968600273, 0.02363744005560875, -0.014607656747102737, 0.007215060293674469, -0.005611371248960495], [0.02638791874051094, -0.002004466950893402, 0.006238281726837158, -0.02508716657757759, -0.030183911323547363, -0.027779174968600273, 0.02363744005560875, -0.014607656747102737, 0.007215060293674469, -0.005611371248960495], [0.02638791874051094, -0.002004466950893402, 0.006238281726837158, -0.02508716657757759, -0.030183911323547363, -0.027779174968600273, 0.02363744005560875, -0.014607656747102737, 0.007215060293674469, -0.005611371248960495], [0.02638791874051094, -0.002004466950893402, 0.006238281726837158, -0.02508716657757759, -0.030183911323547363, -0.027779174968600273, 0.02363744005560875, -0.014607656747102737, 0.007215060293674469, -0.005611371248960495], [0.02638791874051094, -0.002004466950893402, 0.006238281726837158, -0.02508716657757759, -0.030183911323547363, -0.027779174968600273, 0.02363744005560875, -0.014607656747102737, 0.007215060293674469, -0.005611371248960495], [0.02638791874051094, -0.002004466950893402, 0.006238281726837158, -0.02508716657757759, -0.030183911323547363, -0.027779174968600273, 0.02363744005560875, -0.014607656747102737, 0.007215060293674469, -0.005611371248960495], [0.02638791874051094, -0.002004466950893402, 0.006238281726837158, -0.02508716657757759, -0.030183911323547363, -0.027779174968600273, 0.02363744005560875, -0.014607656747102737, 0.007215060293674469, -0.005611371248960495], [0.02638791874051094, -0.002004466950893402, 0.006238281726837158, -0.02508716657757759, -0.030183911323547363, -0.027779174968600273, 0.02363744005560875, -0.014607656747102737, 0.007215060293674469, -0.005611371248960495], [0.02638791874051094, -0.002004466950893402, 0.006238281726837158, -0.02508716657757759, -0.030183911323547363, -0.027779174968600273, 0.02363744005560875, -0.014607656747102737, 0.007215060293674469, -0.005611371248960495], [0.02638791874051094, -0.002004466950893402, 0.006238281726837158, -0.02508716657757759, -0.030183911323547363, -0.027779174968600273, 0.02363744005560875, -0.014607656747102737, 0.007215060293674469, -0.005611371248960495], [0.02638791874051094, -0.002004466950893402, 0.006238281726837158, -0.02508716657757759, -0.030183911323547363, -0.027779174968600273, 0.02363744005560875, -0.014607656747102737, 0.007215060293674469, -0.005611371248960495], [0.02638791874051094, -0.002004466950893402, 0.006238281726837158, -0.02508716657757759, -0.030183911323547363, -0.027779174968600273, 0.02363744005560875, -0.014607656747102737, 0.007215060293674469, -0.005611371248960495], [0.02638791874051094, -0.002004466950893402, 0.006238281726837158, -0.02508716657757759, -0.030183911323547363, -0.027779174968600273, 0.02363744005560875, -0.014607656747102737, 0.007215060293674469, -0.005611371248960495], [0.02638791874051094, -0.002004466950893402, 0.006238281726837158, -0.02508716657757759, -0.030183911323547363, -0.027779174968600273, 0.02363744005560875, -0.014607656747102737, 0.007215060293674469, -0.005611371248960495], [0.02638791874051094, -0.002004466950893402, 0.006238281726837158, -0.02508716657757759, -0.030183911323547363, -0.027779174968600273, 0.02363744005560875, -0.014607656747102737, 0.007215060293674469, -0.005611371248960495], [0.02638791874051094, -0.002004466950893402, 0.006238281726837158, -0.02508716657757759, -0.030183911323547363, -0.027779174968600273, 0.02363744005560875, -0.014607656747102737, 0.007215060293674469, -0.005611371248960495], [0.02638791874051094, -0.002004466950893402, 0.006238281726837158, -0.02508716657757759, -0.030183911323547363, -0.027779174968600273, 0.02363744005560875, -0.014607656747102737, 0.007215060293674469, -0.005611371248960495], [0.02638791874051094, -0.002004466950893402, 0.006238281726837158, -0.02508716657757759, -0.030183911323547363, -0.027779174968600273, 0.02363744005560875, -0.014607656747102737, 0.007215060293674469, -0.005611371248960495], [0.02638791874051094, -0.002004466950893402, 0.006238281726837158, -0.02508716657757759, -0.030183911323547363, -0.027779174968600273, 0.02363744005560875, -0.014607656747102737, 0.007215060293674469, -0.005611371248960495], [0.02638791874051094, -0.002004466950893402, 0.006238281726837158, -0.02508716657757759, -0.030183911323547363, -0.027779174968600273, 0.02363744005560875, -0.014607656747102737, 0.007215060293674469, -0.005611371248960495], [0.02638791874051094, -0.002004466950893402, 0.006238281726837158, -0.02508716657757759, -0.030183911323547363, -0.027779174968600273, 0.02363744005560875, -0.014607656747102737, 0.007215060293674469, -0.005611371248960495], [0.02638791874051094, -0.002004466950893402, 0.006238281726837158, -0.02508716657757759, -0.030183911323547363, -0.027779174968600273, 0.02363744005560875, -0.014607656747102737, 0.007215060293674469, -0.005611371248960495], [0.02638791874051094, -0.002004466950893402, 0.006238281726837158, -0.02508716657757759, -0.030183911323547363, -0.027779174968600273, 0.02363744005560875, -0.014607656747102737, 0.007215060293674469, -0.005611371248960495], [0.02638791874051094, -0.002004466950893402, 0.006238281726837158, -0.02508716657757759, -0.030183911323547363, -0.027779174968600273, 0.02363744005560875, -0.014607656747102737, 0.007215060293674469, -0.005611371248960495], [0.02638791874051094, -0.002004466950893402, 0.006238281726837158, -0.02508716657757759, -0.030183911323547363, -0.027779174968600273, 0.02363744005560875, -0.014607656747102737, 0.007215060293674469, -0.005611371248960495], [0.02638791874051094, -0.002004466950893402, 0.006238281726837158, -0.02508716657757759, -0.030183911323547363, -0.027779174968600273, 0.02363744005560875, -0.014607656747102737, 0.007215060293674469, -0.005611371248960495], [0.02638791874051094, -0.002004466950893402, 0.006238281726837158, -0.02508716657757759, -0.030183911323547363, -0.027779174968600273, 0.02363744005560875, -0.014607656747102737, 0.007215060293674469, -0.005611371248960495], [0.02638791874051094, -0.002004466950893402, 0.006238281726837158, -0.02508716657757759, -0.030183911323547363, -0.027779174968600273, 0.02363744005560875, -0.014607656747102737, 0.007215060293674469, -0.005611371248960495], [0.02638791874051094, -0.002004466950893402, 0.006238281726837158, -0.02508716657757759, -0.030183911323547363, -0.027779174968600273, 0.02363744005560875, -0.014607656747102737, 0.007215060293674469, -0.005611371248960495], [0.02638791874051094, -0.002004466950893402, 0.006238281726837158, -0.02508716657757759, -0.030183911323547363, -0.027779174968600273, 0.02363744005560875, -0.014607656747102737, 0.007215060293674469, -0.005611371248960495], [0.02638791874051094, -0.002004466950893402, 0.006238281726837158, -0.02508716657757759, -0.030183911323547363, -0.027779174968600273, 0.02363744005560875, -0.014607656747102737, 0.007215060293674469, -0.005611371248960495], [0.02638791874051094, -0.002004466950893402, 0.006238281726837158, -0.02508716657757759, -0.030183911323547363, -0.027779174968600273, 0.02363744005560875, -0.014607656747102737, 0.007215060293674469, -0.005611371248960495], [0.02638791874051094, -0.002004466950893402, 0.006238281726837158, -0.02508716657757759, -0.030183911323547363, -0.027779174968600273, 0.02363744005560875, -0.014607656747102737, 0.007215060293674469, -0.005611371248960495], [0.02638791874051094, -0.002004466950893402, 0.006238281726837158, -0.02508716657757759, -0.030183911323547363, -0.027779174968600273, 0.02363744005560875, -0.014607656747102737, 0.007215060293674469, -0.005611371248960495], [0.02638791874051094, -0.002004466950893402, 0.006238281726837158, -0.02508716657757759, -0.030183911323547363, -0.027779174968600273, 0.02363744005560875, -0.014607656747102737, 0.007215060293674469, -0.005611371248960495], [0.02638791874051094, -0.002004466950893402, 0.006238281726837158, -0.02508716657757759, -0.030183911323547363, -0.027779174968600273, 0.02363744005560875, -0.014607656747102737, 0.007215060293674469, -0.005611371248960495], [0.02638791874051094, -0.002004466950893402, 0.006238281726837158, -0.02508716657757759, -0.030183911323547363, -0.027779174968600273, 0.02363744005560875, -0.014607656747102737, 0.007215060293674469, -0.005611371248960495], [0.02638791874051094, -0.002004466950893402, 0.006238281726837158, -0.02508716657757759, -0.030183911323547363, -0.027779174968600273, 0.02363744005560875, -0.014607656747102737, 0.007215060293674469, -0.005611371248960495], [0.02638791874051094, -0.002004466950893402, 0.006238281726837158, -0.02508716657757759, -0.030183911323547363, -0.027779174968600273, 0.02363744005560875, -0.014607656747102737, 0.007215060293674469, -0.005611371248960495], [0.02638791874051094, -0.002004466950893402, 0.006238281726837158, -0.02508716657757759, -0.030183911323547363, -0.027779174968600273, 0.02363744005560875, -0.014607656747102737, 0.007215060293674469, -0.005611371248960495], [0.02638791874051094, -0.002004466950893402, 0.006238281726837158, -0.02508716657757759, -0.030183911323547363, -0.027779174968600273, 0.02363744005560875, -0.014607656747102737, 0.007215060293674469, -0.005611371248960495], [0.02638791874051094, -0.002004466950893402, 0.006238281726837158, -0.02508716657757759, -0.030183911323547363, -0.027779174968600273, 0.02363744005560875, -0.014607656747102737, 0.007215060293674469, -0.005611371248960495], [0.02638791874051094, -0.002004466950893402, 0.006238281726837158, -0.02508716657757759, -0.030183911323547363, -0.027779174968600273, 0.02363744005560875, -0.014607656747102737, 0.007215060293674469, -0.005611371248960495], [0.02638791874051094, -0.002004466950893402, 0.006238281726837158, -0.02508716657757759, -0.030183911323547363, -0.027779174968600273, 0.02363744005560875, -0.014607656747102737, 0.007215060293674469, -0.005611371248960495], [0.02638791874051094, -0.002004466950893402, 0.006238281726837158, -0.02508716657757759, -0.030183911323547363, -0.027779174968600273, 0.02363744005560875, -0.014607656747102737, 0.007215060293674469, -0.005611371248960495], [0.02638791874051094, -0.002004466950893402, 0.006238281726837158, -0.02508716657757759, -0.030183911323547363, -0.027779174968600273, 0.02363744005560875, -0.014607656747102737, 0.007215060293674469, -0.005611371248960495], [0.02638791874051094, -0.002004466950893402, 0.006238281726837158, -0.02508716657757759, -0.030183911323547363, -0.027779174968600273, 0.02363744005560875, -0.014607656747102737, 0.007215060293674469, -0.005611371248960495], [0.02638791874051094, -0.002004466950893402, 0.006238281726837158, -0.02508716657757759, -0.030183911323547363, -0.027779174968600273, 0.02363744005560875, -0.014607656747102737, 0.007215060293674469, -0.005611371248960495], [0.02638791874051094, -0.002004466950893402, 0.006238281726837158, -0.02508716657757759, -0.030183911323547363, -0.027779174968600273, 0.02363744005560875, -0.014607656747102737, 0.007215060293674469, -0.005611371248960495], [0.02638791874051094, -0.002004466950893402, 0.006238281726837158, -0.02508716657757759, -0.030183911323547363, -0.027779174968600273, 0.02363744005560875, -0.014607656747102737, 0.007215060293674469, -0.005611371248960495], [0.02638791874051094, -0.002004466950893402, 0.006238281726837158, -0.02508716657757759, -0.030183911323547363, -0.027779174968600273, 0.02363744005560875, -0.014607656747102737, 0.007215060293674469, -0.005611371248960495], [0.02638791874051094, -0.002004466950893402, 0.006238281726837158, -0.02508716657757759, -0.030183911323547363, -0.027779174968600273, 0.02363744005560875, -0.014607656747102737, 0.007215060293674469, -0.005611371248960495], [0.02638791874051094, -0.002004466950893402, 0.006238281726837158, -0.02508716657757759, -0.030183911323547363, -0.027779174968600273, 0.02363744005560875, -0.014607656747102737, 0.007215060293674469, -0.005611371248960495], [0.02638791874051094, -0.002004466950893402, 0.006238281726837158, -0.02508716657757759, -0.030183911323547363, -0.027779174968600273, 0.02363744005560875, -0.014607656747102737, 0.007215060293674469, -0.005611371248960495], [0.02638791874051094, -0.002004466950893402, 0.006238281726837158, -0.02508716657757759, -0.030183911323547363, -0.027779174968600273, 0.02363744005560875, -0.014607656747102737, 0.007215060293674469, -0.005611371248960495], [0.02638791874051094, -0.002004466950893402, 0.006238281726837158, -0.02508716657757759, -0.030183911323547363, -0.027779174968600273, 0.02363744005560875, -0.014607656747102737, 0.007215060293674469, -0.005611371248960495], [0.02638791874051094, -0.002004466950893402, 0.006238281726837158, -0.02508716657757759, -0.030183911323547363, -0.027779174968600273, 0.02363744005560875, -0.014607656747102737, 0.007215060293674469, -0.005611371248960495], [0.02638791874051094, -0.002004466950893402, 0.006238281726837158, -0.02508716657757759, -0.030183911323547363, -0.027779174968600273, 0.02363744005560875, -0.014607656747102737, 0.007215060293674469, -0.005611371248960495], [0.02638791874051094, -0.002004466950893402, 0.006238281726837158, -0.02508716657757759, -0.030183911323547363, -0.027779174968600273, 0.02363744005560875, -0.014607656747102737, 0.007215060293674469, -0.005611371248960495], [0.02638791874051094, -0.002004466950893402, 0.006238281726837158, -0.02508716657757759, -0.030183911323547363, -0.027779174968600273, 0.02363744005560875, -0.014607656747102737, 0.007215060293674469, -0.005611371248960495], [0.02638791874051094, -0.002004466950893402, 0.006238281726837158, -0.02508716657757759, -0.030183911323547363, -0.027779174968600273, 0.02363744005560875, -0.014607656747102737, 0.007215060293674469, -0.005611371248960495], [0.02638791874051094, -0.002004466950893402, 0.006238281726837158, -0.02508716657757759, -0.030183911323547363, -0.027779174968600273, 0.02363744005560875, -0.014607656747102737, 0.007215060293674469, -0.005611371248960495], [0.02638791874051094, -0.002004466950893402, 0.006238281726837158, -0.02508716657757759, -0.030183911323547363, -0.027779174968600273, 0.02363744005560875, -0.014607656747102737, 0.007215060293674469, -0.005611371248960495], [0.02638791874051094, -0.002004466950893402, 0.006238281726837158, -0.02508716657757759, -0.030183911323547363, -0.027779174968600273, 0.02363744005560875, -0.014607656747102737, 0.007215060293674469, -0.005611371248960495], [0.02638791874051094, -0.002004466950893402, 0.006238281726837158, -0.02508716657757759, -0.030183911323547363, -0.027779174968600273, 0.02363744005560875, -0.014607656747102737, 0.007215060293674469, -0.005611371248960495], [0.02638791874051094, -0.002004466950893402, 0.006238281726837158, -0.02508716657757759, -0.030183911323547363, -0.027779174968600273, 0.02363744005560875, -0.014607656747102737, 0.007215060293674469, -0.005611371248960495], [0.02638791874051094, -0.002004466950893402, 0.006238281726837158, -0.02508716657757759, -0.030183911323547363, -0.027779174968600273, 0.02363744005560875, -0.014607656747102737, 0.007215060293674469, -0.005611371248960495], [0.02638791874051094, -0.002004466950893402, 0.006238281726837158, -0.02508716657757759, -0.030183911323547363, -0.027779174968600273, 0.02363744005560875, -0.014607656747102737, 0.007215060293674469, -0.005611371248960495], [0.02638791874051094, -0.002004466950893402, 0.006238281726837158, -0.02508716657757759, -0.030183911323547363, -0.027779174968600273, 0.02363744005560875, -0.014607656747102737, 0.007215060293674469, -0.005611371248960495], [0.02638791874051094, -0.002004466950893402, 0.006238281726837158, -0.02508716657757759, -0.030183911323547363, -0.027779174968600273, 0.02363744005560875, -0.014607656747102737, 0.007215060293674469, -0.005611371248960495], [0.02638791874051094, -0.002004466950893402, 0.006238281726837158, -0.02508716657757759, -0.030183911323547363, -0.027779174968600273, 0.02363744005560875, -0.014607656747102737, 0.007215060293674469, -0.005611371248960495], [0.02638791874051094, -0.002004466950893402, 0.006238281726837158, -0.02508716657757759, -0.030183911323547363, -0.027779174968600273, 0.02363744005560875, -0.014607656747102737, 0.007215060293674469, -0.005611371248960495], [0.02638791874051094, -0.002004466950893402, 0.006238281726837158, -0.02508716657757759, -0.030183911323547363, -0.027779174968600273, 0.02363744005560875, -0.014607656747102737, 0.007215060293674469, -0.005611371248960495], [0.02638791874051094, -0.002004466950893402, 0.006238281726837158, -0.02508716657757759, -0.030183911323547363, -0.027779174968600273, 0.02363744005560875, -0.014607656747102737, 0.007215060293674469, -0.005611371248960495], [0.02638791874051094, -0.002004466950893402, 0.006238281726837158, -0.02508716657757759, -0.030183911323547363, -0.027779174968600273, 0.02363744005560875, -0.014607656747102737, 0.007215060293674469, -0.005611371248960495], [0.02638791874051094, -0.002004466950893402, 0.006238281726837158, -0.02508716657757759, -0.030183911323547363, -0.027779174968600273, 0.02363744005560875, -0.014607656747102737, 0.007215060293674469, -0.005611371248960495], [0.02638791874051094, -0.002004466950893402, 0.006238281726837158, -0.02508716657757759, -0.030183911323547363, -0.027779174968600273, 0.02363744005560875, -0.014607656747102737, 0.007215060293674469, -0.005611371248960495], [0.02638791874051094, -0.002004466950893402, 0.006238281726837158, -0.02508716657757759, -0.030183911323547363, -0.027779174968600273, 0.02363744005560875, -0.014607656747102737, 0.007215060293674469, -0.005611371248960495], [0.02638791874051094, -0.002004466950893402, 0.006238281726837158, -0.02508716657757759, -0.030183911323547363, -0.027779174968600273, 0.02363744005560875, -0.014607656747102737, 0.007215060293674469, -0.005611371248960495], [0.02638791874051094, -0.002004466950893402, 0.006238281726837158, -0.02508716657757759, -0.030183911323547363, -0.027779174968600273, 0.02363744005560875, -0.014607656747102737, 0.007215060293674469, -0.005611371248960495], [0.02638791874051094, -0.002004466950893402, 0.006238281726837158, -0.02508716657757759, -0.030183911323547363, -0.027779174968600273, 0.02363744005560875, -0.014607656747102737, 0.007215060293674469, -0.005611371248960495], [0.02638791874051094, -0.002004466950893402, 0.006238281726837158, -0.02508716657757759, -0.030183911323547363, -0.027779174968600273, 0.02363744005560875, -0.014607656747102737, 0.007215060293674469, -0.005611371248960495], [0.02638791874051094, -0.002004466950893402, 0.006238281726837158, -0.02508716657757759, -0.030183911323547363, -0.027779174968600273, 0.02363744005560875, -0.014607656747102737, 0.007215060293674469, -0.005611371248960495], [0.02638791874051094, -0.002004466950893402, 0.006238281726837158, -0.02508716657757759, -0.030183911323547363, -0.027779174968600273, 0.02363744005560875, -0.014607656747102737, 0.007215060293674469, -0.005611371248960495], [0.02638791874051094, -0.002004466950893402, 0.006238281726837158, -0.02508716657757759, -0.030183911323547363, -0.027779174968600273, 0.02363744005560875, -0.014607656747102737, 0.007215060293674469, -0.005611371248960495], [0.02638791874051094, -0.002004466950893402, 0.006238281726837158, -0.02508716657757759, -0.030183911323547363, -0.027779174968600273, 0.02363744005560875, -0.014607656747102737, 0.007215060293674469, -0.005611371248960495], [0.02638791874051094, -0.002004466950893402, 0.006238281726837158, -0.02508716657757759, -0.030183911323547363, -0.027779174968600273, 0.02363744005560875, -0.014607656747102737, 0.007215060293674469, -0.005611371248960495], [0.02638791874051094, -0.002004466950893402, 0.006238281726837158, -0.02508716657757759, -0.030183911323547363, -0.027779174968600273, 0.02363744005560875, -0.014607656747102737, 0.007215060293674469, -0.005611371248960495], [0.02638791874051094, -0.002004466950893402, 0.006238281726837158, -0.02508716657757759, -0.030183911323547363, -0.027779174968600273, 0.02363744005560875, -0.014607656747102737, 0.007215060293674469, -0.005611371248960495], [0.02638791874051094, -0.002004466950893402, 0.006238281726837158, -0.02508716657757759, -0.030183911323547363, -0.027779174968600273, 0.02363744005560875, -0.014607656747102737, 0.007215060293674469, -0.005611371248960495], [0.02638791874051094, -0.002004466950893402, 0.006238281726837158, -0.02508716657757759, -0.030183911323547363, -0.027779174968600273, 0.02363744005560875, -0.014607656747102737, 0.007215060293674469, -0.005611371248960495], [0.02638791874051094, -0.002004466950893402, 0.006238281726837158, -0.02508716657757759, -0.030183911323547363, -0.027779174968600273, 0.02363744005560875, -0.014607656747102737, 0.007215060293674469, -0.005611371248960495], [0.02638791874051094, -0.002004466950893402, 0.006238281726837158, -0.02508716657757759, -0.030183911323547363, -0.027779174968600273, 0.02363744005560875, -0.014607656747102737, 0.007215060293674469, -0.005611371248960495], [0.02638791874051094, -0.002004466950893402, 0.006238281726837158, -0.02508716657757759, -0.030183911323547363, -0.027779174968600273, 0.02363744005560875, -0.014607656747102737, 0.007215060293674469, -0.005611371248960495], [0.02638791874051094, -0.002004466950893402, 0.006238281726837158, -0.02508716657757759, -0.030183911323547363, -0.027779174968600273, 0.02363744005560875, -0.014607656747102737, 0.007215060293674469, -0.005611371248960495], [0.02638791874051094, -0.002004466950893402, 0.006238281726837158, -0.02508716657757759, -0.030183911323547363, -0.027779174968600273, 0.02363744005560875, -0.014607656747102737, 0.007215060293674469, -0.005611371248960495], [0.02638791874051094, -0.002004466950893402, 0.006238281726837158, -0.02508716657757759, -0.030183911323547363, -0.027779174968600273, 0.02363744005560875, -0.014607656747102737, 0.007215060293674469, -0.005611371248960495], [0.02638791874051094, -0.002004466950893402, 0.006238281726837158, -0.02508716657757759, -0.030183911323547363, -0.027779174968600273, 0.02363744005560875, -0.014607656747102737, 0.007215060293674469, -0.005611371248960495], [0.02638791874051094, -0.002004466950893402, 0.006238281726837158, -0.02508716657757759, -0.030183911323547363, -0.027779174968600273, 0.02363744005560875, -0.014607656747102737, 0.007215060293674469, -0.005611371248960495], [0.02638791874051094, -0.002004466950893402, 0.006238281726837158, -0.02508716657757759, -0.030183911323547363, -0.027779174968600273, 0.02363744005560875, -0.014607656747102737, 0.007215060293674469, -0.005611371248960495], [0.02638791874051094, -0.002004466950893402, 0.006238281726837158, -0.02508716657757759, -0.030183911323547363, -0.027779174968600273, 0.02363744005560875, -0.014607656747102737, 0.007215060293674469, -0.005611371248960495], [0.02638791874051094, -0.002004466950893402, 0.006238281726837158, -0.02508716657757759, -0.030183911323547363, -0.027779174968600273, 0.02363744005560875, -0.014607656747102737, 0.007215060293674469, -0.005611371248960495], [0.02638791874051094, -0.002004466950893402, 0.006238281726837158, -0.02508716657757759, -0.030183911323547363, -0.027779174968600273, 0.02363744005560875, -0.014607656747102737, 0.007215060293674469, -0.005611371248960495], [0.02638791874051094, -0.002004466950893402, 0.006238281726837158, -0.02508716657757759, -0.030183911323547363, -0.027779174968600273, 0.02363744005560875, -0.014607656747102737, 0.007215060293674469, -0.005611371248960495], [0.02638791874051094, -0.002004466950893402, 0.006238281726837158, -0.02508716657757759, -0.030183911323547363, -0.027779174968600273, 0.02363744005560875, -0.014607656747102737, 0.007215060293674469, -0.005611371248960495], [0.02638791874051094, -0.002004466950893402, 0.006238281726837158, -0.02508716657757759, -0.030183911323547363, -0.027779174968600273, 0.02363744005560875, -0.014607656747102737, 0.007215060293674469, -0.005611371248960495], [0.02638791874051094, -0.002004466950893402, 0.006238281726837158, -0.02508716657757759, -0.030183911323547363, -0.027779174968600273, 0.02363744005560875, -0.014607656747102737, 0.007215060293674469, -0.005611371248960495], [0.02638791874051094, -0.002004466950893402, 0.006238281726837158, -0.02508716657757759, -0.030183911323547363, -0.027779174968600273, 0.02363744005560875, -0.014607656747102737, 0.007215060293674469, -0.005611371248960495], [0.02638791874051094, -0.002004466950893402, 0.006238281726837158, -0.02508716657757759, -0.030183911323547363, -0.027779174968600273, 0.02363744005560875, -0.014607656747102737, 0.007215060293674469, -0.005611371248960495], [0.02638791874051094, -0.002004466950893402, 0.006238281726837158, -0.02508716657757759, -0.030183911323547363, -0.027779174968600273, 0.02363744005560875, -0.014607656747102737, 0.007215060293674469, -0.005611371248960495], [0.02638791874051094, -0.002004466950893402, 0.006238281726837158, -0.02508716657757759, -0.030183911323547363, -0.027779174968600273, 0.02363744005560875, -0.014607656747102737, 0.007215060293674469, -0.005611371248960495], [0.02638791874051094, -0.002004466950893402, 0.006238281726837158, -0.02508716657757759, -0.030183911323547363, -0.027779174968600273, 0.02363744005560875, -0.014607656747102737, 0.007215060293674469, -0.005611371248960495], [0.02638791874051094, -0.002004466950893402, 0.006238281726837158, -0.02508716657757759, -0.030183911323547363, -0.027779174968600273, 0.02363744005560875, -0.014607656747102737, 0.007215060293674469, -0.005611371248960495], [0.02638791874051094, -0.002004466950893402, 0.006238281726837158, -0.02508716657757759, -0.030183911323547363, -0.027779174968600273, 0.02363744005560875, -0.014607656747102737, 0.007215060293674469, -0.005611371248960495], [0.02638791874051094, -0.002004466950893402, 0.006238281726837158, -0.02508716657757759, -0.030183911323547363, -0.027779174968600273, 0.02363744005560875, -0.014607656747102737, 0.007215060293674469, -0.005611371248960495], [0.02638791874051094, -0.002004466950893402, 0.006238281726837158, -0.02508716657757759, -0.030183911323547363, -0.027779174968600273, 0.02363744005560875, -0.014607656747102737, 0.007215060293674469, -0.005611371248960495], [0.02638791874051094, -0.002004466950893402, 0.006238281726837158, -0.02508716657757759, -0.030183911323547363, -0.027779174968600273, 0.02363744005560875, -0.014607656747102737, 0.007215060293674469, -0.005611371248960495], [0.02638791874051094, -0.002004466950893402, 0.006238281726837158, -0.02508716657757759, -0.030183911323547363, -0.027779174968600273, 0.02363744005560875, -0.014607656747102737, 0.007215060293674469, -0.005611371248960495], [0.02638791874051094, -0.002004466950893402, 0.006238281726837158, -0.02508716657757759, -0.030183911323547363, -0.027779174968600273, 0.02363744005560875, -0.014607656747102737, 0.007215060293674469, -0.005611371248960495], [0.02638791874051094, -0.002004466950893402, 0.006238281726837158, -0.02508716657757759, -0.030183911323547363, -0.027779174968600273, 0.02363744005560875, -0.014607656747102737, 0.007215060293674469, -0.005611371248960495], [0.02638791874051094, -0.002004466950893402, 0.006238281726837158, -0.02508716657757759, -0.030183911323547363, -0.027779174968600273, 0.02363744005560875, -0.014607656747102737, 0.007215060293674469, -0.005611371248960495], [0.02638791874051094, -0.002004466950893402, 0.006238281726837158, -0.02508716657757759, -0.030183911323547363, -0.027779174968600273, 0.02363744005560875, -0.014607656747102737, 0.007215060293674469, -0.005611371248960495], [0.02638791874051094, -0.002004466950893402, 0.006238281726837158, -0.02508716657757759, -0.030183911323547363, -0.027779174968600273, 0.02363744005560875, -0.014607656747102737, 0.007215060293674469, -0.005611371248960495], [0.02638791874051094, -0.002004466950893402, 0.006238281726837158, -0.02508716657757759, -0.030183911323547363, -0.027779174968600273, 0.02363744005560875, -0.014607656747102737, 0.007215060293674469, -0.005611371248960495], [0.02638791874051094, -0.002004466950893402, 0.006238281726837158, -0.02508716657757759, -0.030183911323547363, -0.027779174968600273, 0.02363744005560875, -0.014607656747102737, 0.007215060293674469, -0.005611371248960495], [0.02638791874051094, -0.002004466950893402, 0.006238281726837158, -0.02508716657757759, -0.030183911323547363, -0.027779174968600273, 0.02363744005560875, -0.014607656747102737, 0.007215060293674469, -0.005611371248960495], [0.02638791874051094, -0.002004466950893402, 0.006238281726837158, -0.02508716657757759, -0.030183911323547363, -0.027779174968600273, 0.02363744005560875, -0.014607656747102737, 0.007215060293674469, -0.005611371248960495], [0.02638791874051094, -0.002004466950893402, 0.006238281726837158, -0.02508716657757759, -0.030183911323547363, -0.027779174968600273, 0.02363744005560875, -0.014607656747102737, 0.007215060293674469, -0.005611371248960495], [0.02638791874051094, -0.002004466950893402, 0.006238281726837158, -0.02508716657757759, -0.030183911323547363, -0.027779174968600273, 0.02363744005560875, -0.014607656747102737, 0.007215060293674469, -0.005611371248960495], [0.02638791874051094, -0.002004466950893402, 0.006238281726837158, -0.02508716657757759, -0.030183911323547363, -0.027779174968600273, 0.02363744005560875, -0.014607656747102737, 0.007215060293674469, -0.005611371248960495], [0.02638791874051094, -0.002004466950893402, 0.006238281726837158, -0.02508716657757759, -0.030183911323547363, -0.027779174968600273, 0.02363744005560875, -0.014607656747102737, 0.007215060293674469, -0.005611371248960495], [0.02638791874051094, -0.002004466950893402, 0.006238281726837158, -0.02508716657757759, -0.030183911323547363, -0.027779174968600273, 0.02363744005560875, -0.014607656747102737, 0.007215060293674469, -0.005611371248960495], [0.02638791874051094, -0.002004466950893402, 0.006238281726837158, -0.02508716657757759, -0.030183911323547363, -0.027779174968600273, 0.02363744005560875, -0.014607656747102737, 0.007215060293674469, -0.005611371248960495], [0.02638791874051094, -0.002004466950893402, 0.006238281726837158, -0.02508716657757759, -0.030183911323547363, -0.027779174968600273, 0.02363744005560875, -0.014607656747102737, 0.007215060293674469, -0.005611371248960495], [0.02638791874051094, -0.002004466950893402, 0.006238281726837158, -0.02508716657757759, -0.030183911323547363, -0.027779174968600273, 0.02363744005560875, -0.014607656747102737, 0.007215060293674469, -0.005611371248960495], [0.02638791874051094, -0.002004466950893402, 0.006238281726837158, -0.02508716657757759, -0.030183911323547363, -0.027779174968600273, 0.02363744005560875, -0.014607656747102737, 0.007215060293674469, -0.005611371248960495], [0.02638791874051094, -0.002004466950893402, 0.006238281726837158, -0.02508716657757759, -0.030183911323547363, -0.027779174968600273, 0.02363744005560875, -0.014607656747102737, 0.007215060293674469, -0.005611371248960495], [0.02638791874051094, -0.002004466950893402, 0.006238281726837158, -0.02508716657757759, -0.030183911323547363, -0.027779174968600273, 0.02363744005560875, -0.014607656747102737, 0.007215060293674469, -0.005611371248960495], [0.02638791874051094, -0.002004466950893402, 0.006238281726837158, -0.02508716657757759, -0.030183911323547363, -0.027779174968600273, 0.02363744005560875, -0.014607656747102737, 0.007215060293674469, -0.005611371248960495], [0.02638791874051094, -0.002004466950893402, 0.006238281726837158, -0.02508716657757759, -0.030183911323547363, -0.027779174968600273, 0.02363744005560875, -0.014607656747102737, 0.007215060293674469, -0.005611371248960495], [0.02638791874051094, -0.002004466950893402, 0.006238281726837158, -0.02508716657757759, -0.030183911323547363, -0.027779174968600273, 0.02363744005560875, -0.014607656747102737, 0.007215060293674469, -0.005611371248960495], [0.02638791874051094, -0.002004466950893402, 0.006238281726837158, -0.02508716657757759, -0.030183911323547363, -0.027779174968600273, 0.02363744005560875, -0.014607656747102737, 0.007215060293674469, -0.005611371248960495], [0.02638791874051094, -0.002004466950893402, 0.006238281726837158, -0.02508716657757759, -0.030183911323547363, -0.027779174968600273, 0.02363744005560875, -0.014607656747102737, 0.007215060293674469, -0.005611371248960495], [0.02638791874051094, -0.002004466950893402, 0.006238281726837158, -0.02508716657757759, -0.030183911323547363, -0.027779174968600273, 0.02363744005560875, -0.014607656747102737, 0.007215060293674469, -0.005611371248960495], [0.02638791874051094, -0.002004466950893402, 0.006238281726837158, -0.02508716657757759, -0.030183911323547363, -0.027779174968600273, 0.02363744005560875, -0.014607656747102737, 0.007215060293674469, -0.005611371248960495], [0.02638791874051094, -0.002004466950893402, 0.006238281726837158, -0.02508716657757759, -0.030183911323547363, -0.027779174968600273, 0.02363744005560875, -0.014607656747102737, 0.007215060293674469, -0.005611371248960495], [0.02638791874051094, -0.002004466950893402, 0.006238281726837158, -0.02508716657757759, -0.030183911323547363, -0.027779174968600273, 0.02363744005560875, -0.014607656747102737, 0.007215060293674469, -0.005611371248960495], [0.02638791874051094, -0.002004466950893402, 0.006238281726837158, -0.02508716657757759, -0.030183911323547363, -0.027779174968600273, 0.02363744005560875, -0.014607656747102737, 0.007215060293674469, -0.005611371248960495], [0.02638791874051094, -0.002004466950893402, 0.006238281726837158, -0.02508716657757759, -0.030183911323547363, -0.027779174968600273, 0.02363744005560875, -0.014607656747102737, 0.007215060293674469, -0.005611371248960495], [0.02638791874051094, -0.002004466950893402, 0.006238281726837158, -0.02508716657757759, -0.030183911323547363, -0.027779174968600273, 0.02363744005560875, -0.014607656747102737, 0.007215060293674469, -0.005611371248960495], [0.02638791874051094, -0.002004466950893402, 0.006238281726837158, -0.02508716657757759, -0.030183911323547363, -0.027779174968600273, 0.02363744005560875, -0.014607656747102737, 0.007215060293674469, -0.005611371248960495], [0.02638791874051094, -0.002004466950893402, 0.006238281726837158, -0.02508716657757759, -0.030183911323547363, -0.027779174968600273, 0.02363744005560875, -0.014607656747102737, 0.007215060293674469, -0.005611371248960495], [0.02638791874051094, -0.002004466950893402, 0.006238281726837158, -0.02508716657757759, -0.030183911323547363, -0.027779174968600273, 0.02363744005560875, -0.014607656747102737, 0.007215060293674469, -0.005611371248960495], [0.02638791874051094, -0.002004466950893402, 0.006238281726837158, -0.02508716657757759, -0.030183911323547363, -0.027779174968600273, 0.02363744005560875, -0.014607656747102737, 0.007215060293674469, -0.005611371248960495], [0.02638791874051094, -0.002004466950893402, 0.006238281726837158, -0.02508716657757759, -0.030183911323547363, -0.027779174968600273, 0.02363744005560875, -0.014607656747102737, 0.007215060293674469, -0.005611371248960495], [0.02638791874051094, -0.002004466950893402, 0.006238281726837158, -0.02508716657757759, -0.030183911323547363, -0.027779174968600273, 0.02363744005560875, -0.014607656747102737, 0.007215060293674469, -0.005611371248960495], [0.02638791874051094, -0.002004466950893402, 0.006238281726837158, -0.02508716657757759, -0.030183911323547363, -0.027779174968600273, 0.02363744005560875, -0.014607656747102737, 0.007215060293674469, -0.005611371248960495], [0.02638791874051094, -0.002004466950893402, 0.006238281726837158, -0.02508716657757759, -0.030183911323547363, -0.027779174968600273, 0.02363744005560875, -0.014607656747102737, 0.007215060293674469, -0.005611371248960495], [0.02638791874051094, -0.002004466950893402, 0.006238281726837158, -0.02508716657757759, -0.030183911323547363, -0.027779174968600273, 0.02363744005560875, -0.014607656747102737, 0.007215060293674469, -0.005611371248960495], [0.02638791874051094, -0.002004466950893402, 0.006238281726837158, -0.02508716657757759, -0.030183911323547363, -0.027779174968600273, 0.02363744005560875, -0.014607656747102737, 0.007215060293674469, -0.005611371248960495], [0.02638791874051094, -0.002004466950893402, 0.006238281726837158, -0.02508716657757759, -0.030183911323547363, -0.027779174968600273, 0.02363744005560875, -0.014607656747102737, 0.007215060293674469, -0.005611371248960495], [0.02638791874051094, -0.002004466950893402, 0.006238281726837158, -0.02508716657757759, -0.030183911323547363, -0.027779174968600273, 0.02363744005560875, -0.014607656747102737, 0.007215060293674469, -0.005611371248960495], [0.02638791874051094, -0.002004466950893402, 0.006238281726837158, -0.02508716657757759, -0.030183911323547363, -0.027779174968600273, 0.02363744005560875, -0.014607656747102737, 0.007215060293674469, -0.005611371248960495], [0.02638791874051094, -0.002004466950893402, 0.006238281726837158, -0.02508716657757759, -0.030183911323547363, -0.027779174968600273, 0.02363744005560875, -0.014607656747102737, 0.007215060293674469, -0.005611371248960495], [0.02638791874051094, -0.002004466950893402, 0.006238281726837158, -0.02508716657757759, -0.030183911323547363, -0.027779174968600273, 0.02363744005560875, -0.014607656747102737, 0.007215060293674469, -0.005611371248960495], [0.02638791874051094, -0.002004466950893402, 0.006238281726837158, -0.02508716657757759, -0.030183911323547363, -0.027779174968600273, 0.02363744005560875, -0.014607656747102737, 0.007215060293674469, -0.005611371248960495], [0.02638791874051094, -0.002004466950893402, 0.006238281726837158, -0.02508716657757759, -0.030183911323547363, -0.027779174968600273, 0.02363744005560875, -0.014607656747102737, 0.007215060293674469, -0.005611371248960495], [0.02638791874051094, -0.002004466950893402, 0.006238281726837158, -0.02508716657757759, -0.030183911323547363, -0.027779174968600273, 0.02363744005560875, -0.014607656747102737, 0.007215060293674469, -0.005611371248960495], [0.02638791874051094, -0.002004466950893402, 0.006238281726837158, -0.02508716657757759, -0.030183911323547363, -0.027779174968600273, 0.02363744005560875, -0.014607656747102737, 0.007215060293674469, -0.005611371248960495], [0.02638791874051094, -0.002004466950893402, 0.006238281726837158, -0.02508716657757759, -0.030183911323547363, -0.027779174968600273, 0.02363744005560875, -0.014607656747102737, 0.007215060293674469, -0.005611371248960495], [0.02638791874051094, -0.002004466950893402, 0.006238281726837158, -0.02508716657757759, -0.030183911323547363, -0.027779174968600273, 0.02363744005560875, -0.014607656747102737, 0.007215060293674469, -0.005611371248960495], [0.02638791874051094, -0.002004466950893402, 0.006238281726837158, -0.02508716657757759, -0.030183911323547363, -0.027779174968600273, 0.02363744005560875, -0.014607656747102737, 0.007215060293674469, -0.005611371248960495], [0.02638791874051094, -0.002004466950893402, 0.006238281726837158, -0.02508716657757759, -0.030183911323547363, -0.027779174968600273, 0.02363744005560875, -0.014607656747102737, 0.007215060293674469, -0.005611371248960495], [0.02638791874051094, -0.002004466950893402, 0.006238281726837158, -0.02508716657757759, -0.030183911323547363, -0.027779174968600273, 0.02363744005560875, -0.014607656747102737, 0.007215060293674469, -0.005611371248960495], [0.02638791874051094, -0.002004466950893402, 0.006238281726837158, -0.02508716657757759, -0.030183911323547363, -0.027779174968600273, 0.02363744005560875, -0.014607656747102737, 0.007215060293674469, -0.005611371248960495], [0.02638791874051094, -0.002004466950893402, 0.006238281726837158, -0.02508716657757759, -0.030183911323547363, -0.027779174968600273, 0.02363744005560875, -0.014607656747102737, 0.007215060293674469, -0.005611371248960495], [0.02638791874051094, -0.002004466950893402, 0.006238281726837158, -0.02508716657757759, -0.030183911323547363, -0.027779174968600273, 0.02363744005560875, -0.014607656747102737, 0.007215060293674469, -0.005611371248960495], [0.02638791874051094, -0.002004466950893402, 0.006238281726837158, -0.02508716657757759, -0.030183911323547363, -0.027779174968600273, 0.02363744005560875, -0.014607656747102737, 0.007215060293674469, -0.005611371248960495], [0.02638791874051094, -0.002004466950893402, 0.006238281726837158, -0.02508716657757759, -0.030183911323547363, -0.027779174968600273, 0.02363744005560875, -0.014607656747102737, 0.007215060293674469, -0.005611371248960495], [0.02638791874051094, -0.002004466950893402, 0.006238281726837158, -0.02508716657757759, -0.030183911323547363, -0.027779174968600273, 0.02363744005560875, -0.014607656747102737, 0.007215060293674469, -0.005611371248960495]]\"\n        ],\n        \"semantic_type\": \"\",\n        \"description\": \"\"\n      }\n    }\n  ]\n}"
            }
          },
          "metadata": {},
          "execution_count": 39
        }
      ]
    },
    {
      "cell_type": "code",
      "source": [
        "x = np.array(df[\"embeddings\"])\n",
        "y = np.array(df[\"Sentiments\"])"
      ],
      "metadata": {
        "id": "4upoT-Gl992Q"
      },
      "execution_count": 44,
      "outputs": []
    },
    {
      "cell_type": "code",
      "source": [
        "from sklearn.model_selection import train_test_split\n",
        "x_train, x_test, y_train, y_test = train_test_split(x,y,test_size=0.2,random_state=42)"
      ],
      "metadata": {
        "id": "l1OUAtZd9dmr"
      },
      "execution_count": 45,
      "outputs": []
    },
    {
      "cell_type": "code",
      "source": [
        "len(x_train), len(x_test), len(y_train), len(y_test)"
      ],
      "metadata": {
        "colab": {
          "base_uri": "https://localhost:8080/"
        },
        "id": "g21w9PaZ_VQY",
        "outputId": "2337c21e-b8c0-4e79-a7bd-618c79719f72"
      },
      "execution_count": 46,
      "outputs": [
        {
          "output_type": "execute_result",
          "data": {
            "text/plain": [
              "(4000, 1000, 4000, 1000)"
            ]
          },
          "metadata": {},
          "execution_count": 46
        }
      ]
    },
    {
      "cell_type": "code",
      "source": [
        "from google.colab import files\n",
        "## saving them into npy format\n",
        "np.save(\"x_train.npy\", x_train)\n",
        "np.save(\"x_test.npy\", x_test)\n",
        "np.save(\"y_train.npy\", y_train)\n",
        "np.save(\"y_test.npy\", y_test)\n",
        "\n",
        "## downloading them\n",
        "files.download(\"x_train.npy\")\n",
        "print('Downloaded x_train')\n",
        "files.download(\"x_test.npy\")\n",
        "print('Downloaded x_test')\n",
        "files.download(\"y_train.npy\")\n",
        "print('Downloaded y_train')\n",
        "files.download(\"y_test.npy\")\n",
        "print('Downloaded y_test')"
      ],
      "metadata": {
        "colab": {
          "base_uri": "https://localhost:8080/",
          "height": 89
        },
        "id": "sCWOiZfT__PW",
        "outputId": "5fddf155-7b3a-4a31-8cd4-80e145a720df"
      },
      "execution_count": 53,
      "outputs": [
        {
          "output_type": "display_data",
          "data": {
            "text/plain": [
              "<IPython.core.display.Javascript object>"
            ],
            "application/javascript": [
              "\n",
              "    async function download(id, filename, size) {\n",
              "      if (!google.colab.kernel.accessAllowed) {\n",
              "        return;\n",
              "      }\n",
              "      const div = document.createElement('div');\n",
              "      const label = document.createElement('label');\n",
              "      label.textContent = `Downloading \"${filename}\": `;\n",
              "      div.appendChild(label);\n",
              "      const progress = document.createElement('progress');\n",
              "      progress.max = size;\n",
              "      div.appendChild(progress);\n",
              "      document.body.appendChild(div);\n",
              "\n",
              "      const buffers = [];\n",
              "      let downloaded = 0;\n",
              "\n",
              "      const channel = await google.colab.kernel.comms.open(id);\n",
              "      // Send a message to notify the kernel that we're ready.\n",
              "      channel.send({})\n",
              "\n",
              "      for await (const message of channel.messages) {\n",
              "        // Send a message to notify the kernel that we're ready.\n",
              "        channel.send({})\n",
              "        if (message.buffers) {\n",
              "          for (const buffer of message.buffers) {\n",
              "            buffers.push(buffer);\n",
              "            downloaded += buffer.byteLength;\n",
              "            progress.value = downloaded;\n",
              "          }\n",
              "        }\n",
              "      }\n",
              "      const blob = new Blob(buffers, {type: 'application/binary'});\n",
              "      const a = document.createElement('a');\n",
              "      a.href = window.URL.createObjectURL(blob);\n",
              "      a.download = filename;\n",
              "      div.appendChild(a);\n",
              "      a.click();\n",
              "      div.remove();\n",
              "    }\n",
              "  "
            ]
          },
          "metadata": {}
        },
        {
          "output_type": "display_data",
          "data": {
            "text/plain": [
              "<IPython.core.display.Javascript object>"
            ],
            "application/javascript": [
              "download(\"download_ff4d5651-7216-458a-a27e-32072fb7fed3\", \"x_train.npy\", 751922010)"
            ]
          },
          "metadata": {}
        },
        {
          "output_type": "stream",
          "name": "stdout",
          "text": [
            "Downloaded x_train\n"
          ]
        },
        {
          "output_type": "display_data",
          "data": {
            "text/plain": [
              "<IPython.core.display.Javascript object>"
            ],
            "application/javascript": [
              "\n",
              "    async function download(id, filename, size) {\n",
              "      if (!google.colab.kernel.accessAllowed) {\n",
              "        return;\n",
              "      }\n",
              "      const div = document.createElement('div');\n",
              "      const label = document.createElement('label');\n",
              "      label.textContent = `Downloading \"${filename}\": `;\n",
              "      div.appendChild(label);\n",
              "      const progress = document.createElement('progress');\n",
              "      progress.max = size;\n",
              "      div.appendChild(progress);\n",
              "      document.body.appendChild(div);\n",
              "\n",
              "      const buffers = [];\n",
              "      let downloaded = 0;\n",
              "\n",
              "      const channel = await google.colab.kernel.comms.open(id);\n",
              "      // Send a message to notify the kernel that we're ready.\n",
              "      channel.send({})\n",
              "\n",
              "      for await (const message of channel.messages) {\n",
              "        // Send a message to notify the kernel that we're ready.\n",
              "        channel.send({})\n",
              "        if (message.buffers) {\n",
              "          for (const buffer of message.buffers) {\n",
              "            buffers.push(buffer);\n",
              "            downloaded += buffer.byteLength;\n",
              "            progress.value = downloaded;\n",
              "          }\n",
              "        }\n",
              "      }\n",
              "      const blob = new Blob(buffers, {type: 'application/binary'});\n",
              "      const a = document.createElement('a');\n",
              "      a.href = window.URL.createObjectURL(blob);\n",
              "      a.download = filename;\n",
              "      div.appendChild(a);\n",
              "      a.click();\n",
              "      div.remove();\n",
              "    }\n",
              "  "
            ]
          },
          "metadata": {}
        },
        {
          "output_type": "display_data",
          "data": {
            "text/plain": [
              "<IPython.core.display.Javascript object>"
            ],
            "application/javascript": [
              "download(\"download_579796ff-f252-4c04-8d22-b0f6b23896db\", \"x_test.npy\", 188079107)"
            ]
          },
          "metadata": {}
        },
        {
          "output_type": "stream",
          "name": "stdout",
          "text": [
            "Downloaded x_test\n"
          ]
        },
        {
          "output_type": "display_data",
          "data": {
            "text/plain": [
              "<IPython.core.display.Javascript object>"
            ],
            "application/javascript": [
              "\n",
              "    async function download(id, filename, size) {\n",
              "      if (!google.colab.kernel.accessAllowed) {\n",
              "        return;\n",
              "      }\n",
              "      const div = document.createElement('div');\n",
              "      const label = document.createElement('label');\n",
              "      label.textContent = `Downloading \"${filename}\": `;\n",
              "      div.appendChild(label);\n",
              "      const progress = document.createElement('progress');\n",
              "      progress.max = size;\n",
              "      div.appendChild(progress);\n",
              "      document.body.appendChild(div);\n",
              "\n",
              "      const buffers = [];\n",
              "      let downloaded = 0;\n",
              "\n",
              "      const channel = await google.colab.kernel.comms.open(id);\n",
              "      // Send a message to notify the kernel that we're ready.\n",
              "      channel.send({})\n",
              "\n",
              "      for await (const message of channel.messages) {\n",
              "        // Send a message to notify the kernel that we're ready.\n",
              "        channel.send({})\n",
              "        if (message.buffers) {\n",
              "          for (const buffer of message.buffers) {\n",
              "            buffers.push(buffer);\n",
              "            downloaded += buffer.byteLength;\n",
              "            progress.value = downloaded;\n",
              "          }\n",
              "        }\n",
              "      }\n",
              "      const blob = new Blob(buffers, {type: 'application/binary'});\n",
              "      const a = document.createElement('a');\n",
              "      a.href = window.URL.createObjectURL(blob);\n",
              "      a.download = filename;\n",
              "      div.appendChild(a);\n",
              "      a.click();\n",
              "      div.remove();\n",
              "    }\n",
              "  "
            ]
          },
          "metadata": {}
        },
        {
          "output_type": "display_data",
          "data": {
            "text/plain": [
              "<IPython.core.display.Javascript object>"
            ],
            "application/javascript": [
              "download(\"download_dd978be3-2ca1-40db-b583-6a1126f40533\", \"y_train.npy\", 32128)"
            ]
          },
          "metadata": {}
        },
        {
          "output_type": "stream",
          "name": "stdout",
          "text": [
            "Downloaded y_train\n"
          ]
        },
        {
          "output_type": "display_data",
          "data": {
            "text/plain": [
              "<IPython.core.display.Javascript object>"
            ],
            "application/javascript": [
              "\n",
              "    async function download(id, filename, size) {\n",
              "      if (!google.colab.kernel.accessAllowed) {\n",
              "        return;\n",
              "      }\n",
              "      const div = document.createElement('div');\n",
              "      const label = document.createElement('label');\n",
              "      label.textContent = `Downloading \"${filename}\": `;\n",
              "      div.appendChild(label);\n",
              "      const progress = document.createElement('progress');\n",
              "      progress.max = size;\n",
              "      div.appendChild(progress);\n",
              "      document.body.appendChild(div);\n",
              "\n",
              "      const buffers = [];\n",
              "      let downloaded = 0;\n",
              "\n",
              "      const channel = await google.colab.kernel.comms.open(id);\n",
              "      // Send a message to notify the kernel that we're ready.\n",
              "      channel.send({})\n",
              "\n",
              "      for await (const message of channel.messages) {\n",
              "        // Send a message to notify the kernel that we're ready.\n",
              "        channel.send({})\n",
              "        if (message.buffers) {\n",
              "          for (const buffer of message.buffers) {\n",
              "            buffers.push(buffer);\n",
              "            downloaded += buffer.byteLength;\n",
              "            progress.value = downloaded;\n",
              "          }\n",
              "        }\n",
              "      }\n",
              "      const blob = new Blob(buffers, {type: 'application/binary'});\n",
              "      const a = document.createElement('a');\n",
              "      a.href = window.URL.createObjectURL(blob);\n",
              "      a.download = filename;\n",
              "      div.appendChild(a);\n",
              "      a.click();\n",
              "      div.remove();\n",
              "    }\n",
              "  "
            ]
          },
          "metadata": {}
        },
        {
          "output_type": "display_data",
          "data": {
            "text/plain": [
              "<IPython.core.display.Javascript object>"
            ],
            "application/javascript": [
              "download(\"download_871e1b3a-5d67-4ae9-8e72-2f853e9c78e2\", \"y_test.npy\", 8128)"
            ]
          },
          "metadata": {}
        },
        {
          "output_type": "stream",
          "name": "stdout",
          "text": [
            "Downloaded y_test\n"
          ]
        }
      ]
    }
  ]
}